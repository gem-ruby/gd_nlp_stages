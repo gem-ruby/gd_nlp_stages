{
 "cells": [
  {
   "cell_type": "markdown",
   "id": "d4a25855",
   "metadata": {},
   "source": [
    "&nbsp;"
   ]
  },
  {
   "cell_type": "markdown",
   "id": "d614dc04",
   "metadata": {},
   "source": [
    "# 프로젝트：mini BERT 만들기"
   ]
  },
  {
   "cell_type": "markdown",
   "id": "031d7cba",
   "metadata": {},
   "source": [
    "&nbsp;"
   ]
  },
  {
   "cell_type": "markdown",
   "id": "dcd1c19e",
   "metadata": {},
   "source": [
    "이번 프로젝트의 목표는 vocab size를 8000으로 줄이고, 전체 파라미터 사이즈가 1M 정도가 되는\n",
    "\n",
    "아주 작은 mini BERT 모델을 만들어 10 Epoch까지 학습시킨 모델을 만들어 보는 것이다."
   ]
  },
  {
   "cell_type": "markdown",
   "id": "23213c68",
   "metadata": {},
   "source": [
    "&nbsp;"
   ]
  },
  {
   "cell_type": "markdown",
   "id": "a148ea51",
   "metadata": {},
   "source": [
    "## 0. 라이브러리 준비\n",
    "\n",
    "<hr>"
   ]
  },
  {
   "cell_type": "code",
   "execution_count": 1,
   "id": "8434aef5",
   "metadata": {},
   "outputs": [
    {
     "name": "stdout",
     "output_type": "stream",
     "text": [
      "2.6.0\n",
      "[PhysicalDevice(name='/physical_device:GPU:0', device_type='GPU')]\n",
      "/device:GPU:0\n"
     ]
    }
   ],
   "source": [
    "# imports\n",
    "from __future__ import absolute_import, division, print_function, unicode_literals\n",
    "\n",
    "import tensorflow as tf\n",
    "import tensorflow.keras.backend as K\n",
    "\n",
    "import os\n",
    "import re\n",
    "import math\n",
    "import numpy as np\n",
    "import pandas as pd\n",
    "import random\n",
    "import collections\n",
    "import json\n",
    "import shutil\n",
    "import zipfile\n",
    "import copy\n",
    "from datetime import datetime\n",
    "\n",
    "import matplotlib.pyplot as plt\n",
    "import sentencepiece as spm\n",
    "from tqdm.notebook import tqdm\n",
    "\n",
    "import sentencepiece as spm\n",
    "\n",
    "random_seed = 1234\n",
    "random.seed(random_seed)\n",
    "np.random.seed(random_seed)\n",
    "tf.random.set_seed(random_seed)\n",
    "\n",
    "# tf version 및 gpu 확인\n",
    "print(tf.__version__)\n",
    "print(tf.config.list_physical_devices('GPU'))\n",
    "print(tf.test.gpu_device_name())"
   ]
  },
  {
   "cell_type": "markdown",
   "id": "7de453ca",
   "metadata": {},
   "source": [
    "&nbsp;"
   ]
  },
  {
   "cell_type": "markdown",
   "id": "303d860c",
   "metadata": {},
   "source": [
    "### 1. Tokenizer 준비\n",
    "\n",
    "<hr>"
   ]
  },
  {
   "cell_type": "markdown",
   "id": "bfb07401",
   "metadata": {},
   "source": [
    "\n",
    ">SentencePiece 모델을 이용해 BERT의 MLM 학습용 데이터를 만드세요.\n",
    ">\n",
    ">이를 위해 한글 나무 위키 코퍼스로부터 8000의 vocab_size를 갖는 sentencepiece 모델을 만들어 보세요. \n",
    ">\n",
    ">BERT에 사용되는 주요 특수문자가 vocab에 포함되어야 합니다. \n",
    ">\n",
    ">(시간이 부족하다면 클라우드에 저장된 sentencepiece 모델을 사용하세요.)\n"
   ]
  },
  {
   "cell_type": "code",
   "execution_count": 2,
   "id": "964e0f55",
   "metadata": {
    "scrolled": false
   },
   "outputs": [
    {
     "name": "stdout",
     "output_type": "stream",
     "text": [
      "✔️\n"
     ]
    },
    {
     "name": "stderr",
     "output_type": "stream",
     "text": [
      "sentencepiece_trainer.cc(177) LOG(INFO) Running command: --input=/aiffel/aiffel/bert_pretrain/data/kowiki.txt --model_prefix=ko_8k --vocab_size=8007 --model_type=bpe --max_sentence_length=999999 --pad_id=0 --pad_piece=[PAD] --unk_id=1 --unk_piece=[UNK] --bos_id=2 --bos_piece=[BOS] --eos_id=3 --eos_piece=[EOS] --user_defined_symbols=[SEP],[CLS],[MASK]\n",
      "sentencepiece_trainer.cc(77) LOG(INFO) Starts training with : \n",
      "trainer_spec {\n",
      "  input: /aiffel/aiffel/bert_pretrain/data/kowiki.txt\n",
      "  input_format: \n",
      "  model_prefix: ko_8k\n",
      "  model_type: BPE\n",
      "  vocab_size: 8007\n",
      "  self_test_sample_size: 0\n",
      "  character_coverage: 0.9995\n",
      "  input_sentence_size: 0\n",
      "  shuffle_input_sentence: 1\n",
      "  seed_sentencepiece_size: 1000000\n",
      "  shrinking_factor: 0.75\n",
      "  max_sentence_length: 999999\n",
      "  num_threads: 16\n",
      "  num_sub_iterations: 2\n",
      "  max_sentencepiece_length: 16\n",
      "  split_by_unicode_script: 1\n",
      "  split_by_number: 1\n",
      "  split_by_whitespace: 1\n",
      "  split_digits: 0\n",
      "  treat_whitespace_as_suffix: 0\n",
      "  allow_whitespace_only_pieces: 0\n",
      "  user_defined_symbols: [SEP]\n",
      "  user_defined_symbols: [CLS]\n",
      "  user_defined_symbols: [MASK]\n",
      "  required_chars: \n",
      "  byte_fallback: 0\n",
      "  vocabulary_output_piece_score: 1\n",
      "  train_extremely_large_corpus: 0\n",
      "  hard_vocab_limit: 1\n",
      "  use_all_vocab: 0\n",
      "  unk_id: 1\n",
      "  bos_id: 2\n",
      "  eos_id: 3\n",
      "  pad_id: 0\n",
      "  unk_piece: [UNK]\n",
      "  bos_piece: [BOS]\n",
      "  eos_piece: [EOS]\n",
      "  pad_piece: [PAD]\n",
      "  unk_surface:  ⁇ \n",
      "}\n",
      "normalizer_spec {\n",
      "  name: nmt_nfkc\n",
      "  add_dummy_prefix: 1\n",
      "  remove_extra_whitespaces: 1\n",
      "  escape_whitespaces: 1\n",
      "  normalization_rule_tsv: \n",
      "}\n",
      "denormalizer_spec {}\n",
      "trainer_interface.cc(329) LOG(INFO) SentenceIterator is not specified. Using MultiFileSentenceIterator.\n",
      "trainer_interface.cc(178) LOG(INFO) Loading corpus: /aiffel/aiffel/bert_pretrain/data/kowiki.txt\n",
      "trainer_interface.cc(140) LOG(INFO) Loaded 1000000 lines\n",
      "trainer_interface.cc(140) LOG(INFO) Loaded 2000000 lines\n",
      "trainer_interface.cc(117) LOG(WARNING) Too many sentences are loaded! (2451287), which may slow down training.\n",
      "trainer_interface.cc(119) LOG(WARNING) Consider using --input_sentence_size=<size> and --shuffle_input_sentence=true.\n",
      "trainer_interface.cc(122) LOG(WARNING) They allow to randomly sample <size> sentences from the entire corpus.\n",
      "trainer_interface.cc(385) LOG(INFO) Loaded all 2451287 sentences\n",
      "trainer_interface.cc(400) LOG(INFO) Adding meta_piece: [PAD]\n",
      "trainer_interface.cc(400) LOG(INFO) Adding meta_piece: [UNK]\n",
      "trainer_interface.cc(400) LOG(INFO) Adding meta_piece: [BOS]\n",
      "trainer_interface.cc(400) LOG(INFO) Adding meta_piece: [EOS]\n",
      "trainer_interface.cc(400) LOG(INFO) Adding meta_piece: [SEP]\n",
      "trainer_interface.cc(400) LOG(INFO) Adding meta_piece: [CLS]\n",
      "trainer_interface.cc(400) LOG(INFO) Adding meta_piece: [MASK]\n",
      "trainer_interface.cc(405) LOG(INFO) Normalizing sentences...\n",
      "trainer_interface.cc(466) LOG(INFO) all chars count=287452241\n",
      "trainer_interface.cc(477) LOG(INFO) Done: 99.95% characters are covered.\n",
      "trainer_interface.cc(487) LOG(INFO) Alphabet size=4411\n",
      "trainer_interface.cc(488) LOG(INFO) Final character coverage=0.9995\n",
      "trainer_interface.cc(520) LOG(INFO) Done! preprocessed 2450254 sentences.\n",
      "trainer_interface.cc(526) LOG(INFO) Tokenizing input sentences with whitespace: 2450254\n",
      "trainer_interface.cc(537) LOG(INFO) Done! 7050692\n",
      "bpe_model_trainer.cc(167) LOG(INFO) Updating active symbols. max_freq=1781571 min_freq=424\n",
      "bpe_model_trainer.cc(258) LOG(INFO) Added: freq=576838 size=20 all=581927 active=38577 piece=▁아\n",
      "bpe_model_trainer.cc(258) LOG(INFO) Added: freq=390836 size=40 all=591445 active=48095 piece=▁유\n",
      "bpe_model_trainer.cc(258) LOG(INFO) Added: freq=297873 size=60 all=601378 active=58028 piece=에는\n",
      "bpe_model_trainer.cc(258) LOG(INFO) Added: freq=244712 size=80 all=609974 active=66624 piece=▁성\n",
      "bpe_model_trainer.cc(258) LOG(INFO) Added: freq=194372 size=100 all=616449 active=73099 piece=까지\n",
      "bpe_model_trainer.cc(167) LOG(INFO) Updating active symbols. max_freq=193674 min_freq=462\n",
      "bpe_model_trainer.cc(258) LOG(INFO) Added: freq=176838 size=120 all=625299 active=38770 piece=▁우\n",
      "bpe_model_trainer.cc(258) LOG(INFO) Added: freq=154294 size=140 all=632274 active=45745 piece=▁파\n",
      "bpe_model_trainer.cc(258) LOG(INFO) Added: freq=140625 size=160 all=639734 active=53205 piece=00\n",
      "bpe_model_trainer.cc(258) LOG(INFO) Added: freq=125983 size=180 all=645481 active=58952 piece=▁요\n",
      "bpe_model_trainer.cc(258) LOG(INFO) Added: freq=114855 size=200 all=649839 active=63310 piece=리아\n",
      "bpe_model_trainer.cc(167) LOG(INFO) Updating active symbols. max_freq=114086 min_freq=457\n",
      "bpe_model_trainer.cc(258) LOG(INFO) Added: freq=106760 size=220 all=657338 active=39316 piece=▁같은\n",
      "bpe_model_trainer.cc(258) LOG(INFO) Added: freq=100770 size=240 all=662564 active=44542 piece=▁왕\n",
      "bpe_model_trainer.cc(258) LOG(INFO) Added: freq=96037 size=260 all=670536 active=52514 piece=▁목\n",
      "bpe_model_trainer.cc(258) LOG(INFO) Added: freq=88392 size=280 all=675441 active=57419 piece=▁f\n",
      "bpe_model_trainer.cc(258) LOG(INFO) Added: freq=81678 size=300 all=681701 active=63679 piece=▁선수\n",
      "bpe_model_trainer.cc(167) LOG(INFO) Updating active symbols. max_freq=80870 min_freq=446\n",
      "bpe_model_trainer.cc(258) LOG(INFO) Added: freq=77144 size=320 all=686930 active=39163 piece=▁때문에\n",
      "bpe_model_trainer.cc(258) LOG(INFO) Added: freq=73218 size=340 all=691000 active=43233 piece=▁조선\n",
      "bpe_model_trainer.cc(258) LOG(INFO) Added: freq=68829 size=360 all=695717 active=47950 piece=▁천\n",
      "bpe_model_trainer.cc(258) LOG(INFO) Added: freq=64009 size=380 all=700839 active=53072 piece=▁196\n",
      "bpe_model_trainer.cc(258) LOG(INFO) Added: freq=60953 size=400 all=706675 active=58908 piece=▁돌\n",
      "bpe_model_trainer.cc(167) LOG(INFO) Updating active symbols. max_freq=60762 min_freq=435\n",
      "bpe_model_trainer.cc(258) LOG(INFO) Added: freq=58542 size=420 all=711350 active=39712 piece=▁다시\n",
      "bpe_model_trainer.cc(258) LOG(INFO) Added: freq=55779 size=440 all=715377 active=43739 piece=▁K\n",
      "bpe_model_trainer.cc(258) LOG(INFO) Added: freq=52528 size=460 all=721839 active=50201 piece=▁모두\n",
      "bpe_model_trainer.cc(258) LOG(INFO) Added: freq=49784 size=480 all=727356 active=55718 piece=▁히\n",
      "bpe_model_trainer.cc(258) LOG(INFO) Added: freq=47637 size=500 all=733038 active=61400 piece=▁전쟁\n",
      "bpe_model_trainer.cc(167) LOG(INFO) Updating active symbols. max_freq=47558 min_freq=423\n",
      "bpe_model_trainer.cc(258) LOG(INFO) Added: freq=45919 size=520 all=738287 active=41703 piece=▁있어\n",
      "bpe_model_trainer.cc(258) LOG(INFO) Added: freq=44025 size=540 all=743886 active=47302 piece=▁중심\n",
      "bpe_model_trainer.cc(258) LOG(INFO) Added: freq=42378 size=560 all=748357 active=51773 piece=▁N\n",
      "bpe_model_trainer.cc(258) LOG(INFO) Added: freq=40922 size=580 all=752114 active=55530 piece=▁H\n",
      "bpe_model_trainer.cc(258) LOG(INFO) Added: freq=39922 size=600 all=755142 active=58558 piece=le\n",
      "bpe_model_trainer.cc(167) LOG(INFO) Updating active symbols. max_freq=39768 min_freq=414\n",
      "bpe_model_trainer.cc(258) LOG(INFO) Added: freq=38924 size=620 all=761204 active=43650 piece=▁검\n",
      "bpe_model_trainer.cc(258) LOG(INFO) Added: freq=37771 size=640 all=767376 active=49822 piece=란드\n",
      "bpe_model_trainer.cc(258) LOG(INFO) Added: freq=36292 size=660 all=772837 active=55283 piece=정을\n",
      "bpe_model_trainer.cc(258) LOG(INFO) Added: freq=35134 size=680 all=778715 active=61161 piece=▁설립\n",
      "bpe_model_trainer.cc(258) LOG(INFO) Added: freq=34016 size=700 all=783719 active=66165 piece=▁역사\n",
      "bpe_model_trainer.cc(167) LOG(INFO) Updating active symbols. max_freq=34003 min_freq=400\n",
      "bpe_model_trainer.cc(258) LOG(INFO) Added: freq=33144 size=720 all=787243 active=42507 piece=▁만들어\n",
      "bpe_model_trainer.cc(258) LOG(INFO) Added: freq=32383 size=740 all=791538 active=46802 piece=▁시간\n",
      "bpe_model_trainer.cc(258) LOG(INFO) Added: freq=31645 size=760 all=795131 active=50395 piece=▁측\n",
      "bpe_model_trainer.cc(258) LOG(INFO) Added: freq=30941 size=780 all=798845 active=54109 piece=과의\n",
      "bpe_model_trainer.cc(258) LOG(INFO) Added: freq=30041 size=800 all=803050 active=58314 piece=도는\n",
      "bpe_model_trainer.cc(167) LOG(INFO) Updating active symbols. max_freq=30023 min_freq=392\n",
      "bpe_model_trainer.cc(258) LOG(INFO) Added: freq=29448 size=820 all=808546 active=45099 piece=▁난\n",
      "bpe_model_trainer.cc(258) LOG(INFO) Added: freq=28836 size=840 all=813895 active=50448 piece=▁21\n",
      "bpe_model_trainer.cc(258) LOG(INFO) Added: freq=28270 size=860 all=818654 active=55207 piece=▁찾\n",
      "bpe_model_trainer.cc(258) LOG(INFO) Added: freq=27299 size=880 all=824625 active=61177 piece=되지\n",
      "bpe_model_trainer.cc(258) LOG(INFO) Added: freq=26862 size=900 all=828285 active=64837 piece=하자\n",
      "bpe_model_trainer.cc(167) LOG(INFO) Updating active symbols. max_freq=26833 min_freq=381\n",
      "bpe_model_trainer.cc(258) LOG(INFO) Added: freq=26060 size=920 all=832595 active=45199 piece=부에\n",
      "bpe_model_trainer.cc(258) LOG(INFO) Added: freq=25504 size=940 all=838824 active=51428 piece=수의\n",
      "bpe_model_trainer.cc(258) LOG(INFO) Added: freq=24726 size=960 all=843322 active=55926 piece=▁남아\n",
      "bpe_model_trainer.cc(258) LOG(INFO) Added: freq=24083 size=980 all=848416 active=61020 piece=▁않는다\n",
      "bpe_model_trainer.cc(258) LOG(INFO) Added: freq=23647 size=1000 all=853601 active=66205 piece=인민\n",
      "bpe_model_trainer.cc(167) LOG(INFO) Updating active symbols. max_freq=23602 min_freq=368\n",
      "bpe_model_trainer.cc(258) LOG(INFO) Added: freq=23176 size=1020 all=859529 active=48367 piece=▁마지\n",
      "bpe_model_trainer.cc(258) LOG(INFO) Added: freq=22849 size=1040 all=863129 active=51967 piece=▁시리즈\n",
      "bpe_model_trainer.cc(258) LOG(INFO) Added: freq=22293 size=1060 all=868678 active=57516 piece=제로\n",
      "bpe_model_trainer.cc(258) LOG(INFO) Added: freq=21851 size=1080 all=873075 active=61913 piece=시의\n",
      "bpe_model_trainer.cc(258) LOG(INFO) Added: freq=21377 size=1100 all=878277 active=67115 piece=해야\n",
      "bpe_model_trainer.cc(167) LOG(INFO) Updating active symbols. max_freq=21369 min_freq=355\n",
      "bpe_model_trainer.cc(258) LOG(INFO) Added: freq=21043 size=1120 all=882003 active=47093 piece=▁녹\n",
      "bpe_model_trainer.cc(258) LOG(INFO) Added: freq=20625 size=1140 all=886266 active=51356 piece=▁인구는\n",
      "bpe_model_trainer.cc(258) LOG(INFO) Added: freq=20185 size=1160 all=889382 active=54472 piece=ac\n",
      "bpe_model_trainer.cc(258) LOG(INFO) Added: freq=19762 size=1180 all=894738 active=59828 piece=인은\n",
      "bpe_model_trainer.cc(258) LOG(INFO) Added: freq=19447 size=1200 all=899565 active=64655 piece=50\n",
      "bpe_model_trainer.cc(167) LOG(INFO) Updating active symbols. max_freq=19432 min_freq=347\n",
      "bpe_model_trainer.cc(258) LOG(INFO) Added: freq=19118 size=1220 all=903215 active=48471 piece=광역\n",
      "bpe_model_trainer.cc(258) LOG(INFO) Added: freq=18777 size=1240 all=908007 active=53263 piece=수는\n",
      "bpe_model_trainer.cc(258) LOG(INFO) Added: freq=18396 size=1260 all=913268 active=58524 piece=인민공\n",
      "bpe_model_trainer.cc(258) LOG(INFO) Added: freq=18040 size=1280 all=917389 active=62645 piece=▁긴\n",
      "bpe_model_trainer.cc(258) LOG(INFO) Added: freq=17659 size=1300 all=922177 active=67433 piece=▁전통\n",
      "bpe_model_trainer.cc(167) LOG(INFO) Updating active symbols. max_freq=17629 min_freq=335\n",
      "bpe_model_trainer.cc(258) LOG(INFO) Added: freq=17404 size=1320 all=926354 active=50086 piece=▁망\n",
      "bpe_model_trainer.cc(258) LOG(INFO) Added: freq=17093 size=1340 all=929494 active=53226 piece=단의\n",
      "bpe_model_trainer.cc(258) LOG(INFO) Added: freq=16931 size=1360 all=934269 active=58001 piece=▁인간\n",
      "bpe_model_trainer.cc(258) LOG(INFO) Added: freq=16719 size=1380 all=939872 active=63604 piece=▁바로\n",
      "bpe_model_trainer.cc(258) LOG(INFO) Added: freq=16586 size=1400 all=943447 active=67179 piece=▁탑\n",
      "bpe_model_trainer.cc(167) LOG(INFO) Updating active symbols. max_freq=16584 min_freq=327\n",
      "bpe_model_trainer.cc(258) LOG(INFO) Added: freq=16331 size=1420 all=947545 active=51069 piece=▁태양\n",
      "bpe_model_trainer.cc(258) LOG(INFO) Added: freq=16086 size=1440 all=952041 active=55565 piece=▁경기에서\n",
      "bpe_model_trainer.cc(258) LOG(INFO) Added: freq=15873 size=1460 all=957568 active=61092 piece=▁동일\n",
      "bpe_model_trainer.cc(258) LOG(INFO) Added: freq=15577 size=1480 all=962681 active=66205 piece=드를\n",
      "bpe_model_trainer.cc(258) LOG(INFO) Added: freq=15352 size=1500 all=966310 active=69834 piece=▁뮤\n",
      "bpe_model_trainer.cc(167) LOG(INFO) Updating active symbols. max_freq=15328 min_freq=318\n",
      "bpe_model_trainer.cc(258) LOG(INFO) Added: freq=15103 size=1520 all=968851 active=50741 piece=id\n",
      "bpe_model_trainer.cc(258) LOG(INFO) Added: freq=14971 size=1540 all=972545 active=54435 piece=▁옥\n",
      "bpe_model_trainer.cc(258) LOG(INFO) Added: freq=14723 size=1560 all=977306 active=59196 piece=비전\n",
      "bpe_model_trainer.cc(258) LOG(INFO) Added: freq=14495 size=1580 all=982182 active=64072 piece=▁대부분의\n",
      "bpe_model_trainer.cc(258) LOG(INFO) Added: freq=14292 size=1600 all=985970 active=67860 piece=▁갑\n",
      "bpe_model_trainer.cc(167) LOG(INFO) Updating active symbols. max_freq=14280 min_freq=311\n",
      "bpe_model_trainer.cc(258) LOG(INFO) Added: freq=14118 size=1620 all=990010 active=53173 piece=회는\n",
      "bpe_model_trainer.cc(258) LOG(INFO) Added: freq=13982 size=1640 all=993514 active=56677 piece=▁사고\n",
      "bpe_model_trainer.cc(258) LOG(INFO) Added: freq=13729 size=1660 all=997224 active=60387 piece=cm\n",
      "bpe_model_trainer.cc(258) LOG(INFO) Added: freq=13567 size=1680 all=1001600 active=64762 piece=▁뛰어\n",
      "bpe_model_trainer.cc(258) LOG(INFO) Added: freq=13433 size=1700 all=1006574 active=69736 piece=▁더욱\n",
      "bpe_model_trainer.cc(167) LOG(INFO) Updating active symbols. max_freq=13420 min_freq=303\n",
      "bpe_model_trainer.cc(258) LOG(INFO) Added: freq=13135 size=1720 all=1011076 active=54820 piece=지역\n",
      "bpe_model_trainer.cc(258) LOG(INFO) Added: freq=12940 size=1740 all=1015431 active=59175 piece=▁선언\n",
      "bpe_model_trainer.cc(258) LOG(INFO) Added: freq=12821 size=1760 all=1020339 active=64083 piece=▁어려\n",
      "bpe_model_trainer.cc(258) LOG(INFO) Added: freq=12640 size=1780 all=1023221 active=66965 piece=▁칭\n",
      "bpe_model_trainer.cc(258) LOG(INFO) Added: freq=12505 size=1800 all=1028177 active=71921 piece=▁옛\n",
      "bpe_model_trainer.cc(167) LOG(INFO) Updating active symbols. max_freq=12503 min_freq=295\n",
      "bpe_model_trainer.cc(258) LOG(INFO) Added: freq=12409 size=1820 all=1033793 active=56931 piece=ce\n",
      "bpe_model_trainer.cc(258) LOG(INFO) Added: freq=12253 size=1840 all=1037183 active=60321 piece=▁그들의\n",
      "bpe_model_trainer.cc(258) LOG(INFO) Added: freq=12091 size=1860 all=1041900 active=65038 piece=▁단체\n",
      "bpe_model_trainer.cc(258) LOG(INFO) Added: freq=11934 size=1880 all=1045379 active=68517 piece=▁예술\n",
      "bpe_model_trainer.cc(258) LOG(INFO) Added: freq=11799 size=1900 all=1048007 active=71145 piece=라의\n",
      "bpe_model_trainer.cc(167) LOG(INFO) Updating active symbols. max_freq=11799 min_freq=288\n",
      "bpe_model_trainer.cc(258) LOG(INFO) Added: freq=11693 size=1920 all=1050313 active=54358 piece=▁불구하고\n",
      "bpe_model_trainer.cc(258) LOG(INFO) Added: freq=11594 size=1940 all=1053703 active=57748 piece=▁분리\n",
      "bpe_model_trainer.cc(258) LOG(INFO) Added: freq=11496 size=1960 all=1057998 active=62043 piece=▁사이의\n",
      "bpe_model_trainer.cc(258) LOG(INFO) Added: freq=11381 size=1980 all=1063418 active=67463 piece=단이\n",
      "bpe_model_trainer.cc(258) LOG(INFO) Added: freq=11289 size=2000 all=1067885 active=71930 piece=im\n",
      "bpe_model_trainer.cc(167) LOG(INFO) Updating active symbols. max_freq=11277 min_freq=281\n",
      "bpe_model_trainer.cc(258) LOG(INFO) Added: freq=11133 size=2020 all=1071888 active=57167 piece=▁등과\n",
      "bpe_model_trainer.cc(258) LOG(INFO) Added: freq=10994 size=2040 all=1077153 active=62432 piece=법을\n",
      "bpe_model_trainer.cc(258) LOG(INFO) Added: freq=10895 size=2060 all=1081334 active=66613 piece=▁괴\n",
      "bpe_model_trainer.cc(258) LOG(INFO) Added: freq=10776 size=2080 all=1084885 active=70164 piece=러스\n",
      "bpe_model_trainer.cc(258) LOG(INFO) Added: freq=10692 size=2100 all=1089330 active=74609 piece=▁깨\n",
      "bpe_model_trainer.cc(167) LOG(INFO) Updating active symbols. max_freq=10688 min_freq=274\n",
      "bpe_model_trainer.cc(258) LOG(INFO) Added: freq=10597 size=2120 all=1091576 active=56585 piece=릭터\n",
      "bpe_model_trainer.cc(258) LOG(INFO) Added: freq=10496 size=2140 all=1095180 active=60189 piece=▁확장\n",
      "bpe_model_trainer.cc(258) LOG(INFO) Added: freq=10396 size=2160 all=1100510 active=65519 piece=었던\n",
      "bpe_model_trainer.cc(258) LOG(INFO) Added: freq=10271 size=2180 all=1104334 active=69343 piece=▁남부\n",
      "bpe_model_trainer.cc(258) LOG(INFO) Added: freq=10143 size=2200 all=1108628 active=73637 piece=▁스포츠\n",
      "bpe_model_trainer.cc(167) LOG(INFO) Updating active symbols. max_freq=10136 min_freq=268\n",
      "bpe_model_trainer.cc(258) LOG(INFO) Added: freq=10057 size=2220 all=1111848 active=58430 piece=▁이외\n",
      "bpe_model_trainer.cc(258) LOG(INFO) Added: freq=9957 size=2240 all=1115235 active=61817 piece=▁서식\n",
      "bpe_model_trainer.cc(258) LOG(INFO) Added: freq=9848 size=2260 all=1120216 active=66798 piece=▁작용\n",
      "bpe_model_trainer.cc(258) LOG(INFO) Added: freq=9732 size=2280 all=1124443 active=71025 piece=▁이야기\n",
      "bpe_model_trainer.cc(258) LOG(INFO) Added: freq=9655 size=2300 all=1129106 active=75688 piece=▁성립\n",
      "bpe_model_trainer.cc(167) LOG(INFO) Updating active symbols. max_freq=9653 min_freq=261\n",
      "bpe_model_trainer.cc(258) LOG(INFO) Added: freq=9570 size=2320 all=1132064 active=59284 piece=▁떨어진\n",
      "bpe_model_trainer.cc(258) LOG(INFO) Added: freq=9473 size=2340 all=1135883 active=63103 piece=시를\n",
      "bpe_model_trainer.cc(258) LOG(INFO) Added: freq=9352 size=2360 all=1139681 active=66901 piece=▁히로\n",
      "bpe_model_trainer.cc(258) LOG(INFO) Added: freq=9289 size=2380 all=1142636 active=69856 piece=▁부정\n",
      "bpe_model_trainer.cc(258) LOG(INFO) Added: freq=9219 size=2400 all=1147544 active=74764 piece=▁2020\n",
      "bpe_model_trainer.cc(167) LOG(INFO) Updating active symbols. max_freq=9217 min_freq=256\n",
      "bpe_model_trainer.cc(258) LOG(INFO) Added: freq=9137 size=2420 all=1150230 active=60032 piece=▁상징\n",
      "bpe_model_trainer.cc(258) LOG(INFO) Added: freq=9028 size=2440 all=1153890 active=63692 piece=▁1950\n",
      "bpe_model_trainer.cc(258) LOG(INFO) Added: freq=8965 size=2460 all=1157151 active=66953 piece=▁표시\n",
      "bpe_model"
     ]
    }
   ],
   "source": [
    "corpus_file = os.getenv(\"HOME\")+\"/aiffel/bert_pretrain/data/kowiki.txt\"\n",
    "\n",
    "prefix = \"ko_8k\"\n",
    "vocab_size = 8000\n",
    "\n",
    "## 7개의 BERT에 사용되는 특수문자 토큰이 추가되어야 하므로 vocab_size + 7 한다.\n",
    "spm.SentencePieceTrainer.train(\n",
    "    f\"--input={corpus_file} --model_prefix={prefix} --vocab_size={vocab_size + 7}\" + \n",
    "    \" --model_type=bpe\" +\n",
    "    \" --max_sentence_length=999999\" + # 문장 최대 길이\n",
    "    \" --pad_id=0 --pad_piece=[PAD]\" + # pad (0)\n",
    "    \" --unk_id=1 --unk_piece=[UNK]\" + # unknown (1)\n",
    "    \" --bos_id=2 --bos_piece=[BOS]\" + # begin of sequence (2)\n",
    "    \" --eos_id=3 --eos_piece=[EOS]\" + # end of sequence (3)\n",
    "    \" --user_defined_symbols=[SEP],[CLS],[MASK]\") # 사용자 정의 토큰\n",
    "\n",
    "print(\"✔️\")   # 완료메시지가 출력될 때까지 아무 출력내용이 없더라도 기다려 주세요."
   ]
  },
  {
   "cell_type": "markdown",
   "id": "6d14d194",
   "metadata": {},
   "source": [
    "토크나이저가 잘 만들어 졌는지 확인해보자."
   ]
  },
  {
   "cell_type": "code",
   "execution_count": 8,
   "id": "82589ae9",
   "metadata": {},
   "outputs": [
    {
     "data": {
      "text/plain": [
       "True"
      ]
     },
     "execution_count": 8,
     "metadata": {},
     "output_type": "execute_result"
    }
   ],
   "source": [
    "data_dir = os.getenv(\"HOME\") + \"/aiffel/bert_pretrain/data\"\n",
    "model_dir = os.getenv(\"HOME\") + \"/aiffel/bert_pretrain/models\"\n",
    "model_dir = os.getenv(\"HOME\") + \"/aiffel\"\n",
    "\n",
    "# vocab loading\n",
    "vocab = spm.SentencePieceProcessor()\n",
    "vocab.load(f\"{model_dir}/ko_8k.model\")"
   ]
  },
  {
   "cell_type": "code",
   "execution_count": 11,
   "id": "e7f97d23",
   "metadata": {},
   "outputs": [],
   "source": [
    "# 특수 token 7개를 제외한 나머지 tokens 들\n",
    "vocab_list = []\n",
    "for id in range(7, len(vocab)):\n",
    "    if not vocab.is_unknown(id):\n",
    "        vocab_list.append(vocab.id_to_piece(id))\n",
    "# print(vocab_list)"
   ]
  },
  {
   "cell_type": "code",
   "execution_count": 12,
   "id": "e00823fb",
   "metadata": {
    "scrolled": true
   },
   "outputs": [
    {
     "name": "stdout",
     "output_type": "stream",
     "text": [
      "['[CLS]', '▁추', '적', '추', '적', '▁비', '가', '▁내', '리는', '▁날', '이었', '어', '▁그', '날', '은', '▁', '왠', '지', '▁손', '님', '이', '▁많', '아', '▁첫', '▁번', '에', '▁삼', '십', '▁전', '▁둘', '째', '번', '▁오', '십', '▁전', '▁오', '랜', '만에', '▁받아', '보', '는', '▁십', '▁전', '짜', '리', '▁백', '통', '화', '▁서', '푼', '에', '[SEP]', '▁손', '바', '닥', '▁위', '엔', '▁기', '쁨', '의', '▁눈', '물이', '▁흘', '러', '▁컬', '컬', '한', '▁목', '에', '▁모', '주', '▁한', '잔', '을', '▁적', '셔', '▁몇', '▁달', '▁포', '▁전', '부터', '▁콜', '록', '거', '리는', '▁아내', '▁생각', '에', '▁그', '토', '록', '▁먹', '고', '▁싶', '다', '던', '[SEP]']\n"
     ]
    }
   ],
   "source": [
    "# [CLS], tokens a, [SEP], tokens b, [SEP] 형태의 token 생성\n",
    "string_a = \"추적추적 비가 내리는 날이었어 그날은 왠지 손님이 많아 첫 번에 삼십 전 둘째번 오십 전 오랜만에 받아보는 십 전짜리 백통화 서푼에\"\n",
    "string_b = \"손바닥 위엔 기쁨의 눈물이 흘러 컬컬한 목에 모주 한잔을 적셔 몇 달 포 전부터 콜록거리는 아내 생각에 그토록 먹고 싶다던\"\n",
    "tokens_org = [\"[CLS]\"] + vocab.encode_as_pieces(string_a) + [\"[SEP]\"] + vocab.encode_as_pieces(string_b) + [\"[SEP]\"]\n",
    "print(tokens_org)"
   ]
  },
  {
   "cell_type": "markdown",
   "id": "cb56dd6c",
   "metadata": {},
   "source": [
    "&nbsp;"
   ]
  },
  {
   "cell_type": "markdown",
   "id": "310ed269",
   "metadata": {},
   "source": [
    "### 2. 데이터 전처리 (1) MASK 생성\n",
    "\n",
    "<hr>"
   ]
  },
  {
   "cell_type": "markdown",
   "id": "7e86b6ea",
   "metadata": {},
   "source": [
    "> BERT의 MLM에 필요한 빈칸(mask)을 학습 데이터 전체 토큰의 15% 정도로 만들어 주세요. \n",
    "> \n",
    "> 그 중 80%는 `[MASK]` 토큰, 10%는 랜덤한 토큰, 나머지 10%는 원래의 토큰을 그대로 사용하세요."
   ]
  },
  {
   "cell_type": "markdown",
   "id": "4158588b",
   "metadata": {},
   "source": [
    "Masked LM을 위한 코퍼스 생성하는 **`create_pretrain_mask()`** 메소드를 아래와 같이 구현한다."
   ]
  },
  {
   "cell_type": "code",
   "execution_count": 13,
   "id": "5508d0a7",
   "metadata": {},
   "outputs": [],
   "source": [
    "def create_pretrain_mask(tokens, mask_cnt, vocab_list):\n",
    "    \"\"\"\n",
    "    마스크 생성\n",
    "        :param tokens: tokens\n",
    "        :param mask_cnt: mask 개수 (전체 tokens의 15%)\n",
    "        :param vocab_list: vocab list (random token 용)\n",
    "        :return tokens: mask된 tokens\n",
    "        :return mask_idx: mask된 token의 index\n",
    "        :return mask_label: mask된 token의 원래 값\n",
    "    \"\"\"\n",
    "    ## ① Masked LM 태스크를 구성할 땐 띄어쓰기 단위로 한꺼번에 마스킹 해 주는 것이 좋으니, 아래와 같이 처리한다.\n",
    "    # 단어 단위로 mask 하기 위해서 index 분할\n",
    "    cand_idx = []  # word 단위의 index array\n",
    "    for (i, token) in enumerate(tokens):\n",
    "        if token == \"[CLS]\" or token == \"[SEP]\":\n",
    "            continue\n",
    "        if 0 < len(cand_idx) and not token.startswith(u\"\\u2581\"):\n",
    "            cand_idx[-1].append(i)\n",
    "        else:\n",
    "            cand_idx.append([i])\n",
    "\n",
    "    # random mask를 위해서 순서를 섞음\n",
    "    random.shuffle(cand_idx)\n",
    "\n",
    "    ## ② Masking 로직 구현\n",
    "    mask_lms = []  # mask 된 값\n",
    "    for index_set in cand_idx:\n",
    "        if len(mask_lms) >= mask_cnt:  # 핸재 mask된 개수가 15%를 넘으면 중지\n",
    "            break\n",
    "        if len(mask_lms) + len(index_set) > mask_cnt:  # 이번에 mask할 개수를 포함해 15%를 넘으면 skip\n",
    "            continue\n",
    "        dice = random.random()  # 0..1 사이의 확률 값\n",
    "        for index in index_set:\n",
    "            masked_token = None\n",
    "            if dice < 0.8:  # 80% replace with [MASK]\n",
    "                masked_token = \"[MASK]\"\n",
    "            elif dice < 0.9: # 10% keep original\n",
    "                masked_token = tokens[index]\n",
    "            else:  # 10% random word\n",
    "                masked_token = random.choice(vocab_list)\n",
    "            mask_lms.append({\"index\": index, \"label\": tokens[index]})\n",
    "            tokens[index] = masked_token\n",
    "            \n",
    "    ## ③ Masked LM의 라벨 데이터는 아래와 같이 생성하여 정리해 둔다.\n",
    "    # mask_lms 정렬 후 mask_idx, mask_label 추출\n",
    "    mask_lms = sorted(mask_lms, key=lambda x: x[\"index\"])\n",
    "    mask_idx = [p[\"index\"] for p in mask_lms]  # mask된 token의 index\n",
    "    mask_label = [p[\"label\"] for p in mask_lms]  # mask된 token의 원래 값\n",
    "\n",
    "    return tokens, mask_idx, mask_label"
   ]
  },
  {
   "cell_type": "markdown",
   "id": "86b8023a",
   "metadata": {},
   "source": [
    "create_pretrain_mask() 수행 결과는 다음과 같이 확인 한다."
   ]
  },
  {
   "cell_type": "code",
   "execution_count": 16,
   "id": "032e6f2e",
   "metadata": {},
   "outputs": [
    {
     "name": "stdout",
     "output_type": "stream",
     "text": [
      "tokens_org\n",
      "['[CLS]', '▁추', '적', '추', '적', '▁비', '가', '▁내', '리는', '▁날', '이었', '어', '▁그', '날', '은', '▁', '왠', '지', '▁손', '님', '이', '▁많', '아', '▁첫', '▁번', '에', '▁삼', '십', '▁전', '▁둘', '째', '번', '▁오', '십', '▁전', '▁오', '랜', '만에', '▁받아', '보', '는', '▁십', '▁전', '짜', '리', '▁백', '통', '화', '▁서', '푼', '에', '[SEP]', '▁손', '바', '닥', '▁위', '엔', '▁기', '쁨', '의', '▁눈', '물이', '▁흘', '러', '▁컬', '컬', '한', '▁목', '에', '▁모', '주', '▁한', '잔', '을', '▁적', '셔', '▁몇', '▁달', '▁포', '▁전', '부터', '▁콜', '록', '거', '리는', '▁아내', '▁생각', '에', '▁그', '토', '록', '▁먹', '고', '▁싶', '다', '던', '[SEP]'] \n",
      "\n",
      "\n",
      " ──────────────────────────────── \n",
      "\n",
      "tokens\n",
      "['[CLS]', '▁추', '적', '추', '적', '▁비', '가', '▁내', '리는', '▁날', '이었', '어', '▁그', '날', '은', '▁', '왠', '지', '▁손', '님', '이', '[MASK]', '[MASK]', '[MASK]', '▁번', '에', '▁삼', '십', '▁전', '▁둘', '째', '번', '▁오', '십', '▁전', '▁오', '랜', '만에', '▁받아', '보', '는', '▁십', '▁전', '짜', '리', '▁백', '통', '화', '팹', '著', '內', '[SEP]', '▁손', '바', '닥', '[MASK]', '[MASK]', '▁기', '쁨', '의', '▁눈', '물이', '▁흘', '러', '▁컬', '컬', '한', '▁목', '에', '[MASK]', '[MASK]', '▁한', '잔', '을', '▁적', '셔', '▁몇', '▁달', '▁포', '▁전', '부터', '▁콜', '록', '거', '리는', '▁아내', '[MASK]', '[MASK]', '▁그', '토', '록', '▁먹', '고', '▁싶', '다', '던', '[SEP]'] \n",
      "\n",
      "\n",
      " ──────────────────────────────── \n",
      "\n",
      "mask_idx   : [21, 22, 23, 48, 49, 50, 55, 56, 62, 63, 69, 70, 86, 87]\n",
      "mask_label : ['▁많', '아', '▁첫', '▁서', '푼', '에', '▁위', '엔', '▁흘', '러', '▁모', '주', '▁생각', '에']\n",
      "\n",
      " ──────────────────────────────── \n",
      "\n"
     ]
    }
   ],
   "source": [
    "# tokens가 mask되므로 재 실행을 위해서 넣어줌 (테스트용)\n",
    "tokens = copy.deepcopy(tokens_org)\n",
    "\n",
    "# 전체 token의 15% mask\n",
    "mask_cnt = int((len(tokens_org) - 3) * 0.15)\n",
    "\n",
    "## Masked LM을 위한 코퍼스 생성\n",
    "tokens, mask_idx, mask_label = create_pretrain_mask(tokens, mask_cnt, vocab_list)\n",
    "\n",
    "print(\"tokens_org\")\n",
    "print(tokens_org, \"\\n\")\n",
    "print(\"\\n\", \"─\" * 32, \"\\n\")\n",
    "print(\"tokens\")\n",
    "print(tokens, \"\\n\")\n",
    "print(\"\\n\", \"─\" * 32, \"\\n\")\n",
    "\n",
    "print(\"mask_idx   :\", mask_idx)\n",
    "print(\"mask_label :\", mask_label)\n",
    "print(\"\\n\", \"─\" * 32, \"\\n\")"
   ]
  },
  {
   "cell_type": "markdown",
   "id": "8044fdae",
   "metadata": {},
   "source": [
    "&nbsp;"
   ]
  },
  {
   "cell_type": "markdown",
   "id": "559b1f44",
   "metadata": {},
   "source": [
    "### 3. 데이터 전처리 (2) NSP pair 생성\n",
    "\n",
    "<hr>"
   ]
  },
  {
   "cell_type": "markdown",
   "id": "4d425064",
   "metadata": {},
   "source": [
    "\n",
    "> BERT의 pretrain task인 NSP는 두 문장이 연속하는지 확인하는 것입니다. \n",
    ">\n",
    "> 이를 위해 2개의 문장을 짝지어 50%의 확률로 `TRUE` 와 `FALSE` 를 지정해 주세요.\n",
    ">\n",
    "> 두 문장 사이에 segment 처리를 해주세요. \n",
    ">\n",
    "> 첫 번째 문장의 segment는 0, 두 번째 문장은 1로 채워준 후 둘 사이에 구분자인 [SEP] 등을 넣어주세요.\n",
    ">\n",
    "> MLM과 NSP는 동시에 학습된다는 것을 염두에 두고 학습 데이터를 구성해 보세요.\n"
   ]
  },
  {
   "cell_type": "markdown",
   "id": "8b72478b",
   "metadata": {},
   "source": [
    "▶ BERT의 pretrain task - NSP（Next Sentence Prediction）\n",
    "\n",
    " - 문장 2개를 붙여놓고 두 문장이 이어지는 것인지 아닌지 문장 호응관계를 맞출 수 있게 함<br>&nbsp;\n",
    " \n",
    " - 문장 A 의 다음 문장이 B 인 경우 `TRUE`, 아닌 경우 `FALSE` 로 예측<br>&nbsp;\n",
    " \n",
    " - 예시> <br>&nbsp;\n",
    " \n",
    "   + [CLS]여름의 마지막 해수욕 누가 제일 늦게 바다에서 나왔나 [SEP] 그 사람이 바다의 뚜껑 닫지 않고 돌아가[SEP] → TRUE(IsNext)<br>&nbsp;\n",
    "   \n",
    "   + [CLS]여름의 마지막 해수욕 누가 제일 늦게 바다에서 나왔나 [SEP] 한강에서 자전거 타며 아아를 마시고 싶다[SEP] → FALSE(NotNext)<br>&nbsp;"
   ]
  },
  {
   "cell_type": "markdown",
   "id": "64ffe75f",
   "metadata": {},
   "source": [
    "token A의 길이가 `max_seq` 보다 길면 앞에서부터 토큰을 제거하고, \n",
    "\n",
    "token B의 길이가 길면 뒤에서부터 토큰을 제거하는 trim_tokens() 메소드를 아래와 같이 구현한다."
   ]
  },
  {
   "cell_type": "code",
   "execution_count": 17,
   "id": "77bad3b5",
   "metadata": {},
   "outputs": [],
   "source": [
    "def trim_tokens(tokens_a, tokens_b, max_seq):\n",
    "    \"\"\"\n",
    "    tokens_a, tokens_b의 길이를 줄임 최대 길이: max_seq\n",
    "        :param tokens_a: tokens A\n",
    "        :param tokens_b: tokens B\n",
    "        :param max_seq: 두 tokens 길이의 최대 값\n",
    "    \"\"\"\n",
    "    while True:\n",
    "        total_length = len(tokens_a) + len(tokens_b)\n",
    "        if total_length <= max_seq:\n",
    "            break\n",
    "\n",
    "        if len(tokens_a) > len(tokens_b):\n",
    "            del tokens_a[0]\n",
    "        else:\n",
    "            tokens_b.pop()"
   ]
  },
  {
   "cell_type": "markdown",
   "id": "e1cc96cc",
   "metadata": {},
   "source": [
    "Next Sentence Prediction을 위한 코퍼스 생성하는 **`create_pretrain_instances()`** 메소드를 아래와 같이 구현한다."
   ]
  },
  {
   "cell_type": "code",
   "execution_count": 18,
   "id": "9a2baf92",
   "metadata": {},
   "outputs": [],
   "source": [
    "def create_pretrain_instances(vocab, doc, n_seq, mask_prob, vocab_list):\n",
    "    \"\"\"\n",
    "    doc별 pretrain 데이터 생성\n",
    "    \"\"\"\n",
    "    \n",
    "    ## >> [CLS], tokens_a, [SEP], tokens_b, [SEP]\n",
    "    max_seq = n_seq - 3    # \"-3＂ for [CLS], [SEP], [SEP]\n",
    "\n",
    "    instances = []\n",
    "    current_chunk = []    # line 단위 tokens\n",
    "    current_length = 0\n",
    "    \n",
    "    for i in range(len(doc)):    # doc 전체를 loop\n",
    "        \n",
    "        current_chunk.append(doc[i])    # line 단위로 추가\n",
    "        current_length += len(doc[i])    # current_chunk의 token 수\n",
    "        \n",
    "        # 마지막 줄 이거나 길이가 max_seq 이상 인 경우, 학습 데이터를 만듭니다. \n",
    "        if (1 < len(current_chunk)) and ((i == len(doc) - 1) or (current_length >= max_seq)):\n",
    "            \n",
    "            #######################################\n",
    "            \n",
    "            a_end = 1\n",
    "            if 1 < len(current_chunk):\n",
    "                a_end = random.randrange(1, len(current_chunk))\n",
    "            \n",
    "            # token a\n",
    "            tokens_a = []\n",
    "            for j in range(a_end):\n",
    "                tokens_a.extend(current_chunk[j])\n",
    "            \n",
    "            # token b\n",
    "            tokens_b = []\n",
    "            for j in range(a_end, len(current_chunk)):\n",
    "                tokens_b.extend(current_chunk[j])\n",
    "\n",
    "            #######################################\n",
    "\n",
    "            ## 두 문장의 최대 길이를 유지하도록 trim을 적용한 후 \n",
    "            ## 50%의 확률로 true/false 케이스를 생성\n",
    "            \n",
    "            # 50% 확률로 swap\n",
    "            if random.random() < 0.5:\n",
    "                is_next = 0\n",
    "                tokens_t = tokens_a\n",
    "                tokens_a = tokens_b\n",
    "                tokens_b = tokens_t\n",
    "            else:\n",
    "                is_next = 1\n",
    "            \n",
    "            # max_seq 보다 큰 경우 길이 조절\n",
    "            trim_tokens(tokens_a, tokens_b, max_seq)\n",
    "            \n",
    "            assert 0 < len(tokens_a)\n",
    "            assert 0 < len(tokens_b)\n",
    "            \n",
    "            #######################################\n",
    "            \n",
    "            ## Mask LM용 데이터셋과 NSP용 데이터셋이 결합된 하나의 데이터셋을 완성\n",
    "            ## 〔create_pretrain_mask() 까지 함께 호출〕\n",
    "            \n",
    "            # tokens & aegment 생성\n",
    "            tokens = [\"[CLS]\"] + tokens_a + [\"[SEP]\"] + tokens_b + [\"[SEP]\"]\n",
    "            segment = [0] * (len(tokens_a) + 2) + [1] * (len(tokens_b) + 1)\n",
    "            ## ▲ 두 문장 사이에 segment 처리\n",
    "            ## 첫 번째 문장의 segment는 모두 0으로, \n",
    "            ## 두 번째 문장은 1로 채워준 후\n",
    "            ## 둘 사이에 구분자인 [SEP] 등을 넣어주는 것으로 마무리.\n",
    "            \n",
    "            # mask ML：create_pretrain_mask() 메소드 사용\n",
    "            tokens, mask_idx, mask_label = create_pretrain_mask(\n",
    "                tokens, int((len(tokens) - 3) * mask_prob), vocab_list)\n",
    "            \n",
    "            instance = {\n",
    "                \"tokens\": tokens,\n",
    "                \"segment\": segment,\n",
    "                \"is_next\": is_next,\n",
    "                \"mask_idx\": mask_idx,\n",
    "                \"mask_label\": mask_label\n",
    "            }\n",
    "            \n",
    "            instances.append(instance)\n",
    "            \n",
    "            #######################################\n",
    "\n",
    "            current_chunk = []\n",
    "            current_length = 0\n",
    "            \n",
    "    return instances"
   ]
  },
  {
   "cell_type": "markdown",
   "id": "212737c9",
   "metadata": {},
   "source": [
    "create_pretrain_instances() 테스트는 다음과 같이 확인해 볼 수 있다."
   ]
  },
  {
   "cell_type": "code",
   "execution_count": 23,
   "id": "4c0ddada",
   "metadata": {},
   "outputs": [
    {
     "name": "stdout",
     "output_type": "stream",
     "text": [
      "{'tokens': ['[CLS]', '▁손', '바', '닥', '▁위', '엔', '▁기', '쁨', '의', '▁눈', '물이', '▁흘', '러', '[SEP]', '▁추', '적', '추', '적', '▁비', '가', '▁내', '리는', '▁날', '이었', '어', '▁그', '날', '은', '▁', '왠', '지', '[MASK]', '[MASK]', '[MASK]', '▁많', '아', '▁첫', '▁번', '에', '▁삼', '십', '[MASK]', '▁둘', '째', '▁번', '▁오', '십', '▁전', '▁오', '랜', '만에', '[MASK]', '[MASK]', '[MASK]', '▁십', '▁전', '짜', '리', '▁백', '통', '화', '▁서', '푼', '[SEP]'], 'segment': [0, 0, 0, 0, 0, 0, 0, 0, 0, 0, 0, 0, 0, 0, 1, 1, 1, 1, 1, 1, 1, 1, 1, 1, 1, 1, 1, 1, 1, 1, 1, 1, 1, 1, 1, 1, 1, 1, 1, 1, 1, 1, 1, 1, 1, 1, 1, 1, 1, 1, 1, 1, 1, 1, 1, 1, 1, 1, 1, 1, 1, 1, 1, 1], 'is_next': 0, 'mask_idx': [31, 32, 33, 41, 45, 46, 51, 52, 53], 'mask_label': ['▁손', '님', '이', '▁전', '▁오', '십', '▁받아', '보', '는']}\n",
      "{'tokens': ['[CLS]', '[MASK]', '[MASK]', '▁그', '토', '록', '▁먹', '고', '▁싶', '다', '던', '▁설', '렁', '탕', '▁한', '▁그', '릇', '을', '▁이', '제는', '▁살', '▁수', '▁있어', '▁집', '으로', '▁돌아', '가는', '▁길', '▁난', '▁문', '득', '▁떠', '올', '라', '[MASK]', '[MASK]', '▁목', '소', '리가', '▁거', '칠', '어', '만', '▁가는', '▁희', '박', '한', '▁숨', '소', '리가', '[SEP]', '▁컬', '컬', '한', '▁목', '에', '▁모', '주', '[MASK]', '[MASK]', '[MASK]', '▁적', '셔', '[SEP]'], 'segment': [0, 0, 0, 0, 0, 0, 0, 0, 0, 0, 0, 0, 0, 0, 0, 0, 0, 0, 0, 0, 0, 0, 0, 0, 0, 0, 0, 0, 0, 0, 0, 0, 0, 0, 0, 0, 0, 0, 0, 0, 0, 0, 0, 0, 0, 0, 0, 0, 0, 0, 0, 1, 1, 1, 1, 1, 1, 1, 1, 1, 1, 1, 1, 1], 'is_next': 0, 'mask_idx': [1, 2, 18, 19, 34, 35, 58, 59, 60], 'mask_label': ['▁생각', '에', '▁이', '제는', '▁아내', '의', '▁한', '잔', '을']}\n",
      "{'tokens': ['[CLS]', '▁나', '를', '▁원', '망', '하', '듯', '▁비', '는', '▁점', '점', '▁거', '세', '져', '▁싸', '늘', '히', '▁식', '어', '가는', '▁아내', '가', '▁떠', '올', '라', '▁', '걱', '정은', '▁더', '해', '져', '[SEP]', '▁오늘', '은', '▁', '왠', '지', '틋', '▁크게', '[MASK]', '[MASK]', '[MASK]', '▁내', '▁옆', '에', '▁있어', '▁달', '라', '던', '▁그리', '도', '▁나가', '고', '▁싶', '으면', '▁일', '찍', '이라', '도', '[MASK]', '[MASK]', '▁달', '라', '[SEP]'], 'segment': [0, 0, 0, 0, 0, 0, 0, 0, 0, 0, 0, 0, 0, 0, 0, 0, 0, 0, 0, 0, 0, 0, 0, 0, 0, 0, 0, 0, 0, 0, 0, 0, 1, 1, 1, 1, 1, 1, 1, 1, 1, 1, 1, 1, 1, 1, 1, 1, 1, 1, 1, 1, 1, 1, 1, 1, 1, 1, 1, 1, 1, 1, 1, 1], 'is_next': 0, 'mask_idx': [7, 8, 37, 38, 39, 40, 41, 59, 60], 'mask_label': ['▁비', '는', '▁나', '가지', '▁말', '라', '던', '▁들어', '와']}\n",
      "{'tokens': ['[CLS]', '▁난', '▁맨', '날', '▁이렇게', '▁살', '[MASK]', '[MASK]', '[MASK]', '▁얼마', '나', '▁좋', '을', '까', '[SEP]', '▁난', '▁몰', '라', '▁오늘', '은', '▁운', '수', '▁좋은', '▁날', '[SEP]'], 'segment': [0, 0, 0, 0, 0, 0, 0, 0, 0, 0, 0, 0, 0, 0, 0, 1, 1, 1, 1, 1, 1, 1, 1, 1, 1], 'is_next': 0, 'mask_idx': [6, 7, 8], 'mask_label': ['▁수', '▁있', '으면']}\n"
     ]
    }
   ],
   "source": [
    "string = \"\"\"추적추적 비가 내리는 날이었어\n",
    "그날은 왠지 손님이 많아\n",
    "첫 번에 삼십 전 둘째 번 오십 전\n",
    "오랜만에 받아보는 십 전짜리 백통화 서푼에\n",
    "손바닥 위엔 기쁨의 눈물이 흘러\n",
    "컬컬한 목에 모주 한잔을 적셔\n",
    "몇 달 포 전부터 콜록거리는 아내\n",
    "생각에 그토록 먹고 싶다던\n",
    "설렁탕 한 그릇을 이제는 살 수 있어\n",
    "집으로 돌아가는 길 난 문득 떠올라\n",
    "아내의 목소리가 거칠어만 가는 희박한 숨소리가\n",
    "오늘은 왠지 나가지 말라던 내 옆에 있어 달라던\n",
    "그리도 나가고 싶으면 일찍이라도 들어와 달라던\n",
    "아내의 간절한 목소리가 들려와\n",
    "나를 원망하듯 비는 점점 거세져\n",
    "싸늘히 식어가는 아내가 떠올라 걱정은 더해져\n",
    "난 몰라 오늘은 운수 좋은 날\n",
    "난 맨날 이렇게 살 수 있으면 얼마나 좋을까\"\"\"\n",
    "\n",
    "# 줄 단위로 tokenize\n",
    "doc = [vocab.encode_as_pieces(line) for line in string.split(\"\\n\")]\n",
    "\n",
    "# 최대 길이\n",
    "n_test_seq = 64\n",
    "\n",
    "# # 최소 길이\n",
    "# min_seq = 8\n",
    "\n",
    "# # [CLS], tokens_a, [SEB], tokens_b, [SEP]\n",
    "# max_seq = n_test_seq - 3\n",
    "\n",
    "\n",
    "instances = create_pretrain_instances(\n",
    "    vocab, doc, n_test_seq, 0.15, vocab_list)\n",
    "\n",
    "# 최종 데이터셋 결과 확인\n",
    "for instance in instances:\n",
    "    print(instance)"
   ]
  },
  {
   "cell_type": "markdown",
   "id": "4475849c",
   "metadata": {},
   "source": [
    "&nbsp;"
   ]
  },
  {
   "cell_type": "markdown",
   "id": "99e78958",
   "metadata": {},
   "source": [
    "### 4. 데이터 전처리 (3) 데이터셋 완성\n",
    "\n",
    "<hr>"
   ]
  },
  {
   "cell_type": "markdown",
   "id": "43aab313",
   "metadata": {},
   "source": [
    "> BERT pretrain 데이터셋을 생성해, json 포맷으로 저장하세요. \n",
    ">\n",
    "> 데이터셋의 사이즈가 크므로 `np.memmap` 을 사용해 메모리 사용량을 최소화해 보세요."
   ]
  },
  {
   "cell_type": "markdown",
   "id": "a669ac6a",
   "metadata": {},
   "source": [
    "BERT pretrain 데이터셋 생성하는 make_pretrain_data() 메소드를 구현한다."
   ]
  },
  {
   "cell_type": "code",
   "execution_count": 24,
   "id": "abb7ae44",
   "metadata": {},
   "outputs": [],
   "source": [
    "def make_pretrain_data(vocab, in_file, out_file, n_seq, mask_prob=0.15):\n",
    "    \"\"\" pretrain 데이터 생성 \"\"\"\n",
    "    \n",
    "    def save_pretrain_instances(out_f, doc):\n",
    "        ## 이전에 구현해둔 create_pretrain_instances() 를 코퍼스에 적용\n",
    "        instances = create_pretrain_instances(vocab, doc, n_seq, mask_prob, vocab_list)\n",
    "        for instance in instances:\n",
    "            out_f.write(json.dumps(instance, ensure_ascii=False))\n",
    "            out_f.write(\"\\n\")\n",
    "\n",
    "    # 특수문자 7개를 제외한 vocab_list 생성\n",
    "    vocab_list = []\n",
    "    for id in range(7, len(vocab)):\n",
    "        if not vocab.is_unknown(id):        # 생성되는 단어 목록이 unknown인 경우는 제거합니다. \n",
    "            vocab_list.append(vocab.id_to_piece(id))\n",
    "\n",
    "    # line count 확인\n",
    "    line_cnt = 0\n",
    "    with open(in_file, \"r\") as in_f:\n",
    "        for line in in_f:\n",
    "            line_cnt += 1\n",
    "\n",
    "    with open(in_file, \"r\") as in_f:\n",
    "        with open(out_file, \"w\") as out_f:\n",
    "            doc = []    # 단락 단위로 문서 저장\n",
    "            for line in tqdm(in_f, total=line_cnt):\n",
    "                line = line.strip()\n",
    "                if line == \"\":  # line이 빈줄 일 경우 (새로운 단락)\n",
    "                    if 0 < len(doc):\n",
    "                        save_pretrain_instances(out_f, doc)    ## 저장\n",
    "                        doc = []    ## 내용 비움\n",
    "                else:  # line이 빈줄이 아닐 경우 tokenize 해서 doc에 저장\n",
    "                    pieces = vocab.encode_as_pieces(line)\n",
    "                    if 0 < len(pieces):\n",
    "                        doc.append(pieces)\n",
    "            if 0 < len(doc):  # 마지막에 처리되지 않은 doc가 있는 경우\n",
    "                save_pretrain_instances(out_f, doc)    ## 저장\n",
    "                doc = []    ## 내용 비움"
   ]
  },
  {
   "cell_type": "markdown",
   "id": "2297526f",
   "metadata": {},
   "source": [
    "전체 코퍼스에 대해 make_pretrain_data() 를 구동하여 최종적으로 생성된 데이터셋을 json 포맷으로 저장한다."
   ]
  },
  {
   "cell_type": "code",
   "execution_count": 25,
   "id": "41cab245",
   "metadata": {},
   "outputs": [
    {
     "data": {
      "application/vnd.jupyter.widget-view+json": {
       "model_id": "9398721ed4a34c8c98fec02ea91cf6e1",
       "version_major": 2,
       "version_minor": 0
      },
      "text/plain": [
       "  0%|          | 0/3957761 [00:00<?, ?it/s]"
      ]
     },
     "metadata": {},
     "output_type": "display_data"
    }
   ],
   "source": [
    "pretrain_json_path = os.getenv('HOME')+'/aiffel/bert_pretrain/data/bert_pre_train.json'\n",
    "\n",
    "make_pretrain_data(vocab, corpus_file, pretrain_json_path, 128)"
   ]
  },
  {
   "cell_type": "markdown",
   "id": "7cf04151",
   "metadata": {},
   "source": [
    "> ✔️ BERT pretrain 데이터셋을 생성해, json 포맷으로 저장하세요. \n",
    ">\n",
    "> 데이터셋의 사이즈가 크므로 `np.memmap` 을 사용해 메모리 사용량을 최소화해 보세요."
   ]
  },
  {
   "cell_type": "markdown",
   "id": "bbe389d1",
   "metadata": {},
   "source": [
    "&nbsp;"
   ]
  },
  {
   "attachments": {
    "image.png": {
     "image/png": "[encoded data removed]"
    }
   },
   "cell_type": "markdown",
   "id": "ea807adc",
   "metadata": {},
   "source": [
    "![image.png](attachment:image.png)"
   ]
  },
  {
   "cell_type": "markdown",
   "id": "4c3eb31c",
   "metadata": {},
   "source": [
    "json 데이터파일이 대략 1.39GB 정도의 용량을 차지한다.\n",
    "\n",
    "실제 BERT 학습용의 백 분의 일 사이즈 정도밖에 안 되겠지만, 그럼에도 불구하고\n",
    "\n",
    "이렇게 큰 파일을 로딩하는 함수를 만들 때는 메모리 이슈가 있을 수 있으므로\n",
    "\n",
    "`np.memmap` 을 사용해서 메모리 사용량을 최소화하는 방법을 시도해 보고자 한다."
   ]
  },
  {
   "cell_type": "markdown",
   "id": "7f3498fb",
   "metadata": {},
   "source": [
    "`np.memmap` 을 사용해 만들어진 데이터를 메모리 효율적으로 로딩하는 **`load_pre_train_data()`** 함수를 아래와 같이 구성한다."
   ]
  },
  {
   "cell_type": "code",
   "execution_count": 26,
   "id": "67961de9",
   "metadata": {},
   "outputs": [],
   "source": [
    "def load_pre_train_data(vocab, filename, n_seq, count=None):\n",
    "    \"\"\"\n",
    "    학습에 필요한 데이터를 로드\n",
    "        :param vocab: vocab\n",
    "        :param filename: 전처리된 json 파일\n",
    "        :param n_seq: 시퀀스 길이 (number of sequence)\n",
    "        :param count: 데이터 수 제한 (None이면 전체)\n",
    "        :return enc_tokens: encoder inputs\n",
    "        :return segments: segment inputs\n",
    "        :return labels_nsp: nsp labels\n",
    "        :return labels_mlm: mlm labels\n",
    "    \"\"\"\n",
    "    total = 0\n",
    "    with open(filename, \"r\") as f:\n",
    "        for line in f:\n",
    "            total += 1\n",
    "            # 데이터 수 제한\n",
    "            if count is not None and count <= total:\n",
    "                break\n",
    "    \n",
    "    # np.memmap을 사용하면 메모리를 적은 메모리에서도 대용량 데이터 처리가 가능 함\n",
    "    enc_tokens = np.memmap(filename='enc_tokens.memmap', mode='w+', dtype=np.int32, shape=(total, n_seq))\n",
    "    segments = np.memmap(filename='segments.memmap', mode='w+', dtype=np.int32, shape=(total, n_seq))\n",
    "    labels_nsp = np.memmap(filename='labels_nsp.memmap', mode='w+', dtype=np.int32, shape=(total,))\n",
    "    labels_mlm = np.memmap(filename='labels_mlm.memmap', mode='w+', dtype=np.int32, shape=(total, n_seq))\n",
    "\n",
    "    # 라인 단위로 처리\n",
    "    with open(filename, \"r\") as f:\n",
    "        for i, line in enumerate(tqdm(f, total=total)):\n",
    "            if total <= i:\n",
    "                print(\"data load early stop\", total, i)\n",
    "                break\n",
    "            data = json.loads(line)\n",
    "            \n",
    "            # encoder token\n",
    "            enc_token = [vocab.piece_to_id(p) for p in data[\"tokens\"]]\n",
    "            enc_token += [0] * (n_seq - len(enc_token))\n",
    "            \n",
    "            # segment\n",
    "            segment = data[\"segment\"]\n",
    "            segment += [0] * (n_seq - len(segment))\n",
    "            \n",
    "            # nsp label\n",
    "            label_nsp = data[\"is_next\"]\n",
    "            \n",
    "            # mlm label\n",
    "            mask_idx = np.array(data[\"mask_idx\"], dtype=np.int)\n",
    "            mask_label = np.array([vocab.piece_to_id(p) for p in data[\"mask_label\"]], dtype=np.int)\n",
    "            label_mlm = np.full(n_seq, dtype=np.int, fill_value=0)\n",
    "            label_mlm[mask_idx] = mask_label\n",
    "\n",
    "            assert len(enc_token) == len(segment) == len(label_mlm) == n_seq\n",
    "\n",
    "            enc_tokens[i] = enc_token\n",
    "            segments[i] = segment\n",
    "            labels_nsp[i] = label_nsp\n",
    "            labels_mlm[i] = label_mlm\n",
    "\n",
    "    return (enc_tokens, segments), (labels_nsp, labels_mlm)"
   ]
  },
  {
   "cell_type": "code",
   "execution_count": 125,
   "id": "18455fe8",
   "metadata": {
    "scrolled": false
   },
   "outputs": [
    {
     "data": {
      "application/vnd.jupyter.widget-view+json": {
       "model_id": "f5d9ac00b7e94cd2891f4c529c25fade",
       "version_major": 2,
       "version_minor": 0
      },
      "text/plain": [
       "  0%|          | 0/128000 [00:00<?, ?it/s]"
      ]
     },
     "metadata": {},
     "output_type": "display_data"
    },
    {
     "name": "stderr",
     "output_type": "stream",
     "text": [
      "/tmp/ipykernel_31/3696938355.py:47: DeprecationWarning: `np.int` is a deprecated alias for the builtin `int`. To silence this warning, use `int` by itself. Doing this will not modify any behavior and is safe. When replacing `np.int`, you may wish to use e.g. `np.int64` or `np.int32` to specify the precision. If you wish to review your current use, check the release note link for additional information.\n",
      "Deprecated in NumPy 1.20; for more details and guidance: https://numpy.org/devdocs/release/1.20.0-notes.html#deprecations\n",
      "  mask_idx = np.array(data[\"mask_idx\"], dtype=np.int)\n",
      "/tmp/ipykernel_31/3696938355.py:48: DeprecationWarning: `np.int` is a deprecated alias for the builtin `int`. To silence this warning, use `int` by itself. Doing this will not modify any behavior and is safe. When replacing `np.int`, you may wish to use e.g. `np.int64` or `np.int32` to specify the precision. If you wish to review your current use, check the release note link for additional information.\n",
      "Deprecated in NumPy 1.20; for more details and guidance: https://numpy.org/devdocs/release/1.20.0-notes.html#deprecations\n",
      "  mask_label = np.array([vocab.piece_to_id(p) for p in data[\"mask_label\"]], dtype=np.int)\n",
      "/tmp/ipykernel_31/3696938355.py:49: DeprecationWarning: `np.int` is a deprecated alias for the builtin `int`. To silence this warning, use `int` by itself. Doing this will not modify any behavior and is safe. When replacing `np.int`, you may wish to use e.g. `np.int64` or `np.int32` to specify the precision. If you wish to review your current use, check the release note link for additional information.\n",
      "Deprecated in NumPy 1.20; for more details and guidance: https://numpy.org/devdocs/release/1.20.0-notes.html#deprecations\n",
      "  label_mlm = np.full(n_seq, dtype=np.int, fill_value=0)\n"
     ]
    },
    {
     "name": "stdout",
     "output_type": "stream",
     "text": [
      "data load early stop 128000 128000\n"
     ]
    }
   ],
   "source": [
    "# 128,000 건만 메모리에 로딩\n",
    "# pre_train_inputs, pre_train_labels = load_pre_train_data(\n",
    "#     vocab, pretrain_json_path, 128, count=128000)\n",
    "\n",
    "# pre_train_inputs, pre_train_labels = load_pre_train_data(\n",
    "#     vocab, pretrain_json_path, 128, count=None)\n",
    "\n",
    "pre_train_inputs, pre_train_labels = load_pre_train_data(\n",
    "    vocab, pretrain_json_path, 128, count=128000)"
   ]
  },
  {
   "cell_type": "code",
   "execution_count": 126,
   "id": "0e60d29e",
   "metadata": {},
   "outputs": [],
   "source": [
    "# 처음과 마지막 확인\n",
    "# pre_train_inputs[0][0], pre_train_inputs[0][-1], pre_train_inputs[1][0], pre_train_inputs[1][-1], pre_train_labels[0][0], pre_train_labels[0][-1], pre_train_labels[1][0], pre_train_labels[1][-1]"
   ]
  },
  {
   "cell_type": "markdown",
   "id": "39882a5c",
   "metadata": {},
   "source": [
    "> ✔️ BERT pretrain 데이터셋을 생성해, json 포맷으로 저장하세요. \n",
    ">\n",
    "> ✔️ 데이터셋의 사이즈가 크므로 `np.memmap` 을 사용해 메모리 사용량을 최소화해 보세요."
   ]
  },
  {
   "cell_type": "markdown",
   "id": "623e61fd",
   "metadata": {},
   "source": [
    "&nbsp;"
   ]
  },
  {
   "cell_type": "markdown",
   "id": "3530d336",
   "metadata": {},
   "source": [
    "### 5. BERT 모델 구현\n",
    "\n",
    "<hr>"
   ]
  },
  {
   "cell_type": "markdown",
   "id": "8f5394ad",
   "metadata": {},
   "source": [
    "\n",
    "> pad mask, ahead mask 함수, gelu activation 함수, parameter initializer 생성 함수, \n",
    ">\n",
    "> json을 config 형태로 사용하기 위한 유틸리티 함수를 먼저 만들어 두세요.\n",
    ">\n",
    "> Embedding 레이어, Transformer encoder 레이어, BERT 레이어를 구성한 후, \n",
    ">\n",
    "> pretraine용 BERT 모델을 만들어 봅시다."
   ]
  },
  {
   "cell_type": "markdown",
   "id": "f62df33b",
   "metadata": {},
   "source": [
    "BERT는 transformer encoder로 구현되어 있고, transformer의 모델 구조와 거의 유사하지만, \n",
    "\n",
    "3개의 embedding 레이어（token, segment, position）를 가진다는 점에 유의해야 한다.\n",
    "\n",
    "BERT 구현에 앞서 몇 가지 유틸리티 함수를 먼저 만든다."
   ]
  },
  {
   "cell_type": "markdown",
   "id": "9d44f922",
   "metadata": {},
   "source": [
    "▶ pad mask, ahead mask"
   ]
  },
  {
   "cell_type": "code",
   "execution_count": 127,
   "id": "15289ebd",
   "metadata": {},
   "outputs": [
    {
     "name": "stdout",
     "output_type": "stream",
     "text": [
      "✔️\n"
     ]
    }
   ],
   "source": [
    "def get_pad_mask(tokens, i_pad=0):\n",
    "    \"\"\"\n",
    "    pad mask 계산하는 함수\n",
    "        :param tokens: tokens (bs, n_seq)\n",
    "        :param i_pad: id of pad\n",
    "        :return mask: pad mask (pad: 1, other: 0)\n",
    "    \"\"\"\n",
    "    mask = tf.cast(tf.math.equal(tokens, i_pad), tf.float32)\n",
    "    mask = tf.expand_dims(mask, axis=1)\n",
    "    return mask\n",
    "\n",
    "\n",
    "def get_ahead_mask(tokens, i_pad=0):\n",
    "    \"\"\"\n",
    "    ahead mask 계산하는 함수\n",
    "        :param tokens: tokens (bs, n_seq)\n",
    "        :param i_pad: id of pad\n",
    "        :return mask: ahead and pad mask (ahead or pad: 1, other: 0)\n",
    "    \"\"\"\n",
    "    n_seq = tf.shape(tokens)[1]\n",
    "    ahead_mask = 1 - tf.linalg.band_part(tf.ones((n_seq, n_seq)), -1, 0)\n",
    "    ahead_mask = tf.expand_dims(ahead_mask, axis=0)\n",
    "    pad_mask = get_pad_mask(tokens, i_pad)\n",
    "    mask = tf.maximum(ahead_mask, pad_mask)\n",
    "    return mask\n",
    "\n",
    "print(\"✔️\")"
   ]
  },
  {
   "cell_type": "markdown",
   "id": "bf12a4cd",
   "metadata": {},
   "source": []
  },
  {
   "cell_type": "markdown",
   "id": "94ea77fb",
   "metadata": {},
   "source": [
    "여기서는 활성화 함수로, ReLU가 아닌 GELU를 사용한다.\n",
    "\n",
    "일반적으로 GELU는 ReLU나 ELU보다 성능이 좋다고 한다.\n",
    "\n",
    "아래의 그래프는 GELU 논문에 나온 GELU, ReLU, ELU 함수를 비교하여 나타낸 그래프이다."
   ]
  },
  {
   "attachments": {
    "seukeurinsyas_2021-11-01_15-12-37.png": {
     "image/png": "[encoded data removed]"
    }
   },
   "cell_type": "markdown",
   "id": "fbcebd89",
   "metadata": {},
   "source": [
    "![seukeurinsyas_2021-11-01_15-12-37.png](attachment:seukeurinsyas_2021-11-01_15-12-37.png)<br>\n",
    "[GELU, ReLU, ELU 함수]<br>\n",
    "[https://arxiv.org/pdf/1606.08415.pdf](https://arxiv.org/pdf/1606.08415.pdf)"
   ]
  },
  {
   "cell_type": "markdown",
   "id": "436734d3",
   "metadata": {},
   "source": [
    "GELU 함수의 식은 아래와 같다."
   ]
  },
  {
   "cell_type": "markdown",
   "id": "c0917469",
   "metadata": {},
   "source": [
    "$$ \\large 0.5x(1 + tanh[\\sqrt{2/\\pi} (x + 0.044715x^3)]) $$ "
   ]
  },
  {
   "cell_type": "markdown",
   "id": "6d4390c9",
   "metadata": {},
   "source": [
    "GELU 함수를 정의한다."
   ]
  },
  {
   "cell_type": "markdown",
   "id": "0ff22108",
   "metadata": {},
   "source": [
    "▶ GELU activation"
   ]
  },
  {
   "cell_type": "code",
   "execution_count": 128,
   "id": "57555f21",
   "metadata": {},
   "outputs": [
    {
     "name": "stdout",
     "output_type": "stream",
     "text": [
      "✔️\n"
     ]
    }
   ],
   "source": [
    "@tf.function(experimental_relax_shapes=True)\n",
    "def gelu(x):\n",
    "    \"\"\"\n",
    "    gelu activation 함수\n",
    "        :param x: 입력 값\n",
    "        :return: gelu activation result\n",
    "    \"\"\"\n",
    "    return 0.5*x*(1+tf.tanh(np.sqrt(2/np.pi)*(x+0.044715*tf.pow(x, 3))))\n",
    "\n",
    "print(\"✔️\")"
   ]
  },
  {
   "cell_type": "markdown",
   "id": "60d19cd1",
   "metadata": {},
   "source": [
    "▶ Parameter initializer"
   ]
  },
  {
   "cell_type": "code",
   "execution_count": 129,
   "id": "24b6067a",
   "metadata": {},
   "outputs": [
    {
     "name": "stdout",
     "output_type": "stream",
     "text": [
      "✔️\n"
     ]
    }
   ],
   "source": [
    "def kernel_initializer(stddev=0.02):\n",
    "    \"\"\"\n",
    "    parameter initializer 생성\n",
    "        :param stddev: 생성할 랜덤 변수의 표준편차\n",
    "    \"\"\"\n",
    "    return tf.keras.initializers.TruncatedNormal(stddev=stddev)\n",
    "\n",
    "\n",
    "def bias_initializer():\n",
    "    \"\"\"\n",
    "    bias initializer 생성\n",
    "    \"\"\"\n",
    "    return tf.zeros_initializer\n",
    "\n",
    "print(\"✔️\")"
   ]
  },
  {
   "cell_type": "markdown",
   "id": "06452064",
   "metadata": {},
   "source": [
    "\n",
    "> ✔️pad mask, ahead mask 함수, gelu activation 함수, parameter initializer 생성 함수, \n",
    ">\n",
    "> json을 config 형태로 사용하기 위한 유틸리티 함수를 먼저 만들어 두세요.\n",
    ">\n",
    "> Embedding 레이어, Transformer encoder 레이어, BERT 레이어를 구성한 후, \n",
    ">\n",
    "> pretraine용 BERT 모델을 만들어 봅시다."
   ]
  },
  {
   "cell_type": "markdown",
   "id": "aa2f0a78",
   "metadata": {},
   "source": [
    "▶ Json config"
   ]
  },
  {
   "cell_type": "code",
   "execution_count": 130,
   "id": "fcc4f70e",
   "metadata": {},
   "outputs": [
    {
     "name": "stdout",
     "output_type": "stream",
     "text": [
      "✔️\n"
     ]
    }
   ],
   "source": [
    "class Config(dict):\n",
    "    \"\"\"\n",
    "    json을 config 형태로 사용하기 위한 Class\n",
    "        :param dict: config dictionary\n",
    "    \"\"\"\n",
    "    __getattr__ = dict.__getitem__\n",
    "    __setattr__ = dict.__setitem__\n",
    "\n",
    "    @classmethod\n",
    "    def load(cls, file):\n",
    "        \"\"\"\n",
    "        file에서 Config를 생성 함\n",
    "            :param file: filename\n",
    "        \"\"\"\n",
    "        with open(file, 'r') as f:\n",
    "            config = json.loads(f.read())\n",
    "            return Config(config)\n",
    "\n",
    "print(\"✔️\")"
   ]
  },
  {
   "cell_type": "markdown",
   "id": "359d0d21",
   "metadata": {},
   "source": [
    "\n",
    "> ✔️pad mask, ahead mask 함수, gelu activation 함수, parameter initializer 생성 함수, \n",
    ">\n",
    "> ✔️json을 config 형태로 사용하기 위한 유틸리티 함수를 먼저 만들어 두세요.\n",
    ">\n",
    "> Embedding 레이어, Transformer encoder 레이어, BERT 레이어를 구성한 후, \n",
    ">\n",
    "> pretraine용 BERT 모델을 만들어 봅시다."
   ]
  },
  {
   "cell_type": "markdown",
   "id": "a2f8dba8",
   "metadata": {},
   "source": [
    "이제 본격적으로 embedding 레이어를 쌓는다."
   ]
  },
  {
   "cell_type": "markdown",
   "id": "0b0519f0",
   "metadata": {},
   "source": [
    "▶ Token Embedding"
   ]
  },
  {
   "cell_type": "code",
   "execution_count": 131,
   "id": "2427f359",
   "metadata": {},
   "outputs": [
    {
     "name": "stdout",
     "output_type": "stream",
     "text": [
      "✔️\n"
     ]
    }
   ],
   "source": [
    "class SharedEmbedding(tf.keras.layers.Layer):\n",
    "    \"\"\"\n",
    "    Weighed Shaed Embedding Class\n",
    "    \"\"\"\n",
    "    def __init__(self, config, name=\"weight_shared_embedding\"):\n",
    "        \"\"\"\n",
    "        생성자\n",
    "        :param config: Config 객체\n",
    "        :param name: layer name\n",
    "        \"\"\"\n",
    "        super().__init__(name=name)\n",
    "\n",
    "        self.n_vocab = config.n_vocab\n",
    "        self.d_model = config.d_model\n",
    "    \n",
    "    def build(self, input_shape):\n",
    "        \"\"\"\n",
    "        shared weight 생성\n",
    "        :param input_shape: Tensor Shape (not used)\n",
    "        \"\"\"\n",
    "        with tf.name_scope(\"shared_embedding_weight\"):\n",
    "            self.shared_weights = self.add_weight(\n",
    "                \"weights\",\n",
    "                shape=[self.n_vocab, self.d_model],\n",
    "                initializer=kernel_initializer()\n",
    "            )\n",
    "\n",
    "    def call(self, inputs, mode=\"embedding\"):\n",
    "        \"\"\"\n",
    "        layer 실행\n",
    "        :param inputs: 입력\n",
    "        :param mode: 실행 모드\n",
    "        :return: embedding or linear 실행 결과\n",
    "        \"\"\"\n",
    "        # mode가 embedding일 경우 embedding lookup 실행\n",
    "        if mode == \"embedding\":\n",
    "            return self._embedding(inputs)\n",
    "        # mode가 linear일 경우 linear 실행\n",
    "        elif mode == \"linear\":\n",
    "            return self._linear(inputs)\n",
    "        # mode가 기타일 경우 오류 발생\n",
    "        else:\n",
    "            raise ValueError(f\"mode {mode} is not valid.\")\n",
    "    \n",
    "    def _embedding(self, inputs):\n",
    "        \"\"\"\n",
    "        embedding lookup\n",
    "        :param inputs: 입력\n",
    "        \"\"\"\n",
    "        embed = tf.gather(\n",
    "            self.shared_weights, \n",
    "            tf.cast(inputs, tf.int32))\n",
    "        return embed\n",
    "\n",
    "    def _linear(self, inputs):  # (bs, n_seq, d_model)\n",
    "        \"\"\"\n",
    "        linear 실행\n",
    "        :param inputs: 입력\n",
    "        \"\"\"\n",
    "        n_batch = tf.shape(inputs)[0]\n",
    "        n_seq = tf.shape(inputs)[1]\n",
    "        inputs = tf.reshape(\n",
    "            inputs, \n",
    "            [-1, self.d_model])  # (bs * n_seq, d_model)\n",
    "        outputs = tf.matmul(\n",
    "            inputs, \n",
    "            self.shared_weights, \n",
    "            transpose_b=True)\n",
    "        outputs = tf.reshape(\n",
    "            outputs,\n",
    "            [n_batch, n_seq, self.n_vocab])  # (bs, n_seq, n_vocab)\n",
    "        \n",
    "        return outputs\n",
    "\n",
    "print(\"✔️\")"
   ]
  },
  {
   "cell_type": "markdown",
   "id": "f98b2a3a",
   "metadata": {},
   "source": [
    "▶ Position Embedding \n",
    "~~~\n",
    "Transformer에서 사인 함수와 코사인 함수를 이용한 Positional Encoding을 통해 토큰의 상대적인 위치를 학습했던 것과 달리, \n",
    "\n",
    "BERT에서는 Position Embedding을 사용한다. \n",
    "\n",
    "Position Embedding은 위치 정보가 담긴 임베딩 레이어를 하나 더 사용해 Position Embedding 벡터를 학습시켜서, \n",
    "\n",
    "BERT의 입력에 Position Embedding을 더해준다.\n",
    "~~~"
   ]
  },
  {
   "cell_type": "code",
   "execution_count": 132,
   "id": "79d32880",
   "metadata": {},
   "outputs": [
    {
     "name": "stdout",
     "output_type": "stream",
     "text": [
      "✔️\n"
     ]
    }
   ],
   "source": [
    "class PositionEmbedding(tf.keras.layers.Layer):\n",
    "    \"\"\"\n",
    "    Position Embedding Class\n",
    "    \"\"\"\n",
    "    def __init__(self, config, name=\"position_embedding\"):\n",
    "        \"\"\"\n",
    "        생성자\n",
    "            :param config: Config 객체\n",
    "            :param name: layer name\n",
    "        \"\"\"\n",
    "        super().__init__(name=name)\n",
    "        \n",
    "        self.embedding = tf.keras.layers.Embedding(\n",
    "            config.n_seq, \n",
    "            config.d_model, \n",
    "            embeddings_initializer=kernel_initializer())\n",
    "\n",
    "    def call(self, inputs):\n",
    "        \"\"\"\n",
    "        layer 실행\n",
    "            :param inputs: 입력\n",
    "            :return embed: position embedding lookup 결과\n",
    "        \"\"\"\n",
    "        position = tf.cast(\n",
    "            tf.math.cumsum(tf.ones_like(inputs), axis=1, exclusive=True),\n",
    "            tf.int32)\n",
    "        embed = self.embedding(position)\n",
    "    \n",
    "        return embed\n",
    "    \n",
    "print(\"✔️\")"
   ]
  },
  {
   "cell_type": "markdown",
   "id": "2e2c2ba4",
   "metadata": {},
   "source": [
    "▶ Segment Embedding\n",
    "\n",
    "~~~\n",
    "두 개의 문장을 구분하기 위한 임베딩으로, 별도의 레이어를 구현하지 않고\n",
    "\n",
    "뒤에 BERT 클래스 부분에서 포함시키도록 하겠다.\n",
    "~~~"
   ]
  },
  {
   "cell_type": "markdown",
   "id": "80e31cab",
   "metadata": {},
   "source": [
    "▶  `ScaleDotProductAttention` 과 이를 활용한 `MultiHeadAttention`"
   ]
  },
  {
   "cell_type": "code",
   "execution_count": 133,
   "id": "b44efee0",
   "metadata": {},
   "outputs": [
    {
     "name": "stdout",
     "output_type": "stream",
     "text": [
      "✔️\n"
     ]
    }
   ],
   "source": [
    "class ScaleDotProductAttention(tf.keras.layers.Layer):\n",
    "    \"\"\"\n",
    "    Scale Dot Product Attention Class\n",
    "    \"\"\"\n",
    "    def __init__(self, name=\"scale_dot_product_attention\"):\n",
    "        \"\"\"\n",
    "        생성자\n",
    "        :param name: layer name\n",
    "        \"\"\"\n",
    "        super().__init__(name=name)\n",
    "\n",
    "    def call(self, Q, K, V, attn_mask):\n",
    "        \"\"\"\n",
    "        layer 실행\n",
    "            :param Q: Q value\n",
    "            :param K: K value\n",
    "            :param V: V value\n",
    "            :param attn_mask: 실행 모드\n",
    "            :return attn_out: attention 실행 결과\n",
    "        \"\"\"\n",
    "        attn_score = tf.matmul(Q, K, transpose_b=True)\n",
    "        scale = tf.math.sqrt(tf.cast(tf.shape(K)[-1], tf.float32))\n",
    "        attn_scale = tf.math.divide(attn_score, scale)\n",
    "        attn_scale -= 1.e9 * attn_mask\n",
    "        attn_prob = tf.nn.softmax(attn_scale, axis=-1)\n",
    "        attn_out = tf.matmul(attn_prob, V)\n",
    "        \n",
    "        return attn_out\n",
    "\n",
    "print(\"✔️\")"
   ]
  },
  {
   "cell_type": "code",
   "execution_count": 134,
   "id": "116d334d",
   "metadata": {},
   "outputs": [
    {
     "name": "stdout",
     "output_type": "stream",
     "text": [
      "✔️\n"
     ]
    }
   ],
   "source": [
    "class MultiHeadAttention(tf.keras.layers.Layer):\n",
    "    \"\"\"\n",
    "    Multi Head Attention Class\n",
    "    \"\"\"\n",
    "    def __init__(self, config, name=\"multi_head_attention\"):\n",
    "        \"\"\"\n",
    "        생성자\n",
    "            :param config: Config 객체\n",
    "            :param name: layer name\n",
    "        \"\"\"\n",
    "        super().__init__(name=name)\n",
    "\n",
    "        self.d_model = config.d_model\n",
    "        self.n_head = config.n_head\n",
    "        self.d_head = config.d_head\n",
    "\n",
    "        # Q, K, V input dense layer\n",
    "        self.W_Q = tf.keras.layers.Dense(\n",
    "            config.n_head * config.d_head, \n",
    "            kernel_initializer=kernel_initializer(), \n",
    "            bias_initializer=bias_initializer())\n",
    "        self.W_K = tf.keras.layers.Dense(\n",
    "            config.n_head * config.d_head, \n",
    "            kernel_initializer=kernel_initializer(), \n",
    "            bias_initializer=bias_initializer())\n",
    "        self.W_V = tf.keras.layers.Dense(\n",
    "            config.n_head * config.d_head, \n",
    "            kernel_initializer=kernel_initializer(), \n",
    "            bias_initializer=bias_initializer())\n",
    "        \n",
    "        # Scale Dot Product Attention class\n",
    "        self.attention = ScaleDotProductAttention(name=\"self_attention\")\n",
    "        \n",
    "        # output dense layer\n",
    "        self.W_O = tf.keras.layers.Dense(\n",
    "            config.d_model, \n",
    "            kernel_initializer=kernel_initializer(), \n",
    "            bias_initializer=bias_initializer())\n",
    "\n",
    "    def call(self, Q, K, V, attn_mask):\n",
    "        \"\"\"\n",
    "        layer 실행\n",
    "            :param Q: Q value\n",
    "            :param K: K value\n",
    "            :param V: V value\n",
    "            :param attn_mask: 실행 모드\n",
    "            :return attn_out: attention 실행 결과\n",
    "        \"\"\"\n",
    "        # reshape Q, K, V, attn_mask\n",
    "        batch_size = tf.shape(Q)[0]\n",
    "        Q_m = tf.transpose(\n",
    "            tf.reshape(self.W_Q(Q), [batch_size, -1, self.n_head, self.d_head]), \n",
    "            [0, 2, 1, 3])  # (bs, n_head, Q_len, d_head)\n",
    "        K_m = tf.transpose(\n",
    "            tf.reshape(self.W_K(K), [batch_size, -1, self.n_head, self.d_head]), \n",
    "            [0, 2, 1, 3])  # (bs, n_head, K_len, d_head)\n",
    "        V_m = tf.transpose(\n",
    "            tf.reshape(self.W_V(V), [batch_size, -1, self.n_head, self.d_head]), \n",
    "            [0, 2, 1, 3])  # (bs, n_head, K_len, d_head)\n",
    "        attn_mask_m = tf.expand_dims(attn_mask, axis=1)\n",
    "        \n",
    "        # Scale Dot Product Attention with multi head Q, K, V, attn_mask\n",
    "        attn_out = self.attention(Q_m, K_m, V_m, attn_mask_m)  # (bs, n_head, Q_len, d_head)\n",
    "        \n",
    "        # transpose and liner\n",
    "        attn_out_m = tf.transpose(\n",
    "            attn_out, perm=[0, 2, 1, 3])  # (bs, Q_len, n_head, d_head)\n",
    "        attn_out = tf.reshape(\n",
    "            attn_out_m, [batch_size, -1, config.n_head * config.d_head])  # (bs, Q_len, d_model)\n",
    "        attn_out = self.W_O(attn_out) # (bs, Q_len, d_model)\n",
    "\n",
    "        return attn_out\n",
    "    \n",
    "print(\"✔️\")"
   ]
  },
  {
   "cell_type": "markdown",
   "id": "16292473",
   "metadata": {},
   "source": [
    "▶ Transformer encoder"
   ]
  },
  {
   "cell_type": "code",
   "execution_count": 135,
   "id": "a3b31304",
   "metadata": {},
   "outputs": [
    {
     "name": "stdout",
     "output_type": "stream",
     "text": [
      "✔️\n"
     ]
    }
   ],
   "source": [
    "class PositionWiseFeedForward(tf.keras.layers.Layer):\n",
    "    \"\"\"\n",
    "    Position Wise Feed Forward Class\n",
    "    \"\"\"\n",
    "    def __init__(self, config, name=\"feed_forward\"):\n",
    "        \"\"\"\n",
    "        생성자\n",
    "            :param config: Config 객체\n",
    "            :param name: layer name\n",
    "        \"\"\"\n",
    "        super().__init__(name=name)\n",
    "\n",
    "        self.W_1 = tf.keras.layers.Dense(\n",
    "            config.d_ff, \n",
    "            activation=gelu, \n",
    "            kernel_initializer=kernel_initializer(), \n",
    "            bias_initializer=bias_initializer())\n",
    "        \n",
    "        self.W_2 = tf.keras.layers.Dense(\n",
    "            config.d_model, \n",
    "            kernel_initializer=kernel_initializer(), \n",
    "            bias_initializer=bias_initializer())\n",
    "\n",
    "    def call(self, inputs):\n",
    "        \"\"\"\n",
    "        layer 실행\n",
    "            :param inputs: inputs\n",
    "            :return ff_val: feed forward 실행 결과\n",
    "        \"\"\"\n",
    "        ff_val = self.W_2(self.W_1(inputs))\n",
    "        \n",
    "        return ff_val\n",
    "    \n",
    "print(\"✔️\")"
   ]
  },
  {
   "cell_type": "code",
   "execution_count": 136,
   "id": "b2a07b27",
   "metadata": {},
   "outputs": [
    {
     "name": "stdout",
     "output_type": "stream",
     "text": [
      "✔️\n"
     ]
    }
   ],
   "source": [
    "class EncoderLayer(tf.keras.layers.Layer):\n",
    "    \"\"\"\n",
    "    Encoder Layer Class\n",
    "    \"\"\"\n",
    "    def __init__(self, config, name=\"encoder_layer\"):\n",
    "        \"\"\"\n",
    "        생성자\n",
    "            :param config: Config 객체\n",
    "            :param name: layer name\n",
    "        \"\"\"\n",
    "        super().__init__(name=name)\n",
    "\n",
    "        self.self_attention = MultiHeadAttention(config)\n",
    "        self.norm1 = tf.keras.layers.LayerNormalization(epsilon=config.layernorm_epsilon)\n",
    "\n",
    "        self.ffn = PositionWiseFeedForward(config)\n",
    "        self.norm2 = tf.keras.layers.LayerNormalization(epsilon=config.layernorm_epsilon)\n",
    "\n",
    "        self.dropout = tf.keras.layers.Dropout(config.dropout)\n",
    " \n",
    "    def call(self, enc_embed, self_mask):\n",
    "        \"\"\"\n",
    "        layer 실행\n",
    "            :param enc_embed: enc_embed 또는 이전 EncoderLayer의 출력\n",
    "            :param self_mask: enc_tokens의 pad mask\n",
    "            :return enc_out: EncoderLayer 실행 결과\n",
    "        \"\"\"\n",
    "        self_attn_val = self.self_attention(enc_embed, enc_embed, enc_embed, self_mask)\n",
    "        norm1_val = self.norm1(enc_embed + self.dropout(self_attn_val))\n",
    "\n",
    "        ffn_val = self.ffn(norm1_val)\n",
    "        enc_out = self.norm2(norm1_val + self.dropout(ffn_val))\n",
    "\n",
    "        return enc_out\n",
    "    \n",
    "print(\"✔️\")"
   ]
  },
  {
   "cell_type": "markdown",
   "id": "3e7914a5",
   "metadata": {},
   "source": [
    "▶ BERT 레이어"
   ]
  },
  {
   "cell_type": "code",
   "execution_count": 137,
   "id": "6b8a21d8",
   "metadata": {},
   "outputs": [
    {
     "name": "stdout",
     "output_type": "stream",
     "text": [
      "✔️\n"
     ]
    }
   ],
   "source": [
    "class BERT(tf.keras.layers.Layer):\n",
    "    \"\"\"\n",
    "    BERT Class\n",
    "    \"\"\"\n",
    "    def __init__(self, config, name=\"bert\"):\n",
    "        \"\"\"\n",
    "        생성자\n",
    "            :param config: Config 객체\n",
    "            :param name: layer name\n",
    "        \"\"\"\n",
    "        super().__init__(name=name)\n",
    "\n",
    "        self.i_pad = config.i_pad\n",
    "        self.embedding = SharedEmbedding(config)\n",
    "        self.position = PositionEmbedding(config)\n",
    "        self.segment = tf.keras.layers.Embedding(2, config.d_model, embeddings_initializer=kernel_initializer())\n",
    "        self.norm = tf.keras.layers.LayerNormalization(epsilon=config.layernorm_epsilon)\n",
    "        \n",
    "        self.encoder_layers = [EncoderLayer(config, name=f\"encoder_layer_{i}\") for i in range(config.n_layer)]\n",
    "\n",
    "        self.dropout = tf.keras.layers.Dropout(config.dropout)\n",
    "\n",
    "    def call(self, inputs):\n",
    "        \"\"\"\n",
    "        layer 실행\n",
    "            :param inputs: (enc_tokens, segments)\n",
    "            :return logits: dec_tokens에 대한 다음 토큰 예측 결과 logits\n",
    "        \"\"\"\n",
    "        enc_tokens, segments = inputs\n",
    "\n",
    "        enc_self_mask = tf.keras.layers.Lambda(get_pad_mask, output_shape=(1, None), name='enc_self_mask')(enc_tokens, self.i_pad)\n",
    "\n",
    "        enc_embed = self.get_embedding(enc_tokens, segments)\n",
    "\n",
    "        enc_out = self.dropout(enc_embed)\n",
    "        for encoder_layer in self.encoder_layers:\n",
    "            enc_out = encoder_layer(enc_out, enc_self_mask)\n",
    "\n",
    "        logits_cls = enc_out[:,0]\n",
    "        logits_lm = self.embedding(enc_out, mode=\"linear\")\n",
    "        \n",
    "        return logits_cls, logits_lm\n",
    "    \n",
    "    def get_embedding(self, tokens, segments):\n",
    "        \"\"\"\n",
    "        token embedding, position embedding lookup\n",
    "            :param tokens: 입력 tokens\n",
    "            :param segments: 입력 segments\n",
    "            :return embed: embedding 결과\n",
    "        \"\"\"\n",
    "        embed = self.embedding(tokens) + self.position(tokens) + self.segment(segments)\n",
    "        embed = self.norm(embed)\n",
    "        \n",
    "        return embed\n",
    "    \n",
    "print(\"✔️\")"
   ]
  },
  {
   "cell_type": "markdown",
   "id": "c567cd48",
   "metadata": {},
   "source": [
    "\n",
    "> ✔️ pad mask, ahead mask 함수, gelu activation 함수, parameter initializer 생성 함수, \n",
    ">\n",
    "> ✔️ json을 config 형태로 사용하기 위한 유틸리티 함수를 먼저 만들어 두세요.\n",
    ">\n",
    "> ✔️ Embedding 레이어, Transformer encoder 레이어, BERT 레이어를 구성한 후, \n",
    ">\n",
    "> pretraine용 BERT 모델을 만들어 봅시다."
   ]
  },
  {
   "cell_type": "markdown",
   "id": "a626490a",
   "metadata": {},
   "source": [
    "▶ pretrain용 BERT 모델"
   ]
  },
  {
   "cell_type": "code",
   "execution_count": 138,
   "id": "a30b27f1",
   "metadata": {},
   "outputs": [
    {
     "name": "stdout",
     "output_type": "stream",
     "text": [
      "✔️\n"
     ]
    }
   ],
   "source": [
    "# Encoder Layer class 정의\n",
    "class PooledOutput(tf.keras.layers.Layer):\n",
    "    def __init__(self, config, n_output, name=\"pooled_output\"):\n",
    "        super().__init__(name=name)\n",
    "\n",
    "        self.dense1 = tf.keras.layers.Dense(config.d_model, activation=tf.nn.tanh, kernel_initializer=kernel_initializer(), bias_initializer=bias_initializer())\n",
    "        self.dense2 = tf.keras.layers.Dense(n_output, use_bias=False, activation=tf.nn.softmax, name=\"nsp\", kernel_initializer=kernel_initializer(), bias_initializer=bias_initializer())\n",
    " \n",
    "    def call(self, inputs):\n",
    "        outputs = self.dense1(inputs)\n",
    "        outputs = self.dense2(outputs)\n",
    "        \n",
    "        return outputs\n",
    "    \n",
    "print(\"✔️\")"
   ]
  },
  {
   "cell_type": "code",
   "execution_count": 139,
   "id": "3c6e282a",
   "metadata": {},
   "outputs": [
    {
     "name": "stdout",
     "output_type": "stream",
     "text": [
      "✔️\n"
     ]
    }
   ],
   "source": [
    "def build_model_pre_train(config):\n",
    "    enc_tokens = tf.keras.layers.Input((None,), name=\"enc_tokens\")\n",
    "    segments = tf.keras.layers.Input((None,), name=\"segments\")\n",
    "\n",
    "    bert = BERT(config)\n",
    "    logits_cls, logits_lm = bert((enc_tokens, segments))\n",
    "\n",
    "    logits_cls = PooledOutput(config, 2, name=\"pooled_nsp\")(logits_cls)\n",
    "    outputs_nsp = tf.keras.layers.Softmax(name=\"nsp\")(logits_cls)\n",
    "\n",
    "    outputs_mlm = tf.keras.layers.Softmax(name=\"mlm\")(logits_lm)\n",
    "\n",
    "    model = tf.keras.Model(inputs=(enc_tokens, segments), outputs=(outputs_nsp, outputs_mlm))\n",
    "    \n",
    "    return model\n",
    "\n",
    "print(\"✔️\")"
   ]
  },
  {
   "cell_type": "markdown",
   "id": "4e1d09cd",
   "metadata": {},
   "source": [
    "▶ 아주 작은 pretrain용 BERT 모델(test_model)을 생성하여 동작을 확인"
   ]
  },
  {
   "cell_type": "code",
   "execution_count": 140,
   "id": "d46f6ca0",
   "metadata": {},
   "outputs": [
    {
     "data": {
      "text/plain": [
       "{'d_model': 128,\n",
       " 'n_head': 4,\n",
       " 'd_head': 32,\n",
       " 'dropout': 0.2,\n",
       " 'd_ff': 512,\n",
       " 'layernorm_epsilon': 0.001,\n",
       " 'n_layer': 2,\n",
       " 'n_seq': 256,\n",
       " 'n_vocab': 8007,\n",
       " 'i_pad': 0}"
      ]
     },
     "execution_count": 140,
     "metadata": {},
     "output_type": "execute_result"
    }
   ],
   "source": [
    "# config = Config({\n",
    "#     \"d_model\": 256, \n",
    "#     \"n_head\": 4, \n",
    "#     \"d_head\": 64, \n",
    "#     \"dropout\": 0.1, \n",
    "#     \"d_ff\": 1024, \n",
    "#     \"layernorm_epsilon\": 0.001, \n",
    "#     \"n_layer\": 3, \n",
    "#     \"n_seq\": 256, \n",
    "#     \"n_vocab\": 0, \n",
    "#     \"i_pad\": 0})\n",
    "\n",
    "config = Config({\n",
    "    \"d_model\": 128, \n",
    "    \"n_head\": 4, \n",
    "    \"d_head\": 32, \n",
    "    \"dropout\": 0.2, \n",
    "    \"d_ff\": 512, \n",
    "    \"layernorm_epsilon\": 0.001, \n",
    "    \"n_layer\": 2, \n",
    "    \"n_seq\": 256, \n",
    "    \"n_vocab\": 0, \n",
    "    \"i_pad\": 0})\n",
    "\n",
    "config.n_vocab = len(vocab)\n",
    "config.i_pad = vocab.pad_id()\n",
    "config"
   ]
  },
  {
   "cell_type": "code",
   "execution_count": 141,
   "id": "b036ddb2",
   "metadata": {},
   "outputs": [
    {
     "name": "stdout",
     "output_type": "stream",
     "text": [
      "Epoch 1/2\n",
      "2/2 [==============================] - 2s 8ms/step - loss: 9.6880 - nsp_loss: 0.6876 - mlm_loss: 9.0004 - nsp_acc: 0.5000 - mlm_acc: 0.0000e+00\n",
      "Epoch 2/2\n",
      "2/2 [==============================] - 0s 8ms/step - loss: 9.2945 - nsp_loss: 0.6268 - mlm_loss: 8.6677 - nsp_acc: 0.8000 - mlm_acc: 0.0000e+00\n"
     ]
    },
    {
     "data": {
      "text/plain": [
       "<keras.callbacks.History at 0x7fa8c02b89d0>"
      ]
     },
     "execution_count": 141,
     "metadata": {},
     "output_type": "execute_result"
    }
   ],
   "source": [
    "n_seq = 10\n",
    "\n",
    "# make test inputs\n",
    "enc_tokens = np.random.randint(0, len(vocab), (10, n_seq))\n",
    "segments = np.random.randint(0, 2, (10, n_seq))\n",
    "labels_nsp = np.random.randint(0, 2, (10,))\n",
    "labels_mlm = np.random.randint(0, len(vocab), (10, n_seq))\n",
    "\n",
    "test_model = build_model_pre_train(config)\n",
    "test_model.compile(\n",
    "    loss=tf.keras.losses.sparse_categorical_crossentropy, \n",
    "    optimizer=tf.keras.optimizers.Adam(), \n",
    "    metrics=[\"acc\"])\n",
    "\n",
    "# test model fit\n",
    "test_model.fit((enc_tokens, segments), (labels_nsp, labels_mlm), epochs=2, batch_size=5)"
   ]
  },
  {
   "cell_type": "markdown",
   "id": "1d8ed113",
   "metadata": {},
   "source": [
    "\n",
    "> ✔️ pad mask, ahead mask 함수, gelu activation 함수, parameter initializer 생성 함수, \n",
    ">\n",
    "> ✔️ json을 config 형태로 사용하기 위한 유틸리티 함수를 먼저 만들어 두세요.\n",
    ">\n",
    "> ✔️ Embedding 레이어, Transformer encoder 레이어, BERT 레이어를 구성한 후, \n",
    ">\n",
    "> ✔️ pretraine용 BERT 모델을 만들어 봅시다."
   ]
  },
  {
   "cell_type": "markdown",
   "id": "ad615647",
   "metadata": {},
   "source": [
    "다음 Step 에서 본격적으로 학습을 진행해보자."
   ]
  },
  {
   "cell_type": "markdown",
   "id": "376734dc",
   "metadata": {},
   "source": [
    "&nbsp;"
   ]
  },
  {
   "cell_type": "markdown",
   "id": "10a1d00b",
   "metadata": {},
   "source": [
    "### 6. pretrain 진행\n",
    "\n",
    "<hr>"
   ]
  },
  {
   "cell_type": "markdown",
   "id": "24663b1d",
   "metadata": {},
   "source": [
    "> loss, accuracy 함수를 정의하고 Learning Rate 스케쥴링을 구현한 후, \n",
    ">\n",
    "> 10 Epoch까지 모델 학습을 시켜보세요. 학습을 진행할 때는 배치 사이즈에 유의하세요.\n"
   ]
  },
  {
   "cell_type": "markdown",
   "id": "f4b1ab81",
   "metadata": {},
   "source": [
    "우선 loss와 accuracy같이 기본적으로 필요한 계산 함수를 미리 정의한다.\n",
    "\n",
    "학습 데이터의 label이 정수로 변환되었으므로 loss 함수는 `SparseCategoricalCrossentropy` 를 사용한다.\n",
    "\n",
    "이때, MLM task에 대해 더 잘 학습하도록 loss를 20배 증가시켜 준다."
   ]
  },
  {
   "cell_type": "markdown",
   "id": "c5bc716b",
   "metadata": {},
   "source": [
    "▶ loss, accuracy 함수"
   ]
  },
  {
   "cell_type": "code",
   "execution_count": 142,
   "id": "dae6eec7",
   "metadata": {},
   "outputs": [
    {
     "name": "stdout",
     "output_type": "stream",
     "text": [
      "✔️\n"
     ]
    }
   ],
   "source": [
    "def lm_loss(y_true, y_pred):\n",
    "    \"\"\"\n",
    "    loss 계산 함수\n",
    "        :param y_true: 정답 (bs, n_seq)\n",
    "        :param y_pred: 예측 값 (bs, n_seq, n_vocab)\n",
    "    \"\"\"\n",
    "    # loss 계산\n",
    "    loss = tf.keras.losses.SparseCategoricalCrossentropy(\n",
    "        reduction=tf.keras.losses.Reduction.NONE)(y_true, y_pred)\n",
    "    \n",
    "    # pad(0) 인 부분 mask\n",
    "    mask = tf.cast(tf.math.not_equal(y_true, 0), dtype=loss.dtype)\n",
    "    loss *= mask\n",
    "    \n",
    "    return loss * 20  # mlm을 더 잘 학습하도록 20배 증가 시킴\n",
    "\n",
    "print(\"✔️\")"
   ]
  },
  {
   "cell_type": "code",
   "execution_count": 143,
   "id": "4ceaf932",
   "metadata": {},
   "outputs": [
    {
     "name": "stdout",
     "output_type": "stream",
     "text": [
      "✔️\n"
     ]
    }
   ],
   "source": [
    "def lm_acc(y_true, y_pred):\n",
    "    \"\"\"\n",
    "    acc 계산 함수\n",
    "        :param y_true: 정답 (bs, n_seq)\n",
    "        :param y_pred: 예측 값 (bs, n_seq, n_vocab)\n",
    "    \"\"\"\n",
    "    # 정답 여부 확인\n",
    "    y_pred_class = tf.cast(K.argmax(y_pred, axis=-1), tf.float32)\n",
    "    matches = tf.cast(K.equal(y_true, y_pred_class), tf.float32)\n",
    "    \n",
    "    # pad(0) 인 부분 mask\n",
    "    mask = tf.cast(tf.math.not_equal(y_true, 0), dtype=matches.dtype)\n",
    "    matches *= mask\n",
    "    \n",
    "    # 정확도 계산\n",
    "    accuracy = K.sum(matches) / K.maximum(K.sum(mask), 1)\n",
    "    \n",
    "    return accuracy\n",
    "\n",
    "print(\"✔️\")"
   ]
  },
  {
   "cell_type": "markdown",
   "id": "efda8a38",
   "metadata": {},
   "source": [
    "Learning Rate 스케줄링은 WarmUp 이후 consine 형태로 감소하는 스케줄을 적용한다."
   ]
  },
  {
   "cell_type": "markdown",
   "id": "bc9ba004",
   "metadata": {},
   "source": [
    "▶ Learning Rate Schedule"
   ]
  },
  {
   "cell_type": "code",
   "execution_count": 144,
   "id": "6d7a9562",
   "metadata": {},
   "outputs": [
    {
     "name": "stdout",
     "output_type": "stream",
     "text": [
      "✔️\n"
     ]
    }
   ],
   "source": [
    "class CosineSchedule(tf.keras.optimizers.schedules.LearningRateSchedule):\n",
    "    \"\"\"\n",
    "    CosineSchedule Class\n",
    "    \"\"\"\n",
    "    def __init__(self, train_steps=4000, warmup_steps=2000, max_lr=2.5e-4):\n",
    "        \"\"\"\n",
    "        생성자\n",
    "            :param train_steps: 학습 step 총 합\n",
    "            :param warmup_steps: warmup steps\n",
    "            :param max_lr: 최대 learning rate\n",
    "        \"\"\"\n",
    "        super().__init__()\n",
    "\n",
    "        assert 0 < warmup_steps < train_steps\n",
    "        self.warmup_steps = warmup_steps\n",
    "        self.train_steps = train_steps\n",
    "        self.max_lr = max_lr\n",
    "\n",
    "    def __call__(self, step_num):\n",
    "        \"\"\"\n",
    "        learning rate 계산\n",
    "            :param step_num: 현재 step number\n",
    "            :retrun: 계산된 learning rate\n",
    "        \"\"\"\n",
    "        state = tf.cast(step_num <= self.warmup_steps, tf.float32)\n",
    "        lr1 = tf.cast(step_num, tf.float32) / self.warmup_steps\n",
    "        progress = tf.cast(step_num - self.warmup_steps, tf.float32) / max(1, self.train_steps - self.warmup_steps)\n",
    "        lr2 = 0.5 * (1.0 + tf.math.cos(math.pi * progress))\n",
    "        \n",
    "        return (state * lr1 + (1 - state) * lr2) * self.max_lr\n",
    "    \n",
    "print(\"✔️\")"
   ]
  },
  {
   "cell_type": "markdown",
   "id": "273a6f87",
   "metadata": {},
   "source": [
    "Learning Rate schedule 시각화를 통해 확인해보자."
   ]
  },
  {
   "cell_type": "code",
   "execution_count": 145,
   "id": "d0db8364",
   "metadata": {},
   "outputs": [
    {
     "data": {
      "image/png": "[encoded data removed]",
      "text/plain": [
       "<Figure size 432x288 with 1 Axes>"
      ]
     },
     "metadata": {
      "needs_background": "light"
     },
     "output_type": "display_data"
    }
   ],
   "source": [
    "# compute lr \n",
    "test_schedule = CosineSchedule(train_steps=4000, warmup_steps=500)\n",
    "lrs = []\n",
    "for step_num in range(4000):\n",
    "    lrs.append(test_schedule(float(step_num)).numpy())\n",
    "\n",
    "# draw\n",
    "plt.plot(lrs, 'r-', label='learning_rate')\n",
    "plt.xlabel('Step')\n",
    "plt.show()"
   ]
  },
  {
   "cell_type": "markdown",
   "id": "e8ae00ca",
   "metadata": {},
   "source": [
    "> ✔️ loss, accuracy 함수를 정의하고 Learning Rate 스케쥴링을 구현한 후,\n",
    ">\n",
    "> 10 Epoch까지 모델 학습을 시켜보세요. 학습을 진행할 때는 배치 사이즈에 유의하세요.\n"
   ]
  },
  {
   "cell_type": "code",
   "execution_count": 146,
   "id": "9cea1618",
   "metadata": {
    "scrolled": false
   },
   "outputs": [
    {
     "name": "stdout",
     "output_type": "stream",
     "text": [
      "Model: \"model_11\"\n",
      "__________________________________________________________________________________________________\n",
      "Layer (type)                    Output Shape         Param #     Connected to                     \n",
      "==================================================================================================\n",
      "enc_tokens (InputLayer)         [(None, None)]       0                                            \n",
      "__________________________________________________________________________________________________\n",
      "segments (InputLayer)           [(None, None)]       0                                            \n",
      "__________________________________________________________________________________________________\n",
      "bert (BERT)                     ((None, 128), (None, 1454720     enc_tokens[0][0]                 \n",
      "                                                                 segments[0][0]                   \n",
      "__________________________________________________________________________________________________\n",
      "pooled_nsp (PooledOutput)       (None, 2)            16768       bert[0][0]                       \n",
      "__________________________________________________________________________________________________\n",
      "nsp (Softmax)                   (None, 2)            0           pooled_nsp[0][0]                 \n",
      "__________________________________________________________________________________________________\n",
      "mlm (Softmax)                   (None, None, 8007)   0           bert[0][1]                       \n",
      "==================================================================================================\n",
      "Total params: 1,471,488\n",
      "Trainable params: 1,471,488\n",
      "Non-trainable params: 0\n",
      "__________________________________________________________________________________________________\n"
     ]
    }
   ],
   "source": [
    "# 모델 생성\n",
    "pre_train_model = build_model_pre_train(config)\n",
    "pre_train_model.summary()"
   ]
  },
  {
   "cell_type": "markdown",
   "id": "19154d28",
   "metadata": {},
   "source": [
    "모델을 줄여서, 약 1M 크기에 맞추도록 하였다."
   ]
  },
  {
   "cell_type": "markdown",
   "id": "70abb569",
   "metadata": {},
   "source": [
    "이제 본격적으로 학습을 진행한다.\n",
    "\n",
    "optimizer는 Adam을 사용하고, 학습시 MLM과 NSP에 대한 loss와 accuracy를 측정한다."
   ]
  },
  {
   "cell_type": "code",
   "execution_count": 149,
   "id": "a619b1c3",
   "metadata": {},
   "outputs": [
    {
     "name": "stdout",
     "output_type": "stream",
     "text": [
      "train_steps: 40000\n"
     ]
    }
   ],
   "source": [
    "# epochs = 2\n",
    "# batch_size = 64\n",
    "epochs = 10\n",
    "batch_size = 32\n",
    "\n",
    "# optimizer\n",
    "train_steps = math.ceil(len(pre_train_inputs[0]) / batch_size) * epochs\n",
    "print(\"train_steps:\", train_steps)\n",
    "learning_rate = CosineSchedule(train_steps=train_steps, warmup_steps=max(100, train_steps // 10))\n",
    "optimizer = tf.keras.optimizers.Adam(learning_rate, beta_1=0.9, beta_2=0.98, epsilon=1e-9)\n",
    "\n",
    "# compile\n",
    "pre_train_model.compile(\n",
    "    loss=(tf.keras.losses.sparse_categorical_crossentropy, lm_loss), \n",
    "    optimizer=optimizer, \n",
    "    metrics={\"nsp\": \"acc\", \"mlm\": lm_acc})\n"
   ]
  },
  {
   "cell_type": "markdown",
   "id": "89a0de91",
   "metadata": {},
   "source": [
    "시각화를 위해 모델 학습시 훈련지표 측정치를 콜백 함수를 사용해 저장한다."
   ]
  },
  {
   "cell_type": "code",
   "execution_count": 150,
   "id": "7245a6f4",
   "metadata": {},
   "outputs": [
    {
     "name": "stdout",
     "output_type": "stream",
     "text": [
      "Epoch 1/10\n",
      "4000/4000 [==============================] - 152s 38ms/step - loss: 19.3966 - nsp_loss: 0.6589 - mlm_loss: 18.7377 - nsp_acc: 0.5810 - mlm_lm_acc: 0.0591\n",
      "\n",
      "Epoch 00001: mlm_lm_acc improved from -inf to 0.05906, saving model to /aiffel/aiffel/bert_pre_train.hdf5\n",
      "Epoch 2/10\n",
      "4000/4000 [==============================] - 150s 38ms/step - loss: 18.0389 - nsp_loss: 0.6327 - mlm_loss: 17.4062 - nsp_acc: 0.6109 - mlm_lm_acc: 0.1181\n",
      "\n",
      "Epoch 00002: mlm_lm_acc improved from 0.05906 to 0.11813, saving model to /aiffel/aiffel/bert_pre_train.hdf5\n",
      "Epoch 3/10\n",
      "4000/4000 [==============================] - 150s 38ms/step - loss: 17.4870 - nsp_loss: 0.6220 - mlm_loss: 16.8650 - nsp_acc: 0.6212 - mlm_lm_acc: 0.1280\n",
      "\n",
      "Epoch 00003: mlm_lm_acc improved from 0.11813 to 0.12796, saving model to /aiffel/aiffel/bert_pre_train.hdf5\n",
      "Epoch 4/10\n",
      "4000/4000 [==============================] - 150s 38ms/step - loss: 17.2204 - nsp_loss: 0.6158 - mlm_loss: 16.6047 - nsp_acc: 0.6315 - mlm_lm_acc: 0.1314\n",
      "\n",
      "Epoch 00004: mlm_lm_acc improved from 0.12796 to 0.13136, saving model to /aiffel/aiffel/bert_pre_train.hdf5\n",
      "Epoch 5/10\n",
      "4000/4000 [==============================] - 150s 38ms/step - loss: 17.0000 - nsp_loss: 0.6126 - mlm_loss: 16.3874 - nsp_acc: 0.6380 - mlm_lm_acc: 0.1343\n",
      "\n",
      "Epoch 00005: mlm_lm_acc improved from 0.13136 to 0.13426, saving model to /aiffel/aiffel/bert_pre_train.hdf5\n",
      "Epoch 6/10\n",
      "4000/4000 [==============================] - 150s 38ms/step - loss: 16.7760 - nsp_loss: 0.6114 - mlm_loss: 16.1647 - nsp_acc: 0.6398 - mlm_lm_acc: 0.1371\n",
      "\n",
      "Epoch 00006: mlm_lm_acc improved from 0.13426 to 0.13712, saving model to /aiffel/aiffel/bert_pre_train.hdf5\n",
      "Epoch 7/10\n",
      "4000/4000 [==============================] - 150s 38ms/step - loss: 16.5499 - nsp_loss: 0.6108 - mlm_loss: 15.9391 - nsp_acc: 0.6443 - mlm_lm_acc: 0.1403\n",
      "\n",
      "Epoch 00007: mlm_lm_acc improved from 0.13712 to 0.14027, saving model to /aiffel/aiffel/bert_pre_train.hdf5\n",
      "Epoch 8/10\n",
      "4000/4000 [==============================] - 150s 38ms/step - loss: 16.3556 - nsp_loss: 0.6096 - mlm_loss: 15.7461 - nsp_acc: 0.6471 - mlm_lm_acc: 0.1430\n",
      "\n",
      "Epoch 00008: mlm_lm_acc improved from 0.14027 to 0.14296, saving model to /aiffel/aiffel/bert_pre_train.hdf5\n",
      "Epoch 9/10\n",
      "4000/4000 [==============================] - 150s 38ms/step - loss: 16.2250 - nsp_loss: 0.6089 - mlm_loss: 15.6161 - nsp_acc: 0.6481 - mlm_lm_acc: 0.1451\n",
      "\n",
      "Epoch 00009: mlm_lm_acc improved from 0.14296 to 0.14510, saving model to /aiffel/aiffel/bert_pre_train.hdf5\n",
      "Epoch 10/10\n",
      "4000/4000 [==============================] - 150s 38ms/step - loss: 16.1681 - nsp_loss: 0.6076 - mlm_loss: 15.5605 - nsp_acc: 0.6514 - mlm_lm_acc: 0.1459\n",
      "\n",
      "Epoch 00010: mlm_lm_acc improved from 0.14510 to 0.14586, saving model to /aiffel/aiffel/bert_pre_train.hdf5\n"
     ]
    }
   ],
   "source": [
    "# save weights callback\n",
    "save_weights = tf.keras.callbacks.ModelCheckpoint(\n",
    "    f\"{model_dir}/bert_pre_train.hdf5\", \n",
    "    monitor=\"mlm_lm_acc\", \n",
    "    verbose=1, \n",
    "    save_best_only=True, \n",
    "    mode=\"max\", \n",
    "    save_freq=\"epoch\", \n",
    "    save_weights_only=True)\n",
    "\n",
    "# train\n",
    "history = pre_train_model.fit(\n",
    "    pre_train_inputs, \n",
    "    pre_train_labels, \n",
    "    epochs=epochs, \n",
    "    batch_size=batch_size, \n",
    "    callbacks=[save_weights])"
   ]
  },
  {
   "cell_type": "markdown",
   "id": "6bc57ea4",
   "metadata": {},
   "source": [
    "> ✔️ loss, accuracy 함수를 정의하고 Learning Rate 스케쥴링을 구현한 후, \n",
    ">\n",
    "> ✔️ 10 Epoch까지 모델 학습을 시켜보세요. 학습을 진행할 때는 배치 사이즈에 유의하세요.\n"
   ]
  },
  {
   "cell_type": "markdown",
   "id": "e91fbacb",
   "metadata": {},
   "source": [
    "&nbsp;"
   ]
  },
  {
   "cell_type": "markdown",
   "id": "a9dc7334",
   "metadata": {},
   "source": [
    "### 7. 프로젝트 결과\n",
    "\n",
    "<hr>"
   ]
  },
  {
   "cell_type": "markdown",
   "id": "9b5e5719",
   "metadata": {},
   "source": [
    "> 학습된 모델과 학습과정을 시각화해 보세요. \n",
    "> \n",
    "> NSP와 MLM의 loss가 안정적으로 수렴하나요? 모델이 작기 때문에 loss가 잘 수렴하지 않을 수도 있어요.\n",
    "\n"
   ]
  },
  {
   "cell_type": "markdown",
   "id": "a6d05322",
   "metadata": {},
   "source": [
    "우리말 Wiki 말뭉치 자료의 일부를 사용하여, mini BERT 모델을 만들고 pretrain 하였다.\n",
    "\n",
    "단어사전 8000 개를 사용하였으며, (특수토큰 포함 8007개), 모델의 크기는 4.4M → 30M → 1M 규모로 조정하였다. (최종 1.47M)\n",
    "\n",
    "모델의 하이퍼파라메터는 아래와 같다.\n",
    "\n",
    "\n",
    "~~~\n",
    "{'d_model': 128,\n",
    " 'n_head': 4,\n",
    " 'd_head': 32,\n",
    " 'dropout': 0.2,\n",
    " 'd_ff': 512,\n",
    " 'layernorm_epsilon': 0.001,\n",
    " 'n_layer': 2,\n",
    " 'n_seq': 256,\n",
    " 'n_vocab': 8007,\n",
    " 'i_pad': 0}\n",
    "~~~ \n",
    "\n",
    "batch_size = 32, epochs = 10 지정하여, 10 epoch 까지 훈련을 진행해보았다.\n",
    "\n"
   ]
  },
  {
   "cell_type": "markdown",
   "id": "8e403ac0",
   "metadata": {},
   "source": [
    "훈련시에 기록해 둔 훈련지표 4개 항목을 시각화 하면 아래와 같다."
   ]
  },
  {
   "cell_type": "code",
   "execution_count": 153,
   "id": "f22add76",
   "metadata": {
    "scrolled": false
   },
   "outputs": [
    {
     "data": {
      "image/png": "[encoded data removed]",
      "text/plain": [
       "<Figure size 1080x720 with 4 Axes>"
      ]
     },
     "metadata": {
      "needs_background": "light"
     },
     "output_type": "display_data"
    }
   ],
   "source": [
    "# training result\n",
    "plt.figure(figsize=(15, 10))\n",
    "\n",
    "plt.subplot(2, 2, 1)\n",
    "plt.plot(history.history['nsp_loss'], 'b-', label='nsp_loss')\n",
    "plt.xlabel('Epoch')\n",
    "plt.legend()\n",
    "\n",
    "plt.subplot(2, 2, 2)\n",
    "plt.plot(history.history['nsp_acc'], 'g-', label='nsp_acc')\n",
    "plt.xlabel('Epoch')\n",
    "plt.legend()\n",
    "\n",
    "plt.subplot(2, 2, 3)\n",
    "plt.plot(history.history['mlm_loss'], 'r--', label='mlm_loss')\n",
    "plt.xlabel('Epoch')\n",
    "plt.legend()\n",
    "\n",
    "plt.subplot(2, 2, 4)\n",
    "plt.plot(history.history['mlm_lm_acc'], 'k--', label='mlm_acc')\n",
    "plt.xlabel('Epoch')\n",
    "plt.legend()\n",
    "\n",
    "plt.show()"
   ]
  },
  {
   "cell_type": "markdown",
   "id": "46786809",
   "metadata": {},
   "source": [
    "훈련 기록에서, NSP, NLM 손실 및 정확도 모두 안정적인 방향을 향해가고 있는 기록을 확인 가능하다."
   ]
  },
  {
   "cell_type": "markdown",
   "id": "a1f6582f",
   "metadata": {},
   "source": [
    "> ✔️ 학습된 모델과 학습과정을 시각화해 보세요.\n",
    "> \n",
    "> ✔️ NSP와 MLM의 loss가 안정적으로 수렴하나요? 모델이 작기 때문에 loss가 잘 수렴하지 않을 수도 있어요.\n",
    "\n"
   ]
  },
  {
   "cell_type": "markdown",
   "id": "c3152817",
   "metadata": {},
   "source": [
    "&nbsp;"
   ]
  },
  {
   "cell_type": "markdown",
   "id": "ab602bd8",
   "metadata": {},
   "source": [
    "<hr>"
   ]
  },
  {
   "cell_type": "markdown",
   "id": "e2756ebe",
   "metadata": {},
   "source": [
    "### ■ 프로젝트 회고"
   ]
  },
  {
   "cell_type": "markdown",
   "id": "a11d33dc",
   "metadata": {},
   "source": [
    "#### 1) 이번 프로젝트에서 '어려웠던 점'"
   ]
  },
  {
   "cell_type": "markdown",
   "id": "0ae87a30",
   "metadata": {},
   "source": [
    "프로젝트 진행 과정에서는, 노드의 설명과 예시 코드가 과정에 맞게 매우 체계적으로 정리가 되어있어서\n",
    "\n",
    "노드 외에 외부 자료등을 전혀 참고할 필요가 없을 정도로, 필요한 내용과 설명이 총정리 되어 있었다.\n",
    "\n",
    "예시 코드의 퀄리티도 높아서, 솔직히 스텝 하나하나 넘어갈 때 마다 감탄을 하며 보았다.\n",
    "\n",
    "어려운 점은 나의 내부에 있는 지능 문제 뿐이다.\n",
    "\n",
    "MASK, NSP Pair 부분부터 집중이 잘 안되서 세부 구현까지는 깊게 파악하지 못했다.\n",
    "\n",
    "전반적으로 이번 프로젝트를 진행하면서, 나의 여태 밀린 프로젝트나 커리큘럼 생각에 집중하질 못한 것 같다.\n",
    "\n",
    "그저 BERT 모델 포함, 큰 틀에서 어떤 구조인지 무슨 기능을 하는지 정도만 훑어 본 정도인데,\n",
    "\n",
    "이런 나같은 사람도, 프로젝트 완성에서 소소하게 어려웠던 부분은 조금 있어도, 크게 막힌 부분은 없었다."
   ]
  },
  {
   "cell_type": "markdown",
   "id": "bd9f1949",
   "metadata": {},
   "source": [
    "#### 2) 프로젝트를 진행하면서 본인이 '학습한 내용'"
   ]
  },
  {
   "cell_type": "markdown",
   "id": "625f34e6",
   "metadata": {},
   "source": [
    "BERT 개념에 대해서 바로 이전 Lecture-node-13 에서 봤던 내용들을,\n",
    "\n",
    "실제로 코드와 데이터를 출력해보며, 각 요소들의 기능과 의미에 대해 학습했다.\n",
    "\n",
    "무작위로 단어의 일부를 가리고 모델이 예측하도록 한다는 개념이 처음엔 뭔소린가 했는데,\n",
    "\n",
    "그 과정을 데이터셋 준비를 하나하나 진행하면서 학습했던 내용을 실습해 보았다.\n",
    "\n",
    "나중에 참고하기에 좋은 자료가 될 것 같아서,\n",
    "\n",
    "학습 및 프로젝트 진행 과정에서, 코드블록 안팎으로 주석이나 마크다운등을 기록하며,\n",
    "\n",
    "아직 절반도 이해 못 했지만, 그간 이해한 내용들을 기록도 해 두었다.\n",
    "\n",
    "다시 BERT 모델을 다루게 될 때에, 이 프로젝트와 내용들을 차근차근 보며 기억을 떠올릴 계획이다."
   ]
  },
  {
   "cell_type": "markdown",
   "id": "e8f76d86",
   "metadata": {},
   "source": [
    "#### 3) 프로젝트를 진행하면서 '알아낸 점' 혹은 '아직 모호한 점'"
   ]
  },
  {
   "cell_type": "markdown",
   "id": "aec289e7",
   "metadata": {},
   "source": [
    "MLM. NSP. Embedding 3총사 (Token＋Segment＋Position) → BERT Embedding,\n",
    "\n",
    "Transformer 의 Encoder 사용. GELU 함수 …등의 대략적인 내용을 살펴 보았던 것이 기억이 나고\n",
    "\n",
    "어떤 역할을 하는지 어렴풋이 알 수 있다. 하지만 두가지 정도가 궁금한데,\n",
    "\n",
    "어디에도 명확한 답을 찾지 못했던 것은, 이 모델이 bi-directional 한데 왜 그렇지 못한 GPT 보다\n",
    "\n",
    "성능이 뛰어나다는 이야길 듣지 못하는지가 궁금한 점이라는 것인데, 이건 뭐 전혀 급한건 아니라 넘어갈 수 있다.\n",
    "\n",
    "프로젝트를 진행하면서 훈련과정에서 상당한 압박을 느꼈었는데,\n",
    "\n",
    "유독 훈련 시간이 상당히 긴것이 아닌가 하는 점이다.\n",
    "\n",
    "어떤 이유에서인지 고작 1M 파라메터에, 물론 데이터가 많아서 그럴 수 있다는 점도 이해하는데\n",
    "\n",
    "정수인코딩이 끝난 와중에, 이 정도 규모가 시간이 이렇게 많이 걸릴 줄 이야…\n",
    "\n",
    "계속해서 모델을 줄이고 데이터셋의 크기도 줄였는데, 그럼에도 시간이 많이 걸린 것 같다.\n",
    "\n",
    "GPT는 아직 경험을 못 해 봤지만, BERT 도 데이터가 제법 크다면 감당하기 힘들 것 같은데\n",
    "\n",
    "이 프로젝트에서는 심지어 `np.memmap` 까지 사용했다는 점을 생각해보면, 다른 모델들 대비\n",
    "\n",
    "이 모델을 선택한다고 생각하면, 상당히 부담스럽다는 말이 머릿속에서 떠올랐다.\n",
    "\n",
    "(이렇게 까지 신경썼는데 이 정도 속도라고？ …의 느낌이다.)\n",
    "\n",
    "훈련을 진행하는 와중에도 몇번이고 고개가 자동적으로 절레절레 …\n",
    "\n",
    "취소하고 데이터셋과 모델도 줄여가며 어느정도 내려놓았는데, 뭔가 좀 섭섭한 느낌이다.\n",
    "\n",
    "트랜스포머의 인코더만 쓰고 양방향에, 모델도 간결하고 뭔가 속도와 성능 다 잡았을 거 같은 소개와 달리\n",
    "\n",
    "이정도의 훈련을 하는게 값어치가 있을까 하는 생각만 남는다.\n",
    "\n",
    "아니, 지금생각해보면, 음… 혹시 프로젝트에서 pretrain 이후 이것을 어떤 task 에 실제로 써보면서\n",
    "\n",
    "다른 모델들과 비교하는 과정이 있었더라면 어땠을까 하는 아쉬움이 남는다."
   ]
  },
  {
   "cell_type": "markdown",
   "id": "055ac3a9",
   "metadata": {},
   "source": [
    "#### 4) 루브릭 평가 지표를 맞추기 위해 '시도한 것들'"
   ]
  },
  {
   "cell_type": "markdown",
   "id": "335d539d",
   "metadata": {},
   "source": [
    "이번만큼 진짜 내용에 충실했던 노드가 없었던 것 같다.\n",
    "\n",
    "처음이자 마지막, 시작과 끝 그 자체였다.\n",
    "\n",
    "특별히 다른 시도가 필요치 않았다."
   ]
  },
  {
   "cell_type": "markdown",
   "id": "f684873e",
   "metadata": {},
   "source": [
    "#### 5) 만약에 '루브릭 평가 지표를 달성하지 못했을 때, 이유에 관한 추정'"
   ]
  },
  {
   "cell_type": "markdown",
   "id": "59d9c537",
   "metadata": {},
   "source": [
    "마찬가지로 이정도로 아예 진행을 하지 않는 이상에야… \n",
    "\n",
    "조금 부지런해진다면, 어지간해선 루브릭 달성이 가능했던 프로젝트가 지금까지 있었을까？\n",
    "\n",
    "그만큼 이번 프로젝트는 정말 마음만 먹으면 가능한, 괜찮은 기회라고 생각한다.\n",
    "\n",
    "이번것을 달성하지 못했다면, 아마 어떤 큰 다른 일의 영향으로 프로젝트에 전혀 손을 못댔을 경우가 아닐까."
   ]
  },
  {
   "cell_type": "markdown",
   "id": "fdb9abf2",
   "metadata": {},
   "source": [
    "#### 6) 자기 다짐"
   ]
  },
  {
   "cell_type": "markdown",
   "id": "f5ffce33",
   "metadata": {},
   "source": [
    "이번 프로젝트는 정말, 부족한 부분을 찾기 힘든 프로젝트 가이드와\n",
    "\n",
    "내용 이해를 돕는 코드 샘플의 정수를 보여준게 아닌가 생각한다.\n",
    "\n",
    "내 코드는 이모양인데, 여기 이 코드들은… 이렇게 까지 코드 퀄리티가 차이 날 수 있나…？\n",
    "\n",
    "심한 박탈감이 느껴질 정도였고, 몇번을 감탄했었다. 나 진짜, 열심히 해야겠다.\n",
    "\n"
   ]
  },
  {
   "cell_type": "markdown",
   "id": "ab5eb2a2",
   "metadata": {},
   "source": [
    "<hr>"
   ]
  },
  {
   "cell_type": "markdown",
   "id": "f5fdd9b1",
   "metadata": {},
   "source": [
    "### ◎ Reference"
   ]
  },
  {
   "cell_type": "markdown",
   "id": "20c6d194",
   "metadata": {},
   "source": [
    "- (AIFFEL) Going Deeper Node 13. modern NLP의 흐름에 올라타보자\n",
    "\n",
    "\n",
    "- (AIFFEL) Going Deeper Node 14. BERT pretrained model 제작"
   ]
  },
  {
   "cell_type": "markdown",
   "id": "2c508139",
   "metadata": {},
   "source": [
    "<hr>"
   ]
  },
  {
   "cell_type": "code",
   "execution_count": null,
   "id": "849f6944",
   "metadata": {},
   "outputs": [],
   "source": []
  }
 ],
 "metadata": {
  "kernelspec": {
   "display_name": "Python 3 (ipykernel)",
   "language": "python",
   "name": "python3"
  },
  "language_info": {
   "codemirror_mode": {
    "name": "ipython",
    "version": 3
   },
   "file_extension": ".py",
   "mimetype": "text/x-python",
   "name": "python",
   "nbconvert_exporter": "python",
   "pygments_lexer": "ipython3",
   "version": "3.9.7"
  }
 },
 "nbformat": 4,
 "nbformat_minor": 5
}
