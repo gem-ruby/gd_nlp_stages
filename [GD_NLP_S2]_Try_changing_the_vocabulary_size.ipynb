{
 "cells": [
  {
   "cell_type": "markdown",
   "id": "e5ba935f",
   "metadata": {},
   "source": [
    "# Project：Try changing the vocabulary size"
   ]
  },
  {
   "cell_type": "markdown",
   "id": "b4ca8e3a",
   "metadata": {},
   "source": [
    "&nbsp;"
   ]
  },
  {
   "cell_type": "markdown",
   "id": "7bf47d98",
   "metadata": {},
   "source": [
    "&nbsp;"
   ]
  },
  {
   "cell_type": "markdown",
   "id": "d995e22f",
   "metadata": {},
   "source": [
    "## 1. 라이브러리／데이터 준비\n"
   ]
  },
  {
   "cell_type": "markdown",
   "id": "bfdc4d87",
   "metadata": {},
   "source": [
    "사용할 데이터는 로이터 뉴스 데이터이다.\n",
    "\n",
    "이 데이터는 총 46개의 클래스로 구성되며, 해당 뉴스가 어느 카테고리에 속하는지를 예측하기 위한 데이터이다.\n",
    "\n",
    "텐서플로우 데이터셋에서 제공하고 있는 데이터로 쉽게 다운로드가 가능하다."
   ]
  },
  {
   "cell_type": "code",
   "execution_count": 1,
   "id": "4821e789",
   "metadata": {},
   "outputs": [
    {
     "name": "stdout",
     "output_type": "stream",
     "text": [
      "2.6.0\n",
      "3.4.3\n",
      "0.11.2\n",
      "1.21.4\n",
      "1.3.3\n",
      "1.0\n",
      "✔️\n"
     ]
    }
   ],
   "source": [
    "## 라이브러리\n",
    "import matplotlib\n",
    "import matplotlib.pyplot as plt\n",
    "import numpy as np\n",
    "import pandas as pd\n",
    "import seaborn as sns\n",
    "import sklearn\n",
    "import tensorflow as tf\n",
    "\n",
    "\n",
    "print(tf.__version__)\n",
    "print(matplotlib.__version__)\n",
    "print(sns.__version__)\n",
    "print(np.__version__)\n",
    "print(pd.__version__)\n",
    "print(sklearn.__version__)\n",
    "\n",
    "\n",
    "## 로이터 뉴스 데이터\n",
    "from tensorflow.keras.datasets import reuters\n",
    "\n",
    "\n",
    "## 벡터화\n",
    "from sklearn.feature_extraction.text import CountVectorizer\n",
    "from sklearn.feature_extraction.text import TfidfTransformer\n",
    "\n",
    "\n",
    "## 머신러닝 모델\n",
    "from sklearn.naive_bayes import MultinomialNB    ##다항분포 나이브 베이즈 모델\n",
    "from sklearn.linear_model import LogisticRegression, SGDClassifier\n",
    "from sklearn.naive_bayes import ComplementNB\n",
    "from sklearn.tree import DecisionTreeClassifier\n",
    "from sklearn.ensemble import RandomForestClassifier\n",
    "from sklearn.ensemble import GradientBoostingClassifier\n",
    "from sklearn.ensemble import VotingClassifier\n",
    "from sklearn.svm import LinearSVC\n",
    "from sklearn.metrics import accuracy_score ## 정확도 계산\n",
    "\n",
    "\n",
    "## F1-Score, Confusion Matrix\n",
    "from sklearn.metrics import classification_report\n",
    "from sklearn.metrics import confusion_matrix\n",
    "\n",
    "\n",
    "print(\"✔️\")"
   ]
  },
  {
   "cell_type": "markdown",
   "id": "5235caa0",
   "metadata": {},
   "source": [
    "&nbsp;"
   ]
  },
  {
   "cell_type": "markdown",
   "id": "a275ee82",
   "metadata": {},
   "source": [
    "### 훈련 데이터와 테스트 데이터 로드하기\n",
    "\n",
    "---\n",
    "\n",
    "텐서플로우 데이터셋으로부터 로이터 뉴스 데이터를 받아오는 함수를 만들도록 하겠다."
   ]
  },
  {
   "cell_type": "code",
   "execution_count": 2,
   "id": "5485da97",
   "metadata": {},
   "outputs": [],
   "source": [
    "def load_reuters(num_words=None, test_split=0.25):\n",
    "    \n",
    "    (x_train, y_train), (x_test, y_test) = reuters.load_data(num_words=num_words, test_split=test_split)\n",
    "    \n",
    "    return x_train, y_train, x_test, y_test\n"
   ]
  },
  {
   "cell_type": "markdown",
   "id": "62684fe0",
   "metadata": {},
   "source": [
    "load_reuters 함수에서는 2개의 매개변수를 사용할 수 있다.\n",
    "\n",
    "- num_words：이 데이터에서 빈도수 기준으로 상위 몇 번째 단어까지 사용할 것인지 조정.<br>\n",
    "각단어는 고유한 번호가 정해져 있는 상태이고, 이를 통해서 사용할 단어의 수를 정함.\n",
    "\n",
    "\n",
    "- test_split：전체 데이터중에서 몇 ％를 테스트 데이터로 사용할지의 의미.<br>\n",
    "예> test_split=0.2 → 전체데이터에서 80％를 훈련데이터로, 20％를 테스트데이터로 사용."
   ]
  },
  {
   "cell_type": "code",
   "execution_count": 3,
   "id": "24e47195",
   "metadata": {},
   "outputs": [],
   "source": [
    "sample_x_train, sample_y_train, sample_x_test, sample_y_test = load_reuters(num_words=10000, test_split=0.2)"
   ]
  },
  {
   "cell_type": "code",
   "execution_count": 4,
   "id": "f0774328",
   "metadata": {
    "scrolled": false
   },
   "outputs": [
    {
     "name": "stdout",
     "output_type": "stream",
     "text": [
      "훈련 샘플의 수: 8982\n",
      "테스트 샘플의 수: 2246\n",
      "클래스의 수 : 46\n"
     ]
    }
   ],
   "source": [
    "print('훈련 샘플의 수: {}'.format(len(sample_x_train)))\n",
    "print('테스트 샘플의 수: {}'.format(len(sample_x_test)))\n",
    "\n",
    "num_classes = max(sample_y_train) + 1\n",
    "print('클래스의 수 : {}'.format(num_classes))"
   ]
  },
  {
   "cell_type": "markdown",
   "id": "88097a6e",
   "metadata": {},
   "source": [
    "&nbsp;"
   ]
  },
  {
   "cell_type": "markdown",
   "id": "43f3cc4c",
   "metadata": {},
   "source": [
    "### 데이터 분포 확인하기\n",
    "\n",
    "<hr>\n",
    "\n"
   ]
  },
  {
   "cell_type": "code",
   "execution_count": 5,
   "id": "007f8765",
   "metadata": {
    "scrolled": false
   },
   "outputs": [
    {
     "name": "stdout",
     "output_type": "stream",
     "text": [
      "훈련용 뉴스의 최대 길이 :2376\n",
      "훈련용 뉴스의 평균 길이 :145.5398574927633\n"
     ]
    },
    {
     "data": {
      "image/png": "[encoded data removed]",
      "text/plain": [
       "<Figure size 432x288 with 1 Axes>"
      ]
     },
     "metadata": {
      "needs_background": "light"
     },
     "output_type": "display_data"
    }
   ],
   "source": [
    "print(\"훈련용 뉴스의 최대 길이 :{}\".format(max(len(l) for l in sample_x_train)))\n",
    "print(\"훈련용 뉴스의 평균 길이 :{}\".format(sum(map(len, sample_x_train))/len(sample_x_train)))\n",
    "\n",
    "plt.hist([len(s) for s in sample_x_train], bins=50)\n",
    "plt.xlabel(\"length of samples\")\n",
    "plt.ylabel(\"number of samples\")\n",
    "plt.show()"
   ]
  },
  {
   "cell_type": "markdown",
   "id": "5518e9ee",
   "metadata": {},
   "source": [
    "길이가 가장 긴 뉴스의 길이는 2,376 이고, 평균 길이는 145 임을 확인 할 수 있다."
   ]
  },
  {
   "cell_type": "markdown",
   "id": "bbc54c25",
   "metadata": {},
   "source": [
    "클래스의 분포를 확인해보자."
   ]
  },
  {
   "cell_type": "code",
   "execution_count": 6,
   "id": "3a5d42cb",
   "metadata": {
    "scrolled": true
   },
   "outputs": [
    {
     "data": {
      "image/png": "[encoded data removed]",
      "text/plain": [
       "<Figure size 792x360 with 1 Axes>"
      ]
     },
     "metadata": {
      "needs_background": "light"
     },
     "output_type": "display_data"
    }
   ],
   "source": [
    "fig, axe = plt.subplots(ncols = 1)\n",
    "fig.set_size_inches(11,5)\n",
    "sns.countplot(x = sample_y_train)\n",
    "plt.show()"
   ]
  },
  {
   "cell_type": "markdown",
   "id": "05bc361f",
   "metadata": {},
   "source": [
    "대부분의 뉴스 데이터는 3번, 4번 클래스가 차지하고 있다.\n",
    "\n",
    "수치적으로 정확히 몇 개인지 출력해보자."
   ]
  },
  {
   "cell_type": "code",
   "execution_count": 7,
   "id": "384459df",
   "metadata": {
    "scrolled": true
   },
   "outputs": [
    {
     "name": "stdout",
     "output_type": "stream",
     "text": [
      "각 클래스 빈도수:\n",
      "[[   0    1    2    3    4    5    6    7    8    9   10   11   12   13\n",
      "    14   15   16   17   18   19   20   21   22   23   24   25   26   27\n",
      "    28   29   30   31   32   33   34   35   36   37   38   39   40   41\n",
      "    42   43   44   45]\n",
      " [  55  432   74 3159 1949   17   48   16  139  101  124  390   49  172\n",
      "    26   20  444   39   66  549  269  100   15   41   62   92   24   15\n",
      "    48   19   45   39   32   11   50   10   49   19   19   24   36   30\n",
      "    13   21   12   18]]\n"
     ]
    }
   ],
   "source": [
    "unique_elements, counts_elements = np.unique(sample_y_train, return_counts=True)\n",
    "print(\"각 클래스 빈도수:\")\n",
    "print(np.asarray((unique_elements, counts_elements)))"
   ]
  },
  {
   "cell_type": "markdown",
   "id": "7698edc2",
   "metadata": {},
   "source": [
    "3번 클래스가 3159개, 4번 클래스가 1949개 임을 확인할 수가 있다."
   ]
  },
  {
   "cell_type": "markdown",
   "id": "7682991a",
   "metadata": {},
   "source": [
    "&nbsp;"
   ]
  },
  {
   "cell_type": "markdown",
   "id": "962722af",
   "metadata": {},
   "source": [
    "### 본 뉴스 데이터로 복원해보기\n",
    "\n",
    "---\n",
    "\n"
   ]
  },
  {
   "cell_type": "markdown",
   "id": "e6b529cd",
   "metadata": {},
   "source": [
    "로이터 뉴스 데이터는 '단어'를 key값으로, 고유한 '정수'를 value로 가지는 dictionary를 제공한다.\n",
    "\n",
    "그것을 단어장(Vocabulary)이라고 할 수 있는데, 먼저 이를 `word_index`로 저장해보면 아래와 같다."
   ]
  },
  {
   "cell_type": "code",
   "execution_count": 8,
   "id": "f4aaf4a6",
   "metadata": {},
   "outputs": [],
   "source": [
    "word_index = reuters.get_word_index(path=\"reuters_word_index.json\")"
   ]
  },
  {
   "cell_type": "markdown",
   "id": "548559da",
   "metadata": {},
   "source": [
    "이제 `word_index` 에 단어를 입력하면 이 단어가 어떤 정수와 맵핑이 되는지를 알 수 있다."
   ]
  },
  {
   "cell_type": "markdown",
   "id": "870b8a8c",
   "metadata": {},
   "source": [
    "하지만, 본 뉴스 데이터로 되돌리는 과정에는 `word_index`보다는 정수로부터 단어를 얻을 수 있는 `index_word`가 필요하다.\n",
    "\n",
    "**로이터 뉴스 데이터에는 word_index에 입력으로 했을 때, 얻는 숫자보다는 +3 을 한 숫자가 원래 고유한 숫자이다.**\n",
    "\n",
    "**`reuters.get_word_index`에는 실제 단어에 맵핑 한 정수에 -3 을 한 정수를 입력해 놓았기 때문이다.**\n",
    "\n",
    "그렇기 때문에 `word_index`에서 `index_word`를 만들 때, 각 정수에 **+3**을 해주어야 한다."
   ]
  },
  {
   "cell_type": "code",
   "execution_count": 9,
   "id": "b54d9fc2",
   "metadata": {},
   "outputs": [],
   "source": [
    "index_to_word = { index+3 : word for word, index in word_index.items() }"
   ]
  },
  {
   "cell_type": "markdown",
   "id": "830c2355",
   "metadata": {},
   "source": [
    "또한, 여기서 0, 1, 2 번째 값은 사실 각각 `<pad>`, `<sos>`, `<unk>`라는 자연어 처리를 위한 특별한 토큰들을 위해 맵핑된 번호이다.\n",
    "\n",
    "그래서 만들어진 `index_to_word`에 추가적으로 아래의 작업을 해주어야 진짜 `index_to_word`가 완성된다."
   ]
  },
  {
   "cell_type": "code",
   "execution_count": 10,
   "id": "0e990d3f",
   "metadata": {},
   "outputs": [],
   "source": [
    "for index, token in enumerate((\"<pad>\", \"<sos>\", \"<unk>\")):\n",
    "    index_to_word[index] = token"
   ]
  },
  {
   "cell_type": "markdown",
   "id": "a81acac9",
   "metadata": {},
   "source": [
    "`index_to_word`를 통해서 훈련용 뉴스 기사를 원래 텍스트로 복원하려면 다음과 같이 사용한다."
   ]
  },
  {
   "cell_type": "code",
   "execution_count": 11,
   "id": "fd9da0d8",
   "metadata": {},
   "outputs": [],
   "source": [
    "def seq2text(index_to_word, input_seq):\n",
    "    print(\" \".join([index_to_word[index] for index in input_seq]))"
   ]
  },
  {
   "cell_type": "code",
   "execution_count": 12,
   "id": "a11c1d8e",
   "metadata": {},
   "outputs": [
    {
     "name": "stdout",
     "output_type": "stream",
     "text": [
      "<sos> <unk> <unk> said as a result of its december acquisition of space co it expects earnings per share in 1987 of 1 15 to 1 30 dlrs per share up from 70 cts in 1986 the company said pretax net should rise to nine to 10 mln dlrs from six mln dlrs in 1986 and rental operation revenues to 19 to 22 mln dlrs from 12 5 mln dlrs it said cash flow per share this year should be 2 50 to three dlrs reuter 3\n"
     ]
    }
   ],
   "source": [
    "seq2text(index_to_word, sample_x_train[0])"
   ]
  },
  {
   "cell_type": "markdown",
   "id": "a44761aa",
   "metadata": {},
   "source": [
    "노드 학습 부분에서 사용한 시퀀스의 경우 원래 텍스트로 복원할 경우 결과는 다음과 같다."
   ]
  },
  {
   "cell_type": "code",
   "execution_count": 13,
   "id": "a848cfb3",
   "metadata": {},
   "outputs": [
    {
     "name": "stdout",
     "output_type": "stream",
     "text": [
      "the transaction is expected to be completed\n"
     ]
    }
   ],
   "source": [
    "seq2text(index_to_word, [4, 587, 23, 133, 6, 30, 515])"
   ]
  },
  {
   "cell_type": "markdown",
   "id": "9ec7c2f4",
   "metadata": {},
   "source": [
    "&nbsp;"
   ]
  },
  {
   "cell_type": "markdown",
   "id": "0ca81541",
   "metadata": {},
   "source": [
    "전체 훈련용 뉴스 데이터와 전체 테스트용 뉴스 데이터를 텍스트 데이터로 변환하는 함수를 만들겠다."
   ]
  },
  {
   "cell_type": "code",
   "execution_count": 14,
   "id": "1bba1d2a",
   "metadata": {},
   "outputs": [],
   "source": [
    "def seq2texts(index_to_word, input_sequences):\n",
    "    decoded = []\n",
    "    for i in range(len(input_sequences)):\n",
    "        t = \" \".join([index_to_word[index] for index in input_sequences[i]])\n",
    "        decoded.append(t)\n",
    "    return decoded"
   ]
  },
  {
   "cell_type": "code",
   "execution_count": 15,
   "id": "5f581d8f",
   "metadata": {
    "scrolled": true
   },
   "outputs": [
    {
     "data": {
      "text/plain": [
       "['<sos> <unk> <unk> said as a result of its december acquisition of space co it expects earnings per share in 1987 of 1 15 to 1 30 dlrs per share up from 70 cts in 1986 the company said pretax net should rise to nine to 10 mln dlrs from six mln dlrs in 1986 and rental operation revenues to 19 to 22 mln dlrs from 12 5 mln dlrs it said cash flow per share this year should be 2 50 to three dlrs reuter 3',\n",
       " '<sos> generale de banque sa lt <unk> br and lt heller overseas corp of chicago have each taken 50 pct stakes in <unk> company sa <unk> factors generale de banque said in a statement it gave no financial details of the transaction sa <unk> <unk> turnover in 1986 was 17 5 billion belgian francs reuter 3']"
      ]
     },
     "execution_count": 15,
     "metadata": {},
     "output_type": "execute_result"
    }
   ],
   "source": [
    "sample_x_train_decoded = seq2texts(index_to_word, sample_x_train)\n",
    "sample_x_train_decoded[:2]"
   ]
  },
  {
   "cell_type": "code",
   "execution_count": 16,
   "id": "65e9fd3f",
   "metadata": {},
   "outputs": [
    {
     "data": {
      "text/plain": [
       "['<sos> the great atlantic and pacific tea co said its three year 345 mln dlr capital program will be be substantially increased to <unk> growth and expansion plans for <unk> inc and <unk> inc over the next two years a and p said the acquisition of <unk> in august 1986 and <unk> in december helped us achieve better than expected results in the fourth quarter ended february 28 its net income from continuing operations jumped 52 6 pct to 20 7 mln dlrs or 55 cts a share in the latest quarter as sales increased 48 3 pct to 1 58 billion dlrs a and p gave no details on the expanded capital program but it did say it completed the first year of the program during 1986 a and p is 52 4 pct owned by lt <unk> <unk> of west germany reuter 3',\n",
       " \"<sos> philippine sugar production in the 1987 88 crop year ending august has been set at 1 6 mln tonnes up from a provisional 1 3 mln tonnes this year sugar regulatory administration <unk> chairman <unk> yulo said yulo told reuters a survey during the current milling season which ends next month showed the 1986 87 estimate would almost certainly be met he said at least 1 2 mln tonnes of the 1987 88 crop would be earmarked for domestic consumption yulo said about 130 000 tonnes would be set aside for the u s sugar quota 150 000 tonnes for strategic reserves and 50 000 tonnes would be sold on the world market he said if the government approved a long standing <unk> recommendation to manufacture ethanol the project would take up another 150 000 tonnes slightly raising the target the government for its own reasons has been delaying approval of the project but we expect it to come through by july yulo said ethanol could make up five pct of gasoline cutting the oil import bill by about 300 mln pesos yulo said three major philippine <unk> were ready to start manufacturing ethanol if the project was approved the ethanol project would result in employment for about 100 000 people sharply reducing those thrown out of work by depressed world sugar prices and a <unk> domestic industry production quotas set for the first time in 1987 88 had been submitted to president corazon aquino i think the president would rather wait <unk> the new congress <unk> after the may elections he said but there is really no need for such quotas we are right now producing just slightly over our own consumption level the producers have never enjoyed such high prices yulo said adding sugar was currently selling locally for 320 pesos per <unk> up from 190 pesos last august yulo said prices were driven up because of speculation following the <unk> bid to control production we are no longer concerned so much with the world market he said adding producers in the <unk> region had learned from their <unk> and diversified into corn and <unk> farming and <unk> production he said diversification into products other than ethanol was also possible within the sugar industry the <unk> long ago <unk> their <unk> yulo said they have 300 sugar mills compared with our 41 but they <unk> many of them and diversified production we want to call this a <unk> <unk> instead of the sugar industry he said sugarcane could be fed to pigs and livestock used for <unk> <unk> or used in room <unk> when you cut sugarcane you don't even have to produce sugar he said yulo said the philippines was lobbying for a renewal of the international sugar agreement which expired in 1984 as a major sugar producer we are urging them to write a new agreement which would revive world prices yulo said if there is no agreement world prices will always be depressed particularly because the european community is <unk> its producers and dumping sugar on the markets he said current world prices holding steady at about 7 60 cents per pound were <unk> for the philippines where production costs ranged from 12 to 14 cents a pound if the price holds steady for a while at 7 60 cents i expect the level to rise to about 11 cents a pound by the end of this year he said yulo said economists forecast a bullish sugar market by 1990 with world consumption <unk> production he said sugar markets were holding up despite <unk> from artificial sweeteners and high fructose corn syrup but we are not happy with the reagan administration he said since <unk> we have been regular suppliers of sugar to the u s in 1982 when they restored the quota system they cut <unk> in half without any justification manila was <unk> watching washington's moves to cut domestic support prices to 12 cents a pound from 18 cents the u s agriculture department last december slashed its 12 month 1987 sugar import quota from the philippines to 143 780 short tons from 231 660 short tons in 1986 yulo said despite next year's increased production target some philippine mills were expected to shut down at least four of the 41 mills were not working during the 1986 87 season he said we expect two or three more to follow suit during the next season reuter 3\"]"
      ]
     },
     "execution_count": 16,
     "metadata": {},
     "output_type": "execute_result"
    }
   ],
   "source": [
    "sample_x_test_decoded = seq2texts(index_to_word, sample_x_test)\n",
    "sample_x_test_decoded[:2]"
   ]
  },
  {
   "cell_type": "markdown",
   "id": "abc69140",
   "metadata": {},
   "source": [
    "&nbsp;"
   ]
  },
  {
   "cell_type": "markdown",
   "id": "f495d626",
   "metadata": {},
   "source": [
    "## 2. 벡터화"
   ]
  },
  {
   "cell_type": "markdown",
   "id": "9fb74a44",
   "metadata": {},
   "source": [
    "딥러닝이 아닌 머신러닝 방법을 사용하여 텍스트 분류를 진행 할 것이기 때문에 벡터화 방법도 인공 신경망이 아닌 방법을 사용한다.\n",
    "\n",
    "여기에서 사용할 벡터화 방법은 Bag of Words 가설을 기반으로 하는 **DTM, TF-IDF** 행렬이다.\n",
    "\n"
   ]
  },
  {
   "cell_type": "markdown",
   "id": "a6f34db0",
   "metadata": {},
   "source": [
    "Document Term Matrix, DTM은 사이킷런의 `CountVectorizer()`를 통해서 생성할 수 있다.\n",
    "\n"
   ]
  },
  {
   "cell_type": "markdown",
   "id": "2838855d",
   "metadata": {},
   "source": [
    "DTM을 생성하고, DTM의 크기를 확인해보자.\n",
    "\n"
   ]
  },
  {
   "cell_type": "code",
   "execution_count": 17,
   "id": "d4fff532",
   "metadata": {},
   "outputs": [
    {
     "name": "stdout",
     "output_type": "stream",
     "text": [
      "(8982, 9670)\n"
     ]
    }
   ],
   "source": [
    "dtmvector = CountVectorizer()\n",
    "sample_x_train_dtm = dtmvector.fit_transform(sample_x_train_decoded)\n",
    "print(sample_x_train_dtm.shape)"
   ]
  },
  {
   "cell_type": "markdown",
   "id": "4aa7e79f",
   "metadata": {},
   "source": [
    "훈련용 뉴스의 수가 총 8,982개였기 때문에 DTM의 행의 개수는 8,982개임을 확인할 수 있다.\n",
    "\n",
    "그런데 이상한 점은 DTM 열의 개수는 이보다 적은 9,670개밖에 되지 않는데, \n",
    "\n",
    "그 이유는 DTM이 자체적인 규칙에 따라서 불필요하다고 판단하는 토큰들을 제거하기 때문이다.\n",
    "\n"
   ]
  },
  {
   "cell_type": "markdown",
   "id": "db77f336",
   "metadata": {},
   "source": [
    "TF-IDF Matrix는 사이킷런의 `TfidfTransformer()`를 통해서 생성할 수 있다.\n",
    "\n",
    "TF-IDF Matrix는 추가적인 전처리를 하지 않는 이상, DTM과 동일한 크기를 가진다."
   ]
  },
  {
   "cell_type": "code",
   "execution_count": 18,
   "id": "67c50feb",
   "metadata": {},
   "outputs": [
    {
     "name": "stdout",
     "output_type": "stream",
     "text": [
      "(8982, 9670)\n"
     ]
    }
   ],
   "source": [
    "tfidf_transformer = TfidfTransformer()\n",
    "tfidfv = tfidf_transformer.fit_transform(sample_x_train_dtm)\n",
    "print(tfidfv.shape)"
   ]
  },
  {
   "cell_type": "markdown",
   "id": "181a2fb0",
   "metadata": {},
   "source": [
    "&nbsp;"
   ]
  },
  {
   "cell_type": "markdown",
   "id": "194f6344",
   "metadata": {},
   "source": [
    "이 프로젝트에서 사용할 벡터화 방법은 Bag of Words 가설을 기반으로 하는 **DTM, TF-IDF** 행렬이다.\n",
    "\n",
    "이를 위해, 이전에 정의한 load_reuters 함수를 조금 변경하도록 하겠다.\n",
    "\n",
    "매개변수는 그대로 사용하고, 추가된 내용들은 아래와 같다."
   ]
  },
  {
   "cell_type": "markdown",
   "id": "5904243c",
   "metadata": {},
   "source": [
    "1. index_to_word 작성 및 반환.\n",
    "\n",
    "\n",
    "2. 텍스트 데이터의 벡터화 및 반환"
   ]
  },
  {
   "cell_type": "code",
   "execution_count": 19,
   "id": "44f62b7a",
   "metadata": {},
   "outputs": [],
   "source": [
    "def load_reuters(num_words=None, test_split=0.25):\n",
    "    \n",
    "    (x_train, y_train), (x_test, y_test) = reuters.load_data(num_words=num_words, test_split=test_split)\n",
    "    \n",
    "    \n",
    "    ## ① 시퀀스 데이터를 텍스트 데이터로 변환\n",
    "    ## 단어장(Vocabulary)\n",
    "    word_index = reuters.get_word_index(path=\"reuters_word_index.json\")\n",
    "    ## 정수로부터 단어를 얻을 수 있는 `index_word`\n",
    "    index_to_word = { index+3 : word for word, index in word_index.items() }\n",
    "    ## index_to_word에 숫자 0은 <pad>, 숫자 1은 <sos>, 숫자 2는 <unk>를 넣는다.\n",
    "    for index, token in enumerate((\"<pad>\", \"<sos>\", \"<unk>\")):\n",
    "        index_to_word[index]=token\n",
    "    ## 텍스트 데이터 저장공간\n",
    "    decoded = []\n",
    "    ## Sequences to Sentences\n",
    "    for i in range(len(x_train)):    ## train\n",
    "        t = ' '.join([index_to_word[index] for index in x_train[i]])\n",
    "        decoded.append(t)\n",
    "    x_train_decoded = decoded\n",
    "    decoded = []\n",
    "    for i in range(len(x_test)):    ## test\n",
    "        t = ' '.join([index_to_word[index] for index in x_test[i]])\n",
    "        decoded.append(t)\n",
    "    x_test_decoded = decoded\n",
    "    \n",
    "    \n",
    "    ## ② 벡터화\n",
    "    ## Vectorizer - DTM\n",
    "    dtmvector = CountVectorizer()\n",
    "    x_train_dtm = dtmvector.fit_transform(x_train_decoded)    ## train\n",
    "    x_test_dtm =dtmvector.transform(x_test_decoded)       ## test\n",
    "    ## Vectorizer - TF-IDF\n",
    "    tfidf_transformer = TfidfTransformer()\n",
    "    tfidfv_train = tfidf_transformer.fit_transform(x_train_dtm)    ## train\n",
    "    tfidfv_test = tfidf_transformer.transform(x_test_dtm)      ## test\n",
    "    \n",
    "    \n",
    "    return x_train, y_train, x_test, y_test, tfidfv_train, tfidfv_test, index_to_word"
   ]
  },
  {
   "cell_type": "markdown",
   "id": "90194737",
   "metadata": {},
   "source": [
    "&nbsp;"
   ]
  },
  {
   "cell_type": "markdown",
   "id": "947fc3ba",
   "metadata": {},
   "source": [
    "## 3. 평가"
   ]
  },
  {
   "cell_type": "markdown",
   "id": "7be07208",
   "metadata": {},
   "source": [
    "&nbsp;"
   ]
  },
  {
   "cell_type": "markdown",
   "id": "a2be95a7",
   "metadata": {},
   "source": [
    "### Precision, Recall & F1 Score\n",
    "\n",
    "---\n",
    "\n",
    "본 프로젝트에서는 성능 비교를 위한 척도로 **정확도(Accuracy)** 를 사용한다.\n",
    "\n",
    "**정확도(Accuracy)**는 가장 직관적으로 모델의 성능을 나타낼 수 있는 평가 지표이다.\n",
    "\n",
    "하지만 label 불균형인 경우를 제대로 고려하지 못하기 때문에, 이러한 경우에는 f1-score를 사용하기도 한다.\n",
    "\n",
    "&nbsp;\n",
    "\n",
    "최종 결과에서 각각이 의미하는 바는 다음과 같다.\n",
    "\n",
    "- `macro`：단순평균\n",
    "\n",
    "\n",
    "- `weighted`：각 클래스에 속하는 표본의 개수로 가중평균\n",
    "\n",
    "\n",
    "- `accuracy`：정확도. 전체 학습 데이터의 개수에서 클래스를 정확하게 맞춘 개수의 비율\n",
    "\n"
   ]
  },
  {
   "cell_type": "markdown",
   "id": "e369aa1c",
   "metadata": {},
   "source": [
    "### Confusion Matrix\n",
    "\n",
    "----\n",
    "\n",
    "Confusion Matrix는 생소한 개념이라기보다는 앞서 f1-score를 이해하기 위해 읽었던 위의 글의 가장 처음에 있던 행렬이다.\n",
    "\n",
    "<table>\n",
    "    <tr>\n",
    "        <td></td>\n",
    "        <td></td>\n",
    "        <td colspan=2>Predicted</td>\n",
    "    </tr>\n",
    "    <tr>\n",
    "        <td></td>\n",
    "        <td></td>\n",
    "        <td>Positive</td>\n",
    "        <td>Negative</td>\n",
    "    </tr>\n",
    "    <tr>\n",
    "        <td rowspan=2>Actual</td>\n",
    "        <td>Positive</td>\n",
    "        <td>TP</td>\n",
    "        <td>FN</td>\n",
    "    </tr>\n",
    "    <tr>\n",
    "        <td>Negative</td>\n",
    "        <td>FP</td>\n",
    "        <td>TN</td>\n",
    "    </tr>\n",
    "</table>\n",
    "\n",
    "\n",
    "- TP : True로 예측하고 실제 값도 True\n",
    "- TN : False로 예측하고 실제 값도 False\n",
    "- FP : True로 예측하고 실제는 False\n",
    "- FN : False로 예측하고 실제는 True\n",
    "\n",
    "&nbsp;\n",
    "\n",
    "**Accuarcy**\n",
    "\n",
    "- 전체 중 맞게 맞게 예측한 비율\n",
    "\n",
    "$$ TP+FN \\over TP+TN+FP+FN $$\n",
    "\n",
    "\n",
    "**Precision**\n",
    "\n",
    "- Positive에 속하는 것들 중 실제 Positvie 인것.\n",
    "\n",
    "$$ TP \\over TP+FP $$\n",
    "\n",
    "\n",
    "**Recall (sensitivty)**\n",
    "\n",
    "- 실제로 Positive인 것들 중 Positive로 예측한 비율\n",
    "\n",
    "$$ TP \\over TP + FN $$\n",
    "\n",
    "\n",
    "**Specificity**\n",
    "\n",
    "- Negative에 속하는 것들 중 실제 Negative 인것.\n",
    "\n",
    "$$ TP + TN \\over TP + TN + FP + FN $$\n",
    "\n",
    "\n",
    "**F1 Measure**\n",
    "\n",
    "- 위의 Precision과 Recall을 이용.\n",
    "\n",
    "$$ 2 \\times Recall \\times Precision \\over Recall + Precision $$\n",
    "\n",
    "\n",
    "&nbsp;"
   ]
  },
  {
   "cell_type": "markdown",
   "id": "d9928b83",
   "metadata": {},
   "source": [
    "&nbsp;"
   ]
  },
  {
   "cell_type": "markdown",
   "id": "bd85c74d",
   "metadata": {},
   "source": [
    "## 4. 다양한 머신러닝 모델 사용하기"
   ]
  },
  {
   "cell_type": "markdown",
   "id": "b404c2ae",
   "metadata": {},
   "source": [
    "사이킷런이 제공하는 머신러닝 모델들은 공통적으로 `fit()`이라는 함수를 제공하고 있다. \n",
    "\n",
    "훈련 데이터와 해당 훈련 데이터에 대한 레이블을 인자로 사용하면 모델이 이를 학습한다.\n",
    "\n"
   ]
  },
  {
   "cell_type": "markdown",
   "id": "b057100b",
   "metadata": {},
   "source": [
    "여기서는 8개의 모델을 통해 학습을 하고 그 결과를 딕셔너리에 저장하는 함수를 만들어 사용하도록 하겠다."
   ]
  },
  {
   "cell_type": "code",
   "execution_count": 20,
   "id": "bd1cce03",
   "metadata": {},
   "outputs": [],
   "source": [
    "num_words_list = [6000, 12000, None]"
   ]
  },
  {
   "cell_type": "code",
   "execution_count": 21,
   "id": "6da10860",
   "metadata": {},
   "outputs": [],
   "source": [
    "## 훈련결과 저장 변수\n",
    "# ret_modelname = []\n",
    "# ret_numwords = []\n",
    "# ret_accuracy = []\n",
    "# ret_f1score = []\n",
    "\n",
    "## 모델\n",
    "mnb_model = MultinomialNB()\n",
    "cnm_model = ComplementNB()\n",
    "lr_model = LogisticRegression(C=10000, penalty=\"l2\", max_iter=3000)\n",
    "lsvc_model = LinearSVC(C=1000, penalty=\"l1\", max_iter=3000, dual=False)\n",
    "dt_model = DecisionTreeClassifier(max_depth=10, random_state=0)\n",
    "rf_model = RandomForestClassifier(n_estimators=5, random_state=0)\n",
    "gb_model = GradientBoostingClassifier(random_state=0)\n",
    "voting_model = VotingClassifier(estimators=[\n",
    "    (\"lr\", LogisticRegression(C=10000, max_iter=3000, penalty=\"l2\")),\n",
    "    (\"cb\", ComplementNB()),\n",
    "    (\"grbt\", GradientBoostingClassifier(random_state=0))], voting=\"soft\")\n",
    "\n",
    "models = [mnb_model, cnm_model, lr_model, lsvc_model, dt_model, rf_model, gb_model, voting_model]    "
   ]
  },
  {
   "cell_type": "code",
   "execution_count": 22,
   "id": "0eba28a1",
   "metadata": {},
   "outputs": [],
   "source": [
    "def ml_model_fit(num_words_list, models):\n",
    "    \n",
    "    ## 훈련 리포트 저장할 변수\n",
    "    df_report = pd.DataFrame(columns=[\"Model\", \"num_words\", \"Accuracy\", \"F1-Score\"])\n",
    "\n",
    "    ## 지정 num_words 에 따라, 데이터 불러오기\n",
    "    for num_words in num_words_list:\n",
    "            \n",
    "        x_train, y_train, x_test, y_test, tfidfv_train, tfidfv_test, index_to_word = load_reuters(num_words)\n",
    "            \n",
    "        ## 모델 하나씩 훈련 및 평가\n",
    "        for model in models:\n",
    "\n",
    "            ## fit\n",
    "            model.fit(tfidfv_train, y_train)\n",
    "\n",
    "            ## Predict & Report\n",
    "            report = classification_report(y_test, model.predict(tfidfv_test), zero_division=0, output_dict=True)\n",
    "\n",
    "            ## Report\n",
    "            model_name = model.__class__.__name__\n",
    "            accuracy = report[\"accuracy\"]\n",
    "            f1_score = report[\"weighted avg\"][\"f1-score\"]\n",
    "            df_row = pd.DataFrame(\n",
    "                {\"Model\":[model_name], \n",
    "                 \"num_words\":[str(num_words)], \n",
    "                 \"Accuracy\":[round(accuracy, 3)], \n",
    "                 \"F1-Score\":[round(f1_score, 3)]}\n",
    "            )\n",
    "            print(df_row)\n",
    "            df_report = df_report.append(df_row, ignore_index=True)\n",
    "            \n",
    "    return df_report\n"
   ]
  },
  {
   "cell_type": "code",
   "execution_count": 23,
   "id": "1d9facb2",
   "metadata": {},
   "outputs": [
    {
     "name": "stdout",
     "output_type": "stream",
     "text": [
      "           Model num_words  Accuracy  F1-Score\n",
      "0  MultinomialNB      6000     0.671     0.595\n",
      "          Model num_words  Accuracy  F1-Score\n",
      "0  ComplementNB      6000     0.774     0.751\n",
      "                Model num_words  Accuracy  F1-Score\n",
      "0  LogisticRegression      6000     0.807     0.802\n"
     ]
    },
    {
     "name": "stderr",
     "output_type": "stream",
     "text": [
      "/opt/conda/lib/python3.9/site-packages/sklearn/svm/_base.py:1199: ConvergenceWarning: Liblinear failed to converge, increase the number of iterations.\n",
      "  warnings.warn(\n"
     ]
    },
    {
     "name": "stdout",
     "output_type": "stream",
     "text": [
      "       Model num_words  Accuracy  F1-Score\n",
      "0  LinearSVC      6000     0.779     0.775\n",
      "                    Model num_words  Accuracy  F1-Score\n",
      "0  DecisionTreeClassifier      6000     0.615     0.605\n",
      "                    Model num_words  Accuracy  F1-Score\n",
      "0  RandomForestClassifier      6000     0.689     0.664\n",
      "                        Model num_words  Accuracy  F1-Score\n",
      "0  GradientBoostingClassifier      6000     0.767     0.764\n",
      "              Model num_words  Accuracy  F1-Score\n",
      "0  VotingClassifier      6000     0.815      0.81\n",
      "           Model num_words  Accuracy  F1-Score\n",
      "0  MultinomialNB     12000     0.644     0.562\n",
      "          Model num_words  Accuracy  F1-Score\n",
      "0  ComplementNB     12000     0.778     0.754\n",
      "                Model num_words  Accuracy  F1-Score\n",
      "0  LogisticRegression     12000     0.813     0.807\n"
     ]
    },
    {
     "name": "stderr",
     "output_type": "stream",
     "text": [
      "/opt/conda/lib/python3.9/site-packages/sklearn/svm/_base.py:1199: ConvergenceWarning: Liblinear failed to converge, increase the number of iterations.\n",
      "  warnings.warn(\n"
     ]
    },
    {
     "name": "stdout",
     "output_type": "stream",
     "text": [
      "       Model num_words  Accuracy  F1-Score\n",
      "0  LinearSVC     12000     0.789     0.786\n",
      "                    Model num_words  Accuracy  F1-Score\n",
      "0  DecisionTreeClassifier     12000     0.609     0.545\n",
      "                    Model num_words  Accuracy  F1-Score\n",
      "0  RandomForestClassifier     12000     0.667     0.639\n",
      "                        Model num_words  Accuracy  F1-Score\n",
      "0  GradientBoostingClassifier     12000     0.767     0.764\n",
      "              Model num_words  Accuracy  F1-Score\n",
      "0  VotingClassifier     12000     0.818     0.814\n",
      "           Model num_words  Accuracy  F1-Score\n",
      "0  MultinomialNB      None     0.597       0.5\n",
      "          Model num_words  Accuracy  F1-Score\n",
      "0  ComplementNB      None     0.771     0.742\n",
      "                Model num_words  Accuracy  F1-Score\n",
      "0  LogisticRegression      None     0.815      0.81\n"
     ]
    },
    {
     "name": "stderr",
     "output_type": "stream",
     "text": [
      "/opt/conda/lib/python3.9/site-packages/sklearn/svm/_base.py:1199: ConvergenceWarning: Liblinear failed to converge, increase the number of iterations.\n",
      "  warnings.warn(\n"
     ]
    },
    {
     "name": "stdout",
     "output_type": "stream",
     "text": [
      "       Model num_words  Accuracy  F1-Score\n",
      "0  LinearSVC      None     0.788     0.784\n",
      "                    Model num_words  Accuracy  F1-Score\n",
      "0  DecisionTreeClassifier      None     0.622     0.576\n",
      "                    Model num_words  Accuracy  F1-Score\n",
      "0  RandomForestClassifier      None     0.663     0.634\n",
      "                        Model num_words  Accuracy  F1-Score\n",
      "0  GradientBoostingClassifier      None     0.772     0.768\n",
      "              Model num_words  Accuracy  F1-Score\n",
      "0  VotingClassifier      None     0.822     0.818\n"
     ]
    },
    {
     "data": {
      "text/html": [
       "<div>\n",
       "<style scoped>\n",
       "    .dataframe tbody tr th:only-of-type {\n",
       "        vertical-align: middle;\n",
       "    }\n",
       "\n",
       "    .dataframe tbody tr th {\n",
       "        vertical-align: top;\n",
       "    }\n",
       "\n",
       "    .dataframe thead th {\n",
       "        text-align: right;\n",
       "    }\n",
       "</style>\n",
       "<table border=\"1\" class=\"dataframe\">\n",
       "  <thead>\n",
       "    <tr style=\"text-align: right;\">\n",
       "      <th></th>\n",
       "      <th>Model</th>\n",
       "      <th>num_words</th>\n",
       "      <th>Accuracy</th>\n",
       "      <th>F1-Score</th>\n",
       "    </tr>\n",
       "  </thead>\n",
       "  <tbody>\n",
       "    <tr>\n",
       "      <th>0</th>\n",
       "      <td>MultinomialNB</td>\n",
       "      <td>6000</td>\n",
       "      <td>0.671</td>\n",
       "      <td>0.595</td>\n",
       "    </tr>\n",
       "    <tr>\n",
       "      <th>1</th>\n",
       "      <td>ComplementNB</td>\n",
       "      <td>6000</td>\n",
       "      <td>0.774</td>\n",
       "      <td>0.751</td>\n",
       "    </tr>\n",
       "    <tr>\n",
       "      <th>2</th>\n",
       "      <td>LogisticRegression</td>\n",
       "      <td>6000</td>\n",
       "      <td>0.807</td>\n",
       "      <td>0.802</td>\n",
       "    </tr>\n",
       "    <tr>\n",
       "      <th>3</th>\n",
       "      <td>LinearSVC</td>\n",
       "      <td>6000</td>\n",
       "      <td>0.779</td>\n",
       "      <td>0.775</td>\n",
       "    </tr>\n",
       "    <tr>\n",
       "      <th>4</th>\n",
       "      <td>DecisionTreeClassifier</td>\n",
       "      <td>6000</td>\n",
       "      <td>0.615</td>\n",
       "      <td>0.605</td>\n",
       "    </tr>\n",
       "    <tr>\n",
       "      <th>5</th>\n",
       "      <td>RandomForestClassifier</td>\n",
       "      <td>6000</td>\n",
       "      <td>0.689</td>\n",
       "      <td>0.664</td>\n",
       "    </tr>\n",
       "    <tr>\n",
       "      <th>6</th>\n",
       "      <td>GradientBoostingClassifier</td>\n",
       "      <td>6000</td>\n",
       "      <td>0.767</td>\n",
       "      <td>0.764</td>\n",
       "    </tr>\n",
       "    <tr>\n",
       "      <th>7</th>\n",
       "      <td>VotingClassifier</td>\n",
       "      <td>6000</td>\n",
       "      <td>0.815</td>\n",
       "      <td>0.810</td>\n",
       "    </tr>\n",
       "    <tr>\n",
       "      <th>8</th>\n",
       "      <td>MultinomialNB</td>\n",
       "      <td>12000</td>\n",
       "      <td>0.644</td>\n",
       "      <td>0.562</td>\n",
       "    </tr>\n",
       "    <tr>\n",
       "      <th>9</th>\n",
       "      <td>ComplementNB</td>\n",
       "      <td>12000</td>\n",
       "      <td>0.778</td>\n",
       "      <td>0.754</td>\n",
       "    </tr>\n",
       "    <tr>\n",
       "      <th>10</th>\n",
       "      <td>LogisticRegression</td>\n",
       "      <td>12000</td>\n",
       "      <td>0.813</td>\n",
       "      <td>0.807</td>\n",
       "    </tr>\n",
       "    <tr>\n",
       "      <th>11</th>\n",
       "      <td>LinearSVC</td>\n",
       "      <td>12000</td>\n",
       "      <td>0.789</td>\n",
       "      <td>0.786</td>\n",
       "    </tr>\n",
       "    <tr>\n",
       "      <th>12</th>\n",
       "      <td>DecisionTreeClassifier</td>\n",
       "      <td>12000</td>\n",
       "      <td>0.609</td>\n",
       "      <td>0.545</td>\n",
       "    </tr>\n",
       "    <tr>\n",
       "      <th>13</th>\n",
       "      <td>RandomForestClassifier</td>\n",
       "      <td>12000</td>\n",
       "      <td>0.667</td>\n",
       "      <td>0.639</td>\n",
       "    </tr>\n",
       "    <tr>\n",
       "      <th>14</th>\n",
       "      <td>GradientBoostingClassifier</td>\n",
       "      <td>12000</td>\n",
       "      <td>0.767</td>\n",
       "      <td>0.764</td>\n",
       "    </tr>\n",
       "    <tr>\n",
       "      <th>15</th>\n",
       "      <td>VotingClassifier</td>\n",
       "      <td>12000</td>\n",
       "      <td>0.818</td>\n",
       "      <td>0.814</td>\n",
       "    </tr>\n",
       "    <tr>\n",
       "      <th>16</th>\n",
       "      <td>MultinomialNB</td>\n",
       "      <td>None</td>\n",
       "      <td>0.597</td>\n",
       "      <td>0.500</td>\n",
       "    </tr>\n",
       "    <tr>\n",
       "      <th>17</th>\n",
       "      <td>ComplementNB</td>\n",
       "      <td>None</td>\n",
       "      <td>0.771</td>\n",
       "      <td>0.742</td>\n",
       "    </tr>\n",
       "    <tr>\n",
       "      <th>18</th>\n",
       "      <td>LogisticRegression</td>\n",
       "      <td>None</td>\n",
       "      <td>0.815</td>\n",
       "      <td>0.810</td>\n",
       "    </tr>\n",
       "    <tr>\n",
       "      <th>19</th>\n",
       "      <td>LinearSVC</td>\n",
       "      <td>None</td>\n",
       "      <td>0.788</td>\n",
       "      <td>0.784</td>\n",
       "    </tr>\n",
       "    <tr>\n",
       "      <th>20</th>\n",
       "      <td>DecisionTreeClassifier</td>\n",
       "      <td>None</td>\n",
       "      <td>0.622</td>\n",
       "      <td>0.576</td>\n",
       "    </tr>\n",
       "    <tr>\n",
       "      <th>21</th>\n",
       "      <td>RandomForestClassifier</td>\n",
       "      <td>None</td>\n",
       "      <td>0.663</td>\n",
       "      <td>0.634</td>\n",
       "    </tr>\n",
       "    <tr>\n",
       "      <th>22</th>\n",
       "      <td>GradientBoostingClassifier</td>\n",
       "      <td>None</td>\n",
       "      <td>0.772</td>\n",
       "      <td>0.768</td>\n",
       "    </tr>\n",
       "    <tr>\n",
       "      <th>23</th>\n",
       "      <td>VotingClassifier</td>\n",
       "      <td>None</td>\n",
       "      <td>0.822</td>\n",
       "      <td>0.818</td>\n",
       "    </tr>\n",
       "  </tbody>\n",
       "</table>\n",
       "</div>"
      ],
      "text/plain": [
       "                         Model num_words  Accuracy  F1-Score\n",
       "0                MultinomialNB      6000     0.671     0.595\n",
       "1                 ComplementNB      6000     0.774     0.751\n",
       "2           LogisticRegression      6000     0.807     0.802\n",
       "3                    LinearSVC      6000     0.779     0.775\n",
       "4       DecisionTreeClassifier      6000     0.615     0.605\n",
       "5       RandomForestClassifier      6000     0.689     0.664\n",
       "6   GradientBoostingClassifier      6000     0.767     0.764\n",
       "7             VotingClassifier      6000     0.815     0.810\n",
       "8                MultinomialNB     12000     0.644     0.562\n",
       "9                 ComplementNB     12000     0.778     0.754\n",
       "10          LogisticRegression     12000     0.813     0.807\n",
       "11                   LinearSVC     12000     0.789     0.786\n",
       "12      DecisionTreeClassifier     12000     0.609     0.545\n",
       "13      RandomForestClassifier     12000     0.667     0.639\n",
       "14  GradientBoostingClassifier     12000     0.767     0.764\n",
       "15            VotingClassifier     12000     0.818     0.814\n",
       "16               MultinomialNB      None     0.597     0.500\n",
       "17                ComplementNB      None     0.771     0.742\n",
       "18          LogisticRegression      None     0.815     0.810\n",
       "19                   LinearSVC      None     0.788     0.784\n",
       "20      DecisionTreeClassifier      None     0.622     0.576\n",
       "21      RandomForestClassifier      None     0.663     0.634\n",
       "22  GradientBoostingClassifier      None     0.772     0.768\n",
       "23            VotingClassifier      None     0.822     0.818"
      ]
     },
     "execution_count": 23,
     "metadata": {},
     "output_type": "execute_result"
    }
   ],
   "source": [
    "## 테스트\n",
    "## ㅡㅡㅡㅡㅡㅡㅡㅡㅡㅡㅡㅡㅡㅡㅡㅡㅡㅡㅡㅡㅡㅡㅡㅡㅡㅡㅡㅡㅡㅡㅡㅡㅡㅡㅡㅡㅡㅡㅡㅡㅡㅡㅡㅡㅡㅡㅡㅡㅡㅡ\n",
    "# num_words_list = [6000, None]\n",
    "# models = [mnb_model]\n",
    "\n",
    "ml_model_fit(num_words_list, models)"
   ]
  },
  {
   "cell_type": "markdown",
   "id": "1004053d",
   "metadata": {},
   "source": [
    "데이터를 정리하면 아래와 같다."
   ]
  },
  {
   "attachments": {
    "GD_NLP_S2001.png": {
     "image/png": "[encoded data removed]"
    }
   },
   "cell_type": "markdown",
   "id": "47e6f3c4",
   "metadata": {},
   "source": [
    "![GD_NLP_S2001.png](attachment:GD_NLP_S2001.png)"
   ]
  },
  {
   "cell_type": "markdown",
   "id": "579368b7",
   "metadata": {},
   "source": [
    "시간이 오래 걸리는 모델일 수록 전반적으로 높은 수치를 보여주었다.\n",
    "\n",
    "성능이 괜찮은 모델들을 고려해 본다면, 대략 0.75~0.80 내외의 수치라고 볼 수 있겠다."
   ]
  },
  {
   "cell_type": "markdown",
   "id": "a7b73cbf",
   "metadata": {},
   "source": [
    "&nbsp;"
   ]
  },
  {
   "cell_type": "markdown",
   "id": "6db56545",
   "metadata": {},
   "source": [
    "## 5. 딥러닝 모델과 비교해보기"
   ]
  },
  {
   "cell_type": "markdown",
   "id": "4861ecd5",
   "metadata": {},
   "source": [
    "&nbsp;"
   ]
  },
  {
   "cell_type": "markdown",
   "id": "46a64fae",
   "metadata": {},
   "source": [
    "### LSTM\n",
    "\n",
    "----"
   ]
  },
  {
   "cell_type": "code",
   "execution_count": 24,
   "id": "a28e6f25",
   "metadata": {},
   "outputs": [],
   "source": [
    "from tensorflow.keras.models import Sequential\n",
    "from tensorflow.keras.layers import Dense, LSTM, Embedding\n",
    "from tensorflow.keras.preprocessing.sequence import pad_sequences\n",
    "from tensorflow.keras.utils import to_categorical\n",
    "from tensorflow.keras.callbacks import EarlyStopping, ModelCheckpoint\n",
    "from tensorflow.keras.models import load_model\n",
    "from sklearn.metrics import f1_score\n",
    "from keras import backend as K"
   ]
  },
  {
   "cell_type": "code",
   "execution_count": 25,
   "id": "54a429c4",
   "metadata": {},
   "outputs": [],
   "source": [
    "embedding_dim = 128\n",
    "hidden_units = 128\n",
    "vocab_size=12000\n",
    "num_classes = 46\n",
    "max_len = 256"
   ]
  },
  {
   "cell_type": "markdown",
   "id": "4cbc7586",
   "metadata": {},
   "source": [
    "f1-score 산출을 위해 함수를 따로 정의해 주었다.\n",
    "\n",
    "모델 컴파일 단계에서 metrics 에 추가를 해 주는 방법으로 사용한다."
   ]
  },
  {
   "cell_type": "code",
   "execution_count": 26,
   "id": "391b71ad",
   "metadata": {},
   "outputs": [],
   "source": [
    "def recall_m(y_true, y_pred):\n",
    "    true_positives = K.sum(K.round(K.clip(y_true * y_pred, 0, 1)))\n",
    "    possible_positives = K.sum(K.round(K.clip(y_true, 0, 1)))\n",
    "    recall = true_positives / (possible_positives + K.epsilon())\n",
    "    return recall\n",
    "\n",
    "def precision_m(y_true, y_pred):\n",
    "    true_positives = K.sum(K.round(K.clip(y_true * y_pred, 0, 1)))\n",
    "    predicted_positives = K.sum(K.round(K.clip(y_pred, 0, 1)))\n",
    "    precision = true_positives / (predicted_positives + K.epsilon())\n",
    "    return precision\n",
    "\n",
    "def f1_score(y_true, y_pred):\n",
    "    precision = precision_m(y_true, y_pred)\n",
    "    recall = recall_m(y_true, y_pred)\n",
    "    return 2*((precision*recall)/(precision+recall+K.epsilon()))"
   ]
  },
  {
   "cell_type": "code",
   "execution_count": 27,
   "id": "a7e61853",
   "metadata": {},
   "outputs": [],
   "source": [
    "## 뉴스기사 데이터 불러오기\n",
    "## 동일한 전처리 조건을 위해 초기값 그대로 사용하도록 하겠다.\n",
    "x_train, y_train, x_test, y_test, tfidfv_train, tfidfv_test, index_to_word = load_reuters(num_words=vocab_size)"
   ]
  },
  {
   "cell_type": "markdown",
   "id": "c016f4e5",
   "metadata": {},
   "source": [
    "하이퍼파라미터인 임베딩 벡터의 차원은 128, 은닉 상태의 크기는 128 이다. \n",
    "\n",
    "단어 집합의 크기는 앞서 None 으로 전체를 사용할 것이다.\n",
    "\n",
    "모델은 다 대 일 구조의 LSTM을 사용한다.\n",
    "\n",
    "해당 모델은 마지막 시점에서 46개의 선택지 중 하나의 선택지를 예측하는 다중 클래스 분류 문제를 수행하는 모델이다.\n",
    "\n",
    "다중 클래스 분류 문제의 경우, 출력층에 소프트맥스 회귀를 사용해야 하므로 활성화 함수로는 소프트맥스 함수를 사용하고,\n",
    "\n",
    "손실 함수로 크로스 엔트로피 함수를 사용한다. 하이퍼파라미터인 배치 크기는 128이며, 30 에포크를 수행한다."
   ]
  },
  {
   "cell_type": "code",
   "execution_count": 28,
   "id": "3a5d6ac6",
   "metadata": {},
   "outputs": [
    {
     "name": "stdout",
     "output_type": "stream",
     "text": [
      "(8421,)\n",
      "(8421,)\n",
      "(2807,)\n",
      "(2807,)\n"
     ]
    }
   ],
   "source": [
    "print(x_train.shape)\n",
    "print(y_train.shape)\n",
    "print(x_test.shape)\n",
    "print(y_test.shape)"
   ]
  },
  {
   "cell_type": "code",
   "execution_count": 29,
   "id": "520765e7",
   "metadata": {},
   "outputs": [],
   "source": [
    "x_train = pad_sequences(x_train, maxlen=max_len)\n",
    "x_test = pad_sequences(x_test, maxlen=max_len)\n",
    "\n",
    "y_train = to_categorical(y_train)\n",
    "y_test = to_categorical(y_test)"
   ]
  },
  {
   "cell_type": "code",
   "execution_count": 30,
   "id": "509226fc",
   "metadata": {},
   "outputs": [],
   "source": [
    "lstm_model = Sequential()\n",
    "lstm_model.add(Embedding(vocab_size, embedding_dim))\n",
    "lstm_model.add(LSTM(hidden_units))\n",
    "lstm_model.add(Dense(num_classes, activation='softmax'))\n",
    "\n",
    "es = EarlyStopping(monitor='val_loss', mode='min', verbose=1, patience=4)\n",
    "# mc = ModelCheckpoint('best_model.h5', monitor='val_acc', mode='max', verbose=1, save_best_only=True)\n",
    "\n",
    "lstm_model.compile(\n",
    "    loss='categorical_crossentropy', \n",
    "    optimizer='adam', \n",
    "    metrics=['acc', f1_score])\n"
   ]
  },
  {
   "cell_type": "code",
   "execution_count": 31,
   "id": "59407f1c",
   "metadata": {},
   "outputs": [
    {
     "data": {
      "image/png": "[encoded data removed]",
      "text/plain": [
       "<IPython.core.display.Image object>"
      ]
     },
     "execution_count": 31,
     "metadata": {},
     "output_type": "execute_result"
    }
   ],
   "source": [
    "tf.keras.utils.plot_model(lstm_model, show_shapes=True)"
   ]
  },
  {
   "cell_type": "code",
   "execution_count": 32,
   "id": "a4567d8f",
   "metadata": {},
   "outputs": [
    {
     "name": "stdout",
     "output_type": "stream",
     "text": [
      "Epoch 1/30\n",
      "66/66 [==============================] - 5s 28ms/step - loss: 2.6482 - acc: 0.3384 - f1_score: 0.0134 - val_loss: 2.4108 - val_acc: 0.3541 - val_f1_score: 0.0000e+00\n",
      "Epoch 2/30\n",
      "66/66 [==============================] - 1s 20ms/step - loss: 2.1211 - acc: 0.4546 - f1_score: 0.3297 - val_loss: 1.8670 - val_acc: 0.4977 - val_f1_score: 0.5605\n",
      "Epoch 3/30\n",
      "66/66 [==============================] - 1s 20ms/step - loss: 1.7623 - acc: 0.5344 - f1_score: 0.5939 - val_loss: 1.9450 - val_acc: 0.4011 - val_f1_score: 0.4475\n",
      "Epoch 4/30\n",
      "66/66 [==============================] - 1s 20ms/step - loss: 1.7400 - acc: 0.5377 - f1_score: 0.6046 - val_loss: 1.7988 - val_acc: 0.5169 - val_f1_score: 0.5628\n",
      "Epoch 5/30\n",
      "66/66 [==============================] - 1s 22ms/step - loss: 1.5514 - acc: 0.5976 - f1_score: 0.6461 - val_loss: 1.6194 - val_acc: 0.6099 - val_f1_score: 0.6415\n",
      "Epoch 6/30\n",
      "66/66 [==============================] - 1s 20ms/step - loss: 1.4129 - acc: 0.6282 - f1_score: 0.6737 - val_loss: 1.6558 - val_acc: 0.5796 - val_f1_score: 0.6308\n",
      "Epoch 7/30\n",
      "66/66 [==============================] - 1s 20ms/step - loss: 1.2732 - acc: 0.6663 - f1_score: 0.6920 - val_loss: 1.5115 - val_acc: 0.6263 - val_f1_score: 0.6594\n",
      "Epoch 8/30\n",
      "66/66 [==============================] - 1s 20ms/step - loss: 1.1058 - acc: 0.7139 - f1_score: 0.7263 - val_loss: 1.5095 - val_acc: 0.6291 - val_f1_score: 0.6729\n",
      "Epoch 9/30\n",
      "66/66 [==============================] - 1s 20ms/step - loss: 0.9389 - acc: 0.7574 - f1_score: 0.7788 - val_loss: 1.4997 - val_acc: 0.6637 - val_f1_score: 0.6951\n",
      "Epoch 10/30\n",
      "66/66 [==============================] - 1s 20ms/step - loss: 0.8199 - acc: 0.7893 - f1_score: 0.8049 - val_loss: 1.4673 - val_acc: 0.6598 - val_f1_score: 0.6918\n",
      "Epoch 11/30\n",
      "66/66 [==============================] - 1s 20ms/step - loss: 0.7150 - acc: 0.8127 - f1_score: 0.8269 - val_loss: 1.5078 - val_acc: 0.6601 - val_f1_score: 0.6881\n",
      "Epoch 12/30\n",
      "66/66 [==============================] - 1s 20ms/step - loss: 0.6108 - acc: 0.8432 - f1_score: 0.8530 - val_loss: 1.4924 - val_acc: 0.6847 - val_f1_score: 0.7128\n",
      "Epoch 13/30\n",
      "66/66 [==============================] - 1s 20ms/step - loss: 0.5280 - acc: 0.8649 - f1_score: 0.8706 - val_loss: 1.5536 - val_acc: 0.6598 - val_f1_score: 0.6879\n",
      "Epoch 14/30\n",
      "66/66 [==============================] - 1s 20ms/step - loss: 0.4704 - acc: 0.8842 - f1_score: 0.8829 - val_loss: 1.5885 - val_acc: 0.6651 - val_f1_score: 0.6928\n",
      "Epoch 00014: early stopping\n"
     ]
    }
   ],
   "source": [
    "# history = model.fit(X_train, y_train, batch_size=128, epochs=30, callbacks=[es, mc], validation_data=(X_test, y_test))\n",
    "lstm_history = lstm_model.fit(\n",
    "    x_train, y_train, \n",
    "    batch_size=128, epochs=30, \n",
    "    callbacks=[es], validation_data=(x_test, y_test))\n"
   ]
  },
  {
   "cell_type": "code",
   "execution_count": 33,
   "id": "2a5f44e0",
   "metadata": {},
   "outputs": [
    {
     "name": "stdout",
     "output_type": "stream",
     "text": [
      "88/88 [==============================] - 1s 6ms/step - loss: 1.5885 - acc: 0.6651 - f1_score: 0.6924\n",
      "loss: 1.589\n",
      "acc: 0.665\n",
      "f1_score: 0.692\n"
     ]
    }
   ],
   "source": [
    "lstm_result = lstm_model.evaluate(x_test, y_test, verbose=1)\n",
    "\n",
    "for name, value in zip(lstm_model.metrics_names, lstm_result):\n",
    "    print(\"%s: %.3f\" % (name, value))"
   ]
  },
  {
   "cell_type": "markdown",
   "id": "0cfff4dc",
   "metadata": {},
   "source": [
    "&nbsp;"
   ]
  },
  {
   "cell_type": "markdown",
   "id": "c66384f7",
   "metadata": {},
   "source": [
    "### BiLSTM with Attention Mechanism\n",
    "\n",
    "----"
   ]
  },
  {
   "cell_type": "code",
   "execution_count": 34,
   "id": "45552e1e",
   "metadata": {},
   "outputs": [],
   "source": [
    "import tensorflow as tf\n",
    "from tensorflow.keras.layers import Dense, Embedding, Bidirectional, LSTM, Concatenate, Dropout\n",
    "from tensorflow.keras import Input, Model\n",
    "from tensorflow.keras import optimizers\n",
    "import os"
   ]
  },
  {
   "cell_type": "code",
   "execution_count": 35,
   "id": "2a23e4c7",
   "metadata": {},
   "outputs": [],
   "source": [
    "class BahdanauAttention(tf.keras.Model):\n",
    "    def __init__(self, units):\n",
    "        super(BahdanauAttention, self).__init__()\n",
    "        self.W1 = Dense(units)\n",
    "        self.W2 = Dense(units)\n",
    "        self.V = Dense(1)\n",
    "\n",
    "    def call(self, values, query): # 단, key와 value는 같음\n",
    "        # query shape == (batch_size, hidden size)\n",
    "        # hidden_with_time_axis shape == (batch_size, 1, hidden size)\n",
    "        # score 계산을 위해 뒤에서 할 덧셈을 위해서 차원을 변경해줍니다.\n",
    "        hidden_with_time_axis = tf.expand_dims(query, 1)\n",
    "\n",
    "        # score shape == (batch_size, max_length, 1)\n",
    "        # we get 1 at the last axis because we are applying score to self.V\n",
    "        # the shape of the tensor before applying self.V is (batch_size, max_length, units)\n",
    "        score = self.V(tf.nn.tanh(\n",
    "            self.W1(values) + self.W2(hidden_with_time_axis)))\n",
    "\n",
    "        # attention_weights shape == (batch_size, max_length, 1)\n",
    "        attention_weights = tf.nn.softmax(score, axis=1)\n",
    "\n",
    "        # context_vector shape after sum == (batch_size, hidden_size\n",
    "        context_vector = attention_weights * values\n",
    "        context_vector = tf.reduce_sum(context_vector, axis=1)\n",
    "\n",
    "        return context_vector, attention_weights"
   ]
  },
  {
   "cell_type": "markdown",
   "id": "a0414df4",
   "metadata": {},
   "source": [
    "입력층과 임베딩층을 설계한다."
   ]
  },
  {
   "cell_type": "code",
   "execution_count": 36,
   "id": "8f4031b3",
   "metadata": {},
   "outputs": [],
   "source": [
    "sequence_input = Input(shape=(max_len,), dtype='int32')\n",
    "embedded_sequences = Embedding(vocab_size, 128, input_length=max_len, mask_zero = True)(sequence_input)"
   ]
  },
  {
   "cell_type": "markdown",
   "id": "02a4a90b",
   "metadata": {},
   "source": [
    "단어들을 128차원의 벡터로 임베딩하도록 설계하였다.\n",
    "\n",
    "여기서는 양방향 LSTM을 두 층을 사용하여 설계한다. \n",
    "\n",
    "우선, 첫번째 층은 두번째 층을 위에 쌓을 예정이므로 return_sequences를 True로 지정한다."
   ]
  },
  {
   "cell_type": "code",
   "execution_count": 37,
   "id": "db9950b8",
   "metadata": {},
   "outputs": [],
   "source": [
    "bi_lstm_model = Bidirectional(LSTM(64, dropout=0.5, return_sequences = True))(embedded_sequences)"
   ]
  },
  {
   "cell_type": "markdown",
   "id": "b6aeb596",
   "metadata": {},
   "source": [
    "두번째 층은 상태를 리턴받아야 하므로 return_state를 True로 지정한다."
   ]
  },
  {
   "cell_type": "code",
   "execution_count": 38,
   "id": "cb9f0ad6",
   "metadata": {},
   "outputs": [],
   "source": [
    "bi_lstm_model, forward_h, forward_c, backward_h, backward_c = Bidirectional \\\n",
    "  (LSTM(64, dropout=0.5, return_sequences=True, return_state=True))(bi_lstm_model)"
   ]
  },
  {
   "cell_type": "code",
   "execution_count": 39,
   "id": "55124dfd",
   "metadata": {},
   "outputs": [
    {
     "name": "stdout",
     "output_type": "stream",
     "text": [
      "(None, 256, 128) (None, 64) (None, 64) (None, 64) (None, 64)\n"
     ]
    }
   ],
   "source": [
    "print(bi_lstm_model.shape, forward_h.shape, forward_c.shape, backward_h.shape, backward_c.shape)"
   ]
  },
  {
   "cell_type": "markdown",
   "id": "1ab5f8c3",
   "metadata": {},
   "source": [
    "순방향 LSTM의 은닉 상태와 셀상태를 forward_h, forward_c에 저장하고, \n",
    "\n",
    "역방향 LSTM의 은닉 상태와 셀 상태를 backward_h, backward_c에 저장한다.\n",
    "\n",
    "각 은닉 상태나 셀 상태의 경우에는 128차원을 가지는데, lstm의 경우에는 (256 × 128)의 크기를 가진다.\n",
    "\n",
    "foward 방향과 backward 방향이 연결된 hidden state벡터가 모든 시점에 대해서 존재함을 의미한다.\n",
    "\n",
    "양방향 LSTM을 사용할 경우에는 순방향 LSTM과 역방향 LSTM 각각 은닉 상태와 셀 상태를 가지므로, \n",
    "\n",
    "양방향 LSTM의 은닉 상태와 셀 상태를 사용하려면 두 방향의 LSTM의 상태들을 연결(concatenate)해준다."
   ]
  },
  {
   "cell_type": "code",
   "execution_count": 40,
   "id": "0108d8f9",
   "metadata": {},
   "outputs": [],
   "source": [
    "state_h = Concatenate()([forward_h, backward_h]) # 은닉 상태\n",
    "state_c = Concatenate()([forward_c, backward_c]) # 셀 상태"
   ]
  },
  {
   "cell_type": "markdown",
   "id": "b13a6116",
   "metadata": {},
   "source": [
    "어텐션 메커니즘에서는 은닉 상태를 사용한다. 이를 입력으로 컨텍스트 벡터(context vector)를 얻는다.\n",
    "\n"
   ]
  },
  {
   "cell_type": "code",
   "execution_count": 41,
   "id": "442f5f7a",
   "metadata": {},
   "outputs": [],
   "source": [
    "attention = BahdanauAttention(64) # 가중치 크기 정의\n",
    "context_vector, attention_weights = attention(bi_lstm_model, state_h)"
   ]
  },
  {
   "cell_type": "markdown",
   "id": "053a3d21",
   "metadata": {},
   "source": [
    "컨텍스트 벡터를 밀집층(dense layer)에 통과시키고, \n",
    "\n",
    "활성화 함수로는 softmax 함수를 사용한다.\n"
   ]
  },
  {
   "cell_type": "code",
   "execution_count": 42,
   "id": "e852d1e7",
   "metadata": {},
   "outputs": [],
   "source": [
    "dense1 = Dense(20, activation=\"relu\")(context_vector)\n",
    "dropout = Dropout(0.5)(dense1)\n",
    "output = Dense(46, activation=\"softmax\")(dropout)\n",
    "bi_lstm_att_model = Model(inputs=sequence_input, outputs=output)"
   ]
  },
  {
   "cell_type": "markdown",
   "id": "553406ea",
   "metadata": {},
   "source": [
    "손실 함수는 categorical_crossentropy를, 옵티마이저로 아담 옵티마이저 사용하고, 모델을 컴파일한다."
   ]
  },
  {
   "cell_type": "code",
   "execution_count": 43,
   "id": "e233ced2",
   "metadata": {},
   "outputs": [],
   "source": [
    "bi_lstm_att_model.compile(\n",
    "    loss='categorical_crossentropy', \n",
    "    optimizer='adam', \n",
    "    metrics=['accuracy', f1_score])"
   ]
  },
  {
   "cell_type": "markdown",
   "id": "83d44aa0",
   "metadata": {},
   "source": [
    "모델을 훈련시킨다.\n",
    "\n"
   ]
  },
  {
   "cell_type": "code",
   "execution_count": 44,
   "id": "16338c03",
   "metadata": {},
   "outputs": [
    {
     "name": "stdout",
     "output_type": "stream",
     "text": [
      "Epoch 1/20\n",
      "33/33 [==============================] - 94s 2s/step - loss: 3.4788 - accuracy: 0.2298 - f1_score: 0.0329 - val_loss: 2.4618 - val_accuracy: 0.4995 - val_f1_score: 0.0106\n",
      "Epoch 2/20\n",
      "33/33 [==============================] - 77s 2s/step - loss: 2.4432 - accuracy: 0.4565 - f1_score: 0.3682 - val_loss: 1.8790 - val_accuracy: 0.5490 - val_f1_score: 0.6288\n",
      "Epoch 3/20\n",
      "33/33 [==============================] - 77s 2s/step - loss: 2.0437 - accuracy: 0.5232 - f1_score: 0.5674 - val_loss: 1.8159 - val_accuracy: 0.5625 - val_f1_score: 0.6508\n",
      "Epoch 4/20\n",
      "33/33 [==============================] - 77s 2s/step - loss: 1.8699 - accuracy: 0.5523 - f1_score: 0.6140 - val_loss: 1.7244 - val_accuracy: 0.5825 - val_f1_score: 0.6551\n",
      "Epoch 5/20\n",
      "33/33 [==============================] - 77s 2s/step - loss: 1.7841 - accuracy: 0.5698 - f1_score: 0.6244 - val_loss: 1.6861 - val_accuracy: 0.5921 - val_f1_score: 0.6440\n",
      "Epoch 6/20\n",
      "33/33 [==============================] - 77s 2s/step - loss: 1.6869 - accuracy: 0.5857 - f1_score: 0.6472 - val_loss: 1.6880 - val_accuracy: 0.5878 - val_f1_score: 0.6667\n",
      "Epoch 7/20\n",
      "33/33 [==============================] - 77s 2s/step - loss: 1.6297 - accuracy: 0.5922 - f1_score: 0.6551 - val_loss: 1.6551 - val_accuracy: 0.5996 - val_f1_score: 0.6706\n",
      "Epoch 8/20\n",
      "33/33 [==============================] - 77s 2s/step - loss: 1.5587 - accuracy: 0.6040 - f1_score: 0.6640 - val_loss: 1.5987 - val_accuracy: 0.6142 - val_f1_score: 0.6764\n",
      "Epoch 9/20\n",
      "33/33 [==============================] - 77s 2s/step - loss: 1.4883 - accuracy: 0.6212 - f1_score: 0.6667 - val_loss: 1.6146 - val_accuracy: 0.6249 - val_f1_score: 0.6747\n",
      "Epoch 10/20\n",
      "33/33 [==============================] - 77s 2s/step - loss: 1.4426 - accuracy: 0.6310 - f1_score: 0.6818 - val_loss: 1.6085 - val_accuracy: 0.6142 - val_f1_score: 0.6659\n",
      "Epoch 11/20\n",
      "33/33 [==============================] - 77s 2s/step - loss: 1.3985 - accuracy: 0.6428 - f1_score: 0.6893 - val_loss: 1.6091 - val_accuracy: 0.6259 - val_f1_score: 0.6778\n",
      "Epoch 12/20\n",
      "33/33 [==============================] - 77s 2s/step - loss: 1.3510 - accuracy: 0.6468 - f1_score: 0.6987 - val_loss: 1.5843 - val_accuracy: 0.6213 - val_f1_score: 0.6766\n",
      "Epoch 13/20\n",
      "33/33 [==============================] - 77s 2s/step - loss: 1.2910 - accuracy: 0.6616 - f1_score: 0.7071 - val_loss: 1.6267 - val_accuracy: 0.6398 - val_f1_score: 0.6868\n",
      "Epoch 14/20\n",
      "33/33 [==============================] - 77s 2s/step - loss: 1.2462 - accuracy: 0.6676 - f1_score: 0.7157 - val_loss: 1.6876 - val_accuracy: 0.6334 - val_f1_score: 0.6784\n",
      "Epoch 15/20\n",
      "33/33 [==============================] - 77s 2s/step - loss: 1.1957 - accuracy: 0.6836 - f1_score: 0.7304 - val_loss: 1.5964 - val_accuracy: 0.6502 - val_f1_score: 0.6977\n",
      "Epoch 16/20\n",
      "33/33 [==============================] - 76s 2s/step - loss: 1.1441 - accuracy: 0.6905 - f1_score: 0.7361 - val_loss: 1.5805 - val_accuracy: 0.6484 - val_f1_score: 0.6863\n",
      "Epoch 17/20\n",
      "33/33 [==============================] - 76s 2s/step - loss: 1.1244 - accuracy: 0.6940 - f1_score: 0.7367 - val_loss: 1.6265 - val_accuracy: 0.6544 - val_f1_score: 0.6946\n",
      "Epoch 18/20\n",
      "33/33 [==============================] - 76s 2s/step - loss: 1.0847 - accuracy: 0.6974 - f1_score: 0.7407 - val_loss: 1.6432 - val_accuracy: 0.6594 - val_f1_score: 0.7002\n",
      "Epoch 19/20\n",
      "33/33 [==============================] - 76s 2s/step - loss: 1.0718 - accuracy: 0.7023 - f1_score: 0.7471 - val_loss: 1.6481 - val_accuracy: 0.6591 - val_f1_score: 0.6961\n",
      "Epoch 20/20\n",
      "33/33 [==============================] - 76s 2s/step - loss: 1.0449 - accuracy: 0.7126 - f1_score: 0.7535 - val_loss: 1.6810 - val_accuracy: 0.6544 - val_f1_score: 0.6921\n",
      "Epoch 00020: early stopping\n"
     ]
    }
   ],
   "source": [
    "bi_lstm_history = bi_lstm_att_model.fit(\n",
    "    x_train, y_train, epochs = 20, batch_size = 256, \n",
    "    callbacks=[es], validation_data=(x_test, y_test), verbose=1)"
   ]
  },
  {
   "cell_type": "code",
   "execution_count": 45,
   "id": "d1b3b945",
   "metadata": {},
   "outputs": [
    {
     "name": "stdout",
     "output_type": "stream",
     "text": [
      "88/88 [==============================] - 19s 219ms/step - loss: 1.6810 - accuracy: 0.6544 - f1_score: 0.6895\n",
      "loss: 1.681\n",
      "accuracy: 0.654\n",
      "f1_score: 0.690\n"
     ]
    }
   ],
   "source": [
    "bi_lstm_att_result = bi_lstm_att_model.evaluate(x_test, y_test, verbose=1)\n",
    "\n",
    "for name, value in zip(bi_lstm_att_model.metrics_names, bi_lstm_att_result):\n",
    "    print(\"%s: %.3f\" % (name, value))"
   ]
  },
  {
   "cell_type": "markdown",
   "id": "72f51e39",
   "metadata": {},
   "source": [
    "&nbsp;"
   ]
  },
  {
   "cell_type": "markdown",
   "id": "fa447396",
   "metadata": {},
   "source": [
    "### Transformer\n",
    "\n",
    "----"
   ]
  },
  {
   "cell_type": "code",
   "execution_count": 46,
   "id": "8549d024",
   "metadata": {},
   "outputs": [],
   "source": [
    "from tensorflow import keras\n",
    "from tensorflow.keras import layers\n",
    "\n",
    "class TransformerBlock(layers.Layer):\n",
    "    def __init__(self, embed_dim, num_heads, ff_dim, rate=0.1):\n",
    "        super(TransformerBlock, self).__init__()\n",
    "        self.att = layers.MultiHeadAttention(num_heads=num_heads, key_dim=embed_dim)\n",
    "        self.ffn = keras.Sequential(\n",
    "            [layers.Dense(ff_dim, activation=\"relu\"), layers.Dense(embed_dim),]\n",
    "        )\n",
    "        self.layernorm1 = layers.LayerNormalization(epsilon=1e-6)\n",
    "        self.layernorm2 = layers.LayerNormalization(epsilon=1e-6)\n",
    "        self.dropout1 = layers.Dropout(rate)\n",
    "        self.dropout2 = layers.Dropout(rate)\n",
    "\n",
    "    def call(self, inputs, training):\n",
    "        attn_output = self.att(inputs, inputs)\n",
    "        attn_output = self.dropout1(attn_output, training=training)\n",
    "        out1 = self.layernorm1(inputs + attn_output)\n",
    "        \n",
    "        ffn_output = self.ffn(out1)\n",
    "        ffn_output = self.dropout2(ffn_output, training=training)\n",
    "        return self.layernorm2(out1 + ffn_output)"
   ]
  },
  {
   "cell_type": "code",
   "execution_count": 47,
   "id": "3ef81f87",
   "metadata": {},
   "outputs": [],
   "source": [
    "class TokenAndPositionEmbedding(layers.Layer):\n",
    "    def __init__(self, maxlen, vocab_size, embed_dim):\n",
    "        super(TokenAndPositionEmbedding, self).__init__()\n",
    "        self.token_emb = layers.Embedding(input_dim=vocab_size, output_dim=embed_dim)\n",
    "        self.pos_emb = layers.Embedding(input_dim=maxlen, output_dim=embed_dim)\n",
    "\n",
    "    def call(self, x):\n",
    "        maxlen = tf.shape(x)[-1]\n",
    "        positions = tf.range(start=0, limit=maxlen, delta=1)\n",
    "        positions = self.pos_emb(positions)\n",
    "        x = self.token_emb(x)\n",
    "        return x + positions"
   ]
  },
  {
   "cell_type": "code",
   "execution_count": 48,
   "id": "8d98303a",
   "metadata": {},
   "outputs": [],
   "source": [
    "x_train = keras.preprocessing.sequence.pad_sequences(x_train, maxlen=max_len)\n",
    "x_test = keras.preprocessing.sequence.pad_sequences(x_test, maxlen=max_len)"
   ]
  },
  {
   "cell_type": "code",
   "execution_count": 49,
   "id": "044a3fc4",
   "metadata": {},
   "outputs": [],
   "source": [
    "embed_dim = 32  # 각 토큰에 대한 임베딩 크기（Embedding size for each token）\n",
    "num_heads = 2  # 어텐션 헤드의 수（Number of attention heads）\n",
    "ff_dim = 32  # 트랜스포머 내부 Feed forward network 의 Hidden layer size（Hidden layer size in feed forward network inside transformer）\n",
    "\n",
    "inputs = layers.Input(shape=(max_len,))\n",
    "embedding_layer = TokenAndPositionEmbedding(max_len, vocab_size, embed_dim)\n",
    "x = embedding_layer(inputs)\n",
    "\n",
    "transformer_block = TransformerBlock(embed_dim, num_heads, ff_dim)\n",
    "x = transformer_block(x)\n",
    "\n",
    "x = layers.GlobalAveragePooling1D()(x)\n",
    "x = layers.Dropout(0.1)(x)\n",
    "\n",
    "x = layers.Dense(20, activation=\"relu\")(x)\n",
    "x = layers.Dropout(0.1)(x)\n",
    "\n",
    "outputs = layers.Dense(46, activation=\"softmax\")(x)\n",
    "\n",
    "\n",
    "tform_model = keras.Model(inputs=inputs, outputs=outputs)"
   ]
  },
  {
   "cell_type": "code",
   "execution_count": 50,
   "id": "99a04081",
   "metadata": {},
   "outputs": [
    {
     "data": {
      "image/png": "[encoded data removed]",
      "text/plain": [
       "<IPython.core.display.Image object>"
      ]
     },
     "execution_count": 50,
     "metadata": {},
     "output_type": "execute_result"
    }
   ],
   "source": [
    "tf.keras.utils.plot_model(tform_model, show_shapes=True)"
   ]
  },
  {
   "cell_type": "code",
   "execution_count": 51,
   "id": "146a3aaa",
   "metadata": {},
   "outputs": [
    {
     "name": "stdout",
     "output_type": "stream",
     "text": [
      "Epoch 1/20\n",
      "66/66 [==============================] - 3s 24ms/step - loss: 2.6249 - accuracy: 0.3496 - f1_score: 0.1473 - val_loss: 2.1786 - val_accuracy: 0.4442 - val_f1_score: 0.4157\n",
      "Epoch 2/20\n",
      "66/66 [==============================] - 1s 20ms/step - loss: 2.0020 - accuracy: 0.5083 - f1_score: 0.4690 - val_loss: 1.6991 - val_accuracy: 0.6042 - val_f1_score: 0.6252\n",
      "Epoch 3/20\n",
      "66/66 [==============================] - 1s 20ms/step - loss: 1.5615 - accuracy: 0.6249 - f1_score: 0.6466 - val_loss: 1.4610 - val_accuracy: 0.6470 - val_f1_score: 0.6764\n",
      "Epoch 4/20\n",
      "66/66 [==============================] - 1s 20ms/step - loss: 1.3083 - accuracy: 0.6853 - f1_score: 0.7052 - val_loss: 1.3309 - val_accuracy: 0.6747 - val_f1_score: 0.7110\n",
      "Epoch 5/20\n",
      "66/66 [==============================] - 1s 20ms/step - loss: 1.1242 - accuracy: 0.7254 - f1_score: 0.7493 - val_loss: 1.2705 - val_accuracy: 0.6829 - val_f1_score: 0.7283\n",
      "Epoch 6/20\n",
      "66/66 [==============================] - 1s 20ms/step - loss: 0.9460 - accuracy: 0.7646 - f1_score: 0.7882 - val_loss: 1.1318 - val_accuracy: 0.7364 - val_f1_score: 0.7513\n",
      "Epoch 7/20\n",
      "66/66 [==============================] - 1s 20ms/step - loss: 0.7943 - accuracy: 0.8054 - f1_score: 0.8147 - val_loss: 1.1042 - val_accuracy: 0.7453 - val_f1_score: 0.7664\n",
      "Epoch 8/20\n",
      "66/66 [==============================] - 1s 20ms/step - loss: 0.6808 - accuracy: 0.8324 - f1_score: 0.8406 - val_loss: 1.1398 - val_accuracy: 0.7517 - val_f1_score: 0.7651\n",
      "Epoch 9/20\n",
      "66/66 [==============================] - 1s 20ms/step - loss: 0.5921 - accuracy: 0.8512 - f1_score: 0.8562 - val_loss: 1.1519 - val_accuracy: 0.7481 - val_f1_score: 0.7633\n",
      "Epoch 10/20\n",
      "66/66 [==============================] - 1s 20ms/step - loss: 0.5280 - accuracy: 0.8664 - f1_score: 0.8699 - val_loss: 1.2120 - val_accuracy: 0.7499 - val_f1_score: 0.7593\n",
      "Epoch 11/20\n",
      "66/66 [==============================] - 1s 20ms/step - loss: 0.4589 - accuracy: 0.8837 - f1_score: 0.8871 - val_loss: 1.2502 - val_accuracy: 0.7567 - val_f1_score: 0.7695\n",
      "Epoch 00011: early stopping\n"
     ]
    }
   ],
   "source": [
    "tform_model.compile(\n",
    "    optimizer=\"adam\", \n",
    "    loss=\"categorical_crossentropy\", \n",
    "    metrics=[\"accuracy\", f1_score]\n",
    ")\n",
    "history = tform_model.fit(\n",
    "    x_train, y_train, \n",
    "    batch_size=128, epochs=20, \n",
    "    callbacks=[es], validation_data=(x_test, y_test)\n",
    ")"
   ]
  },
  {
   "cell_type": "code",
   "execution_count": 52,
   "id": "baff3c4f",
   "metadata": {},
   "outputs": [
    {
     "name": "stdout",
     "output_type": "stream",
     "text": [
      "88/88 - 0s - loss: 1.2502 - accuracy: 0.7567 - f1_score: 0.7685\n",
      "loss: 1.250\n",
      "accuracy: 0.757\n",
      "f1_score: 0.768\n"
     ]
    }
   ],
   "source": [
    "results = tform_model.evaluate(x_test, y_test, verbose=2)\n",
    "\n",
    "for name, value in zip(tform_model.metrics_names, results):\n",
    "    print(\"%s: %.3f\" % (name, value))"
   ]
  },
  {
   "cell_type": "markdown",
   "id": "2f1e8857",
   "metadata": {},
   "source": [
    "&nbsp;"
   ]
  },
  {
   "cell_type": "markdown",
   "id": "d4c6ec5e",
   "metadata": {},
   "source": [
    "vocab_size 를 변경（12000 → None）하여 훈련과 평가를 해보자."
   ]
  },
  {
   "cell_type": "code",
   "execution_count": 53,
   "id": "51c3a99e",
   "metadata": {},
   "outputs": [],
   "source": [
    "vocab_size=None\n",
    "x_train, y_train, x_test, y_test, tfidfv_train, tfidfv_test, index_to_word = load_reuters(num_words=vocab_size)\n",
    "x_train = pad_sequences(x_train, maxlen=max_len)\n",
    "x_test = pad_sequences(x_test, maxlen=max_len)\n",
    "y_train = to_categorical(y_train)\n",
    "y_test = to_categorical(y_test)"
   ]
  },
  {
   "cell_type": "code",
   "execution_count": 54,
   "id": "e4bcacfd",
   "metadata": {},
   "outputs": [
    {
     "name": "stdout",
     "output_type": "stream",
     "text": [
      "Epoch 1/30\n",
      "66/66 [==============================] - 3s 27ms/step - loss: 0.4320 - acc: 0.8940 - f1_score: 0.8890 - val_loss: 1.6169 - val_acc: 0.6569 - val_f1_score: 0.6865\n",
      "Epoch 2/30\n",
      "66/66 [==============================] - 1s 20ms/step - loss: 0.3654 - acc: 0.9090 - f1_score: 0.9047 - val_loss: 1.6382 - val_acc: 0.6812 - val_f1_score: 0.7028\n",
      "Epoch 3/30\n",
      "66/66 [==============================] - 1s 20ms/step - loss: 0.3513 - acc: 0.9151 - f1_score: 0.9099 - val_loss: 1.6836 - val_acc: 0.6740 - val_f1_score: 0.6972\n",
      "Epoch 4/30\n",
      "66/66 [==============================] - 1s 20ms/step - loss: 0.2909 - acc: 0.9295 - f1_score: 0.9263 - val_loss: 1.7051 - val_acc: 0.6687 - val_f1_score: 0.6916\n",
      "Epoch 5/30\n",
      "66/66 [==============================] - 1s 20ms/step - loss: 0.2629 - acc: 0.9353 - f1_score: 0.9317 - val_loss: 1.7451 - val_acc: 0.6698 - val_f1_score: 0.6937\n",
      "Epoch 00005: early stopping\n",
      "88/88 [==============================] - 1s 6ms/step - loss: 1.7451 - acc: 0.6698 - f1_score: 0.6929\n",
      "loss: 1.745\n",
      "acc: 0.670\n",
      "f1_score: 0.693\n"
     ]
    }
   ],
   "source": [
    "lstm_model.compile(\n",
    "    loss='categorical_crossentropy', \n",
    "    optimizer='adam', \n",
    "    metrics=['acc', f1_score])\n",
    "\n",
    "lstm_history = lstm_model.fit(\n",
    "    x_train, y_train, \n",
    "    batch_size=128, epochs=30, \n",
    "    callbacks=[es], validation_data=(x_test, y_test))\n",
    "\n",
    "lstm_result = lstm_model.evaluate(x_test, y_test, verbose=1)\n",
    "\n",
    "for name, value in zip(lstm_model.metrics_names, lstm_result):\n",
    "    print(\"%s: %.3f\" % (name, value))"
   ]
  },
  {
   "cell_type": "code",
   "execution_count": 55,
   "id": "fe8d095a",
   "metadata": {},
   "outputs": [
    {
     "name": "stdout",
     "output_type": "stream",
     "text": [
      "Epoch 1/20\n",
      "33/33 [==============================] - 91s 2s/step - loss: 1.0547 - accuracy: 0.7118 - f1_score: 0.7501 - val_loss: 1.5856 - val_accuracy: 0.6676 - val_f1_score: 0.7019\n",
      "Epoch 2/20\n",
      "33/33 [==============================] - 76s 2s/step - loss: 0.9991 - accuracy: 0.7218 - f1_score: 0.7618 - val_loss: 1.7077 - val_accuracy: 0.6694 - val_f1_score: 0.7031\n",
      "Epoch 3/20\n",
      "33/33 [==============================] - 75s 2s/step - loss: 0.9796 - accuracy: 0.7216 - f1_score: 0.7639 - val_loss: 1.6661 - val_accuracy: 0.6726 - val_f1_score: 0.7056\n",
      "Epoch 4/20\n",
      "33/33 [==============================] - 76s 2s/step - loss: 0.9758 - accuracy: 0.7291 - f1_score: 0.7692 - val_loss: 1.6978 - val_accuracy: 0.6687 - val_f1_score: 0.7006\n",
      "Epoch 5/20\n",
      "33/33 [==============================] - 76s 2s/step - loss: 0.9334 - accuracy: 0.7366 - f1_score: 0.7808 - val_loss: 1.7380 - val_accuracy: 0.6779 - val_f1_score: 0.7091\n",
      "Epoch 00005: early stopping\n",
      "88/88 [==============================] - 19s 219ms/step - loss: 1.7380 - accuracy: 0.6779 - f1_score: 0.7074\n",
      "loss: 1.738\n",
      "accuracy: 0.678\n",
      "f1_score: 0.707\n"
     ]
    }
   ],
   "source": [
    "bi_lstm_att_model.compile(\n",
    "    loss='categorical_crossentropy', \n",
    "    optimizer='adam', \n",
    "    metrics=['accuracy', f1_score])\n",
    "\n",
    "bi_lstm_history = bi_lstm_att_model.fit(\n",
    "    x_train, y_train, epochs = 20, batch_size = 256, \n",
    "    callbacks=[es], validation_data=(x_test, y_test), verbose=1)\n",
    "\n",
    "bi_lstm_att_result = bi_lstm_att_model.evaluate(x_test, y_test, verbose=1)\n",
    "\n",
    "for name, value in zip(bi_lstm_att_model.metrics_names, bi_lstm_att_result):\n",
    "    print(\"%s: %.3f\" % (name, value))"
   ]
  },
  {
   "cell_type": "code",
   "execution_count": 56,
   "id": "1d94b72c",
   "metadata": {},
   "outputs": [
    {
     "name": "stdout",
     "output_type": "stream",
     "text": [
      "Epoch 1/20\n",
      "66/66 [==============================] - 3s 24ms/step - loss: 0.4115 - accuracy: 0.8992 - f1_score: 0.8975 - val_loss: 1.2955 - val_accuracy: 0.7556 - val_f1_score: 0.7685\n",
      "Epoch 2/20\n",
      "66/66 [==============================] - 1s 20ms/step - loss: 0.3721 - accuracy: 0.9056 - f1_score: 0.9043 - val_loss: 1.3512 - val_accuracy: 0.7506 - val_f1_score: 0.7612\n",
      "Epoch 3/20\n",
      "66/66 [==============================] - 1s 20ms/step - loss: 0.3389 - accuracy: 0.9137 - f1_score: 0.9157 - val_loss: 1.3961 - val_accuracy: 0.7528 - val_f1_score: 0.7608\n",
      "Epoch 4/20\n",
      "66/66 [==============================] - 1s 20ms/step - loss: 0.3043 - accuracy: 0.9207 - f1_score: 0.9204 - val_loss: 1.4134 - val_accuracy: 0.7563 - val_f1_score: 0.7653\n",
      "Epoch 5/20\n",
      "66/66 [==============================] - 1s 20ms/step - loss: 0.2805 - accuracy: 0.9266 - f1_score: 0.9264 - val_loss: 1.4991 - val_accuracy: 0.7574 - val_f1_score: 0.7631\n",
      "Epoch 00005: early stopping\n",
      "88/88 [==============================] - 0s 4ms/step - loss: 1.4991 - accuracy: 0.7574 - f1_score: 0.7625\n",
      "loss: 1.499\n",
      "accuracy: 0.757\n",
      "f1_score: 0.762\n"
     ]
    }
   ],
   "source": [
    "tform_model.compile(\n",
    "    optimizer=\"adam\", \n",
    "    loss=\"categorical_crossentropy\", \n",
    "    metrics=[\"accuracy\", f1_score])\n",
    "\n",
    "history = tform_model.fit(\n",
    "    x_train, y_train, \n",
    "    batch_size=128, epochs=20, \n",
    "    callbacks=[es], validation_data=(x_test, y_test))\n",
    "\n",
    "tform_results = tform_model.evaluate(x_test, y_test, verbose=1)\n",
    "\n",
    "for name, value in zip(tform_model.metrics_names, tform_results):\n",
    "    print(\"%s: %.3f\" % (name, value))"
   ]
  },
  {
   "cell_type": "markdown",
   "id": "791077f2",
   "metadata": {},
   "source": [
    "&nbsp;"
   ]
  },
  {
   "cell_type": "markdown",
   "id": "a6691168",
   "metadata": {},
   "source": [
    "이번에는 vocab_size 를 6000 으로 설정하여 진행해보겠다."
   ]
  },
  {
   "cell_type": "code",
   "execution_count": 57,
   "id": "acc15fa3",
   "metadata": {},
   "outputs": [],
   "source": [
    "vocab_size=6000\n",
    "x_train, y_train, x_test, y_test, tfidfv_train, tfidfv_test, index_to_word = load_reuters(num_words=vocab_size)\n",
    "x_train = pad_sequences(x_train, maxlen=max_len)\n",
    "x_test = pad_sequences(x_test, maxlen=max_len)\n",
    "y_train = to_categorical(y_train)\n",
    "y_test = to_categorical(y_test)"
   ]
  },
  {
   "cell_type": "code",
   "execution_count": 58,
   "id": "05c77e58",
   "metadata": {},
   "outputs": [
    {
     "name": "stdout",
     "output_type": "stream",
     "text": [
      "Epoch 1/30\n",
      "66/66 [==============================] - 4s 27ms/step - loss: 0.3924 - acc: 0.8980 - f1_score: 0.8981 - val_loss: 1.7378 - val_acc: 0.6744 - val_f1_score: 0.6937\n",
      "Epoch 2/30\n",
      "66/66 [==============================] - 1s 20ms/step - loss: 0.3030 - acc: 0.9236 - f1_score: 0.9217 - val_loss: 1.7217 - val_acc: 0.6755 - val_f1_score: 0.6964\n",
      "Epoch 3/30\n",
      "66/66 [==============================] - 1s 20ms/step - loss: 0.2921 - acc: 0.9217 - f1_score: 0.9205 - val_loss: 1.7355 - val_acc: 0.6687 - val_f1_score: 0.6876\n",
      "Epoch 4/30\n",
      "66/66 [==============================] - 1s 20ms/step - loss: 0.2559 - acc: 0.9309 - f1_score: 0.9317 - val_loss: 1.7549 - val_acc: 0.6840 - val_f1_score: 0.6977\n",
      "Epoch 5/30\n",
      "66/66 [==============================] - 1s 20ms/step - loss: 0.2073 - acc: 0.9457 - f1_score: 0.9440 - val_loss: 1.7828 - val_acc: 0.6651 - val_f1_score: 0.6879\n",
      "Epoch 6/30\n",
      "66/66 [==============================] - 1s 20ms/step - loss: 0.1885 - acc: 0.9513 - f1_score: 0.9508 - val_loss: 1.8843 - val_acc: 0.6683 - val_f1_score: 0.6824\n",
      "Epoch 00006: early stopping\n",
      "88/88 [==============================] - 1s 6ms/step - loss: 1.8843 - acc: 0.6683 - f1_score: 0.6825\n",
      "loss: 1.884\n",
      "acc: 0.668\n",
      "f1_score: 0.682\n"
     ]
    }
   ],
   "source": [
    "lstm_model.compile(\n",
    "    loss='categorical_crossentropy', \n",
    "    optimizer='adam', \n",
    "    metrics=['acc', f1_score])\n",
    "\n",
    "lstm_history = lstm_model.fit(\n",
    "    x_train, y_train, \n",
    "    batch_size=128, epochs=30, \n",
    "    callbacks=[es], validation_data=(x_test, y_test))\n",
    "\n",
    "lstm_result = lstm_model.evaluate(x_test, y_test, verbose=1)\n",
    "\n",
    "for name, value in zip(lstm_model.metrics_names, lstm_result):\n",
    "    print(\"%s: %.3f\" % (name, value))"
   ]
  },
  {
   "cell_type": "code",
   "execution_count": 59,
   "id": "11428569",
   "metadata": {},
   "outputs": [
    {
     "name": "stdout",
     "output_type": "stream",
     "text": [
      "Epoch 1/20\n",
      "33/33 [==============================] - 92s 2s/step - loss: 1.0628 - accuracy: 0.7118 - f1_score: 0.7431 - val_loss: 1.5551 - val_accuracy: 0.6765 - val_f1_score: 0.7115\n",
      "Epoch 2/20\n",
      "33/33 [==============================] - 76s 2s/step - loss: 0.9946 - accuracy: 0.7272 - f1_score: 0.7630 - val_loss: 1.5419 - val_accuracy: 0.6790 - val_f1_score: 0.7130\n",
      "Epoch 3/20\n",
      "33/33 [==============================] - 76s 2s/step - loss: 0.9376 - accuracy: 0.7374 - f1_score: 0.7743 - val_loss: 1.6343 - val_accuracy: 0.6751 - val_f1_score: 0.7080\n",
      "Epoch 4/20\n",
      "33/33 [==============================] - 76s 2s/step - loss: 0.9387 - accuracy: 0.7392 - f1_score: 0.7786 - val_loss: 1.6243 - val_accuracy: 0.6829 - val_f1_score: 0.7151\n",
      "Epoch 5/20\n",
      "33/33 [==============================] - 75s 2s/step - loss: 0.9112 - accuracy: 0.7439 - f1_score: 0.7858 - val_loss: 1.7005 - val_accuracy: 0.6797 - val_f1_score: 0.7140\n",
      "Epoch 6/20\n",
      "33/33 [==============================] - 75s 2s/step - loss: 0.8800 - accuracy: 0.7485 - f1_score: 0.7880 - val_loss: 1.7415 - val_accuracy: 0.6854 - val_f1_score: 0.7164\n",
      "Epoch 00006: early stopping\n",
      "88/88 [==============================] - 19s 220ms/step - loss: 1.7415 - accuracy: 0.6854 - f1_score: 0.7148\n",
      "loss: 1.741\n",
      "accuracy: 0.685\n",
      "f1_score: 0.715\n"
     ]
    }
   ],
   "source": [
    "bi_lstm_att_model.compile(\n",
    "    loss='categorical_crossentropy', \n",
    "    optimizer='adam', \n",
    "    metrics=['accuracy', f1_score])\n",
    "\n",
    "bi_lstm_history = bi_lstm_att_model.fit(\n",
    "    x_train, y_train, epochs = 20, batch_size = 256, \n",
    "    callbacks=[es], validation_data=(x_test, y_test), verbose=1)\n",
    "\n",
    "bi_lstm_att_result = bi_lstm_att_model.evaluate(x_test, y_test, verbose=1)\n",
    "\n",
    "for name, value in zip(bi_lstm_att_model.metrics_names, bi_lstm_att_result):\n",
    "    print(\"%s: %.3f\" % (name, value))"
   ]
  },
  {
   "cell_type": "raw",
   "id": "8b7443ba",
   "metadata": {},
   "source": [
    "tform_model.compile(\n",
    "    optimizer=\"adam\", \n",
    "    loss=\"categorical_crossentropy\", \n",
    "    metrics=[\"accuracy\", f1_score])\n",
    "\n",
    "history = tform_model.fit(\n",
    "    x_train, y_train, \n",
    "    batch_size=128, epochs=20, \n",
    "    callbacks=[es], validation_data=(x_test, y_test))\n",
    "\n",
    "tform_results = tform_model.evaluate(x_test, y_test, verbose=1)\n",
    "\n",
    "for name, value in zip(tform_model.metrics_names, tform_results):\n",
    "    print(\"%s: %.3f\" % (name, value))"
   ]
  },
  {
   "cell_type": "markdown",
   "id": "61d09dd9",
   "metadata": {},
   "source": [
    "다음 문단에서 이상의 내용을 추가하여, 실험 결과를 정리하고 분석을 진행하도록 하자."
   ]
  },
  {
   "cell_type": "markdown",
   "id": "b2e682bc",
   "metadata": {},
   "source": [
    "&nbsp;"
   ]
  },
  {
   "cell_type": "markdown",
   "id": "c85b1b90",
   "metadata": {},
   "source": [
    "## 6. 실험 결과 정리"
   ]
  },
  {
   "attachments": {
    "GD_NLP_S2B001.png": {
     "image/png": "[encoded data removed]"
    }
   },
   "cell_type": "markdown",
   "id": "dd2a6a09",
   "metadata": {},
   "source": [
    "![GD_NLP_S2B001.png](attachment:GD_NLP_S2B001.png)"
   ]
  },
  {
   "cell_type": "markdown",
   "id": "190184c6",
   "metadata": {},
   "source": [
    "&nbsp;"
   ]
  },
  {
   "cell_type": "markdown",
   "id": "45ad8bc2",
   "metadata": {},
   "source": [
    "### 머신러닝 기법 특징과 분석\n",
    "\n",
    "---"
   ]
  },
  {
   "cell_type": "markdown",
   "id": "8205d1eb",
   "metadata": {},
   "source": [
    "|모델|특징|분석|\n",
    "|:---|:---|:---|\n",
    "|MultinomialNB|LogisticRegression이나 LinearSVC 같은<br>선형 분류기보다 훈련 속도가 빠른 편<br>대신 일반화 성능이 조금 떨어진다.|실제로도 훈련 소요시간은 짧았다.<br>LogisticRegression이나 LinearSVC 보다<br>성능이 떨어지는 것을 확인할 수 있다.|\n",
    "|ComplementNB|(분류) 데이터가 불균형할 경우를 대비하여<br>나이브 베이즈 분류기를 보완한 모델.<br>일반적으로 MultinomialNB 보다 성능이 좋다.|훈련결과 정리에서 MultinomialNB 보다<br>높은 성능을 확인 할 수 있다.|\n",
    "|LogisticRegression|다중 클래스 분류를 위한 로지스틱 회귀<br>Softmax Regression 라고도 한다.<br>이름은 회귀지만, 실제로는 분류 수행.<br>N개 클래스 일 때, N차원의 벡터가,<br>각 클래스 정답일 확률을 표현하도록 정규화.|오차와 정답간의 차이를 줄여나가는<br>softmax 회귀 과정을 통해 가중치/편향 학습.<br>오랜 훈련시간, 비교적 높은 정확도.|\n",
    "|LinearSVC|대표적인 선형분류모델.<br>기본적으로는 이진분류만을 지원하나,<br>사이킷런의 이진분류 알고리즘은<br>클래스의 수 만큼 이진 분류모델 만들어 학습|클래스의 수 만큼 만들어진 이진 분류기가<br>가장 높은 점수를 내는 분류기의 클래스를<br>예측값으로 선택.<br>속도, 정확도 모두 평균이상.<br>ComplementNB 정도(혹은 살짝 더 높은) 성능.|\n",
    "|DecisionTreeClassifier|결정트리는 결정에 다다르기 위해<br>'예/아니오' 질문을 이어 나가면서 학습.<br>고차원이고 희소한 데이터에 대해서는<br>성능이 나오지 않는다.|DTM이나 TF-IDF 행렬의 경우 고차원이며,<br>대부분의 값이 0인 희소한 데이터.<br>트리 계열의 모델이라 선형분류 모델에 비해<br>부족한 성능을 확인 할 수 있다.|\n",
    "|RandomForestClassifier|결정트리를 사용하는 앙상블 모델.<br>과적합(Overfitting) 문제를 앙상블로 해결.|기존 트리계열의 모델들의 낮은 성능이<br>어느정도 보완된 결과를 확인 할 수 있다.|\n",
    "|GradientBoostingClassifier|결정트리를 사용하는 앙상블 모델.<br>랜덤포레스트와 차이점은 이전 트리의 오차를<br>보완하는 방식으로 순차적으로 트리를 생성.<br>메모리 적게 사용, 정확도 준수, 예측 빠름.<br>훈련 시간 속도는 느리고 오래 걸림.<br>트리기반 모델 특성상 고차원데이터에 불리.|TF-IDF 행렬은 희소하고 고차원 데이터.<br>LogisticRegression, LinearSVC 보다 낮지만,<br>트리 계열 모델에서는 가장 높은 성능.|\n",
    "|VotingClassifier|투표를 통해 결과 도출하는 모델.<br>여기서는 소프트 보팅 사용.|일반적인 앙상블기법 장점 – 성능이 좋다.<br>로지스틱 회귀, CNB, 그래디언트부스팅 사용,<br>소프트 보팅결과 가장 높은 정확도 산출.|"
   ]
  },
  {
   "cell_type": "markdown",
   "id": "01db8172",
   "metadata": {},
   "source": [
    "&nbsp;"
   ]
  },
  {
   "cell_type": "markdown",
   "id": "bacfb6c8",
   "metadata": {},
   "source": [
    "### Vocabulary size 에 따른 분석\n",
    "\n",
    "<hr>"
   ]
  },
  {
   "cell_type": "markdown",
   "id": "3c2179a9",
   "metadata": {},
   "source": [
    "Vocabulary size를 크게 가져갈 수록 일반적으로는 성능의 향상을 기대할 수 있을 것이라 생각하였다.\n",
    "\n",
    "실제 훈련/평가 과정에서는 LogisticRegression 과  GradientBoostingClassifier 모델이\n",
    "\n",
    "Vocabulary size 크기가 증가 할 수록 약간의 성능 증가를 확인 할 수 있었다."
   ]
  },
  {
   "cell_type": "markdown",
   "id": "5a9ed593",
   "metadata": {},
   "source": [
    "MultinomialNB, RandomForestClassifier 의 경우, 모두 선형모델이 아니다.\n",
    "\n",
    "이 모델들은, 희소 행렬과, 고차원 데이터에 불리한 모습을 보였는데,\n",
    "\n",
    "실험을 통해, Vocabulary size 크기가 증가 할 수록 다른 모델들 대비 유독 성능이 떨어지는 것을 확인 할 수 있다."
   ]
  },
  {
   "cell_type": "markdown",
   "id": "55a92f58",
   "metadata": {},
   "source": [
    "단어 수를 배로 늘려가며 확인한 결과인데 성능 차이가 크지 않은 이유로 생각해 볼 수 있는 내용은,\n",
    "\n",
    "아래의 「딥러닝 모델과의 성능 분석」 파트에서도 다루겠지만, 몇가지 추정하는 내용은 아래와 같다.\n",
    "\n",
    "사용한 데이터 자체가 문법적으로 올바르고, 데이터의 라벨이 불균형하게 분포되어있어서,\n",
    "\n",
    "특정 카테고리에서 자주 쓰이는 단어들이 높은 비중을 차지할 것이다.\n",
    "\n",
    "그래서 단어 수가 그렇게 많이 필요하지 않을 것이라고 생각한다.\n",
    "\n",
    "아마도, 단어 수를 점차 줄여가며 테스트를 해 본다거나 오버샘플링 기법을 활용하면 더 좋았을 것 같다."
   ]
  },
  {
   "cell_type": "markdown",
   "id": "f0b45c3d",
   "metadata": {},
   "source": [
    "성능이 떨어지는 모델들의 경우는, 모델 자체의 특성도 더해졌기 때문이 아닐까 생각한다.\n",
    "\n",
    "기본적으로 다른 모델들 대비 성능들이 떨어졌던 모델들이다.\n",
    "\n",
    "사용한 데이터처럼, 불균형한 데이터에 취약한 모델인, MultinomialNB.\n",
    "\n",
    "RandomForestClassifier는 DecisionTreeClassifier 보다 개선되었다고는 하나, 위 표의 정리에서도 확인 할 수 있듯,\n",
    "\n",
    "트리 계열은 기본적으로 여기서 사용한 데이터와 같이, 고차원이고 희소한 데이터에 대해서는 성능이 나오지 않는 모델이다.\n"
   ]
  },
  {
   "cell_type": "markdown",
   "id": "31bfc79f",
   "metadata": {},
   "source": [
    "반면, 기본 성능도 괜찮았던, GradientBoostingClassifier 은 성능이 올라간 것을 확인 할 수 있는데,\n",
    "\n",
    "GradientBoostingClassifier 모델은 다른 트리 계열 모델 대비 이전 트리의 오차를보완하는 방식이 더해진 모델이다.\n",
    "\n",
    "LogisticRegression 모델도 오차와 정답간의 차이를 줄여나가는 방법을 사용하는 모델이고.\n",
    "\n",
    "VotingClassifier 도 이러한 오차를 줄여가는 모델을 사용하여 soft voting 하였다.\n",
    "\n",
    "이러한 모델들이 단어 수의 증가에 따른 약간이지만 성능 향상을 확인 할 수 있다."
   ]
  },
  {
   "cell_type": "markdown",
   "id": "1379939d",
   "metadata": {},
   "source": [
    "&nbsp;"
   ]
  },
  {
   "cell_type": "markdown",
   "id": "0d8f410d",
   "metadata": {},
   "source": [
    "### 딥러닝 모델과의 성능 분석\n",
    "\n",
    "---"
   ]
  },
  {
   "cell_type": "markdown",
   "id": "effbc41f",
   "metadata": {},
   "source": [
    "- 딥러닝 모델의 경우, LSTM → Attention → Transformer 순서로 성능이 좋은 것을 확인할 수 있다. <br>&nbsp;\n",
    "\n",
    "- Vocabulary size 에 따른 영향은 유의미한 차이를 보여주는 모델은 없는 것으로 보인다. <br>&nbsp;\n",
    "\n",
    "- 참고자료로 사용한 \"고전적인 기계 학습 알고리즘에 대한 비교 연구\" 내용에 따르면, 다음과 같다.<br>&nbsp;\n",
    "  \n",
    "  + 고전적인 기계 학습 알고리즘이라 함은, 본 프로젝트에서의 머신러닝 모델들을 의미한다.<br>&nbsp;\n",
    " \n",
    "  + 연구 결론에서, ＂문법적으로 올바르다면 고전적인 기계 학습 모델이 꽤 잘 작동한다＂ 라는 결론을 내리고 있다.<br>&nbsp;\n",
    "  \n",
    "  + 로이터 뉴스기사 데이터의 경우에, 뉴스기사의 내용이므로, 거의 대부분 문법적으로 문제가 없을 것이다.<br>&nbsp;\n",
    "  \n",
    "  + 머신러닝의 정확도 / f1-score 가 높은 이유를 찾을 수 있다. <br>&nbsp;\n",
    "\n",
    "- 딥러닝을 사용하지 않고 머신 러닝만을 사용하는 상황에서 텍스트를 벡터화하여 좋은 feature 들을 뽑아내기 위해,<br>\n",
    "DTM, TF-IDF 행렬을 사용하여 벡터화를 수행하였고, 머신러닝을 통해서도 높은 성능의 결과를 확인 할 수 있었다.<br>&nbsp;\n",
    "  \n",
    "- 머신러닝과 딥러닝 모델을 비교하였을때, 딥러닝 모델보다 머신러닝이 더 성능이 좋았던 이유를 생각해보면, 다음과 같다.<br>&nbsp;\n",
    "\n",
    "  + 로이터 뉴스기사 데이터의 경우에, 클래스 3, 4 가 전체 46개 클래스의 데이터에서 절반 가까이를 차지하고 있는<br>\n",
    "  불균형 데이터(imbalanced data) 라고 볼 수 있다.<br>&nbsp;\n",
    "  \n",
    "  + 참고자료 ＂불균형 데이터 (imbalanced data) 처리를 위한 샘플링 기법＂ 에서, 이러한 문제에 대처할 방법으로<br>\n",
    "  데이터를 조정해서 불균형 데이터를 해결하는 언더샘플링 / 오버샘플링 기법을 제시하고 있다.<br>&nbsp;\n",
    "  \n",
    "  + 현재 딥러닝 모델은, 머신러닝 모델들과 공정한 비교를 한다는 이유로, 이러한 전처리 과정들을 적용하지 않은 상태이다. <br>&nbsp;\n",
    "  \n",
    "- 더 나은 데이터 전처리 기법 또는 임베딩을 통해 딥러닝 모델 정확도 향상을 위한 개선을 해 보는 것이 필요하다고 생각한다.\n"
   ]
  },
  {
   "cell_type": "markdown",
   "id": "8073ec98",
   "metadata": {},
   "source": [
    "<hr>"
   ]
  },
  {
   "cell_type": "markdown",
   "id": "8d3cfb68",
   "metadata": {},
   "source": [
    "## ■ 프로젝트 회고"
   ]
  },
  {
   "cell_type": "markdown",
   "id": "0021817e",
   "metadata": {},
   "source": [
    "### 1) 이번 프로젝트에서 \"어려웠던 점\""
   ]
  },
  {
   "cell_type": "markdown",
   "id": "6f5025ae",
   "metadata": {},
   "source": [
    "학습시간이 오래 걸리는 것들이 많아서 어려웠다.\n",
    "\n",
    "이런저런 참고 자료 찾고 개념정리하느라 어려웠다."
   ]
  },
  {
   "cell_type": "markdown",
   "id": "045660b6",
   "metadata": {},
   "source": [
    "### 2) 프로젝트를 진행하면서 본인이 '학습한 내용'"
   ]
  },
  {
   "cell_type": "markdown",
   "id": "5f5000bd",
   "metadata": {},
   "source": [
    "딥러닝(+임베딩)을 하지 않고, 머신러닝에서 DTM, TF-IDF 를 활용하여 텍스트 벡터화 및 머신러닝으로 분류 수행을 실습했다.\n",
    "\n",
    "불균형 데이터의 예측 결과를 평가하기에는 Accuracy 메트릭 보다 f1-score 를 사용하는 것이 더 적합한데, \n",
    "\n",
    "여기서 f1-score 와 confusion matrix 에 대해서 학습하였다.\n",
    "\n",
    "다양한 머신러닝 모델들로 훈련을 진행해보고, 그 결과를 평가하고 분석해 보며, 여러 모델들의 특징을 분석하였다.\n",
    "\n",
    "단어 수에 따른 성능을 비교해 보면서, 영향을 주는 요소들에 대해 생각해 보았다."
   ]
  },
  {
   "cell_type": "markdown",
   "id": "69a166a2",
   "metadata": {},
   "source": [
    "### 3) 프로젝트를 진행하면서 '알아낸 점' 혹은 '아직 모호한 점'"
   ]
  },
  {
   "cell_type": "markdown",
   "id": "dbdcf414",
   "metadata": {},
   "source": [
    "자연어 처리 분야에서 머신러닝을 이렇게 까지 끌어올려서 활용한다는 것이 살짝 놀라웠다.\n",
    "\n",
    "딥러닝을 쓰는게 당연한듯 생각하고 있었는데, 훈련과 평가결과를 보니, 상당히 인상적이었다.\n",
    "\n",
    "모호한점은, 단어 수에 따른 성능비교 부분인데, 전반적으로 성능이 조금 개선된 모델이 있는가 하면,\n",
    "\n",
    "저하된 모델도 있고, 영향을 크게 받지 않는 듯한 모델도 있다.\n",
    "\n",
    "실험에서 왜 굳이 단어 수에 따른 성능비교를 제시했는지, 본 프로젝트에서의 실험 과정에서 잘못된 부분이 있는건지,\n",
    "\n",
    "혹시 이 프로젝트에서 단어 수의 변경은 어떤 결과를 확인 할 수 있는 수행 목표인데, 내가 그것을 확인 하지 못한것인지…\n",
    "\n",
    "이도저도 확신이 들지 않는점이, 프로젝트 진행 과정에서 지속적으로 생각했던 가장 모호한 점이다."
   ]
  },
  {
   "cell_type": "markdown",
   "id": "fe31d860",
   "metadata": {},
   "source": [
    "### 4) 루브릭 평가 지표를 맞추기 위해 '시도한 것들'"
   ]
  },
  {
   "cell_type": "markdown",
   "id": "d01bfc39",
   "metadata": {},
   "source": [
    "딥러닝 모델에서도 동일한 유형의 결과를 산출해서 비교하기 위해 f1-score 적용 구현하는 코드를 참고자료 찾아 추가해주었다.\n",
    "\n",
    "단어 수에 다른 성능 비교를 위해, 6000, 12000, None 의 3가지 방법으로 비교 하였고,\n",
    "\n",
    "이에 따라 머신러닝 모델 8 종류, 딥러닝 모델 3 종류를 전부 비교하였다. (모델 11 * 단어 수 3)\n",
    "\n",
    "머신러닝 알고리즘의 특성에 근거한 원인 분석을 표로 정리하고 요약 시도하였다.\n",
    "\n",
    "딥러닝 모델 성능과 비교한 결과를 전체 실험 요건에 맞추어 표로 정리하고 요약하였다."
   ]
  },
  {
   "cell_type": "markdown",
   "id": "84258469",
   "metadata": {},
   "source": [
    "### 5) 만약에 '루브릭 평가 지표를 달성하지 못했을 때, 이유에 관한 추정'"
   ]
  },
  {
   "cell_type": "markdown",
   "id": "9ff51a8e",
   "metadata": {},
   "source": [
    "이번 프로젝트는 여러가지 외부 자료에서 얻은 정보가 굉장히 많다.\n",
    "\n",
    "노드 학습 부분의 내용이 충실하긴 하지만, 루브릭 평가 지표를 달성하기에는\n",
    "\n",
    "결국 외부 자료를 참고해야할 필요가 있다. (f1-score 및 모델 특징 분석 부분 등)\n",
    "\n",
    "하지만 루브릭 내용을 이해하고 외부 자료를 참고하면 그렇게 어려운 문제는 아닐 것이라고 생각한다."
   ]
  },
  {
   "cell_type": "markdown",
   "id": "623087c3",
   "metadata": {},
   "source": [
    "### 6) 자기 다짐"
   ]
  },
  {
   "cell_type": "markdown",
   "id": "98129c08",
   "metadata": {},
   "source": [
    "실험에 시간을 많이 소모했던 프로젝트여서, 한번 돌리면 결과를 봐야 하는데,\n",
    "\n",
    "시간이 오래 걸리다보니 자꾸 미루게 되어, 빠르게 진행하지 못했다.\n",
    "\n",
    "그러다보니 또 프로젝트가 밀리는 듯한 느낌이 들어서 조급해지니 그냥 내려놓고 포기할까 싶은 나태함이 찾아왔다.\n",
    "\n",
    "인간의 어리석음이란… 완성을 못 할 뻔 했다.\n",
    "\n",
    "여기서, 사실 이해가 덜 되고, 부족한 부분이 생겨서, 이것도 빨리 공부를 해야 할 거 같은데,\n",
    "\n",
    "계속 미루고 또 미루고 하고 있다. 반성 한다 해도, 나아지는 모습이 없으니 아무래도 난 이제 글러먹은 것 같다.\n",
    "\n",
    "이번 프로젝트는 오늘 아침부터 계속 집중해서 시간 투자를 해서, ＂내용은 부족하더라도 마무리는 지어 놓아야지＂\n",
    "\n",
    "그렇지 않으면 다음 프로젝트나 논문 리뷰같은 일정이 감당 안되서 내려놓을거 같아서…\n",
    "\n",
    "마감 눈앞에 닥친 웹툰 만화가 마냥 오늘 하루 올인해버렸다.\n",
    "\n",
    "뭔가 외줄타기 하는 느낌이다. 한번 내려놓았다가 조만간 크게 빵꾸 낼 느낌이다.\n",
    "\n",
    "주말에 제발 코드 한줄, 책 한페이지 라도 보고 공부를 좀 해야겠다. 하다못해 밀린 프로젝트라도 마무리 하던가.\n",
    "\n",
    "일정이 계속 밀리고, 할 일은 계속 쌓이고, 하나 마치면 하나 생기고… 정신을 좀 차려야 겠다."
   ]
  },
  {
   "cell_type": "markdown",
   "id": "7ed8e072",
   "metadata": {},
   "source": [
    "<hr>"
   ]
  },
  {
   "cell_type": "markdown",
   "id": "5807532a",
   "metadata": {},
   "source": [
    "## ◎ Reference"
   ]
  },
  {
   "cell_type": "markdown",
   "id": "f63185b8",
   "metadata": {},
   "source": [
    " - [Text Analytics – Document Term Matrix](https://www.darrinbishop.com/blog/2017/10/text-analytics-document-term-matrix/)\n",
    " \n",
    " \n",
    " - [코사인 유사도(Cosine Similarity)](https://wikidocs.net/24603)\n",
    " \n",
    " \n",
    " - [TF-IDF에 대하여](http://openuiz.blogspot.com/2018/11/tf-idf.html)\n",
    " \n",
    " \n",
    " - [TF-IDF 문서 유사도 측정](https://www.youtube.com/watch?v=Rd3OnBPDRbM)\n",
    " \n",
    " \n",
    " - [고유값(eigenvalue), 고유벡터(eigenvector), 고유값 분해(eigen decomposition)](https://bkshin.tistory.com/entry/%EB%A8%B8%EC%8B%A0%EB%9F%AC%EB%8B%9D-19-%ED%96%89%EB%A0%AC?category=1057680)\n",
    " \n",
    " \n",
    " - [잠재 의미 분석(Latent Semantic Analysis, LSA)](https://wikidocs.net/24949)\n",
    " \n",
    " \n",
    " - [특잇값 분해](https://datascienceschool.net/02%20mathematics/03.04%20%ED%8A%B9%EC%9E%87%EA%B0%92%20%EB%B6%84%ED%95%B4.html)\n",
    " \n",
    " \n",
    " - [특이값 분해 ( SVD ) 매트랩 예제 및 쉬운 이해! Singular value decomposition 의 목적](https://www.youtube.com/watch?v=vxJ1MzfvL5w)\n",
    " \n",
    " \n",
    " - [A Stepwise Introduction to Topic Modeling using Latent Semantic Analysis](https://www.analyticsvidhya.com/blog/2018/10/stepwise-guide-topic-modeling-latent-semantic-analysis/)\n",
    " \n",
    " \n",
    " - [scikit-learn - fit_transform](https://scikit-learn.org/stable/modules/generated/sklearn.decomposition.TruncatedSVD.html#sklearn.decomposition.TruncatedSVD.fit_transform)\n",
    " \n",
    " \n",
    " - [LDA Topic Modeling](https://lettier.com/projects/lda-topic-modeling/)\n",
    " \n",
    " \n",
    " - [Tutorial: Text Mining Using LDA and Network Analysis](https://noduslabs.com/cases/tutorial-lda-text-mining-network-analysis/)\n",
    " \n",
    " \n",
    " - [잠재 디리클레 할당(Latent Dirichlet Allocation, LDA)](https://wikidocs.net/30708)\n",
    " \n",
    " \n",
    " - [텍스트 데이터 분석 [토픽 모델] - (4) LDA 모형](https://serviceapi.nmv.naver.com/flash/convertIframeTag.nhn?vid=A008B9E1EAFC02C99F92928155487839090E&outKey=V1210ad4156cf64ce0c6a3e18cecaae499f6528784c999ca6541c3e18cecaae499f65&width=544&height=306)\n",
    " \n",
    " \n",
    " - [문서 단어 행렬(Document-Term Matrix, DTM)](https://wikidocs.net/24559)\n",
    " \n",
    " \n",
    " - [TF-IDF(Term Frequency-Inverse Document Frequency)](https://wikidocs.net/31698)\n",
    " \n",
    " \n",
    " - [나이브 베이즈(Naive Bayes) 분류 (2/2) - 베이즈 정리 (Bayes' Theorem) 쉽게 이해하기](https://www.youtube.com/watch?v=3JWLIV3NaoQ)\n",
    " \n",
    " \n",
    " - [분류성능평가지표 - Precision(정밀도), Recall(재현율) and Accuracy(정확도)](https://sumniya.tistory.com/26)\n",
    " \n",
    " \n",
    " - [Confusion Matrix (혼동행렬) 알고리즘 및 파이썬 실습](https://youtu.be/M0GBAzFV9_A)\n",
    " \n",
    " \n",
    " - [Confusion Matrix 혼동 행렬](https://mjdeeplearning.tistory.com/31)\n",
    " \n",
    " \n",
    " - [의사결정트리 (Decision Tree) 알고리즘 쉽게 이해하기](https://www.youtube.com/watch?v=n0p0120Gxqk)\n",
    " \n",
    " \n",
    " - [랜덤포레스트](https://www.youtube.com/watch?v=nZB37IBCiSA)\n",
    " \n",
    " \n",
    " - [앙상블 - 하드보팅, 소프트보팅](https://youtu.be/y4Wh0E1d4oE)\n",
    " \n",
    " \n",
    " - [Classification - metrics (f1-score)](https://hongl.tistory.com/136)\n",
    " \n",
    " \n",
    " - [How to get accuracy, F1, precision and recall, for a keras model?](https://datascience.stackexchange.com/questions/45165/how-to-get-accuracy-f1-precision-and-recall-for-a-keras-model)\n",
    "\n",
    "\n",
    " - [Classification & Clustering 모델 평가](https://bcho.tistory.com/1206)\n",
    " \n",
    " \n",
    " - [Comparative Study on Classic Machine learning Algorithms](https://towardsdatascience.com/comparative-study-on-classic-machine-learning-algorithms-24f9ff6ab222)\n",
    " \n",
    " \n",
    " - [OvA vs OvO](https://djy-git.github.io/2019/07/13/ovaovr.html#gsc.tab=0)\n",
    " \n",
    " \n",
    " - [One-versus-the-rest(OvR) ,One-versus-One(OvO)](https://seong6496.tistory.com/213)\n",
    " \n",
    " \n",
    " - [Applied Machine Learning: Naive Bayes, Linear SVM, Logistic Regression, and Random Forest](https://www.linkedin.com/pulse/applied-machine-learning-naive-bayes-linear-svm-logistic-thota)\n",
    "\n",
    "\n",
    " - [BiLSTM with Attention mechanism](https://wikidocs.net/48920)\n",
    "\n",
    "\n",
    " - [Text classification with Transformer](https://keras.io/examples/nlp/text_classification_with_transformer/)\n",
    " \n",
    " \n",
    " - [텐서 플로우 블로그 (Tensor ≈ Blog) - 2.3.4 나이브 베이즈 분류기](https://tensorflow.blog/%ed%8c%8c%ec%9d%b4%ec%8d%ac-%eb%a8%b8%ec%8b%a0%eb%9f%ac%eb%8b%9d/2-3-4-%eb%82%98%ec%9d%b4%eb%b8%8c-%eb%b2%a0%ec%9d%b4%ec%a6%88-%eb%b6%84%eb%a5%98%ea%b8%b0/)\n",
    " \n",
    " \n",
    " - [불균형 데이터 (imbalanced data) 처리를 위한 샘플링 기법](https://casa-de-feel.tistory.com/15)"
   ]
  },
  {
   "cell_type": "markdown",
   "id": "545a886e",
   "metadata": {},
   "source": [
    "&nbsp;"
   ]
  }
 ],
 "metadata": {
  "kernelspec": {
   "display_name": "Python 3 (ipykernel)",
   "language": "python",
   "name": "python3"
  },
  "language_info": {
   "codemirror_mode": {
    "name": "ipython",
    "version": 3
   },
   "file_extension": ".py",
   "mimetype": "text/x-python",
   "name": "python",
   "nbconvert_exporter": "python",
   "pygments_lexer": "ipython3",
   "version": "3.9.7"
  }
 },
 "nbformat": 4,
 "nbformat_minor": 5
}
