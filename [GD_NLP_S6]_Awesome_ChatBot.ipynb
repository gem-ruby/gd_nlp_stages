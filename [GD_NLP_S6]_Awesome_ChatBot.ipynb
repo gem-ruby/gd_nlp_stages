{
 "cells": [
  {
   "cell_type": "markdown",
   "id": "5177f9ae",
   "metadata": {},
   "source": [
    "# Project：멋진 챗봇 만들기"
   ]
  },
  {
   "cell_type": "markdown",
   "id": "6643ee19",
   "metadata": {},
   "source": [
    "&nbsp;"
   ]
  },
  {
   "cell_type": "markdown",
   "id": "f34da738",
   "metadata": {},
   "source": [
    "&nbsp;"
   ]
  },
  {
   "cell_type": "markdown",
   "id": "6f11f140",
   "metadata": {},
   "source": [
    "## 라이브러리\n",
    "<hr>"
   ]
  },
  {
   "cell_type": "markdown",
   "id": "5931dd7b",
   "metadata": {},
   "source": [
    "사용할 라이브러리 버전을 둘러봅시다."
   ]
  },
  {
   "cell_type": "code",
   "execution_count": 1,
   "id": "605031fc",
   "metadata": {},
   "outputs": [
    {
     "name": "stdout",
     "output_type": "stream",
     "text": [
      "1.21.4\n",
      "1.3.3\n",
      "2.6.0\n",
      "3.8.3\n",
      "0.5.2\n",
      "3.6.5\n"
     ]
    }
   ],
   "source": [
    "import re\n",
    "import os\n",
    "import math\n",
    "import random\n",
    "import numpy as np\n",
    "import pandas as pd\n",
    "import tensorflow as tf\n",
    "\n",
    "from tensorflow.keras.initializers import Constant\n",
    "\n",
    "import gensim\n",
    "import gensim.downloader as api\n",
    "from gensim.models import KeyedVectors\n",
    "from gensim.models.keyedvectors import Word2VecKeyedVectors\n",
    "\n",
    "import matplotlib.pyplot as plt\n",
    "\n",
    "import konlpy\n",
    "from konlpy.tag import Mecab\n",
    "import nltk\n",
    "\n",
    "## BLEU score\n",
    "from nltk.translate.bleu_score import sentence_bleu\n",
    "from nltk.translate.bleu_score import SmoothingFunction\n",
    "\n",
    "from collections import Counter\n",
    "\n",
    "## Progress\n",
    "from tqdm.notebook import tqdm\n",
    "\n",
    "\n",
    "print(np.__version__)\n",
    "print(pd.__version__)\n",
    "print(tf.__version__)\n",
    "\n",
    "print(gensim.__version__)\n",
    "print(konlpy.__version__)\n",
    "print(nltk.__version__)"
   ]
  },
  {
   "cell_type": "markdown",
   "id": "e8690748",
   "metadata": {},
   "source": [
    "&nbsp;"
   ]
  },
  {
   "cell_type": "markdown",
   "id": "5f6955d0",
   "metadata": {},
   "source": [
    "## Step 1. 데이터 다운로드\n",
    "\n",
    "<hr>"
   ]
  },
  {
   "cell_type": "markdown",
   "id": "f5d4db4d",
   "metadata": {},
   "source": [
    "준비하기 단계에서 심볼릭 링크를 생성했다면 아래 파일이 `ChatbotData.csv`라는 이름으로 저장되어 있을거예요. `csv` 파일을 읽는 데에는 `pandas` 라이브러리가 적합합니다. 읽어 온 데이터의 질문과 답변을 각각 `questions`, `answers` 변수에 나눠서 저장하세요!\n",
    "\n",
    "- [songys/Chatbot_data](https://github.com/songys/Chatbot_data)"
   ]
  },
  {
   "cell_type": "markdown",
   "id": "0ea465f7",
   "metadata": {},
   "source": [
    "한국어 챗봇 데이터는 송영숙님이 공개한 챗봇 데이터를 사용한다.\n",
    "\n",
    "데이터는 아래의 링크에서 다운로드 하였다.\n",
    "\n",
    "- [songys/Chatbot_data](https://github.com/songys/Chatbot_data/blob/master/ChatbotData.csv)\n",
    "\n",
    "링크에서 안내하고 있는 내용은 아래와 같다. \n",
    "\n",
    "──────────────────────────────────────\n",
    "\n",
    "- Chatbot_data_for_Korean v1.0\n",
    "    \n",
    "  + Data description.\n",
    "  \n",
    "    * 인공데이터입니다. 일부 이별과 관련된 질문에서 <br>다음카페 \"사랑보다 아름다운 실연( http://cafe116.daum.net/_c21_/home?grpid=1bld )\"에서 <br>자주 나오는 이야기들을 참고하여 제작하였습니다. <br>가령 \"이별한 지 열흘(또는 100일) 되었어요\"라는 질문에 <br>챗봇이 위로한다는 취지로 답변을 작성하였습니다.\n",
    "    \n",
    "    * 1. 챗봇 트레이닝용 문답 페어 11,876개\n",
    "    \n",
    "    * 2. 일상다반사 0, 이별(부정) 1, 사랑(긍정) 2로 레이블링\n",
    "\n",
    "\n",
    "여기서는 문답 페어(Q, A) 데이터만 사용하고, 라벨은 사용하지 않는다.\n",
    "\n",
    "──────────────────────────────────────\n",
    "\n"
   ]
  },
  {
   "cell_type": "code",
   "execution_count": 2,
   "id": "602bd629",
   "metadata": {},
   "outputs": [],
   "source": [
    "## 파일 가져오기 및 경로 지정\n",
    "songys_chabot_data_path =  tf.keras.utils.get_file(\n",
    "    os.getenv(\"HOME\") + \"/aiffel/transformer_chatbot/data/ChatbotData.csv\",\n",
    "    origin=\"https://github.com/songys/Chatbot_data/raw/master/ChatbotData.csv\")\n",
    "df_songys_chabot = pd.read_csv(songys_chabot_data_path)"
   ]
  },
  {
   "cell_type": "code",
   "execution_count": 3,
   "id": "8bda98e7",
   "metadata": {
    "scrolled": true
   },
   "outputs": [
    {
     "data": {
      "text/html": [
       "<div>\n",
       "<style scoped>\n",
       "    .dataframe tbody tr th:only-of-type {\n",
       "        vertical-align: middle;\n",
       "    }\n",
       "\n",
       "    .dataframe tbody tr th {\n",
       "        vertical-align: top;\n",
       "    }\n",
       "\n",
       "    .dataframe thead th {\n",
       "        text-align: right;\n",
       "    }\n",
       "</style>\n",
       "<table border=\"1\" class=\"dataframe\">\n",
       "  <thead>\n",
       "    <tr style=\"text-align: right;\">\n",
       "      <th></th>\n",
       "      <th>Q</th>\n",
       "      <th>A</th>\n",
       "    </tr>\n",
       "  </thead>\n",
       "  <tbody>\n",
       "    <tr>\n",
       "      <th>5798</th>\n",
       "      <td>나쁜 사람 잊는방법</td>\n",
       "      <td>재활용도 안되는 사람에 대한 기억으로 괴로워 말아요.</td>\n",
       "    </tr>\n",
       "    <tr>\n",
       "      <th>9453</th>\n",
       "      <td>내 마음 알면서도 모른척하는거면 어떡해?</td>\n",
       "      <td>당신의 인연인 아닌가보다 생각하세요.</td>\n",
       "    </tr>\n",
       "    <tr>\n",
       "      <th>11486</th>\n",
       "      <td>짝녀 프사 자음이 궁금함.</td>\n",
       "      <td>궁금할 수 있어요.</td>\n",
       "    </tr>\n",
       "    <tr>\n",
       "      <th>7954</th>\n",
       "      <td>저에게 희망이 있을까?</td>\n",
       "      <td>그럼요. 제가 함께 할게요.</td>\n",
       "    </tr>\n",
       "    <tr>\n",
       "      <th>2207</th>\n",
       "      <td>비밀번호 까먹었다</td>\n",
       "      <td>회원정보 찾기를 해보세요.</td>\n",
       "    </tr>\n",
       "  </tbody>\n",
       "</table>\n",
       "</div>"
      ],
      "text/plain": [
       "                            Q                              A\n",
       "5798               나쁜 사람 잊는방법  재활용도 안되는 사람에 대한 기억으로 괴로워 말아요.\n",
       "9453   내 마음 알면서도 모른척하는거면 어떡해?           당신의 인연인 아닌가보다 생각하세요.\n",
       "11486          짝녀 프사 자음이 궁금함.                     궁금할 수 있어요.\n",
       "7954             저에게 희망이 있을까?                그럼요. 제가 함께 할게요.\n",
       "2207                비밀번호 까먹었다                 회원정보 찾기를 해보세요."
      ]
     },
     "execution_count": 3,
     "metadata": {},
     "output_type": "execute_result"
    }
   ],
   "source": [
    "## 라벨의 삭제\n",
    "df_songys_chabot.drop(labels=\"label\", axis=\"columns\", inplace=True)\n",
    "\n",
    "## 샘플 출력\n",
    "df_songys_chabot.sample(5)"
   ]
  },
  {
   "cell_type": "code",
   "execution_count": 4,
   "id": "e22324dc",
   "metadata": {},
   "outputs": [
    {
     "data": {
      "text/html": [
       "<div>\n",
       "<style scoped>\n",
       "    .dataframe tbody tr th:only-of-type {\n",
       "        vertical-align: middle;\n",
       "    }\n",
       "\n",
       "    .dataframe tbody tr th {\n",
       "        vertical-align: top;\n",
       "    }\n",
       "\n",
       "    .dataframe thead th {\n",
       "        text-align: right;\n",
       "    }\n",
       "</style>\n",
       "<table border=\"1\" class=\"dataframe\">\n",
       "  <thead>\n",
       "    <tr style=\"text-align: right;\">\n",
       "      <th></th>\n",
       "      <th>Q</th>\n",
       "      <th>A</th>\n",
       "    </tr>\n",
       "  </thead>\n",
       "  <tbody>\n",
       "    <tr>\n",
       "      <th>11818</th>\n",
       "      <td>훔쳐보는 것도 눈치 보임.</td>\n",
       "      <td>티가 나니까 눈치가 보이는 거죠!</td>\n",
       "    </tr>\n",
       "    <tr>\n",
       "      <th>11819</th>\n",
       "      <td>훔쳐보는 것도 눈치 보임.</td>\n",
       "      <td>훔쳐보는 거 티나나봐요.</td>\n",
       "    </tr>\n",
       "    <tr>\n",
       "      <th>11820</th>\n",
       "      <td>흑기사 해주는 짝남.</td>\n",
       "      <td>설렜겠어요.</td>\n",
       "    </tr>\n",
       "    <tr>\n",
       "      <th>11821</th>\n",
       "      <td>힘든 연애 좋은 연애라는게 무슨 차이일까?</td>\n",
       "      <td>잘 헤어질 수 있는 사이 여부인 거 같아요.</td>\n",
       "    </tr>\n",
       "    <tr>\n",
       "      <th>11822</th>\n",
       "      <td>힘들어서 결혼할까봐</td>\n",
       "      <td>도피성 결혼은 하지 않길 바라요.</td>\n",
       "    </tr>\n",
       "  </tbody>\n",
       "</table>\n",
       "</div>"
      ],
      "text/plain": [
       "                             Q                         A\n",
       "11818           훔쳐보는 것도 눈치 보임.        티가 나니까 눈치가 보이는 거죠!\n",
       "11819           훔쳐보는 것도 눈치 보임.             훔쳐보는 거 티나나봐요.\n",
       "11820              흑기사 해주는 짝남.                    설렜겠어요.\n",
       "11821  힘든 연애 좋은 연애라는게 무슨 차이일까?  잘 헤어질 수 있는 사이 여부인 거 같아요.\n",
       "11822               힘들어서 결혼할까봐        도피성 결혼은 하지 않길 바라요."
      ]
     },
     "execution_count": 4,
     "metadata": {},
     "output_type": "execute_result"
    }
   ],
   "source": [
    "## 끝부분 출력\n",
    "df_songys_chabot.tail(5)"
   ]
  },
  {
   "cell_type": "code",
   "execution_count": 5,
   "id": "c66466aa",
   "metadata": {},
   "outputs": [],
   "source": [
    "## 컬럼 이름을 바꿔서 사용하도록 하겠다.\n",
    "df_songys_chabot.rename(columns={\"Q\":\"questions\", \"A\":\"answers\"}, inplace=True)"
   ]
  },
  {
   "cell_type": "code",
   "execution_count": 6,
   "id": "ed77741c",
   "metadata": {},
   "outputs": [
    {
     "data": {
      "text/html": [
       "<div>\n",
       "<style scoped>\n",
       "    .dataframe tbody tr th:only-of-type {\n",
       "        vertical-align: middle;\n",
       "    }\n",
       "\n",
       "    .dataframe tbody tr th {\n",
       "        vertical-align: top;\n",
       "    }\n",
       "\n",
       "    .dataframe thead th {\n",
       "        text-align: right;\n",
       "    }\n",
       "</style>\n",
       "<table border=\"1\" class=\"dataframe\">\n",
       "  <thead>\n",
       "    <tr style=\"text-align: right;\">\n",
       "      <th></th>\n",
       "      <th>questions</th>\n",
       "      <th>answers</th>\n",
       "    </tr>\n",
       "  </thead>\n",
       "  <tbody>\n",
       "    <tr>\n",
       "      <th>0</th>\n",
       "      <td>12시 땡!</td>\n",
       "      <td>하루가 또 가네요.</td>\n",
       "    </tr>\n",
       "    <tr>\n",
       "      <th>1</th>\n",
       "      <td>1지망 학교 떨어졌어</td>\n",
       "      <td>위로해 드립니다.</td>\n",
       "    </tr>\n",
       "    <tr>\n",
       "      <th>2</th>\n",
       "      <td>3박4일 놀러가고 싶다</td>\n",
       "      <td>여행은 언제나 좋죠.</td>\n",
       "    </tr>\n",
       "    <tr>\n",
       "      <th>3</th>\n",
       "      <td>3박4일 정도 놀러가고 싶다</td>\n",
       "      <td>여행은 언제나 좋죠.</td>\n",
       "    </tr>\n",
       "    <tr>\n",
       "      <th>4</th>\n",
       "      <td>PPL 심하네</td>\n",
       "      <td>눈살이 찌푸려지죠.</td>\n",
       "    </tr>\n",
       "  </tbody>\n",
       "</table>\n",
       "</div>"
      ],
      "text/plain": [
       "         questions      answers\n",
       "0           12시 땡!   하루가 또 가네요.\n",
       "1      1지망 학교 떨어졌어    위로해 드립니다.\n",
       "2     3박4일 놀러가고 싶다  여행은 언제나 좋죠.\n",
       "3  3박4일 정도 놀러가고 싶다  여행은 언제나 좋죠.\n",
       "4          PPL 심하네   눈살이 찌푸려지죠."
      ]
     },
     "execution_count": 6,
     "metadata": {},
     "output_type": "execute_result"
    }
   ],
   "source": [
    "df_songys_chabot.head(5)"
   ]
  },
  {
   "cell_type": "code",
   "execution_count": 7,
   "id": "26b52b5e",
   "metadata": {
    "scrolled": true
   },
   "outputs": [
    {
     "data": {
      "text/html": [
       "<div>\n",
       "<style scoped>\n",
       "    .dataframe tbody tr th:only-of-type {\n",
       "        vertical-align: middle;\n",
       "    }\n",
       "\n",
       "    .dataframe tbody tr th {\n",
       "        vertical-align: top;\n",
       "    }\n",
       "\n",
       "    .dataframe thead th {\n",
       "        text-align: right;\n",
       "    }\n",
       "</style>\n",
       "<table border=\"1\" class=\"dataframe\">\n",
       "  <thead>\n",
       "    <tr style=\"text-align: right;\">\n",
       "      <th></th>\n",
       "      <th>questions</th>\n",
       "      <th>answers</th>\n",
       "    </tr>\n",
       "  </thead>\n",
       "  <tbody>\n",
       "    <tr>\n",
       "      <th>11816</th>\n",
       "      <td>회식하는데 나만 챙겨줘. 썸임?</td>\n",
       "      <td>호감이 있을 수도 있어요. 그렇지만 조금 더 상황을 지켜보세요.</td>\n",
       "    </tr>\n",
       "    <tr>\n",
       "      <th>11817</th>\n",
       "      <td>후회 없이 사랑하고 싶어</td>\n",
       "      <td>진심으로 다가가 보세요.</td>\n",
       "    </tr>\n",
       "    <tr>\n",
       "      <th>11818</th>\n",
       "      <td>훔쳐보는 것도 눈치 보임.</td>\n",
       "      <td>티가 나니까 눈치가 보이는 거죠!</td>\n",
       "    </tr>\n",
       "    <tr>\n",
       "      <th>11819</th>\n",
       "      <td>훔쳐보는 것도 눈치 보임.</td>\n",
       "      <td>훔쳐보는 거 티나나봐요.</td>\n",
       "    </tr>\n",
       "    <tr>\n",
       "      <th>11820</th>\n",
       "      <td>흑기사 해주는 짝남.</td>\n",
       "      <td>설렜겠어요.</td>\n",
       "    </tr>\n",
       "    <tr>\n",
       "      <th>11821</th>\n",
       "      <td>힘든 연애 좋은 연애라는게 무슨 차이일까?</td>\n",
       "      <td>잘 헤어질 수 있는 사이 여부인 거 같아요.</td>\n",
       "    </tr>\n",
       "    <tr>\n",
       "      <th>11822</th>\n",
       "      <td>힘들어서 결혼할까봐</td>\n",
       "      <td>도피성 결혼은 하지 않길 바라요.</td>\n",
       "    </tr>\n",
       "  </tbody>\n",
       "</table>\n",
       "</div>"
      ],
      "text/plain": [
       "                     questions                              answers\n",
       "11816        회식하는데 나만 챙겨줘. 썸임?  호감이 있을 수도 있어요. 그렇지만 조금 더 상황을 지켜보세요.\n",
       "11817            후회 없이 사랑하고 싶어                        진심으로 다가가 보세요.\n",
       "11818           훔쳐보는 것도 눈치 보임.                   티가 나니까 눈치가 보이는 거죠!\n",
       "11819           훔쳐보는 것도 눈치 보임.                        훔쳐보는 거 티나나봐요.\n",
       "11820              흑기사 해주는 짝남.                               설렜겠어요.\n",
       "11821  힘든 연애 좋은 연애라는게 무슨 차이일까?             잘 헤어질 수 있는 사이 여부인 거 같아요.\n",
       "11822               힘들어서 결혼할까봐                   도피성 결혼은 하지 않길 바라요."
      ]
     },
     "execution_count": 7,
     "metadata": {},
     "output_type": "execute_result"
    }
   ],
   "source": [
    "df_songys_chabot.tail(7)"
   ]
  },
  {
   "cell_type": "markdown",
   "id": "b0904d54",
   "metadata": {},
   "source": [
    "head 출력 결과에서는 answers 에서 중복데이터가 보이고,\n",
    "\n",
    "tail 출력 결과에서는 questions 에서 중복데이터가 보인다.\n",
    "\n",
    "이 중복 데이터들은 questions:answers 쌍으로 비교할 경우 제거하기 어려울 것이다.\n",
    "\n",
    "운좋게 head, tail 부분에서 중복 데이터를 발견했으니,\n",
    "\n",
    "섞기 전에 해당 데이터 기준으로 중복제거 기능을 확인하면 될 것 같다."
   ]
  },
  {
   "cell_type": "markdown",
   "id": "b6ab32da",
   "metadata": {},
   "source": [
    "&nbsp;"
   ]
  },
  {
   "cell_type": "markdown",
   "id": "40b09f14",
   "metadata": {},
   "source": [
    "## Step 2. 데이터 준비\n",
    "\n",
    "<hr>"
   ]
  },
  {
   "cell_type": "markdown",
   "id": "7280bc51",
   "metadata": {},
   "source": [
    "아래 조건을 만족하는 `preprocess_sentence()` 함수를 구현하세요.\n",
    "\n",
    "1. 영문자의 경우, **모두 소문자로 변환**합니다.\n",
    "\n",
    "\n",
    "2. 영문자와 한글, 숫자, 그리고 주요 특수문자를 제외하곤 **정규식을 활용하여 모두 제거**합니다.\n",
    "\n",
    "\n",
    "*문장부호 양옆에 공백을 추가하는 등 이전과 다르게 생략된 기능들은 우리가 사용할 토크나이저가 지원하기 때문에 굳이 구현하지 않아도 괜찮습니다!*"
   ]
  },
  {
   "cell_type": "markdown",
   "id": "f099cf71",
   "metadata": {},
   "source": [
    "&nbsp;"
   ]
  },
  {
   "cell_type": "markdown",
   "id": "90a45dcb",
   "metadata": {},
   "source": [
    "여기서 부터는 프로젝트 가이드라인대로 수행하는데, 순서를 효율적으로 재배치 하여 \n",
    "\n",
    "이하의 순서에 따라 진행하도록 하겠다."
   ]
  },
  {
   "cell_type": "markdown",
   "id": "96976d8e",
   "metadata": {},
   "source": [
    "### ■ **`전처리`** → 중복제거 → 토큰화 → 어그멘테이션 → 스타트 엔드 토큰 넣고 → 정수인코딩 (벡터화)"
   ]
  },
  {
   "cell_type": "markdown",
   "id": "be19c1d1",
   "metadata": {},
   "source": [
    "영문 데이터와 얼마나 해당할런지 모르겠지만, 영어 약어 정규화를 위한 정규화 사전을 준비한다."
   ]
  },
  {
   "cell_type": "code",
   "execution_count": 8,
   "id": "d65b23d3",
   "metadata": {},
   "outputs": [
    {
     "name": "stdout",
     "output_type": "stream",
     "text": [
      "정규화 사전의 수:  120\n"
     ]
    }
   ],
   "source": [
    "contractions = {\n",
    "    \"ain't\": \"is not\", \"aren't\": \"are not\",\"can't\": \"cannot\", \"'cause\": \"because\", \"could've\": \"could have\", \"couldn't\": \"could not\",\n",
    "    \"didn't\": \"did not\",  \"doesn't\": \"does not\", \"don't\": \"do not\", \"hadn't\": \"had not\", \"hasn't\": \"has not\", \"haven't\": \"have not\",\n",
    "    \"he'd\": \"he would\",\"he'll\": \"he will\", \"he's\": \"he is\", \"how'd\": \"how did\", \"how'd'y\": \"how do you\", \"how'll\": \"how will\", \"how's\": \"how is\",\n",
    "    \"I'd\": \"I would\", \"I'd've\": \"I would have\", \"I'll\": \"I will\", \"I'll've\": \"I will have\",\"I'm\": \"I am\", \"I've\": \"I have\", \"i'd\": \"i would\",\n",
    "    \"i'd've\": \"i would have\", \"i'll\": \"i will\",  \"i'll've\": \"i will have\",\"i'm\": \"i am\", \"i've\": \"i have\", \"isn't\": \"is not\", \"it'd\": \"it would\",\n",
    "    \"it'd've\": \"it would have\", \"it'll\": \"it will\", \"it'll've\": \"it will have\",\"it's\": \"it is\", \"let's\": \"let us\", \"ma'am\": \"madam\",\n",
    "    \"mayn't\": \"may not\", \"might've\": \"might have\",\"mightn't\": \"might not\",\"mightn't've\": \"might not have\", \"must've\": \"must have\",\n",
    "    \"mustn't\": \"must not\", \"mustn't've\": \"must not have\", \"needn't\": \"need not\", \"needn't've\": \"need not have\",\"o'clock\": \"of the clock\",\n",
    "    \"oughtn't\": \"ought not\", \"oughtn't've\": \"ought not have\", \"shan't\": \"shall not\", \"sha'n't\": \"shall not\", \"shan't've\": \"shall not have\",\n",
    "    \"she'd\": \"she would\", \"she'd've\": \"she would have\", \"she'll\": \"she will\", \"she'll've\": \"she will have\", \"she's\": \"she is\",\n",
    "    \"should've\": \"should have\", \"shouldn't\": \"should not\", \"shouldn't've\": \"should not have\", \"so've\": \"so have\",\"so's\": \"so as\",\n",
    "    \"this's\": \"this is\",\"that'd\": \"that would\", \"that'd've\": \"that would have\", \"that's\": \"that is\", \"there'd\": \"there would\",\n",
    "    \"there'd've\": \"there would have\", \"there's\": \"there is\", \"here's\": \"here is\",\"they'd\": \"they would\", \"they'd've\": \"they would have\",\n",
    "    \"they'll\": \"they will\", \"they'll've\": \"they will have\", \"they're\": \"they are\", \"they've\": \"they have\", \"to've\": \"to have\",\n",
    "    \"wasn't\": \"was not\", \"we'd\": \"we would\", \"we'd've\": \"we would have\", \"we'll\": \"we will\", \"we'll've\": \"we will have\", \"we're\": \"we are\",\n",
    "    \"we've\": \"we have\", \"weren't\": \"were not\", \"what'll\": \"what will\", \"what'll've\": \"what will have\", \"what're\": \"what are\",\n",
    "    \"what's\": \"what is\", \"what've\": \"what have\", \"when's\": \"when is\", \"when've\": \"when have\", \"where'd\": \"where did\", \"where's\": \"where is\",\n",
    "    \"where've\": \"where have\", \"who'll\": \"who will\", \"who'll've\": \"who will have\", \"who's\": \"who is\", \"who've\": \"who have\",\n",
    "    \"why's\": \"why is\", \"why've\": \"why have\", \"will've\": \"will have\", \"won't\": \"will not\", \"won't've\": \"will not have\",\n",
    "    \"would've\": \"would have\", \"wouldn't\": \"would not\", \"wouldn't've\": \"would not have\", \"y'all\": \"you all\",\n",
    "    \"y'all'd\": \"you all would\",\"y'all'd've\": \"you all would have\",\"y'all're\": \"you all are\",\"y'all've\": \"you all have\",\n",
    "    \"you'd\": \"you would\", \"you'd've\": \"you would have\", \"you'll\": \"you will\", \"you'll've\": \"you will have\",\n",
    "    \"you're\": \"you are\", \"you've\": \"you have\"}\n",
    "\n",
    "print(\"정규화 사전의 수: \", len(contractions))"
   ]
  },
  {
   "cell_type": "markdown",
   "id": "805d1fb2",
   "metadata": {},
   "source": [
    "불용어 제거를 위해 불용어 목록도 준비했다."
   ]
  },
  {
   "cell_type": "code",
   "execution_count": 9,
   "id": "14622364",
   "metadata": {},
   "outputs": [
    {
     "name": "stdout",
     "output_type": "stream",
     "text": [
      "불용어(영문) : 179\n",
      "불용어(한글) : 675\n"
     ]
    }
   ],
   "source": [
    "stopwords_en = ['i', 'me', 'my', 'myself', 'we', 'our', 'ours', 'ourselves', 'you', \"you're\", \"you've\", \"you'll\", \"you'd\", 'your', 'yours', 'yourself', 'yourselves', 'he', 'him', 'his', 'himself', 'she', \"she's\", 'her', 'hers', 'herself', 'it', \"it's\", 'its', 'itself', 'they', 'them', 'their', 'theirs', 'themselves', 'what', 'which', 'who', 'whom', 'this', 'that', \"that'll\", 'these', 'those', 'am', 'is', 'are', 'was', 'were', 'be', 'been', 'being', 'have', 'has', 'had', 'having', 'do', 'does', 'did', 'doing', 'a', 'an', 'the', 'and', 'but', 'if', 'or', 'because', 'as', 'until', 'while', 'of', 'at', 'by', 'for', 'with', 'about', 'against', 'between', 'into', 'through', 'during', 'before', 'after', 'above', 'below', 'to', 'from', 'up', 'down', 'in', 'out', 'on', 'off', 'over', 'under', 'again', 'further', 'then', 'once', 'here', 'there', 'when', 'where', 'why', 'how', 'all', 'any', 'both', 'each', 'few', 'more', 'most', 'other', 'some', 'such', 'no', 'nor', 'not', 'only', 'own', 'same', 'so', 'than', 'too', 'very', 's', 't', 'can', 'will', 'just', 'don', \"don't\", 'should', \"should've\", 'now', 'd', 'll', 'm', 'o', 're', 've', 'y', 'ain', 'aren', \"aren't\", 'couldn', \"couldn't\", 'didn', \"didn't\", 'doesn', \"doesn't\", 'hadn', \"hadn't\", 'hasn', \"hasn't\", 'haven', \"haven't\", 'isn', \"isn't\", 'ma', 'mightn', \"mightn't\", 'mustn', \"mustn't\", 'needn', \"needn't\", 'shan', \"shan't\", 'shouldn', \"shouldn't\", 'wasn', \"wasn't\", 'weren', \"weren't\", 'won', \"won't\", 'wouldn', \"wouldn't\"]\n",
    "stopwords_ko = [\"아\", \"휴\", \"아이구\", \"아이쿠\", \"아이고\", \"어\", \"나\", \"우리\", \"저희\", \"따라\", \"의해\", \"을\", \"를\", \"에\", \"의\", \"가\", \"으로\", \"로\", \"에게\", \"뿐이다\", \"의거하여\", \"근거하여\", \"입각하여\", \"기준으로\", \"예하면\", \"예를 들면\", \"예를 들자면\", \"저\", \"소인\", \"소생\", \"저희\", \"지말고\", \"하지마\", \"하지마라\", \"다른\", \"물론\", \"또한\", \"그리고\", \"비길수 없다\", \"해서는 안된다\", \"뿐만 아니라\", \"만이 아니다\", \"만은 아니다\", \"막론하고\", \"관계없이\", \"그치지 않다\", \"그러나\", \"그런데\", \"하지만\", \"든간에\", \"논하지 않다\", \"따지지 않다\", \"설사\", \"비록\", \"더라도\", \"아니면\", \"만 못하다\", \"하는 편이 낫다\", \"불문하고\", \"향하여\", \"향해서\", \"향하다\", \"쪽으로\", \"틈타\", \"이용하여\", \"타다\", \"오르다\", \"제외하고\", \"이 외에\", \"이 밖에\", \"하여야\", \"비로소\", \"한다면 몰라도\", \"외에도\", \"이곳\", \"여기\", \"부터\", \"기점으로\", \"따라서\", \"할 생각이다\", \"하려고하다\", \"이리하여\", \"그리하여\", \"그렇게 함으로써\", \"하지만\", \"일때\", \"할때\", \"앞에서\", \"중에서\", \"보는데서\", \"으로써\", \"로써\", \"까지\", \"해야한다\", \"일것이다\", \"반드시\", \"할줄알다\", \"할수있다\", \"할수있어\", \"임에 틀림없다\", \"한다면\", \"등\", \"등등\", \"제\", \"겨우\", \"단지\", \"다만\", \"할뿐\", \"딩동\", \"댕그\", \"대해서\", \"대하여\", \"대하면\", \"훨씬\", \"얼마나\", \"얼마만큼\", \"얼마큼\", \"남짓\", \"여\", \"얼마간\", \"약간\", \"다소\", \"좀\", \"조금\", \"다수\", \"몇\", \"얼마\", \"지만\", \"하물며\", \"또한\", \"그러나\", \"그렇지만\", \"하지만\", \"이외에도\", \"대해 말하자면\", \"뿐이다\", \"다음에\", \"반대로\", \"반대로 말하자면\", \"이와 반대로\", \"바꾸어서 말하면\", \"바꾸어서 한다면\", \"만약\", \"그렇지않으면\", \"까악\", \"툭\", \"딱\", \"삐걱거리다\", \"보드득\", \"비걱거리다\", \"꽈당\", \"응당\", \"해야한다\", \"에 가서\", \"각\", \"각각\", \"여러분\", \"각종\", \"각자\", \"제각기\", \"하도록하다\", \"와\", \"과\", \"그러므로\", \"그래서\", \"고로\", \"한 까닭에\", \"하기 때문에\", \"거니와\", \"이지만\", \"대하여\", \"관하여\", \"관한\", \"과연\", \"실로\", \"아니나다를가\", \"생각한대로\", \"진짜로\", \"한적이있다\", \"하곤하였다\", \"하\", \"하하\", \"허허\", \"아하\", \"거바\", \"와\", \"오\", \"왜\", \"어째서\", \"무엇때문에\", \"어찌\", \"하겠는가\", \"무슨\", \"어디\", \"어느곳\", \"더군다나\", \"하물며\", \"더욱이는\", \"어느때\", \"언제\", \"야\", \"이봐\", \"어이\", \"여보시오\", \"흐흐\", \"흥\", \"휴\", \"헉헉\", \"헐떡헐떡\", \"영차\", \"여차\", \"어기여차\", \"끙끙\", \"아야\", \"앗\", \"아야\", \"콸콸\", \"졸졸\", \"좍좍\", \"뚝뚝\", \"주룩주룩\", \"솨\", \"우르르\", \"그래도\", \"또\", \"그리고\", \"바꾸어말하면\", \"바꾸어말하자면\", \"혹은\", \"혹시\", \"답다\", \"및\", \"그에 따르는\", \"때가 되어\", \"즉\", \"지든지\", \"설령\", \"가령\", \"하더라도\", \"할지라도\", \"일지라도\", \"지든지\", \"몇\", \"거의\", \"하마터면\", \"인젠\", \"이젠\", \"된바에야\", \"된이상\", \"만큼\t어찌됏든\", \"그위에\", \"게다가\", \"점에서 보아\", \"비추어 보아\", \"고려하면\", \"하게될것이다\", \"일것이다\", \"비교적\", \"좀\", \"보다더\", \"비하면\", \"시키다\", \"하게하다\", \"할만하다\", \"의해서\", \"연이서\", \"이어서\", \"잇따라\", \"뒤따라\", \"뒤이어\", \"결국\", \"의지하여\", \"기대여\", \"통하여\", \"자마자\", \"더욱더\", \"불구하고\", \"얼마든지\", \"마음대로\", \"주저하지 않고\", \"곧\", \"즉시\", \"바로\", \"당장\", \"하자마자\", \"밖에 안된다\", \"하면된다\", \"그래\", \"그렇지\", \"요컨대\", \"다시 말하자면\", \"바꿔 말하면\", \"즉\", \"구체적으로\", \"말하자면\", \"시작하여\", \"시초에\", \"이상\", \"허\", \"헉\", \"허걱\", \"바와같이\", \"해도좋다\", \"해도된다\", \"게다가\", \"더구나\", \"하물며\", \"와르르\", \"팍\", \"퍽\", \"펄렁\", \"동안\", \"이래\", \"하고있었다\", \"이었다\", \"에서\", \"로부터\", \"까지\", \"예하면\", \"했어요\", \"해요\", \"함께\", \"같이\", \"더불어\", \"마저\", \"마저도\", \"양자\", \"모두\", \"습니다\", \"가까스로\", \"하려고하다\", \"즈음하여\", \"다른\", \"다른 방면으로\", \"해봐요\", \"습니까\", \"했어요\", \"말할것도 없고\", \"무릎쓰고\", \"개의치않고\", \"하는것만 못하다\", \"하는것이 낫다\", \"매\", \"매번\", \"들\", \"모\", \"어느것\", \"어느\", \"로써\", \"갖고말하자면\", \"어디\", \"어느쪽\", \"어느것\", \"어느해\", \"어느 년도\", \"라 해도\", \"언젠가\", \"어떤것\", \"어느것\", \"저기\", \"저쪽\", \"저것\", \"그때\", \"그럼\", \"그러면\", \"요만한걸\", \"그래\", \"그때\", \"저것만큼\", \"그저\", \"이르기까지\", \"할 줄 안다\", \"할 힘이 있다\", \"너\", \"너희\", \"당신\", \"어찌\", \"설마\", \"차라리\", \"할지언정\", \"할지라도\", \"할망정\", \"할지언정\", \"구토하다\", \"게우다\", \"토하다\", \"메쓰겁다\", \"옆사람\", \"퉤\", \"쳇\", \"의거하여\", \"근거하여\", \"의해\", \"따라\", \"힘입어\", \"그\", \"다음\", \"버금\", \"두번째로\", \"기타\", \"첫번째로\", \"나머지는\", \"그중에서\", \"견지에서\", \"형식으로 쓰여\", \"입장에서\", \"위해서\", \"단지\", \"의해되다\", \"하도록시키다\", \"뿐만아니라\", \"반대로\", \"전후\", \"전자\", \"앞의것\", \"잠시\", \"잠깐\", \"하면서\", \"그렇지만\", \"다음에\", \"그러한즉\", \"그런즉\", \"남들\", \"아무거나\", \"어찌하든지\", \"같다\", \"비슷하다\", \"예컨대\", \"이럴정도로\", \"어떻게\", \"만약\", \"만일\", \"위에서 서술한바와같이\", \"인 듯하다\", \"하지 않는다면\", \"만약에\", \"무엇\", \"무슨\", \"어느\", \"어떤\", \"아래윗\", \"조차\", \"한데\", \"그럼에도 불구하고\", \"여전히\", \"심지어\", \"까지도\", \"조차도\", \"하지 않도록\", \"않기 위하여\", \"때\", \"시각\", \"무렵\", \"시간\", \"동안\", \"어때\", \"어떠한\", \"하여금\", \"네\", \"예\", \"우선\", \"누구\", \"누가 알겠는가\", \"아무도\", \"줄은모른다\", \"줄은 몰랏다\", \"하는 김에\", \"겸사겸사\", \"하는바\", \"그런 까닭에\", \"한 이유는\", \"그러니\", \"그러니까\", \"때문에\", \"그\", \"너희\", \"그들\", \"너희들\", \"타인\", \"것\", \"것들\", \"너\", \"위하여\", \"공동으로\", \"동시에\", \"하기 위하여\", \"어찌하여\", \"무엇때문에\", \"붕붕\", \"윙윙\", \"나\", \"우리\", \"엉엉\", \"휘익\", \"윙윙\", \"오호\", \"아하\", \"어쨋든\", \"만 못하다\t하기보다는\", \"차라리\", \"하는 편이 낫다\", \"흐흐\", \"놀라다\", \"상대적으로 말하자면\", \"마치\", \"아니라면\", \"쉿\", \"그렇지 않으면\", \"그렇지 않다면\", \"안 그러면\", \"아니었다면\", \"하든지\", \"아니면\", \"이라면\", \"좋아\", \"알았어\", \"하는것도\", \"그만이다\", \"어쩔수 없다\", \"하나\", \"일\", \"일반적으로\", \"일단\", \"한켠으로는\", \"오자마자\", \"이렇게되면\", \"이와같다면\", \"전부\", \"한마디\", \"한항목\", \"근거로\", \"하기에\", \"아울러\", \"하지 않도록\", \"않기 위해서\", \"이르기까지\", \"이 되다\", \"로 인하여\", \"까닭으로\", \"이유만으로\", \"이로 인하여\", \"그래서\", \"이 때문에\", \"그러므로\", \"그런 까닭에\", \"알 수 있다\", \"결론을 낼 수 있다\", \"으로 인하여\", \"있다\", \"어떤것\", \"관계가 있다\", \"관련이 있다\", \"연관되다\", \"어떤것들\", \"에 대해\", \"이리하여\", \"그리하여\", \"여부\", \"하기보다는\", \"하느니\", \"하면 할수록\", \"운운\", \"이러이러하다\", \"하구나\", \"하도다\", \"다시말하면\", \"다음으로\", \"에 있다\", \"에 달려 있다\", \"우리\", \"우리들\", \"오히려\", \"하기는한데\", \"어떻게\", \"어떻해\", \"어찌됏어\", \"어때\", \"어째서\", \"본대로\", \"자\", \"이\", \"이쪽\", \"여기\", \"이것\", \"이번\", \"이렇게말하자면\", \"이런\", \"이러한\", \"이와 같은\", \"요만큼\", \"요만한 것\", \"얼마 안 되는 것\", \"이만큼\", \"이 정도의\", \"이렇게 많은 것\", \"이와 같다\", \"이때\", \"이렇구나\", \"것과 같이\", \"끼익\", \"삐걱\", \"따위\", \"와 같은 사람들\", \"부류의 사람들\", \"왜냐하면\", \"중의하나\", \"오직\", \"오로지\", \"에 한하다\", \"하기만 하면\", \"도착하다\", \"까지 미치다\", \"도달하다\", \"정도에 이르다\", \"할 지경이다\", \"결과에 이르다\", \"관해서는\", \"여러분\", \"하고 있다\", \"한 후\", \"혼자\", \"자기\", \"자기집\", \"자신\", \"우에 종합한것과같이\", \"총적으로 보면\", \"총적으로 말하면\", \"총적으로\", \"대로 하다\", \"으로서\", \"참\", \"그만이다\", \"할 따름이다\", \"쿵\", \"탕탕\", \"쾅쾅\", \"둥둥\", \"봐\", \"봐라\", \"아이야\", \"아니\", \"와아\", \"응\", \"아이\", \"참나\", \"년\", \"월\", \"일\", \"령\", \"영\", \"일\", \"이\", \"삼\", \"사\", \"오\", \"육\", \"륙\", \"칠\", \"팔\", \"구\", \"이천육\", \"이천칠\", \"이천팔\", \"이천구\", \"하나\", \"둘\", \"셋\", \"넷\", \"다섯\", \"여섯\", \"일곱\", \"여덟\", \"아홉\", \"령\", \"영\"]\n",
    "\n",
    "print(\"불용어(영문) :\", len(stopwords_en))\n",
    "print(\"불용어(한글) :\", len(stopwords_ko))"
   ]
  },
  {
   "cell_type": "markdown",
   "id": "cf419ba0",
   "metadata": {},
   "source": [
    "정제를 위해 전처리 함수를 아래와 같이 정의한다. 중복제거는 이후에 진행하겠다.\n",
    "\n",
    "약어 정규화의 경우는 괜찮은데, 준비는 했지만, 불용어의 경우는 제거하지 않도록 하겠다."
   ]
  },
  {
   "cell_type": "code",
   "execution_count": 10,
   "id": "c918312c",
   "metadata": {},
   "outputs": [],
   "source": [
    "from bs4 import BeautifulSoup \n",
    "\n",
    "def preprocess_sentence(sentence, remove_stopwords=False):\n",
    "   \n",
    "    sentence = sentence.lower().strip()    ## 소문자로 변경\n",
    "    sentence = BeautifulSoup(sentence, \"lxml\").text # <br />, <a href = ...> 등의 html 태그 제거\n",
    "    sentence = re.sub(r'\\([^)]*\\)', '', sentence) # 괄호로 닫힌 문자열 (...) 제거 Ex) my husband (and myself!) for => my husband for\n",
    "    sentence = re.sub('\"','', sentence) # 쌍따옴표 \" 제거\n",
    "    \n",
    "#     sentence = re.sub(r\"([?.!,])\", r\" \\1 \", sentence)    ## 단어와 구두점 사이에 공백 추가\n",
    "\n",
    "    ## 한글과 영문(a-z, A-Z, \".\", \"?\", \"!\", \",\") 이들을 제외하고는 전부 공백으로 변환.\n",
    "    ## 공백을 제외하고 모두 제거    \n",
    "    if (remove_stopwords):\n",
    "        ## 영문 약어 정규화\n",
    "        sentence = \" \".join([contractions[t] if t in contractions else t for t in sentence.split(\" \")])\n",
    "        ## 영문 한글 불용어 제거\n",
    "#         sentence = \" \".join(word for word in sentence.split() if not word in stopwords_ko if len(word) > 1)\n",
    "#         sentence = \" \".join(word for word in sentence.split() if not word in stopwords_en if len(word) > 1)\n",
    "        \n",
    "    sentence = re.sub(r\"[^a-zA-Zㄱ-ㅎㅏ-ㅣ가-힣0-9?.!,\\s]\", \" \", sentence)\n",
    "    \n",
    "    sentence = re.sub(r\"\\s+\", \" \", sentence.strip())    ## 다수 개의 공백을 하나의 공백으로 치환\n",
    "    sentence = re.sub(r\"\\s+\", \" \", sentence.strip())    ## 다수 개의 공백을 하나의 공백으로 치환\n",
    "    sentence = sentence.strip()\n",
    "    \n",
    "    return sentence"
   ]
  },
  {
   "cell_type": "markdown",
   "id": "8bb64094",
   "metadata": {},
   "source": [
    "전처리 함수를 테스트 해보자."
   ]
  },
  {
   "cell_type": "code",
   "execution_count": 11,
   "id": "c979ecdf",
   "metadata": {},
   "outputs": [
    {
     "data": {
      "text/plain": [
       "'i do not care 그만 할래 니가 어디에서 뭘 하던 이제 정말 상관 안할게 비켜줄래 이제와 울고불고 매달리지마 because i do not care i do not care'"
      ]
     },
     "execution_count": 11,
     "metadata": {},
     "output_type": "execute_result"
    }
   ],
   "source": [
    "## 영어 소문자와, 약어 정규화만 확인해보도록 하자. 불용어 제거는 사용하지 않도록 한다.\n",
    "preprocess_sentence(\"\"\"\n",
    "    I don't care 그만 할래\n",
    "    니가 어디에서 뭘 하던 이제 정말 상관 안할게\n",
    "    비켜줄래 이제와 울고불고 매달리지마\n",
    "    'Cause I don't care\n",
    "    I don't care\"\"\", remove_stopwords=True)"
   ]
  },
  {
   "cell_type": "code",
   "execution_count": 12,
   "id": "23468c27",
   "metadata": {
    "scrolled": true
   },
   "outputs": [
    {
     "data": {
      "text/plain": [
       "'한국마이크로소프트가 7일 기자간담회를 열고 서피스 프로 9 과 서피스 랩탑 5 의 국내 공식 출시했다고 밝혔다.'"
      ]
     },
     "execution_count": 12,
     "metadata": {},
     "output_type": "execute_result"
    }
   ],
   "source": [
    "preprocess_sentence(\"\"\"\n",
    "한국마이크로소프트가 7일 기자간담회를 열고\n",
    "‘서피스 프로 9(Surface Pro 9)’과\n",
    "‘서피스 랩탑 5(Surface Laptop 5)’의\n",
    "국내 공식 출시했다고 밝혔다.\"\"\")"
   ]
  },
  {
   "cell_type": "markdown",
   "id": "21a3fc21",
   "metadata": {},
   "source": [
    "샘플을 확인해보자."
   ]
  },
  {
   "cell_type": "code",
   "execution_count": 13,
   "id": "5a487f89",
   "metadata": {},
   "outputs": [
    {
     "data": {
      "text/html": [
       "<div>\n",
       "<style scoped>\n",
       "    .dataframe tbody tr th:only-of-type {\n",
       "        vertical-align: middle;\n",
       "    }\n",
       "\n",
       "    .dataframe tbody tr th {\n",
       "        vertical-align: top;\n",
       "    }\n",
       "\n",
       "    .dataframe thead th {\n",
       "        text-align: right;\n",
       "    }\n",
       "</style>\n",
       "<table border=\"1\" class=\"dataframe\">\n",
       "  <thead>\n",
       "    <tr style=\"text-align: right;\">\n",
       "      <th></th>\n",
       "      <th>questions</th>\n",
       "      <th>answers</th>\n",
       "    </tr>\n",
       "  </thead>\n",
       "  <tbody>\n",
       "    <tr>\n",
       "      <th>0</th>\n",
       "      <td>12시 땡!</td>\n",
       "      <td>하루가 또 가네요.</td>\n",
       "    </tr>\n",
       "    <tr>\n",
       "      <th>1</th>\n",
       "      <td>1지망 학교 떨어졌어</td>\n",
       "      <td>위로해 드립니다.</td>\n",
       "    </tr>\n",
       "    <tr>\n",
       "      <th>2</th>\n",
       "      <td>3박4일 놀러가고 싶다</td>\n",
       "      <td>여행은 언제나 좋죠.</td>\n",
       "    </tr>\n",
       "    <tr>\n",
       "      <th>3</th>\n",
       "      <td>3박4일 정도 놀러가고 싶다</td>\n",
       "      <td>여행은 언제나 좋죠.</td>\n",
       "    </tr>\n",
       "    <tr>\n",
       "      <th>4</th>\n",
       "      <td>PPL 심하네</td>\n",
       "      <td>눈살이 찌푸려지죠.</td>\n",
       "    </tr>\n",
       "    <tr>\n",
       "      <th>5</th>\n",
       "      <td>SD카드 망가졌어</td>\n",
       "      <td>다시 새로 사는 게 마음 편해요.</td>\n",
       "    </tr>\n",
       "    <tr>\n",
       "      <th>6</th>\n",
       "      <td>SD카드 안돼</td>\n",
       "      <td>다시 새로 사는 게 마음 편해요.</td>\n",
       "    </tr>\n",
       "    <tr>\n",
       "      <th>7</th>\n",
       "      <td>SNS 맞팔 왜 안하지ㅠㅠ</td>\n",
       "      <td>잘 모르고 있을 수도 있어요.</td>\n",
       "    </tr>\n",
       "    <tr>\n",
       "      <th>8</th>\n",
       "      <td>SNS 시간낭비인 거 아는데 매일 하는 중</td>\n",
       "      <td>시간을 정하고 해보세요.</td>\n",
       "    </tr>\n",
       "    <tr>\n",
       "      <th>9</th>\n",
       "      <td>SNS 시간낭비인데 자꾸 보게됨</td>\n",
       "      <td>시간을 정하고 해보세요.</td>\n",
       "    </tr>\n",
       "  </tbody>\n",
       "</table>\n",
       "</div>"
      ],
      "text/plain": [
       "                 questions             answers\n",
       "0                   12시 땡!          하루가 또 가네요.\n",
       "1              1지망 학교 떨어졌어           위로해 드립니다.\n",
       "2             3박4일 놀러가고 싶다         여행은 언제나 좋죠.\n",
       "3          3박4일 정도 놀러가고 싶다         여행은 언제나 좋죠.\n",
       "4                  PPL 심하네          눈살이 찌푸려지죠.\n",
       "5                SD카드 망가졌어  다시 새로 사는 게 마음 편해요.\n",
       "6                  SD카드 안돼  다시 새로 사는 게 마음 편해요.\n",
       "7           SNS 맞팔 왜 안하지ㅠㅠ    잘 모르고 있을 수도 있어요.\n",
       "8  SNS 시간낭비인 거 아는데 매일 하는 중       시간을 정하고 해보세요.\n",
       "9        SNS 시간낭비인데 자꾸 보게됨       시간을 정하고 해보세요."
      ]
     },
     "execution_count": 13,
     "metadata": {},
     "output_type": "execute_result"
    }
   ],
   "source": [
    "df_songys_chabot.head(10)"
   ]
  },
  {
   "cell_type": "markdown",
   "id": "1b3a0854",
   "metadata": {},
   "source": [
    "전처리를 적용하도록 하자."
   ]
  },
  {
   "cell_type": "code",
   "execution_count": 14,
   "id": "54ee8651",
   "metadata": {},
   "outputs": [
    {
     "data": {
      "text/html": [
       "<div>\n",
       "<style scoped>\n",
       "    .dataframe tbody tr th:only-of-type {\n",
       "        vertical-align: middle;\n",
       "    }\n",
       "\n",
       "    .dataframe tbody tr th {\n",
       "        vertical-align: top;\n",
       "    }\n",
       "\n",
       "    .dataframe thead th {\n",
       "        text-align: right;\n",
       "    }\n",
       "</style>\n",
       "<table border=\"1\" class=\"dataframe\">\n",
       "  <thead>\n",
       "    <tr style=\"text-align: right;\">\n",
       "      <th></th>\n",
       "      <th>questions</th>\n",
       "      <th>answers</th>\n",
       "    </tr>\n",
       "  </thead>\n",
       "  <tbody>\n",
       "    <tr>\n",
       "      <th>0</th>\n",
       "      <td>12시 땡!</td>\n",
       "      <td>하루가 또 가네요.</td>\n",
       "    </tr>\n",
       "    <tr>\n",
       "      <th>1</th>\n",
       "      <td>1지망 학교 떨어졌어</td>\n",
       "      <td>위로해 드립니다.</td>\n",
       "    </tr>\n",
       "    <tr>\n",
       "      <th>2</th>\n",
       "      <td>3박4일 놀러가고 싶다</td>\n",
       "      <td>여행은 언제나 좋죠.</td>\n",
       "    </tr>\n",
       "    <tr>\n",
       "      <th>3</th>\n",
       "      <td>3박4일 정도 놀러가고 싶다</td>\n",
       "      <td>여행은 언제나 좋죠.</td>\n",
       "    </tr>\n",
       "    <tr>\n",
       "      <th>4</th>\n",
       "      <td>ppl 심하네</td>\n",
       "      <td>눈살이 찌푸려지죠.</td>\n",
       "    </tr>\n",
       "    <tr>\n",
       "      <th>5</th>\n",
       "      <td>sd카드 망가졌어</td>\n",
       "      <td>다시 새로 사는 게 마음 편해요.</td>\n",
       "    </tr>\n",
       "    <tr>\n",
       "      <th>6</th>\n",
       "      <td>sd카드 안돼</td>\n",
       "      <td>다시 새로 사는 게 마음 편해요.</td>\n",
       "    </tr>\n",
       "    <tr>\n",
       "      <th>7</th>\n",
       "      <td>sns 맞팔 왜 안하지ㅠㅠ</td>\n",
       "      <td>잘 모르고 있을 수도 있어요.</td>\n",
       "    </tr>\n",
       "    <tr>\n",
       "      <th>8</th>\n",
       "      <td>sns 시간낭비인 거 아는데 매일 하는 중</td>\n",
       "      <td>시간을 정하고 해보세요.</td>\n",
       "    </tr>\n",
       "    <tr>\n",
       "      <th>9</th>\n",
       "      <td>sns 시간낭비인데 자꾸 보게됨</td>\n",
       "      <td>시간을 정하고 해보세요.</td>\n",
       "    </tr>\n",
       "  </tbody>\n",
       "</table>\n",
       "</div>"
      ],
      "text/plain": [
       "                 questions             answers\n",
       "0                   12시 땡!          하루가 또 가네요.\n",
       "1              1지망 학교 떨어졌어           위로해 드립니다.\n",
       "2             3박4일 놀러가고 싶다         여행은 언제나 좋죠.\n",
       "3          3박4일 정도 놀러가고 싶다         여행은 언제나 좋죠.\n",
       "4                  ppl 심하네          눈살이 찌푸려지죠.\n",
       "5                sd카드 망가졌어  다시 새로 사는 게 마음 편해요.\n",
       "6                  sd카드 안돼  다시 새로 사는 게 마음 편해요.\n",
       "7           sns 맞팔 왜 안하지ㅠㅠ    잘 모르고 있을 수도 있어요.\n",
       "8  sns 시간낭비인 거 아는데 매일 하는 중       시간을 정하고 해보세요.\n",
       "9        sns 시간낭비인데 자꾸 보게됨       시간을 정하고 해보세요."
      ]
     },
     "execution_count": 14,
     "metadata": {},
     "output_type": "execute_result"
    }
   ],
   "source": [
    "df_songys_chabot[\"questions\"] = df_songys_chabot[\"questions\"].apply(lambda x: preprocess_sentence(x))\n",
    "df_songys_chabot[\"answers\"] = df_songys_chabot[\"answers\"].apply(lambda x: preprocess_sentence(x))\n",
    "df_songys_chabot.head(10)"
   ]
  },
  {
   "cell_type": "markdown",
   "id": "e3391265",
   "metadata": {},
   "source": [
    "다음단계를 수행해보자."
   ]
  },
  {
   "cell_type": "markdown",
   "id": "b53d6c3f",
   "metadata": {},
   "source": [
    "### ■ 전처리 → **`중복제거`** → 토큰화 → 어그멘테이션 → 스타트 엔드 토큰 넣고 → 정수인코딩 (벡터화)"
   ]
  },
  {
   "cell_type": "markdown",
   "id": "dc7c9f80",
   "metadata": {},
   "source": [
    "중복되는 문장을 데이터에서 제외하자.\n",
    "\n",
    "프로젝트 가이드에 따라, `소스 : 타겟` 쌍을 비교하지 않고 소스는 소스대로 타겟은 타겟대로 검사하겠다."
   ]
  },
  {
   "cell_type": "code",
   "execution_count": 15,
   "id": "d0734ee0",
   "metadata": {
    "scrolled": true
   },
   "outputs": [
    {
     "data": {
      "text/html": [
       "<div>\n",
       "<style scoped>\n",
       "    .dataframe tbody tr th:only-of-type {\n",
       "        vertical-align: middle;\n",
       "    }\n",
       "\n",
       "    .dataframe tbody tr th {\n",
       "        vertical-align: top;\n",
       "    }\n",
       "\n",
       "    .dataframe thead th {\n",
       "        text-align: right;\n",
       "    }\n",
       "</style>\n",
       "<table border=\"1\" class=\"dataframe\">\n",
       "  <thead>\n",
       "    <tr style=\"text-align: right;\">\n",
       "      <th></th>\n",
       "      <th>questions</th>\n",
       "      <th>answers</th>\n",
       "    </tr>\n",
       "  </thead>\n",
       "  <tbody>\n",
       "    <tr>\n",
       "      <th>0</th>\n",
       "      <td>12시 땡!</td>\n",
       "      <td>하루가 또 가네요.</td>\n",
       "    </tr>\n",
       "    <tr>\n",
       "      <th>1</th>\n",
       "      <td>1지망 학교 떨어졌어</td>\n",
       "      <td>위로해 드립니다.</td>\n",
       "    </tr>\n",
       "    <tr>\n",
       "      <th>2</th>\n",
       "      <td>3박4일 놀러가고 싶다</td>\n",
       "      <td>여행은 언제나 좋죠.</td>\n",
       "    </tr>\n",
       "    <tr>\n",
       "      <th>4</th>\n",
       "      <td>ppl 심하네</td>\n",
       "      <td>눈살이 찌푸려지죠.</td>\n",
       "    </tr>\n",
       "    <tr>\n",
       "      <th>5</th>\n",
       "      <td>sd카드 망가졌어</td>\n",
       "      <td>다시 새로 사는 게 마음 편해요.</td>\n",
       "    </tr>\n",
       "  </tbody>\n",
       "</table>\n",
       "</div>"
      ],
      "text/plain": [
       "      questions             answers\n",
       "0        12시 땡!          하루가 또 가네요.\n",
       "1   1지망 학교 떨어졌어           위로해 드립니다.\n",
       "2  3박4일 놀러가고 싶다         여행은 언제나 좋죠.\n",
       "4       ppl 심하네          눈살이 찌푸려지죠.\n",
       "5     sd카드 망가졌어  다시 새로 사는 게 마음 편해요."
      ]
     },
     "execution_count": 15,
     "metadata": {},
     "output_type": "execute_result"
    }
   ],
   "source": [
    "## 테스트 해보자.\n",
    "df_songys_chabot.drop_duplicates([\"answers\"]).head(5)"
   ]
  },
  {
   "cell_type": "code",
   "execution_count": 16,
   "id": "e32d7150",
   "metadata": {
    "scrolled": false
   },
   "outputs": [
    {
     "data": {
      "text/html": [
       "<div>\n",
       "<style scoped>\n",
       "    .dataframe tbody tr th:only-of-type {\n",
       "        vertical-align: middle;\n",
       "    }\n",
       "\n",
       "    .dataframe tbody tr th {\n",
       "        vertical-align: top;\n",
       "    }\n",
       "\n",
       "    .dataframe thead th {\n",
       "        text-align: right;\n",
       "    }\n",
       "</style>\n",
       "<table border=\"1\" class=\"dataframe\">\n",
       "  <thead>\n",
       "    <tr style=\"text-align: right;\">\n",
       "      <th></th>\n",
       "      <th>questions</th>\n",
       "      <th>answers</th>\n",
       "    </tr>\n",
       "  </thead>\n",
       "  <tbody>\n",
       "    <tr>\n",
       "      <th>11815</th>\n",
       "      <td>회식 중이라고 하는데 연락이 안돼.</td>\n",
       "      <td>정신 없이 바쁠지도 몰라요. 조금만 더 기다려보고 물어보는게 좋을 것 같아요.</td>\n",
       "    </tr>\n",
       "    <tr>\n",
       "      <th>11816</th>\n",
       "      <td>회식하는데 나만 챙겨줘. 썸임?</td>\n",
       "      <td>호감이 있을 수도 있어요. 그렇지만 조금 더 상황을 지켜보세요.</td>\n",
       "    </tr>\n",
       "    <tr>\n",
       "      <th>11817</th>\n",
       "      <td>후회 없이 사랑하고 싶어</td>\n",
       "      <td>진심으로 다가가 보세요.</td>\n",
       "    </tr>\n",
       "    <tr>\n",
       "      <th>11818</th>\n",
       "      <td>훔쳐보는 것도 눈치 보임.</td>\n",
       "      <td>티가 나니까 눈치가 보이는 거죠!</td>\n",
       "    </tr>\n",
       "    <tr>\n",
       "      <th>11820</th>\n",
       "      <td>흑기사 해주는 짝남.</td>\n",
       "      <td>설렜겠어요.</td>\n",
       "    </tr>\n",
       "    <tr>\n",
       "      <th>11821</th>\n",
       "      <td>힘든 연애 좋은 연애라는게 무슨 차이일까?</td>\n",
       "      <td>잘 헤어질 수 있는 사이 여부인 거 같아요.</td>\n",
       "    </tr>\n",
       "    <tr>\n",
       "      <th>11822</th>\n",
       "      <td>힘들어서 결혼할까봐</td>\n",
       "      <td>도피성 결혼은 하지 않길 바라요.</td>\n",
       "    </tr>\n",
       "  </tbody>\n",
       "</table>\n",
       "</div>"
      ],
      "text/plain": [
       "                     questions                                      answers\n",
       "11815      회식 중이라고 하는데 연락이 안돼.  정신 없이 바쁠지도 몰라요. 조금만 더 기다려보고 물어보는게 좋을 것 같아요.\n",
       "11816        회식하는데 나만 챙겨줘. 썸임?          호감이 있을 수도 있어요. 그렇지만 조금 더 상황을 지켜보세요.\n",
       "11817            후회 없이 사랑하고 싶어                                진심으로 다가가 보세요.\n",
       "11818           훔쳐보는 것도 눈치 보임.                           티가 나니까 눈치가 보이는 거죠!\n",
       "11820              흑기사 해주는 짝남.                                       설렜겠어요.\n",
       "11821  힘든 연애 좋은 연애라는게 무슨 차이일까?                     잘 헤어질 수 있는 사이 여부인 거 같아요.\n",
       "11822               힘들어서 결혼할까봐                           도피성 결혼은 하지 않길 바라요."
      ]
     },
     "execution_count": 16,
     "metadata": {},
     "output_type": "execute_result"
    }
   ],
   "source": [
    "## 테스트 해보자.\n",
    "df_songys_chabot.drop_duplicates([\"questions\"]).tail(7)"
   ]
  },
  {
   "cell_type": "markdown",
   "id": "c255959a",
   "metadata": {},
   "source": [
    "중복제거 전／후를 비교하면 다음과 같다."
   ]
  },
  {
   "attachments": {
    "duplicated_01.png": {
     "image/png": "[encoded data removed]"
    }
   },
   "cell_type": "markdown",
   "id": "dd8db5d4",
   "metadata": {},
   "source": [
    "![duplicated_01.png](attachment:duplicated_01.png)"
   ]
  },
  {
   "cell_type": "markdown",
   "id": "c8f8598d",
   "metadata": {},
   "source": [
    "소스, 타겟 각자대로 중복제거 진행한 결과를 확인 할 수 있다.\n",
    "\n",
    "아래는 각각의 코드를 수행했을 때에 예상되는 수치이다."
   ]
  },
  {
   "cell_type": "code",
   "execution_count": 17,
   "id": "8fc2510c",
   "metadata": {
    "scrolled": true
   },
   "outputs": [
    {
     "name": "stdout",
     "output_type": "stream",
     "text": [
      "df_songys_chabot 전체 : (11823, 2)\n",
      "df_songys_chabot【questions】중복 : (162, 2)\n",
      "df_songys_chabot【answers】중복 : (4044, 2)\n",
      "df_songys_chabot【questions】중복제거후 예상 : (11661, 2)\n",
      "df_songys_chabot【answers】중복제거후 예상 : (7779, 2)\n"
     ]
    }
   ],
   "source": [
    "print(\"df_songys_chabot 전체 :\", df_songys_chabot.shape)\n",
    "print(\"df_songys_chabot【questions】중복 :\", df_songys_chabot[df_songys_chabot[\"questions\"].duplicated()].shape)\n",
    "print(\"df_songys_chabot【answers】중복 :\", df_songys_chabot[df_songys_chabot[\"answers\"].duplicated()].shape)\n",
    "print(\"df_songys_chabot【questions】중복제거후 예상 :\", df_songys_chabot[~df_songys_chabot[\"questions\"].duplicated()].shape)\n",
    "print(\"df_songys_chabot【answers】중복제거후 예상 :\", df_songys_chabot[~df_songys_chabot[\"answers\"].duplicated()].shape)"
   ]
  },
  {
   "cell_type": "markdown",
   "id": "04a95ca3",
   "metadata": {},
   "source": [
    "실제 중복제거를 수행한다."
   ]
  },
  {
   "cell_type": "code",
   "execution_count": 18,
   "id": "97ca6190",
   "metadata": {},
   "outputs": [],
   "source": [
    "df_songys_chabot.drop_duplicates([\"answers\"], inplace=True)\n",
    "df_songys_chabot.drop_duplicates([\"questions\"], inplace=True)"
   ]
  },
  {
   "cell_type": "code",
   "execution_count": 19,
   "id": "4a44fb19",
   "metadata": {
    "scrolled": true
   },
   "outputs": [
    {
     "data": {
      "text/plain": [
       "(7727, 2)"
      ]
     },
     "execution_count": 19,
     "metadata": {},
     "output_type": "execute_result"
    }
   ],
   "source": [
    "## 전체 테이터를 확인해보자\n",
    "df_songys_chabot.shape"
   ]
  },
  {
   "cell_type": "markdown",
   "id": "30681420",
   "metadata": {},
   "source": [
    "결측치가 있을 수도 있다. 확인해보자."
   ]
  },
  {
   "cell_type": "code",
   "execution_count": 20,
   "id": "09a4198c",
   "metadata": {},
   "outputs": [
    {
     "name": "stdout",
     "output_type": "stream",
     "text": [
      "df_songys_chabot 전체 : (7727, 2)\n",
      "df_songys_chabot【questions】결측 : (0, 2)\n",
      "df_songys_chabot【answers】결측 : (0, 2)\n",
      "df_songys_chabot【questions】결측제거후 예상 : (7727, 2)\n",
      "df_songys_chabot【answers】결측제거후 예상 : (7727, 2)\n"
     ]
    }
   ],
   "source": [
    "print(\"df_songys_chabot 전체 :\", df_songys_chabot.shape)\n",
    "print(\"df_songys_chabot【questions】결측 :\", df_songys_chabot[df_songys_chabot[\"questions\"].isnull()].shape)\n",
    "print(\"df_songys_chabot【answers】결측 :\", df_songys_chabot[df_songys_chabot[\"answers\"].isnull()].shape)\n",
    "print(\"df_songys_chabot【questions】결측제거후 예상 :\", df_songys_chabot[~df_songys_chabot[\"questions\"].isnull()].shape)\n",
    "print(\"df_songys_chabot【answers】결측제거후 예상 :\", df_songys_chabot[~df_songys_chabot[\"answers\"].isnull()].shape)"
   ]
  },
  {
   "cell_type": "markdown",
   "id": "cb3002b5",
   "metadata": {},
   "source": [
    "결측치는 없는 것으로 확인된다."
   ]
  },
  {
   "cell_type": "markdown",
   "id": "43e99c33",
   "metadata": {},
   "source": [
    "&nbsp;"
   ]
  },
  {
   "cell_type": "markdown",
   "id": "fba47b86",
   "metadata": {},
   "source": [
    "어느정도 전처리 상태를 확인 했으니, 이제 데이터 순서를 지킬 필요가 없다. \n",
    "\n",
    "데이터를 섞어 준다."
   ]
  },
  {
   "cell_type": "code",
   "execution_count": 21,
   "id": "99b22240",
   "metadata": {},
   "outputs": [],
   "source": [
    "# shuffling하고 index reset\n",
    "df_songys_chabot = df_songys_chabot.sample(frac=1).reset_index(drop=True)"
   ]
  },
  {
   "cell_type": "markdown",
   "id": "9fe80344",
   "metadata": {},
   "source": [
    "&nbsp;"
   ]
  },
  {
   "cell_type": "markdown",
   "id": "79debf4b",
   "metadata": {},
   "source": [
    "다음에 수행해야 할 단계는 아래와 같다."
   ]
  },
  {
   "cell_type": "markdown",
   "id": "02b87b5d",
   "metadata": {},
   "source": [
    "### ■ 전처리 → 중복제거 → **`토큰화`** → 어그멘테이션 → 스타트 엔드 토큰 넣고 → 정수인코딩 (벡터화)"
   ]
  },
  {
   "cell_type": "markdown",
   "id": "4d5038ce",
   "metadata": {},
   "source": [
    "일단 Step.3 으로 넘어가보자."
   ]
  },
  {
   "cell_type": "markdown",
   "id": "6f46b63c",
   "metadata": {},
   "source": [
    "&nbsp;"
   ]
  },
  {
   "cell_type": "markdown",
   "id": "0474acf9",
   "metadata": {},
   "source": [
    "### Step 3. 데이터 토큰화\n",
    "\n",
    "<hr>"
   ]
  },
  {
   "cell_type": "markdown",
   "id": "0d77779d",
   "metadata": {},
   "source": [
    "토큰화에는 ***KoNLPy***의 `mecab` 클래스를 사용합니다.\n",
    "\n"
   ]
  },
  {
   "cell_type": "markdown",
   "id": "f97dafba",
   "metadata": {},
   "source": [
    "아래 조건을 만족하는 `build_corpus()` 함수를 구현하세요!\n",
    "\n"
   ]
  },
  {
   "cell_type": "markdown",
   "id": "048f842b",
   "metadata": {},
   "source": [
    "\n",
    "1. **소스 문장 데이터**와 **타겟 문장 데이터**를 입력으로 받습니다.\n",
    "\n",
    "\n",
    "2. 데이터를 앞서 정의한 `preprocess_sentence()` 함수로 **정제하고, 토큰화**합니다.\n",
    "\n",
    "\n",
    "3. 토큰화는 **전달받은 토크나이즈 함수를 사용**합니다. 이번엔 **`mecab.morphs`** 함수를 전달하시면 됩니다.\n",
    "\n",
    "\n",
    "4. 토큰의 개수가 일정 길이 이상인 문장은 **데이터에서 제외**합니다.\n",
    "\n",
    "\n",
    "5. **중복되는 문장은 데이터에서 제외**합니다. **`소스 : 타겟`** 쌍을 비교하지 않고 소스는 소스대로 타겟은 타겟대로 검사합니다. 중복 쌍이 흐트러지지 않도록 유의하세요!"
   ]
  },
  {
   "cell_type": "markdown",
   "id": "bc0e6765",
   "metadata": {},
   "source": [
    "구현한 함수를 활용하여 `questions` 와 `answers` 를 각각 `que_corpus , ans_corpus` 에 토큰화하여 저장합니다.\n",
    "\n"
   ]
  },
  {
   "cell_type": "markdown",
   "id": "574231b7",
   "metadata": {},
   "source": [
    "&nbsp;"
   ]
  },
  {
   "cell_type": "markdown",
   "id": "1558c9ec",
   "metadata": {},
   "source": [
    "프로젝트 가이드에 따르면, 전처리의 경우 이전 단계에서 수행을 마친 상태이다.\n",
    "\n",
    "Step.3 에서 ***KoNLPy***의 `mecab` 클래스를 사용하여 토큰화를 수행하는 것은 이번 스텝에서 진행하도록 하겠다.\n",
    "\n",
    "현재 진행 상태는 아래와 같다."
   ]
  },
  {
   "cell_type": "markdown",
   "id": "fa85b456",
   "metadata": {},
   "source": [
    "### ■ 전처리 → 중복제거 → **`토큰화`** → 어그멘테이션 → 스타트 엔드 토큰 넣고 → 정수인코딩 (벡터화)"
   ]
  },
  {
   "cell_type": "markdown",
   "id": "c727c73d",
   "metadata": {},
   "source": [
    "토큰화를 수행하자. tokenize() 함수를 정의할까 싶어서 생각해 봤다.\n",
    "\n",
    "그런데, 이걸 정의하려고 보니, 어그멘테이션과 스타트 엔드 토큰 들어가는 부분도 필요하다."
   ]
  },
  {
   "cell_type": "code",
   "execution_count": 22,
   "id": "011a9bb2",
   "metadata": {},
   "outputs": [],
   "source": [
    "def tokenize(corpus):\n",
    "    \n",
    "    mecab = Mecab()\n",
    "    \n",
    "    tokenizer = tf.keras.preprocessing.text.Tokenizer(filters='')\n",
    "\n",
    "    corpus = [mecab.morphs(sentence) for sentence in corpus]\n",
    "\n",
    "    \n",
    "    ## 어그멘테이션\n",
    "    \n",
    "    \n",
    "    ## 스타트엔드토큰\n",
    "\n",
    "\n",
    "    tokenizer.fit_on_texts(corpus)\n",
    "\n",
    "    tensor = tokenizer.texts_to_sequences(corpus)\n",
    "\n",
    "    tensor = tf.keras.preprocessing.sequence.pad_sequences(tensor, padding='post')\n",
    "\n",
    "    return tensor, tokenizer\n"
   ]
  },
  {
   "cell_type": "markdown",
   "id": "74bb4bde",
   "metadata": {},
   "source": [
    "토큰화는 우선 일부분만 진행하고, 어그멘테이션 부분을 구현하도록 하자."
   ]
  },
  {
   "cell_type": "code",
   "execution_count": 23,
   "id": "f21665ff",
   "metadata": {
    "scrolled": true
   },
   "outputs": [
    {
     "data": {
      "text/html": [
       "<div>\n",
       "<style scoped>\n",
       "    .dataframe tbody tr th:only-of-type {\n",
       "        vertical-align: middle;\n",
       "    }\n",
       "\n",
       "    .dataframe tbody tr th {\n",
       "        vertical-align: top;\n",
       "    }\n",
       "\n",
       "    .dataframe thead th {\n",
       "        text-align: right;\n",
       "    }\n",
       "</style>\n",
       "<table border=\"1\" class=\"dataframe\">\n",
       "  <thead>\n",
       "    <tr style=\"text-align: right;\">\n",
       "      <th></th>\n",
       "      <th>questions</th>\n",
       "      <th>answers</th>\n",
       "    </tr>\n",
       "  </thead>\n",
       "  <tbody>\n",
       "    <tr>\n",
       "      <th>0</th>\n",
       "      <td>나쁜 사람인 걸 아는데도 좋아하는 마음이 사라지지 않아.</td>\n",
       "      <td>나쁜 사람일수록 끌리기도 하죠.</td>\n",
       "    </tr>\n",
       "    <tr>\n",
       "      <th>1</th>\n",
       "      <td>한약 너무 써</td>\n",
       "      <td>입에 쓴 게 몸에는 좋을 거예요.</td>\n",
       "    </tr>\n",
       "    <tr>\n",
       "      <th>2</th>\n",
       "      <td>이것도 제 미련이겠죠?</td>\n",
       "      <td>고민한다면 미련일 수 있어요.</td>\n",
       "    </tr>\n",
       "    <tr>\n",
       "      <th>3</th>\n",
       "      <td>아프고 또 아프지만</td>\n",
       "      <td>아스피린 한 알 먹어보세요.</td>\n",
       "    </tr>\n",
       "    <tr>\n",
       "      <th>4</th>\n",
       "      <td>짝남이 너무 좋은데 패션센스가 별로야.</td>\n",
       "      <td>패션은 사귀고 나서 바꿔줘도 돼요.</td>\n",
       "    </tr>\n",
       "    <tr>\n",
       "      <th>5</th>\n",
       "      <td>피부 관리해야지</td>\n",
       "      <td>투자한 만큼 거둘 수 있을 거예요!</td>\n",
       "    </tr>\n",
       "    <tr>\n",
       "      <th>6</th>\n",
       "      <td>이제 일주일</td>\n",
       "      <td>충분히 극복해낼 수 있어요.</td>\n",
       "    </tr>\n",
       "    <tr>\n",
       "      <th>7</th>\n",
       "      <td>이러지 말자</td>\n",
       "      <td>그 말씀 꼭 지키기 바랄게요.</td>\n",
       "    </tr>\n",
       "    <tr>\n",
       "      <th>8</th>\n",
       "      <td>전 여친 생일이야</td>\n",
       "      <td>이제 그냥 일년 중 하루로 지내요.</td>\n",
       "    </tr>\n",
       "    <tr>\n",
       "      <th>9</th>\n",
       "      <td>치매이면 어쩌지</td>\n",
       "      <td>무서운 소리 마세요.</td>\n",
       "    </tr>\n",
       "  </tbody>\n",
       "</table>\n",
       "</div>"
      ],
      "text/plain": [
       "                         questions              answers\n",
       "0  나쁜 사람인 걸 아는데도 좋아하는 마음이 사라지지 않아.    나쁜 사람일수록 끌리기도 하죠.\n",
       "1                          한약 너무 써   입에 쓴 게 몸에는 좋을 거예요.\n",
       "2                     이것도 제 미련이겠죠?     고민한다면 미련일 수 있어요.\n",
       "3                       아프고 또 아프지만      아스피린 한 알 먹어보세요.\n",
       "4            짝남이 너무 좋은데 패션센스가 별로야.  패션은 사귀고 나서 바꿔줘도 돼요.\n",
       "5                         피부 관리해야지  투자한 만큼 거둘 수 있을 거예요!\n",
       "6                           이제 일주일      충분히 극복해낼 수 있어요.\n",
       "7                           이러지 말자     그 말씀 꼭 지키기 바랄게요.\n",
       "8                        전 여친 생일이야  이제 그냥 일년 중 하루로 지내요.\n",
       "9                         치매이면 어쩌지          무서운 소리 마세요."
      ]
     },
     "execution_count": 23,
     "metadata": {},
     "output_type": "execute_result"
    }
   ],
   "source": [
    "## 샘플 출력\n",
    "df_songys_chabot.head(10)"
   ]
  },
  {
   "cell_type": "code",
   "execution_count": 24,
   "id": "b2a4c0ab",
   "metadata": {},
   "outputs": [
    {
     "data": {
      "text/html": [
       "<div>\n",
       "<style scoped>\n",
       "    .dataframe tbody tr th:only-of-type {\n",
       "        vertical-align: middle;\n",
       "    }\n",
       "\n",
       "    .dataframe tbody tr th {\n",
       "        vertical-align: top;\n",
       "    }\n",
       "\n",
       "    .dataframe thead th {\n",
       "        text-align: right;\n",
       "    }\n",
       "</style>\n",
       "<table border=\"1\" class=\"dataframe\">\n",
       "  <thead>\n",
       "    <tr style=\"text-align: right;\">\n",
       "      <th></th>\n",
       "      <th>questions</th>\n",
       "      <th>answers</th>\n",
       "    </tr>\n",
       "  </thead>\n",
       "  <tbody>\n",
       "    <tr>\n",
       "      <th>0</th>\n",
       "      <td>나쁜 사람 인 걸 아 는 데 도 좋 아 하 는 마음 이 사라지 지 않 아 .</td>\n",
       "      <td>나쁜 사람 일수록 끌리 기 도 하 죠 .</td>\n",
       "    </tr>\n",
       "    <tr>\n",
       "      <th>1</th>\n",
       "      <td>한약 너무 써</td>\n",
       "      <td>입 에 쓴 게 몸 에 는 좋 을 거 예요 .</td>\n",
       "    </tr>\n",
       "    <tr>\n",
       "      <th>2</th>\n",
       "      <td>이것 도 제 미련 이 겠 죠 ?</td>\n",
       "      <td>고민 한다면 미련 일 수 있 어요 .</td>\n",
       "    </tr>\n",
       "    <tr>\n",
       "      <th>3</th>\n",
       "      <td>아프 고 또 아프 지만</td>\n",
       "      <td>아스피린 한 알 먹 어 보 세요 .</td>\n",
       "    </tr>\n",
       "    <tr>\n",
       "      <th>4</th>\n",
       "      <td>짝 남 이 너무 좋 은데 패션 센스 가 별로 야 .</td>\n",
       "      <td>패션 은 사귀 고 나 서 바꿔 줘도 돼요 .</td>\n",
       "    </tr>\n",
       "    <tr>\n",
       "      <th>5</th>\n",
       "      <td>피부 관리 해야지</td>\n",
       "      <td>투자 한 만큼 거둘 수 있 을 거 예요 !</td>\n",
       "    </tr>\n",
       "    <tr>\n",
       "      <th>6</th>\n",
       "      <td>이제 일 주일</td>\n",
       "      <td>충분히 극복 해낼 수 있 어요 .</td>\n",
       "    </tr>\n",
       "    <tr>\n",
       "      <th>7</th>\n",
       "      <td>이러 지 말 자</td>\n",
       "      <td>그 말씀 꼭 지키 기 바랄게요 .</td>\n",
       "    </tr>\n",
       "    <tr>\n",
       "      <th>8</th>\n",
       "      <td>전 여친 생일 이 야</td>\n",
       "      <td>이제 그냥 일 년 중 하루 로 지내 요 .</td>\n",
       "    </tr>\n",
       "    <tr>\n",
       "      <th>9</th>\n",
       "      <td>치매 이 면 어쩌 지</td>\n",
       "      <td>무서운 소리 마세요 .</td>\n",
       "    </tr>\n",
       "  </tbody>\n",
       "</table>\n",
       "</div>"
      ],
      "text/plain": [
       "                                    questions                   answers\n",
       "0  나쁜 사람 인 걸 아 는 데 도 좋 아 하 는 마음 이 사라지 지 않 아 .    나쁜 사람 일수록 끌리 기 도 하 죠 .\n",
       "1                                     한약 너무 써  입 에 쓴 게 몸 에 는 좋 을 거 예요 .\n",
       "2                           이것 도 제 미련 이 겠 죠 ?      고민 한다면 미련 일 수 있 어요 .\n",
       "3                                아프 고 또 아프 지만       아스피린 한 알 먹 어 보 세요 .\n",
       "4                짝 남 이 너무 좋 은데 패션 센스 가 별로 야 .  패션 은 사귀 고 나 서 바꿔 줘도 돼요 .\n",
       "5                                   피부 관리 해야지   투자 한 만큼 거둘 수 있 을 거 예요 !\n",
       "6                                     이제 일 주일        충분히 극복 해낼 수 있 어요 .\n",
       "7                                    이러 지 말 자        그 말씀 꼭 지키 기 바랄게요 .\n",
       "8                                 전 여친 생일 이 야   이제 그냥 일 년 중 하루 로 지내 요 .\n",
       "9                                 치매 이 면 어쩌 지              무서운 소리 마세요 ."
      ]
     },
     "execution_count": 24,
     "metadata": {},
     "output_type": "execute_result"
    }
   ],
   "source": [
    "## 토큰화와 어그멘테이션에 앞서 우선 형태소 분리만 수행하도록 하겠다.\n",
    "mecab = Mecab()\n",
    "\n",
    "df_songys_chabot[\"questions\"] = df_songys_chabot[\"questions\"].apply(lambda x: \" \".join(mecab.morphs(x)))\n",
    "df_songys_chabot[\"answers\"] = df_songys_chabot[\"answers\"].apply(lambda x: \" \".join(mecab.morphs(x)))\n",
    "\n",
    "df_songys_chabot.head(10)"
   ]
  },
  {
   "cell_type": "markdown",
   "id": "ce77dee9",
   "metadata": {},
   "source": [
    "### ■ 전처리 → 중복제거 → 토큰화 → **`어그멘테이션`** → 스타트 엔드 토큰 넣고 → 정수인코딩 (벡터화)"
   ]
  },
  {
   "cell_type": "markdown",
   "id": "0770c0cf",
   "metadata": {},
   "source": [
    "&nbsp;"
   ]
  },
  {
   "cell_type": "markdown",
   "id": "71b0be6f",
   "metadata": {},
   "source": [
    "### Step 4. Augmentation\n",
    "\n",
    "<hr>"
   ]
  },
  {
   "cell_type": "markdown",
   "id": "a8c5a466",
   "metadata": {},
   "source": [
    "우리에게 주어진 데이터는 **1만 개가량으로 적은 편**에 속합니다. 이럴 때에 사용할 수 있는 테크닉을 배웠으니 활용해 봐야겠죠? **Lexical Substitution을 실제로 적용**해 보도록 하겠습니다."
   ]
  },
  {
   "cell_type": "markdown",
   "id": "1ad65dbb",
   "metadata": {},
   "source": [
    "아래 링크를 참고하여 **한국어로 사전 훈련된 Embedding 모델을 다운로드**합니다. `Korean (w)` 가 Word2Vec으로 학습한 모델이며 용량도 적당하므로 사이트에서 `Korean (w)` 를 찾아 다운로드하고, `ko.bin` 파일을 얻으세요!\n",
    "\n",
    "- [Kyubyong/wordvectors](https://github.com/Kyubyong/wordvectors)"
   ]
  },
  {
   "cell_type": "markdown",
   "id": "23489da0",
   "metadata": {},
   "source": [
    "다운로드한 모델을 활용해 **데이터를 Augmentation** 하세요! 앞서 정의한 `lexical_sub()` 함수를 참고하면 도움이 많이 될 겁니다.\n",
    "\n"
   ]
  },
  {
   "cell_type": "markdown",
   "id": "dfe3edb3",
   "metadata": {},
   "source": [
    "*Augmentation된 `que_corpus` 와 원본 `ans_corpus` 가 병렬을 이루도록, 이후엔 반대로 원본 `que_corpus` 와<br>Augmentation된 `ans_corpus` 가 병렬을 이루도록 하여 **전체 데이터가 원래의 3배가량으로 늘어나도록** 합니다.*\n",
    "\n"
   ]
  },
  {
   "cell_type": "markdown",
   "id": "0fbd760b",
   "metadata": {},
   "source": [
    "&nbsp;"
   ]
  },
  {
   "cell_type": "markdown",
   "id": "a510a564",
   "metadata": {},
   "source": [
    "아래의 코드를 실행 할 경우 오류메시지를 확인할 수 있다.\n",
    "\n",
    "### `Can't get attribute 'Vocab' on <module 'gensim.models.word2vec' from '/opt/conda/lib/python3.9/site-packages/gensim/models/word2vec.py'>`\n",
    "\n",
    "- [gensim Vocab 로드 오류 해결하기](https://iambeginnerdeveloper.tistory.com/41)\n",
    "\n",
    "미리 gensim  버전을 내려주어야 한다."
   ]
  },
  {
   "cell_type": "code",
   "execution_count": 25,
   "id": "656d54b4",
   "metadata": {},
   "outputs": [
    {
     "name": "stdout",
     "output_type": "stream",
     "text": [
      "Requirement already satisfied: gensim==3.8.3 in /opt/conda/lib/python3.9/site-packages (3.8.3)\n",
      "Requirement already satisfied: numpy>=1.11.3 in /opt/conda/lib/python3.9/site-packages (from gensim==3.8.3) (1.21.4)\n",
      "Requirement already satisfied: six>=1.5.0 in /opt/conda/lib/python3.9/site-packages (from gensim==3.8.3) (1.16.0)\n",
      "Requirement already satisfied: smart-open>=1.8.1 in /opt/conda/lib/python3.9/site-packages (from gensim==3.8.3) (5.2.1)\n",
      "Requirement already satisfied: scipy>=0.18.1 in /opt/conda/lib/python3.9/site-packages (from gensim==3.8.3) (1.7.1)\n",
      "\u001b[33mWARNING: Running pip as the 'root' user can result in broken permissions and conflicting behaviour with the system package manager. It is recommended to use a virtual environment instead: https://pip.pypa.io/warnings/venv\u001b[0m\n"
     ]
    }
   ],
   "source": [
    "!pip install --upgrade gensim==3.8.3"
   ]
  },
  {
   "cell_type": "code",
   "execution_count": 26,
   "id": "713293d7",
   "metadata": {},
   "outputs": [
    {
     "name": "stdout",
     "output_type": "stream",
     "text": [
      "3.8.3\n"
     ]
    }
   ],
   "source": [
    "print(gensim.__version__)"
   ]
  },
  {
   "cell_type": "code",
   "execution_count": 27,
   "id": "a6cd13cc",
   "metadata": {},
   "outputs": [
    {
     "data": {
      "text/plain": [
       "gensim.models.word2vec.Word2Vec"
      ]
     },
     "execution_count": 27,
     "metadata": {},
     "output_type": "execute_result"
    }
   ],
   "source": [
    "## Load PreTrained Korean Embedding Model\n",
    "\n",
    "## 직접 다운로드 링크\n",
    "## \"https://drive.google.com/uc?export=download&id=0B0ZXk88koS2KbDhXdWg1Q2RydlU&confirm=yes\"\n",
    "\n",
    "ko_w2v = tf.keras.utils.get_file(\n",
    "    os.getenv(\"HOME\") + \"/aiffel/transformer_chatbot/data/ko.zip\",\n",
    "    origin=\"https://drive.google.com/uc?export=download&id=0B0ZXk88koS2KbDhXdWg1Q2RydlU&confirm=yes\",\n",
    "    extract=True, cache_subdir=\"/data/\")\n",
    "\n",
    "w2v_path = \"/data/ko.bin\"\n",
    "w2v = gensim.models.Word2Vec.load(w2v_path)\n",
    "type(w2v)"
   ]
  },
  {
   "cell_type": "markdown",
   "id": "a7d030a7",
   "metadata": {},
   "source": [
    "불러온 모델을 테스트해보자."
   ]
  },
  {
   "cell_type": "code",
   "execution_count": 28,
   "id": "5cd7123f",
   "metadata": {},
   "outputs": [
    {
     "name": "stderr",
     "output_type": "stream",
     "text": [
      "/tmp/ipykernel_382/468656562.py:1: DeprecationWarning: Call to deprecated `most_similar` (Method will be removed in 4.0.0, use self.wv.most_similar() instead).\n",
      "  w2v.most_similar(\"포도\")\n"
     ]
    },
    {
     "data": {
      "text/plain": [
       "[('딸기', 0.7215752601623535),\n",
       " ('사탕무', 0.6981558203697205),\n",
       " ('복숭아', 0.6955955624580383),\n",
       " ('참깨', 0.6662256121635437),\n",
       " ('고구마', 0.6647557020187378),\n",
       " ('옥수수', 0.6639925241470337),\n",
       " ('땅콩', 0.6633952856063843),\n",
       " ('벼', 0.6594249606132507),\n",
       " ('양배추', 0.6584994196891785),\n",
       " ('귀리', 0.657525360584259)]"
      ]
     },
     "execution_count": 28,
     "metadata": {},
     "output_type": "execute_result"
    }
   ],
   "source": [
    "w2v.most_similar(\"포도\")"
   ]
  },
  {
   "cell_type": "code",
   "execution_count": 29,
   "id": "d1180a6e",
   "metadata": {
    "scrolled": true
   },
   "outputs": [
    {
     "name": "stderr",
     "output_type": "stream",
     "text": [
      "/tmp/ipykernel_382/2533396044.py:1: DeprecationWarning: Call to deprecated `most_similar` (Method will be removed in 4.0.0, use self.wv.most_similar() instead).\n",
      "  w2v.most_similar(\"민트\")\n"
     ]
    },
    {
     "data": {
      "text/plain": [
       "[('핑거', 0.6945439577102661),\n",
       " ('쿠키', 0.6922162771224976),\n",
       " ('캔디', 0.6658134460449219),\n",
       " ('바닐라', 0.6654531359672546),\n",
       " ('레몬', 0.6637237668037415),\n",
       " ('브레드', 0.6599413156509399),\n",
       " ('머핀', 0.6582386493682861),\n",
       " ('솔리드', 0.6522738933563232),\n",
       " ('바나나', 0.6511702537536621),\n",
       " ('밀크', 0.6466017961502075)]"
      ]
     },
     "execution_count": 29,
     "metadata": {},
     "output_type": "execute_result"
    }
   ],
   "source": [
    "w2v.most_similar(\"민트\")"
   ]
  },
  {
   "cell_type": "markdown",
   "id": "a2f028b0",
   "metadata": {},
   "source": [
    "주어진 데이터를 토큰 단위로 분리한 후, 랜덤하게 하나를 선정하여 해당 토큰과 가장 유사한 단어를 찾아 대치하는 것으로 Lexical Substitution 을 확인해 볼 수 있다."
   ]
  },
  {
   "cell_type": "code",
   "execution_count": 30,
   "id": "4c77ab97",
   "metadata": {},
   "outputs": [
    {
     "name": "stdout",
     "output_type": "stream",
     "text": [
      "From: 너 의 공격 패턴 을 알아냈 다 .\n",
      "To: 너 인의 공격 패턴 을 알아냈 다 . \n"
     ]
    },
    {
     "name": "stderr",
     "output_type": "stream",
     "text": [
      "/tmp/ipykernel_382/2413301009.py:11: DeprecationWarning: Call to deprecated `most_similar` (Method will be removed in 4.0.0, use self.wv.most_similar() instead).\n",
      "  result += w2v.most_similar(tok)[0][0] + \" \"\n"
     ]
    }
   ],
   "source": [
    "sample_sentence = \"너의 공격 패턴을 알아냈다.\"\n",
    "sample_sentence = preprocess_sentence(sample_sentence)\n",
    "sample_sentence = \" \".join(mecab.morphs(sample_sentence))\n",
    "sample_tokens = sample_sentence.split()\n",
    "\n",
    "selected_tok = random.choice(sample_tokens)\n",
    "\n",
    "result = \"\"\n",
    "for tok in sample_tokens:\n",
    "    if tok is selected_tok:\n",
    "        result += w2v.most_similar(tok)[0][0] + \" \"\n",
    "\n",
    "    else:\n",
    "        result += tok + \" \"\n",
    "\n",
    "print(\"From:\", sample_sentence)\n",
    "print(\"To:\", result)"
   ]
  },
  {
   "cell_type": "markdown",
   "id": "524829b3",
   "metadata": {},
   "source": [
    "입력된 문장을 Embedding 유사도를 기반으로 Augmentation 하여 반환하는 `lexical_sub()` 을 구현한다."
   ]
  },
  {
   "cell_type": "code",
   "execution_count": 31,
   "id": "bc9906cf",
   "metadata": {},
   "outputs": [],
   "source": [
    "def lexical_sub(sentence, word2vec):\n",
    "    res = \"\"\n",
    "    toks = sentence.split()\n",
    "\n",
    "    try:\n",
    "        _from = random.choice(toks)\n",
    "        _to = word2vec.most_similar(_from)[0][0]\n",
    "        \n",
    "    except:   # 단어장에 없는 단어\n",
    "        return None\n",
    "\n",
    "    for tok in toks:\n",
    "        if tok is _from:\n",
    "            res += _to + \" \"\n",
    "        else:\n",
    "            res += tok + \" \"\n",
    "\n",
    "    return res"
   ]
  },
  {
   "cell_type": "markdown",
   "id": "7143b94d",
   "metadata": {},
   "source": [
    "Augmentation 을 수행하자."
   ]
  },
  {
   "cell_type": "markdown",
   "id": "30c855be",
   "metadata": {},
   "source": [
    "arg_proc 함수는 기본적으로 데이터 증강(어그멘테이션)을 수행한다.\n",
    "\n",
    "세번째 is_ans_augment 인자에 True 를 지정하는 경우, answers 열의 값에 대한 증강을 수행한다.\n",
    "\n",
    "기본 값은 questions 열의 값에 대한 데이터 증강을 수행한다."
   ]
  },
  {
   "cell_type": "code",
   "execution_count": 32,
   "id": "7089acff",
   "metadata": {},
   "outputs": [],
   "source": [
    "## 빈 데이터 프레임 만들기\n",
    "\n",
    "def arg_proc(df:pd.DataFrame, wv:gensim.models.word2vec.Word2Vec, is_ans_augment=False):\n",
    "\n",
    "    ## Default\n",
    "    go_aug = \"questions\"\n",
    "    no_aug = \"answers\"\n",
    "    \n",
    "    if (is_ans_augment):\n",
    "        go_aug, no_aug = no_aug, go_aug    ## SWAP\n",
    "    \n",
    "    ## NewDataFrame\n",
    "    df_augment = pd.DataFrame(columns=[\"questions\",\"answers\"])\n",
    "    \n",
    "    for i in tqdm(range(0, df.shape[0])):\n",
    "        row = df.iloc[i]\n",
    "\n",
    "        ## row[go_arg]\n",
    "        ## row[no_arg]\n",
    "            \n",
    "        goauged = lexical_sub(row[go_aug], wv)    ## Augmentation\n",
    "        noauged = row[no_aug]\n",
    "        \n",
    "        ## Augmentation 결과 있을 경우, 추가\n",
    "        if goauged is not None:\n",
    "            df_augment = df_augment.append({go_aug:goauged, no_aug:noauged}, ignore_index=True)\n",
    "        \n",
    "        ## Augmentation 결과와 상관없이, 원본을 추가\n",
    "        ## Augmentation 결과 있을 경우, Aug 결과와 원본 결과 추가되므로 값이 1건 늘어난 셈.\n",
    "        df_augment = df_augment.append({go_aug:row[go_aug], no_aug:noauged}, ignore_index=True)\n",
    "        \n",
    "    \n",
    "    return df_augment\n"
   ]
  },
  {
   "cell_type": "markdown",
   "id": "11c74d2b",
   "metadata": {},
   "source": [
    "Augmentation 을 실행해서 새로운 데이터프레임을 얻도록 하자."
   ]
  },
  {
   "cell_type": "code",
   "execution_count": 33,
   "id": "e0b0975a",
   "metadata": {},
   "outputs": [],
   "source": [
    "## Warning 무시\n",
    "import warnings\n",
    "warnings.filterwarnings(\"ignore\")"
   ]
  },
  {
   "cell_type": "code",
   "execution_count": 34,
   "id": "212c4820",
   "metadata": {},
   "outputs": [
    {
     "data": {
      "application/vnd.jupyter.widget-view+json": {
       "model_id": "3dcd833c5b0a456e862abd4bb3eaa1b3",
       "version_major": 2,
       "version_minor": 0
      },
      "text/plain": [
       "  0%|          | 0/7727 [00:00<?, ?it/s]"
      ]
     },
     "metadata": {},
     "output_type": "display_data"
    },
    {
     "data": {
      "application/vnd.jupyter.widget-view+json": {
       "model_id": "81e8fce0fd624b6ea0337974dda77856",
       "version_major": 2,
       "version_minor": 0
      },
      "text/plain": [
       "  0%|          | 0/14334 [00:00<?, ?it/s]"
      ]
     },
     "metadata": {},
     "output_type": "display_data"
    },
    {
     "name": "stdout",
     "output_type": "stream",
     "text": [
      "✔️\n"
     ]
    }
   ],
   "source": [
    "df_auged = arg_proc(df_songys_chabot, w2v)                  ## questions 컬럼에서 증강 수행\n",
    "df_auged = arg_proc(df_auged, w2v, is_ans_augment=True)    ## answers 컬럼에서 증강 수행\n",
    "print(\"✔️\")"
   ]
  },
  {
   "cell_type": "code",
   "execution_count": 35,
   "id": "338d25ee",
   "metadata": {},
   "outputs": [
    {
     "data": {
      "text/plain": [
       "(27007, 2)"
      ]
     },
     "execution_count": 35,
     "metadata": {},
     "output_type": "execute_result"
    }
   ],
   "source": [
    "df_auged.shape"
   ]
  },
  {
   "cell_type": "code",
   "execution_count": 36,
   "id": "50350468",
   "metadata": {
    "scrolled": false
   },
   "outputs": [
    {
     "data": {
      "text/html": [
       "<div>\n",
       "<style scoped>\n",
       "    .dataframe tbody tr th:only-of-type {\n",
       "        vertical-align: middle;\n",
       "    }\n",
       "\n",
       "    .dataframe tbody tr th {\n",
       "        vertical-align: top;\n",
       "    }\n",
       "\n",
       "    .dataframe thead th {\n",
       "        text-align: right;\n",
       "    }\n",
       "</style>\n",
       "<table border=\"1\" class=\"dataframe\">\n",
       "  <thead>\n",
       "    <tr style=\"text-align: right;\">\n",
       "      <th></th>\n",
       "      <th>questions</th>\n",
       "      <th>answers</th>\n",
       "    </tr>\n",
       "  </thead>\n",
       "  <tbody>\n",
       "    <tr>\n",
       "      <th>4054</th>\n",
       "      <td>간통 극복 시키 는 방법</td>\n",
       "      <td>이혼 하 세요 .</td>\n",
       "    </tr>\n",
       "    <tr>\n",
       "      <th>3526</th>\n",
       "      <td>짝 남 일 년 째이 멀리서 지켜보 기 만 하 는 중 .</td>\n",
       "      <td>뒤 에서 지켜 만 보 는 고충 이해 되 네요 .</td>\n",
       "    </tr>\n",
       "    <tr>\n",
       "      <th>13960</th>\n",
       "      <td>이벤트 안 하 는 남자 친구</td>\n",
       "      <td>먼저 이벤트 를 해 보 세요 .</td>\n",
       "    </tr>\n",
       "    <tr>\n",
       "      <th>12945</th>\n",
       "      <td>여자 연인 가 애교 많 았 으면 좋 겠 어</td>\n",
       "      <td>스스로 애교 를 부려 보 세요 .</td>\n",
       "    </tr>\n",
       "    <tr>\n",
       "      <th>18114</th>\n",
       "      <td>결국 놓아줬 카나</td>\n",
       "      <td>놓 느라 고생 했 어요 .</td>\n",
       "    </tr>\n",
       "    <tr>\n",
       "      <th>25540</th>\n",
       "      <td>참 소박 하 고 완벽 했 던 사람 .</td>\n",
       "      <td>좋 은 사람 이 었 나 봐요 .</td>\n",
       "    </tr>\n",
       "    <tr>\n",
       "      <th>23311</th>\n",
       "      <td>한 사람 만 죽 을 때 까지 사랑 할 가능성 있 을까 ?</td>\n",
       "      <td>가능 해요 !</td>\n",
       "    </tr>\n",
       "    <tr>\n",
       "      <th>19613</th>\n",
       "      <td>조카 오 는 것 싫 어</td>\n",
       "      <td>방문 열 어 주 지 마세요 는데</td>\n",
       "    </tr>\n",
       "    <tr>\n",
       "      <th>11465</th>\n",
       "      <td>이런 나 를 좋아해 주 는 사람 이 있 을까 ?</td>\n",
       "      <td>당신 은 정말 멋진 사람 이 에요 . 깍 아 내리 지 마세요 .</td>\n",
       "    </tr>\n",
       "    <tr>\n",
       "      <th>1388</th>\n",
       "      <td>헤어지 자 말 한 사람 도 힘들 까 ?</td>\n",
       "      <td>힘들 겠 지요 .</td>\n",
       "    </tr>\n",
       "    <tr>\n",
       "      <th>16885</th>\n",
       "      <td>셀프 헤어 어떨 꺼 같 아</td>\n",
       "      <td>혼자 준비 하 기 는 조금 벅찰 텐 대요 .</td>\n",
       "    </tr>\n",
       "    <tr>\n",
       "      <th>9866</th>\n",
       "      <td>자격증 공부 해야지</td>\n",
       "      <td>좋 은 자세 예요 .</td>\n",
       "    </tr>\n",
       "    <tr>\n",
       "      <th>19219</th>\n",
       "      <td>의 욕 회복</td>\n",
       "      <td>하 고 싶 었 던 일 을 글 로 적 어 보 세요 . 생각 이 정리 될 거 예요 .</td>\n",
       "    </tr>\n",
       "    <tr>\n",
       "      <th>14917</th>\n",
       "      <td>어떻게 살아가 야 할까</td>\n",
       "      <td>태연 하 게 시작 해 보 세요 .</td>\n",
       "    </tr>\n",
       "    <tr>\n",
       "      <th>24257</th>\n",
       "      <td>그럼 봐 주 니까 기어오른다</td>\n",
       "      <td>화 내 는 연습 를 해 보 세요 .</td>\n",
       "    </tr>\n",
       "  </tbody>\n",
       "</table>\n",
       "</div>"
      ],
      "text/plain": [
       "                              questions  \\\n",
       "4054                     간통 극복 시키 는 방법    \n",
       "3526    짝 남 일 년 째이 멀리서 지켜보 기 만 하 는 중 .    \n",
       "13960                   이벤트 안 하 는 남자 친구   \n",
       "12945          여자 연인 가 애교 많 았 으면 좋 겠 어    \n",
       "18114                        결국 놓아줬 카나    \n",
       "25540             참 소박 하 고 완벽 했 던 사람 .    \n",
       "23311  한 사람 만 죽 을 때 까지 사랑 할 가능성 있 을까 ?    \n",
       "19613                     조카 오 는 것 싫 어    \n",
       "11465        이런 나 를 좋아해 주 는 사람 이 있 을까 ?   \n",
       "1388              헤어지 자 말 한 사람 도 힘들 까 ?   \n",
       "16885                   셀프 헤어 어떨 꺼 같 아    \n",
       "9866                         자격증 공부 해야지   \n",
       "19219                           의 욕 회복    \n",
       "14917                      어떻게 살아가 야 할까   \n",
       "24257                  그럼 봐 주 니까 기어오른다    \n",
       "\n",
       "                                             answers  \n",
       "4054                                       이혼 하 세요 .  \n",
       "3526                      뒤 에서 지켜 만 보 는 고충 이해 되 네요 .  \n",
       "13960                              먼저 이벤트 를 해 보 세요 .  \n",
       "12945                            스스로 애교 를 부려 보 세요 .   \n",
       "18114                                 놓 느라 고생 했 어요 .  \n",
       "25540                              좋 은 사람 이 었 나 봐요 .  \n",
       "23311                                        가능 해요 !  \n",
       "19613                             방문 열 어 주 지 마세요 는데   \n",
       "11465            당신 은 정말 멋진 사람 이 에요 . 깍 아 내리 지 마세요 .  \n",
       "1388                                       힘들 겠 지요 .  \n",
       "16885                       혼자 준비 하 기 는 조금 벅찰 텐 대요 .  \n",
       "9866                                     좋 은 자세 예요 .  \n",
       "19219  하 고 싶 었 던 일 을 글 로 적 어 보 세요 . 생각 이 정리 될 거 예요 .  \n",
       "14917                             태연 하 게 시작 해 보 세요 .  \n",
       "24257                           화 내 는 연습 를 해 보 세요 .   "
      ]
     },
     "execution_count": 36,
     "metadata": {},
     "output_type": "execute_result"
    }
   ],
   "source": [
    "df_auged.sample(15)"
   ]
  },
  {
   "cell_type": "code",
   "execution_count": 37,
   "id": "dd2642eb",
   "metadata": {
    "scrolled": false
   },
   "outputs": [
    {
     "data": {
      "text/html": [
       "<div>\n",
       "<style scoped>\n",
       "    .dataframe tbody tr th:only-of-type {\n",
       "        vertical-align: middle;\n",
       "    }\n",
       "\n",
       "    .dataframe tbody tr th {\n",
       "        vertical-align: top;\n",
       "    }\n",
       "\n",
       "    .dataframe thead th {\n",
       "        text-align: right;\n",
       "    }\n",
       "</style>\n",
       "<table border=\"1\" class=\"dataframe\">\n",
       "  <thead>\n",
       "    <tr style=\"text-align: right;\">\n",
       "      <th></th>\n",
       "      <th>questions</th>\n",
       "      <th>answers</th>\n",
       "    </tr>\n",
       "  </thead>\n",
       "  <tbody>\n",
       "    <tr>\n",
       "      <th>26992</th>\n",
       "      <td>휴 결국 헤어졌 습니다</td>\n",
       "      <td>마음 이 착잡 하 겠 어요 .</td>\n",
       "    </tr>\n",
       "    <tr>\n",
       "      <th>26993</th>\n",
       "      <td>원래 장난 도 잘 하 고 재밌 다고 들 시키 는데 그녀 앞 에선 작아지 는데 어떡 ...</td>\n",
       "      <td>짝사랑 앞 에서 누구 나 한 없이 작아지 나 봐요 는데 자신감 을 가지 세요 는데</td>\n",
       "    </tr>\n",
       "    <tr>\n",
       "      <th>26994</th>\n",
       "      <td>원래 장난 도 잘 하 고 재밌 다고 들 시키 는데 그녀 앞 에선 작아지 는데 어떡 ...</td>\n",
       "      <td>짝사랑 앞 에서 누구 나 한 없이 작아지 나 봐요 . 자신감 을 가지 세요 .</td>\n",
       "    </tr>\n",
       "    <tr>\n",
       "      <th>26995</th>\n",
       "      <td>원래 장난 도 잘 하 고 재밌 다고 들 하 는데 그녀 앞 에선 작아지 는데 어떡 해 .</td>\n",
       "      <td>짝사랑 앞 에서 누구 나 한 없이 작아지 나 봐요 . 자신감 을 갖 세요 .</td>\n",
       "    </tr>\n",
       "    <tr>\n",
       "      <th>26996</th>\n",
       "      <td>원래 장난 도 잘 하 고 재밌 다고 들 하 는데 그녀 앞 에선 작아지 는데 어떡 해 .</td>\n",
       "      <td>짝사랑 앞 에서 누구 나 한 없이 작아지 나 봐요 . 자신감 을 가지 세요 .</td>\n",
       "    </tr>\n",
       "    <tr>\n",
       "      <th>26997</th>\n",
       "      <td>너 한테 또 안 보낼 편지</td>\n",
       "      <td>못가 보낼 편지 쓰 지 마요 .</td>\n",
       "    </tr>\n",
       "    <tr>\n",
       "      <th>26998</th>\n",
       "      <td>너 한테 또 안 보낼 편지</td>\n",
       "      <td>안 보낼 편지 쓰 지 마요 .</td>\n",
       "    </tr>\n",
       "    <tr>\n",
       "      <th>26999</th>\n",
       "      <td>안주 뭐 먹 을까요 ?</td>\n",
       "      <td>살 안 찌 는 게 좋 를 것 같 아요 .</td>\n",
       "    </tr>\n",
       "    <tr>\n",
       "      <th>27000</th>\n",
       "      <td>안주 뭐 먹 을까요 ?</td>\n",
       "      <td>살 안 찌 는 게 좋 을 것 같 아요 .</td>\n",
       "    </tr>\n",
       "    <tr>\n",
       "      <th>27001</th>\n",
       "      <td>안주 뭐 먹 을까 ?</td>\n",
       "      <td>살 안 시루 는 게 좋 을 것 같 아요 .</td>\n",
       "    </tr>\n",
       "    <tr>\n",
       "      <th>27002</th>\n",
       "      <td>안주 뭐 먹 을까 ?</td>\n",
       "      <td>살 안 찌 는 게 좋 을 것 같 아요 .</td>\n",
       "    </tr>\n",
       "    <tr>\n",
       "      <th>27003</th>\n",
       "      <td>첫 사랑 다시 만나 도 사랑 할 수 있 을까요 ?</td>\n",
       "      <td>다시 만나 ㄴ다는 건 환상 을 깨 는 일 이 에요 .</td>\n",
       "    </tr>\n",
       "    <tr>\n",
       "      <th>27004</th>\n",
       "      <td>첫 사랑 다시 만나 도 사랑 할 수 있 을까요 ?</td>\n",
       "      <td>다시 만나 는 건 환상 을 깨 는 일 이 에요 .</td>\n",
       "    </tr>\n",
       "    <tr>\n",
       "      <th>27005</th>\n",
       "      <td>첫 사랑 다시 만나 도 사랑 할 수 있 을까 ?</td>\n",
       "      <td>다시 만나 는 건 환상 을 깨 는 월과 이 에요 .</td>\n",
       "    </tr>\n",
       "    <tr>\n",
       "      <th>27006</th>\n",
       "      <td>첫 사랑 다시 만나 도 사랑 할 수 있 을까 ?</td>\n",
       "      <td>다시 만나 는 건 환상 을 깨 는 일 이 에요 .</td>\n",
       "    </tr>\n",
       "  </tbody>\n",
       "</table>\n",
       "</div>"
      ],
      "text/plain": [
       "                                               questions  \\\n",
       "26992                                       휴 결국 헤어졌 습니다   \n",
       "26993  원래 장난 도 잘 하 고 재밌 다고 들 시키 는데 그녀 앞 에선 작아지 는데 어떡 ...   \n",
       "26994  원래 장난 도 잘 하 고 재밌 다고 들 시키 는데 그녀 앞 에선 작아지 는데 어떡 ...   \n",
       "26995   원래 장난 도 잘 하 고 재밌 다고 들 하 는데 그녀 앞 에선 작아지 는데 어떡 해 .   \n",
       "26996   원래 장난 도 잘 하 고 재밌 다고 들 하 는데 그녀 앞 에선 작아지 는데 어떡 해 .   \n",
       "26997                                     너 한테 또 안 보낼 편지   \n",
       "26998                                     너 한테 또 안 보낼 편지   \n",
       "26999                                      안주 뭐 먹 을까요 ?    \n",
       "27000                                      안주 뭐 먹 을까요 ?    \n",
       "27001                                        안주 뭐 먹 을까 ?   \n",
       "27002                                        안주 뭐 먹 을까 ?   \n",
       "27003                       첫 사랑 다시 만나 도 사랑 할 수 있 을까요 ?    \n",
       "27004                       첫 사랑 다시 만나 도 사랑 할 수 있 을까요 ?    \n",
       "27005                         첫 사랑 다시 만나 도 사랑 할 수 있 을까 ?   \n",
       "27006                         첫 사랑 다시 만나 도 사랑 할 수 있 을까 ?   \n",
       "\n",
       "                                              answers  \n",
       "26992                                마음 이 착잡 하 겠 어요 .  \n",
       "26993  짝사랑 앞 에서 누구 나 한 없이 작아지 나 봐요 는데 자신감 을 가지 세요 는데   \n",
       "26994     짝사랑 앞 에서 누구 나 한 없이 작아지 나 봐요 . 자신감 을 가지 세요 .  \n",
       "26995     짝사랑 앞 에서 누구 나 한 없이 작아지 나 봐요 . 자신감 을 갖 세요 .   \n",
       "26996     짝사랑 앞 에서 누구 나 한 없이 작아지 나 봐요 . 자신감 을 가지 세요 .  \n",
       "26997                              못가 보낼 편지 쓰 지 마요 .   \n",
       "26998                                안 보낼 편지 쓰 지 마요 .  \n",
       "26999                         살 안 찌 는 게 좋 를 것 같 아요 .   \n",
       "27000                          살 안 찌 는 게 좋 을 것 같 아요 .  \n",
       "27001                        살 안 시루 는 게 좋 을 것 같 아요 .   \n",
       "27002                          살 안 찌 는 게 좋 을 것 같 아요 .  \n",
       "27003                  다시 만나 ㄴ다는 건 환상 을 깨 는 일 이 에요 .   \n",
       "27004                     다시 만나 는 건 환상 을 깨 는 일 이 에요 .  \n",
       "27005                   다시 만나 는 건 환상 을 깨 는 월과 이 에요 .   \n",
       "27006                     다시 만나 는 건 환상 을 깨 는 일 이 에요 .  "
      ]
     },
     "execution_count": 37,
     "metadata": {},
     "output_type": "execute_result"
    }
   ],
   "source": [
    "df_auged.tail(15)"
   ]
  },
  {
   "cell_type": "markdown",
   "id": "fbc2245b",
   "metadata": {},
   "source": [
    "목표 데이터 까지 값이 부족하다.\n",
    "\n",
    "그리고 가이드에 따른 방법은 questions 먼저 수행하게 되면 question 이 2배수가 될 경우\n",
    "\n",
    "뒤이어서 answers 의 증강을 수행 할 경우 answerw 에서는 4배수를 증강하게 되는 경우가 있는 것 같다.\n",
    "\n",
    "그러므로 기존 함수의 내용을 조금 변경을 하여, 다시 만들도록 하겠다."
   ]
  },
  {
   "cell_type": "markdown",
   "id": "6bbec318",
   "metadata": {},
   "source": [
    "arg_proc_v2 함수는 questions, answers 컬럼을 한번에 어그멘테이션 하므로,\n",
    "\n",
    "중복 데이터의 균형이 깨지는 사태를 더 방지할 수 있을 것이다."
   ]
  },
  {
   "cell_type": "code",
   "execution_count": 38,
   "id": "b50c011e",
   "metadata": {},
   "outputs": [],
   "source": [
    "def arg_proc_v2(df:pd.DataFrame, wv:gensim.models.word2vec.Word2Vec):\n",
    "\n",
    "    ## NewDataFrame\n",
    "    df_augment = pd.DataFrame(columns=[\"questions\",\"answers\"])\n",
    "        \n",
    "    for i in tqdm(range(0, df.shape[0])):\n",
    "        row = df.iloc[i]\n",
    "\n",
    "        ## row[go_arg]\n",
    "        ## row[no_arg]\n",
    "            \n",
    "        q_aug = lexical_sub(row[\"questions\"], wv)    ## Augmentation\n",
    "        a_aug = lexical_sub(row[\"answers\"], wv)    ## Augmentation\n",
    "        \n",
    "        ## Augmentation 결과 모두 있을 경우, 추가\n",
    "        if (q_aug is not None) and (a_aug is not None):    ## 모두 증강 성공\n",
    "#             df_augment = df_augment.append({\"questions\":q_aug+\"ⓘ\", \"answers\":a_aug+\"ⓘ\"}, ignore_index=True)    ## 테스트\n",
    "            df_augment = df_augment.append({\"questions\":q_aug, \"answers\":a_aug}, ignore_index=True)\n",
    "        elif (q_aug is not None) and (a_aug is None):    ## questions 만 증강 성공\n",
    "#             df_augment = df_augment.append({\"questions\":q_aug+\"ⓘ\", \"answers\":row[\"answers\"]}, ignore_index=True)    ## 테스트\n",
    "            df_augment = df_augment.append({\"questions\":q_aug, \"answers\":row[\"answers\"]}, ignore_index=True)\n",
    "        elif (q_aug is None) and (a_aug is not None):    ## answers 만 증강 성공\n",
    "#             df_augment = df_augment.append({\"questions\":row[\"questions\"], \"answers\":a_aug+\"ⓘ\"}, ignore_index=True)    ## 테스트\n",
    "            df_augment = df_augment.append({\"questions\":row[\"questions\"], \"answers\":a_aug}, ignore_index=True)\n",
    "        \n",
    "        ## Augmentation 결과와 상관없이, 원본을 추가\n",
    "        ## Augmentation 결과 있을 경우, Aug 결과와 원본 결과 추가되므로 값이 1건 늘어난 셈.\n",
    "        df_augment = df_augment.append({\"questions\":row[\"questions\"], \"answers\":row[\"answers\"]}, ignore_index=True)\n",
    "        \n",
    "    \n",
    "    return df_augment"
   ]
  },
  {
   "cell_type": "markdown",
   "id": "b902fece",
   "metadata": {},
   "source": [
    "변경된 함수로 증강을 중첩하여 다시 실행하자."
   ]
  },
  {
   "cell_type": "code",
   "execution_count": 39,
   "id": "a96a1fd6",
   "metadata": {
    "scrolled": true
   },
   "outputs": [
    {
     "name": "stdout",
     "output_type": "stream",
     "text": [
      "[0/2] df_songys_chabot.shape (7727, 2)\n"
     ]
    },
    {
     "data": {
      "application/vnd.jupyter.widget-view+json": {
       "model_id": "1c7d37f5454243db90537ddd1973acc2",
       "version_major": 2,
       "version_minor": 0
      },
      "text/plain": [
       "  0%|          | 0/7727 [00:00<?, ?it/s]"
      ]
     },
     "metadata": {},
     "output_type": "display_data"
    },
    {
     "name": "stdout",
     "output_type": "stream",
     "text": [
      "[1/2] df_auged.shape (15317, 2)\n"
     ]
    },
    {
     "data": {
      "application/vnd.jupyter.widget-view+json": {
       "model_id": "cd370fb3a96549b582b79f1d685056b6",
       "version_major": 2,
       "version_minor": 0
      },
      "text/plain": [
       "  0%|          | 0/15317 [00:00<?, ?it/s]"
      ]
     },
     "metadata": {},
     "output_type": "display_data"
    },
    {
     "name": "stdout",
     "output_type": "stream",
     "text": [
      "[2/2] df_auged.shape (30355, 2)\n",
      "✔️\n"
     ]
    }
   ],
   "source": [
    "print(\"[0/2] df_songys_chabot.shape\", df_songys_chabot.shape)\n",
    "df_auged = arg_proc_v2(df_songys_chabot, w2v)    ## 1st aug\n",
    "print(\"[1/2] df_auged.shape\", df_auged.shape)\n",
    "df_auged = arg_proc_v2(df_auged, w2v)            ## 2nd aug\n",
    "print(\"[2/2] df_auged.shape\", df_auged.shape)\n",
    "print(\"✔️\")"
   ]
  },
  {
   "cell_type": "code",
   "execution_count": 40,
   "id": "a99d4e2c",
   "metadata": {},
   "outputs": [
    {
     "data": {
      "text/html": [
       "<div>\n",
       "<style scoped>\n",
       "    .dataframe tbody tr th:only-of-type {\n",
       "        vertical-align: middle;\n",
       "    }\n",
       "\n",
       "    .dataframe tbody tr th {\n",
       "        vertical-align: top;\n",
       "    }\n",
       "\n",
       "    .dataframe thead th {\n",
       "        text-align: right;\n",
       "    }\n",
       "</style>\n",
       "<table border=\"1\" class=\"dataframe\">\n",
       "  <thead>\n",
       "    <tr style=\"text-align: right;\">\n",
       "      <th></th>\n",
       "      <th>questions</th>\n",
       "      <th>answers</th>\n",
       "    </tr>\n",
       "  </thead>\n",
       "  <tbody>\n",
       "    <tr>\n",
       "      <th>2140</th>\n",
       "      <td>커플 여행 가 면 잘 싸워 ?</td>\n",
       "      <td>연애 초면 싸우 기 도 하 는 거 같 아요 .</td>\n",
       "    </tr>\n",
       "    <tr>\n",
       "      <th>1834</th>\n",
       "      <td>기분 그러 그지 같 아</td>\n",
       "      <td>신나 는 음악 들 어 살펴보 세요 .</td>\n",
       "    </tr>\n",
       "    <tr>\n",
       "      <th>19322</th>\n",
       "      <td>첫눈 오 는 날 만나 고 겠 다</td>\n",
       "      <td>이런 사람 이 있 다니 부럽 네요 .</td>\n",
       "    </tr>\n",
       "    <tr>\n",
       "      <th>10008</th>\n",
       "      <td>기념일 또 까먹 었 어</td>\n",
       "      <td>달력 에 적 어 보 세요 .</td>\n",
       "    </tr>\n",
       "    <tr>\n",
       "      <th>17602</th>\n",
       "      <td>헤어지 꼼짝 열흘 짼데 너무 힘드 네</td>\n",
       "      <td>헤어지 고 있 는 중의 이 시 군요 .</td>\n",
       "    </tr>\n",
       "    <tr>\n",
       "      <th>22555</th>\n",
       "      <td>고독 한 밤</td>\n",
       "      <td>혼자 가 아니 에요 .</td>\n",
       "    </tr>\n",
       "    <tr>\n",
       "      <th>27000</th>\n",
       "      <td>훔쳐 보 ㄴ다는 것 도 눈치 보임 .</td>\n",
       "      <td>디 가 나 니까 눈치 가 보이 는 거 죠 !</td>\n",
       "    </tr>\n",
       "    <tr>\n",
       "      <th>9593</th>\n",
       "      <td>감정싸움 그만 시키 고 싶 어</td>\n",
       "      <td>자존심 을 세우 지 마세요 는데</td>\n",
       "    </tr>\n",
       "  </tbody>\n",
       "</table>\n",
       "</div>"
      ],
      "text/plain": [
       "                   questions                    answers\n",
       "2140        커플 여행 가 면 잘 싸워 ?  연애 초면 싸우 기 도 하 는 거 같 아요 .\n",
       "1834           기분 그러 그지 같 아       신나 는 음악 들 어 살펴보 세요 . \n",
       "19322     첫눈 오 는 날 만나 고 겠 다       이런 사람 이 있 다니 부럽 네요 . \n",
       "10008           기념일 또 까먹 었 어            달력 에 적 어 보 세요 .\n",
       "17602  헤어지 꼼짝 열흘 짼데 너무 힘드 네      헤어지 고 있 는 중의 이 시 군요 . \n",
       "22555                 고독 한 밤               혼자 가 아니 에요 .\n",
       "27000  훔쳐 보 ㄴ다는 것 도 눈치 보임 .   디 가 나 니까 눈치 가 보이 는 거 죠 ! \n",
       "9593       감정싸움 그만 시키 고 싶 어          자존심 을 세우 지 마세요 는데 "
      ]
     },
     "execution_count": 40,
     "metadata": {},
     "output_type": "execute_result"
    }
   ],
   "source": [
    "df_auged.sample(8)"
   ]
  },
  {
   "cell_type": "code",
   "execution_count": 41,
   "id": "31c81465",
   "metadata": {},
   "outputs": [
    {
     "data": {
      "text/html": [
       "<div>\n",
       "<style scoped>\n",
       "    .dataframe tbody tr th:only-of-type {\n",
       "        vertical-align: middle;\n",
       "    }\n",
       "\n",
       "    .dataframe tbody tr th {\n",
       "        vertical-align: top;\n",
       "    }\n",
       "\n",
       "    .dataframe thead th {\n",
       "        text-align: right;\n",
       "    }\n",
       "</style>\n",
       "<table border=\"1\" class=\"dataframe\">\n",
       "  <thead>\n",
       "    <tr style=\"text-align: right;\">\n",
       "      <th></th>\n",
       "      <th>questions</th>\n",
       "      <th>answers</th>\n",
       "    </tr>\n",
       "  </thead>\n",
       "  <tbody>\n",
       "    <tr>\n",
       "      <th>30339</th>\n",
       "      <td>원래 장난 도 잘 하 고 재밌 다고 들 하 는데 그녀 앞 에선 짧아지 는데 어떡 해...</td>\n",
       "      <td>짝사랑 앞 에서 누구 나 한 없이 작아지 나 봐요 . 자신감 를 갖 세요 .</td>\n",
       "    </tr>\n",
       "    <tr>\n",
       "      <th>30340</th>\n",
       "      <td>원래 장난 도 잘 하 고 재밌 다고 들 하 는데 그녀 앞 에선 작아지 는데 어떡 해...</td>\n",
       "      <td>짝사랑 앞 에서 누구 나 한 없이 작아지 나 봐요 . 자신감 을 갖 세요 .</td>\n",
       "    </tr>\n",
       "    <tr>\n",
       "      <th>30341</th>\n",
       "      <td>본래 장난 도 잘 하 고 재밌 다고 들 하 는데 그녀 앞 에선 작아지 는데 어떡 해 .</td>\n",
       "      <td>짝사랑 옆 에서 누구 나 한 없이 작아지 나 봐요 . 자신감 을 가지 세요 .</td>\n",
       "    </tr>\n",
       "    <tr>\n",
       "      <th>30342</th>\n",
       "      <td>원래 장난 도 잘 하 고 재밌 다고 들 하 는데 그녀 앞 에선 작아지 는데 어떡 해 .</td>\n",
       "      <td>짝사랑 앞 에서 누구 나 한 없이 작아지 나 봐요 . 자신감 을 가지 세요 .</td>\n",
       "    </tr>\n",
       "    <tr>\n",
       "      <th>30343</th>\n",
       "      <td>너 한테 또 안 보낼 편지</td>\n",
       "      <td>안 보낼 서신 읽 지 마요 .</td>\n",
       "    </tr>\n",
       "    <tr>\n",
       "      <th>30344</th>\n",
       "      <td>너 에게 또 안 보낼 편지</td>\n",
       "      <td>안 보낼 편지 읽 지 마요 .</td>\n",
       "    </tr>\n",
       "    <tr>\n",
       "      <th>30345</th>\n",
       "      <td>너 한테 또 안 보낼 서신</td>\n",
       "      <td>안 보낼 편지 쓰 지 마요 .</td>\n",
       "    </tr>\n",
       "    <tr>\n",
       "      <th>30346</th>\n",
       "      <td>너 한테 또 안 보낼 편지</td>\n",
       "      <td>안 보낼 편지 쓰 지 마요 .</td>\n",
       "    </tr>\n",
       "    <tr>\n",
       "      <th>30347</th>\n",
       "      <td>의주 ... 먹 을까 ?</td>\n",
       "      <td>살 안 찌 는 게 좋 을 것 같 아요 .</td>\n",
       "    </tr>\n",
       "    <tr>\n",
       "      <th>30348</th>\n",
       "      <td>안주 ... 먹 을까 ?</td>\n",
       "      <td>살 안 찌 는 게 괜찮 을 것 같 아요 .</td>\n",
       "    </tr>\n",
       "    <tr>\n",
       "      <th>30349</th>\n",
       "      <td>안주 뭐 먹 을까 ...</td>\n",
       "      <td>살 안 찌 는 게 좋 을 것 같 은데요 .</td>\n",
       "    </tr>\n",
       "    <tr>\n",
       "      <th>30350</th>\n",
       "      <td>안주 뭐 먹 을까 ?</td>\n",
       "      <td>살 안 찌 는 게 좋 을 것 같 아요 .</td>\n",
       "    </tr>\n",
       "    <tr>\n",
       "      <th>30351</th>\n",
       "      <td>첫 사랑 곧바로 만나 도 사랑 할 수 없 을까 ?</td>\n",
       "      <td>다시 마주치 ㄴ다는 건 환상 을 깨 는 일 이 에요 .</td>\n",
       "    </tr>\n",
       "    <tr>\n",
       "      <th>30352</th>\n",
       "      <td>첫 사랑 다시 만나 도 사랑 할 수 없 을까 ?</td>\n",
       "      <td>다시 마주치 는 건 환상 을 깨 는 일 이 에요 .</td>\n",
       "    </tr>\n",
       "    <tr>\n",
       "      <th>30353</th>\n",
       "      <td>첫 사랑 다시 만나 때문 사랑 할 수 있 을까 ?</td>\n",
       "      <td>다시 만나 는 건과 환상 을 깨 는 일 이 에요 .</td>\n",
       "    </tr>\n",
       "    <tr>\n",
       "      <th>30354</th>\n",
       "      <td>첫 사랑 다시 만나 도 사랑 할 수 있 을까 ?</td>\n",
       "      <td>다시 만나 는 건 환상 을 깨 는 일 이 에요 .</td>\n",
       "    </tr>\n",
       "  </tbody>\n",
       "</table>\n",
       "</div>"
      ],
      "text/plain": [
       "                                               questions  \\\n",
       "30339  원래 장난 도 잘 하 고 재밌 다고 들 하 는데 그녀 앞 에선 짧아지 는데 어떡 해...   \n",
       "30340  원래 장난 도 잘 하 고 재밌 다고 들 하 는데 그녀 앞 에선 작아지 는데 어떡 해...   \n",
       "30341  본래 장난 도 잘 하 고 재밌 다고 들 하 는데 그녀 앞 에선 작아지 는데 어떡 해 .    \n",
       "30342   원래 장난 도 잘 하 고 재밌 다고 들 하 는데 그녀 앞 에선 작아지 는데 어떡 해 .   \n",
       "30343                                    너 한테 또 안 보낼 편지    \n",
       "30344                                    너 에게 또 안 보낼 편지    \n",
       "30345                                    너 한테 또 안 보낼 서신    \n",
       "30346                                     너 한테 또 안 보낼 편지   \n",
       "30347                                     의주 ... 먹 을까 ?    \n",
       "30348                                     안주 ... 먹 을까 ?    \n",
       "30349                                     안주 뭐 먹 을까 ...    \n",
       "30350                                        안주 뭐 먹 을까 ?   \n",
       "30351                       첫 사랑 곧바로 만나 도 사랑 할 수 없 을까 ?    \n",
       "30352                        첫 사랑 다시 만나 도 사랑 할 수 없 을까 ?    \n",
       "30353                       첫 사랑 다시 만나 때문 사랑 할 수 있 을까 ?    \n",
       "30354                         첫 사랑 다시 만나 도 사랑 할 수 있 을까 ?   \n",
       "\n",
       "                                            answers  \n",
       "30339   짝사랑 앞 에서 누구 나 한 없이 작아지 나 봐요 . 자신감 를 갖 세요 .   \n",
       "30340   짝사랑 앞 에서 누구 나 한 없이 작아지 나 봐요 . 자신감 을 갖 세요 .   \n",
       "30341  짝사랑 옆 에서 누구 나 한 없이 작아지 나 봐요 . 자신감 을 가지 세요 .   \n",
       "30342   짝사랑 앞 에서 누구 나 한 없이 작아지 나 봐요 . 자신감 을 가지 세요 .  \n",
       "30343                             안 보낼 서신 읽 지 마요 .   \n",
       "30344                             안 보낼 편지 읽 지 마요 .   \n",
       "30345                              안 보낼 편지 쓰 지 마요 .  \n",
       "30346                              안 보낼 편지 쓰 지 마요 .  \n",
       "30347                       살 안 찌 는 게 좋 을 것 같 아요 .   \n",
       "30348                      살 안 찌 는 게 괜찮 을 것 같 아요 .   \n",
       "30349                      살 안 찌 는 게 좋 을 것 같 은데요 .   \n",
       "30350                        살 안 찌 는 게 좋 을 것 같 아요 .  \n",
       "30351               다시 마주치 ㄴ다는 건 환상 을 깨 는 일 이 에요 .   \n",
       "30352                 다시 마주치 는 건 환상 을 깨 는 일 이 에요 .   \n",
       "30353                 다시 만나 는 건과 환상 을 깨 는 일 이 에요 .   \n",
       "30354                   다시 만나 는 건 환상 을 깨 는 일 이 에요 .  "
      ]
     },
     "execution_count": 41,
     "metadata": {},
     "output_type": "execute_result"
    }
   ],
   "source": [
    "df_auged.tail(16)"
   ]
  },
  {
   "cell_type": "markdown",
   "id": "a39fbb9a",
   "metadata": {},
   "source": [
    "원본 데이터 의 약 4배가 되었고, questions 와 answers 각각 증강이 골고루 적용된 것을 확인 할 수 있다."
   ]
  },
  {
   "cell_type": "markdown",
   "id": "4650cbf5",
   "metadata": {},
   "source": [
    "이론상 중복이 발생했더라도 많이는 발생하지 않았을 것이다. 혹시 모르니 한번 확인 해 보자."
   ]
  },
  {
   "cell_type": "code",
   "execution_count": 42,
   "id": "0392fefa",
   "metadata": {},
   "outputs": [
    {
     "name": "stdout",
     "output_type": "stream",
     "text": [
      "df_auged 전체 : (30355, 2)\n",
      "df_auged 중복 : (222, 2)\n",
      "df_auged 중복제거후 예상 : (30133, 2)\n"
     ]
    }
   ],
   "source": [
    "print(\"df_auged 전체 :\", df_auged.shape)\n",
    "print(\"df_auged 중복 :\", df_auged[df_auged.duplicated()].shape)\n",
    "print(\"df_auged 중복제거후 예상 :\", df_auged[~df_auged.duplicated()].shape)"
   ]
  },
  {
   "cell_type": "code",
   "execution_count": 43,
   "id": "b1b9f676",
   "metadata": {},
   "outputs": [
    {
     "data": {
      "text/plain": [
       "(30133, 3)"
      ]
     },
     "execution_count": 43,
     "metadata": {},
     "output_type": "execute_result"
    }
   ],
   "source": [
    "df_auged.drop_duplicates(inplace=True)    ## 중복제거\n",
    "df_auged.reset_index(inplace=True)    ## 인덱스 초기화\n",
    "df_auged.shape"
   ]
  },
  {
   "cell_type": "markdown",
   "id": "e39f421b",
   "metadata": {},
   "source": [
    "&nbsp;"
   ]
  },
  {
   "cell_type": "markdown",
   "id": "ebf83247",
   "metadata": {},
   "source": [
    "이제, 이전에 진행하려다가 못한 토큰화 부분부터 다시 진행하도록 하자."
   ]
  },
  {
   "cell_type": "markdown",
   "id": "e02fe594",
   "metadata": {},
   "source": [
    "### ■ 전처리 → 중복제거 → 어그멘테이션 → **`토큰화`** (스타트 엔드 토큰) → 벡터화"
   ]
  },
  {
   "cell_type": "markdown",
   "id": "5b983973",
   "metadata": {},
   "source": [
    "&nbsp;"
   ]
  },
  {
   "cell_type": "markdown",
   "id": "412f6197",
   "metadata": {},
   "source": [
    "### ▶ 현재 진행상태는 아래와 같다.\n",
    "\n",
    "\n",
    "\n",
    "~~1. **소스 문장 데이터**와 **타겟 문장 데이터**를 입력으로 받습니다.~~\n",
    "\n",
    "\n",
    "~~2. 데이터를 앞서 정의한 `preprocess_sentence()` 함수로 **정제하고, 토큰화**합니다.~~\n",
    "\n",
    "\n",
    "3. 토큰화는 **전달받은 토크나이즈 함수를 사용**합니다. 이번엔 **`mecab.morphs`** 함수를 전달하시면 됩니다.\n",
    "\n",
    "\n",
    "4. 토큰의 개수가 일정 길이 이상인 문장은 **데이터에서 제외**합니다.\n",
    "\n",
    "\n",
    "~~5. **중복되는 문장은 데이터에서 제외**합니다. **`소스 : 타겟`** 쌍을 비교하지 않고 소스는 소스대로 타겟은 타겟대로 검사합니다. 중복 쌍이 흐트러지지 않도록 유의하세요!~~"
   ]
  },
  {
   "cell_type": "markdown",
   "id": "11d70b50",
   "metadata": {},
   "source": [
    "어그멘테이션은 이전에 다 마친 상태의 데이터이다."
   ]
  },
  {
   "cell_type": "markdown",
   "id": "65fb8387",
   "metadata": {},
   "source": [
    "토큰길이 제한을 위해 잠시 토큰화를 적용하자."
   ]
  },
  {
   "cell_type": "code",
   "execution_count": 44,
   "id": "cf071f91",
   "metadata": {},
   "outputs": [
    {
     "data": {
      "text/html": [
       "<div>\n",
       "<style scoped>\n",
       "    .dataframe tbody tr th:only-of-type {\n",
       "        vertical-align: middle;\n",
       "    }\n",
       "\n",
       "    .dataframe tbody tr th {\n",
       "        vertical-align: top;\n",
       "    }\n",
       "\n",
       "    .dataframe thead th {\n",
       "        text-align: right;\n",
       "    }\n",
       "</style>\n",
       "<table border=\"1\" class=\"dataframe\">\n",
       "  <thead>\n",
       "    <tr style=\"text-align: right;\">\n",
       "      <th></th>\n",
       "      <th>questions</th>\n",
       "      <th>answers</th>\n",
       "    </tr>\n",
       "  </thead>\n",
       "  <tbody>\n",
       "    <tr>\n",
       "      <th>11013</th>\n",
       "      <td>[내, 친구, 랑, 내, 짝, 녀, 가, 서로, 좋아하, 는, 것, 같, 은데, 나...</td>\n",
       "      <td>[천천히, 마음, 을, 계산, 하, 는, 게, 필요, 하, 겠, 어요, .]</td>\n",
       "    </tr>\n",
       "    <tr>\n",
       "      <th>8793</th>\n",
       "      <td>[또, 전화, 안, 넘겨, 받, 아]</td>\n",
       "      <td>[조금, 기다리, 면, 풀릴, 것, 예요]</td>\n",
       "    </tr>\n",
       "    <tr>\n",
       "      <th>13153</th>\n",
       "      <td>[힘듭니다, .]</td>\n",
       "      <td>[어떤, 말, 도, 위, 로, 가, 되, 지, 않, 겠, 지만, 힘내, 세요, .]</td>\n",
       "    </tr>\n",
       "    <tr>\n",
       "      <th>18984</th>\n",
       "      <td>[썸, 그러, 었, 으면, 좋, 싶, 어]</td>\n",
       "      <td>[그리워, 하, 인지, 생각, 해, 살펴보, 세요, .]</td>\n",
       "    </tr>\n",
       "    <tr>\n",
       "      <th>13004</th>\n",
       "      <td>[여자, 친구, 코, 완전, 높, 아]</td>\n",
       "      <td>[멋진, 젊은이, 이랑, 사귀, 어서, 좋, 겠, 네요, .]</td>\n",
       "    </tr>\n",
       "  </tbody>\n",
       "</table>\n",
       "</div>"
      ],
      "text/plain": [
       "                                               questions  \\\n",
       "11013  [내, 친구, 랑, 내, 짝, 녀, 가, 서로, 좋아하, 는, 것, 같, 은데, 나...   \n",
       "8793                                [또, 전화, 안, 넘겨, 받, 아]   \n",
       "13153                                          [힘듭니다, .]   \n",
       "18984                            [썸, 그러, 었, 으면, 좋, 싶, 어]   \n",
       "13004                              [여자, 친구, 코, 완전, 높, 아]   \n",
       "\n",
       "                                              answers  \n",
       "11013      [천천히, 마음, 을, 계산, 하, 는, 게, 필요, 하, 겠, 어요, .]  \n",
       "8793                          [조금, 기다리, 면, 풀릴, 것, 예요]  \n",
       "13153  [어떤, 말, 도, 위, 로, 가, 되, 지, 않, 겠, 지만, 힘내, 세요, .]  \n",
       "18984                 [그리워, 하, 인지, 생각, 해, 살펴보, 세요, .]  \n",
       "13004              [멋진, 젊은이, 이랑, 사귀, 어서, 좋, 겠, 네요, .]  "
      ]
     },
     "execution_count": 44,
     "metadata": {},
     "output_type": "execute_result"
    }
   ],
   "source": [
    "df_auged_tok = pd.DataFrame(columns=[\"questions\",\"answers\"])\n",
    "df_auged_tok[\"questions\"] = df_auged[\"questions\"].apply(lambda x: mecab.morphs(x))\n",
    "df_auged_tok[\"answers\"] = df_auged[\"answers\"].apply(lambda x: mecab.morphs(x))\n",
    "df_auged_tok.sample(5)"
   ]
  },
  {
   "cell_type": "code",
   "execution_count": 45,
   "id": "22ff2996",
   "metadata": {},
   "outputs": [
    {
     "data": {
      "text/plain": [
       "30133"
      ]
     },
     "execution_count": 45,
     "metadata": {},
     "output_type": "execute_result"
    }
   ],
   "source": [
    "len(df_auged_tok)"
   ]
  },
  {
   "cell_type": "code",
   "execution_count": 46,
   "id": "aa5240e7",
   "metadata": {
    "scrolled": false
   },
   "outputs": [
    {
     "data": {
      "application/vnd.jupyter.widget-view+json": {
       "model_id": "c9b32cf02e7f4eeb8cf15de33aac7b9c",
       "version_major": 2,
       "version_minor": 0
      },
      "text/plain": [
       "  0%|          | 0/30133 [00:00<?, ?it/s]"
      ]
     },
     "metadata": {},
     "output_type": "display_data"
    },
    {
     "name": "stdout",
     "output_type": "stream",
     "text": [
      "전체 샘플 수 : 30133\n",
      "전체 샘플 수 : 30133\n"
     ]
    }
   ],
   "source": [
    "# 질문과 답변의 쌍인 데이터셋을 구성하기 위한 데이터 로드 함수\n",
    "\n",
    "q, a = [], []\n",
    "\n",
    "q.clear()\n",
    "a.clear()\n",
    "\n",
    "for i in tqdm(range(len(df_auged_tok))):\n",
    "    q.append(df_auged_tok[\"questions\"][i])\n",
    "    a.append(df_auged_tok[\"answers\"][i])\n",
    "\n",
    "print('전체 샘플 수 :', len(q))\n",
    "print('전체 샘플 수 :', len(a))"
   ]
  },
  {
   "cell_type": "code",
   "execution_count": 47,
   "id": "bbbe77d2",
   "metadata": {
    "scrolled": false
   },
   "outputs": [
    {
     "data": {
      "image/png": "[encoded data removed]",
      "text/plain": [
       "<Figure size 1080x360 with 2 Axes>"
      ]
     },
     "metadata": {
      "needs_background": "light"
     },
     "output_type": "display_data"
    },
    {
     "data": {
      "image/png": "[encoded data removed]",
      "text/plain": [
       "<Figure size 1080x360 with 2 Axes>"
      ]
     },
     "metadata": {
      "needs_background": "light"
     },
     "output_type": "display_data"
    },
    {
     "name": "stdout",
     "output_type": "stream",
     "text": [
      "물음 최소 길이 : 1\n",
      "물음 최대 길이 : 33\n",
      "물음 평균 길이 : 7.743171937742674\n",
      "답변 최소 길이 : 1\n",
      "답변 최대 길이 : 42\n",
      "답변 평균 길이 : 8.903660438721667\n"
     ]
    }
   ],
   "source": [
    "## 테스트 ────────────────────────────────────────────────\n",
    "\n",
    "# 길이 분포 출력\n",
    "q_len = [len(s) for s in q]\n",
    "a_len = [len(s) for s in a]\n",
    "\n",
    "plt.figure(figsize=(15,5))\n",
    "plt.subplot(1,2,1)\n",
    "plt.boxplot(q_len)\n",
    "plt.title('Text')\n",
    "plt.subplot(1,2,2)\n",
    "plt.boxplot(a_len)\n",
    "plt.title('Summary')\n",
    "plt.tight_layout()\n",
    "plt.show()\n",
    "\n",
    "plt.figure(figsize=(15,5))\n",
    "plt.subplot(1,2,1)\n",
    "plt.title('Text')\n",
    "plt.hist(q_len, bins = 30)\n",
    "plt.xlabel('length of Questions')\n",
    "plt.ylabel('number of Answers')\n",
    "plt.subplot(1,2,2)\n",
    "plt.title('Summary')\n",
    "plt.hist(a_len, bins = 30)\n",
    "plt.xlabel('length of Questions')\n",
    "plt.ylabel('number of Answers')\n",
    "plt.tight_layout()\n",
    "plt.show()\n",
    "\n",
    "print('물음 최소 길이 : {}'.format(np.min(q_len)))\n",
    "print('물음 최대 길이 : {}'.format(np.max(q_len)))\n",
    "print('물음 평균 길이 : {}'.format(np.mean(q_len)))\n",
    "print('답변 최소 길이 : {}'.format(np.min(a_len)))\n",
    "print('답변 최대 길이 : {}'.format(np.max(a_len)))\n",
    "print('답변 평균 길이 : {}'.format(np.mean(a_len)))\n",
    "\n",
    "\n",
    "\n",
    "## 테스트 ────────────────────────────────────────────────"
   ]
  },
  {
   "cell_type": "markdown",
   "id": "4284de19",
   "metadata": {},
   "source": [
    "적당한 길이를 선택하여 제한을 하도록 하자."
   ]
  },
  {
   "cell_type": "code",
   "execution_count": 48,
   "id": "e7f20128",
   "metadata": {},
   "outputs": [],
   "source": [
    "MAX_TOK_LEN = 25"
   ]
  },
  {
   "cell_type": "code",
   "execution_count": 49,
   "id": "b0ca2591",
   "metadata": {},
   "outputs": [
    {
     "data": {
      "application/vnd.jupyter.widget-view+json": {
       "model_id": "07caf40f85754a178240e7daa40bb8bd",
       "version_major": 2,
       "version_minor": 0
      },
      "text/plain": [
       "  0%|          | 0/30133 [00:00<?, ?it/s]"
      ]
     },
     "metadata": {},
     "output_type": "display_data"
    }
   ],
   "source": [
    "que_corpus, ans_corpus = [], []\n",
    "\n",
    "que_corpus.clear()\n",
    "ans_corpus.clear()\n",
    "\n",
    "for i in tqdm(range(len(df_auged_tok))):\n",
    "    if ((len(df_auged_tok[\"questions\"][i]) < MAX_TOK_LEN) and (len(df_auged_tok[\"answers\"][i]) < MAX_TOK_LEN)):\n",
    "        que_corpus.append(df_auged_tok[\"questions\"][i])\n",
    "        ans_corpus.append(df_auged_tok[\"answers\"][i])\n",
    "        "
   ]
  },
  {
   "cell_type": "code",
   "execution_count": 50,
   "id": "2cc77e98",
   "metadata": {
    "scrolled": true
   },
   "outputs": [
    {
     "name": "stdout",
     "output_type": "stream",
     "text": [
      "30133\n",
      "29983\n",
      "29983\n"
     ]
    }
   ],
   "source": [
    "print(len(df_auged_tok))\n",
    "print(len(que_corpus))\n",
    "print(len(ans_corpus))"
   ]
  },
  {
   "cell_type": "markdown",
   "id": "6b3e03e1",
   "metadata": {},
   "source": [
    "약간의 데이터가 제외된 것을 확인할 수 있다."
   ]
  },
  {
   "cell_type": "markdown",
   "id": "b2dbbd76",
   "metadata": {},
   "source": [
    "다시 데이터프레임으로 합친다."
   ]
  },
  {
   "cell_type": "code",
   "execution_count": 51,
   "id": "2b0f5ff9",
   "metadata": {
    "scrolled": false
   },
   "outputs": [
    {
     "name": "stdout",
     "output_type": "stream",
     "text": [
      "(29983, 2)\n"
     ]
    },
    {
     "data": {
      "text/html": [
       "<div>\n",
       "<style scoped>\n",
       "    .dataframe tbody tr th:only-of-type {\n",
       "        vertical-align: middle;\n",
       "    }\n",
       "\n",
       "    .dataframe tbody tr th {\n",
       "        vertical-align: top;\n",
       "    }\n",
       "\n",
       "    .dataframe thead th {\n",
       "        text-align: right;\n",
       "    }\n",
       "</style>\n",
       "<table border=\"1\" class=\"dataframe\">\n",
       "  <thead>\n",
       "    <tr style=\"text-align: right;\">\n",
       "      <th></th>\n",
       "      <th>questions</th>\n",
       "      <th>answers</th>\n",
       "    </tr>\n",
       "  </thead>\n",
       "  <tbody>\n",
       "    <tr>\n",
       "      <th>11746</th>\n",
       "      <td>제 가 좋 아 하 던 사람 이 절 좋 아 하 ㄴ다면 갑자기 거부 감 들 고 싫 어 ...</td>\n",
       "      <td>어떤 트라우마 가 있 었 는지 도 모르 겠 는데요 .</td>\n",
       "    </tr>\n",
       "    <tr>\n",
       "      <th>28345</th>\n",
       "      <td>짝사랑 끝내 고 나 의 니 마음 이 공허 하 다 .</td>\n",
       "      <td>사랑 했 던 시간 이 멈춰 버려서 이런 거 예요 .</td>\n",
       "    </tr>\n",
       "    <tr>\n",
       "      <th>19091</th>\n",
       "      <td>아무래도 우울증 걸린 거 같 아</td>\n",
       "      <td>마음 의 병 이 조금 씩 나아지 길 바랍니다 .</td>\n",
       "    </tr>\n",
       "    <tr>\n",
       "      <th>6361</th>\n",
       "      <td>여자 친구 가 연락 이 안 돼</td>\n",
       "      <td>별일 없 를 거 예요 .</td>\n",
       "    </tr>\n",
       "    <tr>\n",
       "      <th>13978</th>\n",
       "      <td>나 누락 됐 나 봐</td>\n",
       "      <td>입증 해 달 라고 해 보 세요 는데</td>\n",
       "    </tr>\n",
       "    <tr>\n",
       "      <th>20093</th>\n",
       "      <td>이유 라는 게 뭔지</td>\n",
       "      <td>알 다가 도 모를 .</td>\n",
       "    </tr>\n",
       "    <tr>\n",
       "      <th>6572</th>\n",
       "      <td>위생 검진 왔 어서</td>\n",
       "      <td>넘 기 의식 적 으로 해 주 는 게 좋 죠 .</td>\n",
       "    </tr>\n",
       "    <tr>\n",
       "      <th>23472</th>\n",
       "      <td>내 가치관 이랑 다른 가치관 을 가지 고 있 는 그 남자 를 싫어하 는 게 힘들 어 는데</td>\n",
       "      <td>서로 의 사고방식 그러 평행선 을 이루 지만 않 는다면 만날 수 도 있 을 거 예요 .</td>\n",
       "    </tr>\n",
       "    <tr>\n",
       "      <th>21416</th>\n",
       "      <td>여자 는 호감 없 어도 잘 해 줘 ?</td>\n",
       "      <td>본래 성격 이 그럴 수 도 있 어요 .</td>\n",
       "    </tr>\n",
       "    <tr>\n",
       "      <th>7866</th>\n",
       "      <td>몇 반 될지 궁금 해</td>\n",
       "      <td>잘 되 길 바랍니다 .</td>\n",
       "    </tr>\n",
       "  </tbody>\n",
       "</table>\n",
       "</div>"
      ],
      "text/plain": [
       "                                               questions  \\\n",
       "11746  제 가 좋 아 하 던 사람 이 절 좋 아 하 ㄴ다면 갑자기 거부 감 들 고 싫 어 ...   \n",
       "28345                       짝사랑 끝내 고 나 의 니 마음 이 공허 하 다 .   \n",
       "19091                                  아무래도 우울증 걸린 거 같 아   \n",
       "6361                                    여자 친구 가 연락 이 안 돼   \n",
       "13978                                         나 누락 됐 나 봐   \n",
       "20093                                         이유 라는 게 뭔지   \n",
       "6572                                          위생 검진 왔 어서   \n",
       "23472  내 가치관 이랑 다른 가치관 을 가지 고 있 는 그 남자 를 싫어하 는 게 힘들 어 는데   \n",
       "21416                               여자 는 호감 없 어도 잘 해 줘 ?   \n",
       "7866                                         몇 반 될지 궁금 해   \n",
       "\n",
       "                                                answers  \n",
       "11746                     어떤 트라우마 가 있 었 는지 도 모르 겠 는데요 .  \n",
       "28345                      사랑 했 던 시간 이 멈춰 버려서 이런 거 예요 .  \n",
       "19091                        마음 의 병 이 조금 씩 나아지 길 바랍니다 .  \n",
       "6361                                      별일 없 를 거 예요 .  \n",
       "13978                               입증 해 달 라고 해 보 세요 는데  \n",
       "20093                                       알 다가 도 모를 .  \n",
       "6572                          넘 기 의식 적 으로 해 주 는 게 좋 죠 .  \n",
       "23472  서로 의 사고방식 그러 평행선 을 이루 지만 않 는다면 만날 수 도 있 을 거 예요 .  \n",
       "21416                             본래 성격 이 그럴 수 도 있 어요 .  \n",
       "7866                                       잘 되 길 바랍니다 .  "
      ]
     },
     "execution_count": 51,
     "metadata": {},
     "output_type": "execute_result"
    }
   ],
   "source": [
    "df_cleaned = pd.DataFrame(data=[que_corpus, ans_corpus], index=[\"questions\", \"answers\"]).T\n",
    "\n",
    "df_cleaned[\"questions\"] = df_cleaned[\"questions\"].apply(lambda x: \" \".join(x))\n",
    "df_cleaned[\"answers\"] = df_cleaned[\"answers\"].apply(lambda x: \" \".join(x))\n",
    "\n",
    "print(df_cleaned.shape)\n",
    "df_cleaned.sample(10)"
   ]
  },
  {
   "cell_type": "markdown",
   "id": "885d013a",
   "metadata": {},
   "source": [
    "&nbsp;"
   ]
  },
  {
   "cell_type": "markdown",
   "id": "5c81f275",
   "metadata": {},
   "source": [
    "### ▶ 현재 진행상태는 아래와 같다.\n",
    "\n",
    "\n",
    "\n",
    "~~1. **소스 문장 데이터**와 **타겟 문장 데이터**를 입력으로 받습니다.~~\n",
    "\n",
    "\n",
    "~~2. 데이터를 앞서 정의한 `preprocess_sentence()` 함수로 **정제하고, 토큰화**합니다.~~\n",
    "\n",
    "\n",
    "~~3. 토큰화는 **전달받은 토크나이즈 함수를 사용**합니다. 이번엔 **`mecab.morphs`** 함수를 전달하시면 됩니다.~~\n",
    "\n",
    "\n",
    "~~4. 토큰의 개수가 일정 길이 이상인 문장은 **데이터에서 제외**합니다.~~\n",
    "\n",
    "\n",
    "~~5. **중복되는 문장은 데이터에서 제외**합니다. **`소스 : 타겟`** 쌍을 비교하지 않고 소스는 소스대로 타겟은 타겟대로 검사합니다. 중복 쌍이 흐트러지지 않도록 유의하세요!~~"
   ]
  },
  {
   "cell_type": "markdown",
   "id": "8581a9d5",
   "metadata": {},
   "source": [
    "Step 3 의 과정은 이렇게 마무리 지었고, Step 4. Augmentation 은 이전에 수행한 상태이다. Step 5. 로 넘어가자."
   ]
  },
  {
   "cell_type": "markdown",
   "id": "83dc8a92",
   "metadata": {},
   "source": [
    "&nbsp;"
   ]
  },
  {
   "cell_type": "markdown",
   "id": "f5c1a583",
   "metadata": {},
   "source": [
    "### Step 5. 데이터 벡터화\n",
    "\n",
    "<hr>"
   ]
  },
  {
   "cell_type": "markdown",
   "id": "c65be777",
   "metadata": {},
   "source": [
    "타겟 데이터인 `ans_corpus` 에 `<start>` 토큰과 `<end>` 토큰이 추가되지 않은 상태이니 이를 먼저 해결한 후 벡터화를 진행합니다. 우리가 구축한 `ans_corpus` 는 `list` 형태이기 때문에 아주 쉽게 이를 해결할 수 있답니다!"
   ]
  },
  {
   "cell_type": "code",
   "execution_count": 52,
   "id": "38222679",
   "metadata": {},
   "outputs": [
    {
     "name": "stdout",
     "output_type": "stream",
     "text": [
      "['<start>', '12', '시', '땡', '!', '<end>']\n"
     ]
    }
   ],
   "source": [
    "sample_data = [\"12\", \"시\", \"땡\", \"!\"]\n",
    "\n",
    "print([\"<start>\"] + sample_data + [\"<end>\"])"
   ]
  },
  {
   "cell_type": "markdown",
   "id": "0a3950d6",
   "metadata": {},
   "source": [
    "１. 위 소스를 참고하여 타겟 데이터 전체에 **`<start>`** 토큰과 **`<end>`** 토큰을 추가해 주세요!"
   ]
  },
  {
   "cell_type": "markdown",
   "id": "3ef7ee03",
   "metadata": {},
   "source": [
    "챗봇 훈련 데이터의 가장 큰 특징 중 하나라고 하자면 바로 **소스 데이터와 타겟 데이터가 같은 언어를 사용한다는 것**이겠죠. 앞서 배운 것처럼 이는 Embedding 층을 공유했을 때 많은 이점을 얻을 수 있습니다."
   ]
  },
  {
   "cell_type": "markdown",
   "id": "50abfd3f",
   "metadata": {},
   "source": [
    "２. 특수 토큰을 더함으로써 **`ans_corpus`** 또한 완성이 되었으니, **`que_corpus`** 와 결합하여 **전체 데이터에 대한 단어 사전을 구축**하고 **벡터화하여 `enc_train` 과 `dec_train`** 을 얻으세요!"
   ]
  },
  {
   "cell_type": "markdown",
   "id": "0fe2199e",
   "metadata": {},
   "source": [
    "&nbsp;"
   ]
  },
  {
   "cell_type": "markdown",
   "id": "58679f20",
   "metadata": {},
   "source": [
    "대부분의 내용을 하는김에 진행해 버린 것들이 많아서,\n",
    "\n",
    "사실상 단어사전 구축과 벡터화를 통해 enc_train, dec_drain 작업이 남았다.\n",
    "\n",
    "여기서도 하는김에 적은 비율로 enc_test, dec_test 까지 분리하는 작업을 진행하도록 하겠다."
   ]
  },
  {
   "cell_type": "code",
   "execution_count": 53,
   "id": "fab858cf",
   "metadata": {
    "scrolled": true
   },
   "outputs": [
    {
     "name": "stdout",
     "output_type": "stream",
     "text": [
      "df_cleaned 전체 : (29983, 2)\n",
      "df_cleaned 중복 : (39, 2)\n",
      "df_cleaned 중복제거후 예상 : (29944, 2)\n",
      "\n",
      "df_cleaned.shape (29944, 3)\n",
      "df_test.shape (150, 3)\n",
      "df_train.shape (29794, 3)\n"
     ]
    }
   ],
   "source": [
    "print(\"df_cleaned 전체 :\", df_cleaned.shape)\n",
    "print(\"df_cleaned 중복 :\", df_cleaned[df_cleaned.duplicated()].shape)\n",
    "print(\"df_cleaned 중복제거후 예상 :\", df_cleaned[~df_cleaned.duplicated()].shape)\n",
    "df_cleaned.drop_duplicates(inplace=True)    ## 중복제거\n",
    "df_cleaned.reset_index(inplace=True)    ## 인덱스 초기화\n",
    "\n",
    "print()\n",
    "print(\"df_cleaned.shape\", df_cleaned.shape)\n",
    "\n",
    "## 샘플 150개 추출하여 test 데이터로 사용\n",
    "df_test = df_cleaned.sample(150)\n",
    "\n",
    "## 전체 데이터셋에서 test 데이터를 차집합으로 제외하고, 나머지를 train 데이터로 사용.\n",
    "df_train = pd.concat([df_cleaned, df_test, df_test]).drop_duplicates(keep=False)\n",
    "\n",
    "print(\"df_test.shape\", df_test.shape)\n",
    "print(\"df_train.shape\", df_train.shape)"
   ]
  },
  {
   "cell_type": "markdown",
   "id": "f3988dc5",
   "metadata": {},
   "source": [
    "이제 토큰화와 벡터화를 다시 진행하여야 한다.\n",
    "\n",
    "토큰화 과정에서 타겟 데이터에 **`<start>`** 토큰과 **`<end>`** 토큰을 추가하고,\n",
    "\n",
    "단어사전 구축 및 벡터화를 진행하여 enc_train, dec_train 을 얻어보자."
   ]
  },
  {
   "cell_type": "code",
   "execution_count": 54,
   "id": "fc58599d",
   "metadata": {},
   "outputs": [
    {
     "data": {
      "text/plain": [
       "(29794, 2)"
      ]
     },
     "execution_count": 54,
     "metadata": {},
     "output_type": "execute_result"
    }
   ],
   "source": [
    "## 토큰화\n",
    "df_data = pd.DataFrame(columns=[\"questions\",\"answers\"])\n",
    "df_data[\"questions\"] = df_train[\"questions\"].apply(lambda x: mecab.morphs(x))\n",
    "df_data[\"answers\"] = df_train[\"answers\"].apply(lambda x: [\"<start>\"] + mecab.morphs(x) + [\"<end>\"])\n",
    "df_data.shape"
   ]
  },
  {
   "cell_type": "code",
   "execution_count": 55,
   "id": "6ebd951d",
   "metadata": {
    "scrolled": true
   },
   "outputs": [
    {
     "data": {
      "text/html": [
       "<div>\n",
       "<style scoped>\n",
       "    .dataframe tbody tr th:only-of-type {\n",
       "        vertical-align: middle;\n",
       "    }\n",
       "\n",
       "    .dataframe tbody tr th {\n",
       "        vertical-align: top;\n",
       "    }\n",
       "\n",
       "    .dataframe thead th {\n",
       "        text-align: right;\n",
       "    }\n",
       "</style>\n",
       "<table border=\"1\" class=\"dataframe\">\n",
       "  <thead>\n",
       "    <tr style=\"text-align: right;\">\n",
       "      <th></th>\n",
       "      <th>index</th>\n",
       "      <th>questions</th>\n",
       "      <th>answers</th>\n",
       "    </tr>\n",
       "  </thead>\n",
       "  <tbody>\n",
       "    <tr>\n",
       "      <th>11779</th>\n",
       "      <td>11839</td>\n",
       "      <td>[그리움, 만, 은, 데, 어쩔, 가능, 성, 없, 는가, 보, 다]</td>\n",
       "      <td>[&lt;start&gt;, 완전히, 잊, 는다는, 건, 증거, 불, 가능, 하, 니까요, 는...</td>\n",
       "    </tr>\n",
       "    <tr>\n",
       "      <th>27656</th>\n",
       "      <td>27793</td>\n",
       "      <td>[공시, 준비, 하, 는, 데, 연애, 하, ㄴ다면, 안, 되, 겠, 꼼짝, ?]</td>\n",
       "      <td>[&lt;start&gt;, 현재, 뭐, 가, 중요, 한지, 객관적으로, 생각, 해, 살펴보,...</td>\n",
       "    </tr>\n",
       "    <tr>\n",
       "      <th>23759</th>\n",
       "      <td>23870</td>\n",
       "      <td>[어, 장, 인, 것, 아, 는, 데, 도, 좋, 아, 해, .]</td>\n",
       "      <td>[&lt;start&gt;, 괴로움, 을, 접, 는, 게, 쉽, 진, 않, 아요, ., &lt;end&gt;]</td>\n",
       "    </tr>\n",
       "    <tr>\n",
       "      <th>22095</th>\n",
       "      <td>22197</td>\n",
       "      <td>[어둠, 아서, 끝, 나라]</td>\n",
       "      <td>[&lt;start&gt;, 빛, 이, 있, 를, 거, 예요, ., &lt;end&gt;]</td>\n",
       "    </tr>\n",
       "    <tr>\n",
       "      <th>1598</th>\n",
       "      <td>1609</td>\n",
       "      <td>[걷, 자고, 꼬셔]</td>\n",
       "      <td>[&lt;start&gt;, 살랑대, 는, 바람, 에, 마음, 도, 움직일, 거, 예요, .,...</td>\n",
       "    </tr>\n",
       "  </tbody>\n",
       "</table>\n",
       "</div>"
      ],
      "text/plain": [
       "       index                                      questions  \\\n",
       "11779  11839         [그리움, 만, 은, 데, 어쩔, 가능, 성, 없, 는가, 보, 다]   \n",
       "27656  27793  [공시, 준비, 하, 는, 데, 연애, 하, ㄴ다면, 안, 되, 겠, 꼼짝, ?]   \n",
       "23759  23870           [어, 장, 인, 것, 아, 는, 데, 도, 좋, 아, 해, .]   \n",
       "22095  22197                                [어둠, 아서, 끝, 나라]   \n",
       "1598    1609                                    [걷, 자고, 꼬셔]   \n",
       "\n",
       "                                                 answers  \n",
       "11779  [<start>, 완전히, 잊, 는다는, 건, 증거, 불, 가능, 하, 니까요, 는...  \n",
       "27656  [<start>, 현재, 뭐, 가, 중요, 한지, 객관적으로, 생각, 해, 살펴보,...  \n",
       "23759  [<start>, 괴로움, 을, 접, 는, 게, 쉽, 진, 않, 아요, ., <end>]  \n",
       "22095             [<start>, 빛, 이, 있, 를, 거, 예요, ., <end>]  \n",
       "1598   [<start>, 살랑대, 는, 바람, 에, 마음, 도, 움직일, 거, 예요, .,...  "
      ]
     },
     "execution_count": 55,
     "metadata": {},
     "output_type": "execute_result"
    }
   ],
   "source": [
    "df_data.reset_index(inplace=True)    ## 인덱스 초기화\n",
    "\n",
    "df_data.sample(5)"
   ]
  },
  {
   "cell_type": "code",
   "execution_count": 56,
   "id": "c63f5a3a",
   "metadata": {},
   "outputs": [],
   "source": [
    "# enc_train, dec_train = [], []\n",
    "\n",
    "# enc_train.clear()\n",
    "# dec_train.clear()\n",
    "\n",
    "# for i in tqdm(range(len(df_data))):\n",
    "    \n",
    "#     enc_train.append(df_data[\"questions\"][i])\n",
    "    \n",
    "#     dec_train.append(df_data[\"answers\"][i])\n",
    "\n",
    "enc_data = list(df_data[\"questions\"])\n",
    "dec_data = list(df_data[\"answers\"])"
   ]
  },
  {
   "cell_type": "code",
   "execution_count": 57,
   "id": "1f25fddd",
   "metadata": {},
   "outputs": [
    {
     "data": {
      "text/plain": [
       "(29794,)"
      ]
     },
     "execution_count": 57,
     "metadata": {},
     "output_type": "execute_result"
    }
   ],
   "source": [
    "np.array(enc_data).shape"
   ]
  },
  {
   "cell_type": "markdown",
   "id": "50fc67a4",
   "metadata": {},
   "source": [
    "벡터화 하는 함수를 정의한다."
   ]
  },
  {
   "cell_type": "code",
   "execution_count": 58,
   "id": "1f9ba2a6",
   "metadata": {},
   "outputs": [],
   "source": [
    "## <start> <end> 토큰 추가전에 미리 크기를 키워놓았다.\n",
    "MAX_TOK_LEN = MAX_TOK_LEN + 2"
   ]
  },
  {
   "cell_type": "code",
   "execution_count": 59,
   "id": "d0aaea20",
   "metadata": {},
   "outputs": [],
   "source": [
    "def vectorize(enc_data, dec_data):\n",
    "    \n",
    "    tokenizer = tf.keras.preprocessing.text.Tokenizer(filters='')\n",
    "    \n",
    "    \n",
    "    tokenizer.fit_on_texts(enc_data)\n",
    "    \n",
    "    tokenizer.fit_on_texts(dec_data)\n",
    "\n",
    "    \n",
    "    enc_tensor = tokenizer.texts_to_sequences(enc_data)\n",
    "    \n",
    "    dec_tensor = tokenizer.texts_to_sequences(dec_data)\n",
    "    \n",
    "\n",
    "    enc_tensor = tf.keras.preprocessing.sequence.pad_sequences(enc_tensor, maxlen=MAX_TOK_LEN, padding='post')\n",
    "    \n",
    "    dec_tensor = tf.keras.preprocessing.sequence.pad_sequences(dec_tensor, maxlen=MAX_TOK_LEN, padding='post')\n",
    "    \n",
    "\n",
    "    return enc_tensor, dec_tensor, tokenizer\n"
   ]
  },
  {
   "cell_type": "markdown",
   "id": "968f9b3c",
   "metadata": {},
   "source": [
    "벡터화 한다."
   ]
  },
  {
   "cell_type": "code",
   "execution_count": 60,
   "id": "dd71c179",
   "metadata": {},
   "outputs": [],
   "source": [
    "enc_train, dec_train, tok = vectorize(enc_data, dec_data)"
   ]
  },
  {
   "cell_type": "code",
   "execution_count": 61,
   "id": "0f0f86f4",
   "metadata": {},
   "outputs": [
    {
     "data": {
      "text/plain": [
       "(29794, 27)"
      ]
     },
     "execution_count": 61,
     "metadata": {},
     "output_type": "execute_result"
    }
   ],
   "source": [
    "enc_train.shape"
   ]
  },
  {
   "cell_type": "code",
   "execution_count": 62,
   "id": "151aa481",
   "metadata": {},
   "outputs": [
    {
     "data": {
      "text/plain": [
       "(29794, 27)"
      ]
     },
     "execution_count": 62,
     "metadata": {},
     "output_type": "execute_result"
    }
   ],
   "source": [
    "dec_train.shape"
   ]
  },
  {
   "cell_type": "code",
   "execution_count": 63,
   "id": "f968ba12",
   "metadata": {},
   "outputs": [
    {
     "name": "stdout",
     "output_type": "stream",
     "text": [
      "len(tok.word_counts) : 7625\n",
      "VOCAB_SIZE : 7626\n"
     ]
    }
   ],
   "source": [
    "print(\"len(tok.word_counts) :\", len(tok.word_counts))\n",
    "\n",
    "## padding 해서 0 이 추가.\n",
    "VOCAB_SIZE = len(tok.word_counts) + 1\n",
    "print(\"VOCAB_SIZE :\", VOCAB_SIZE)"
   ]
  },
  {
   "cell_type": "markdown",
   "id": "60210297",
   "metadata": {},
   "source": [
    "&nbsp;"
   ]
  },
  {
   "cell_type": "markdown",
   "id": "2a5d991a",
   "metadata": {},
   "source": [
    "### Step 6. 훈련하기\n",
    "\n",
    "<hr>"
   ]
  },
  {
   "cell_type": "markdown",
   "id": "ecd17e10",
   "metadata": {},
   "source": [
    "앞서 번역 모델을 훈련하며 정의한 `Transformer` 를 그대로 사용하시면 됩니다! 대신 데이터의 크기가 작으니 하이퍼파라미터를 튜닝해야 과적합을 피할 수 있습니다. 모델을 훈련하고 아래 예문에 대한 답변을 생성하세요! **가장 멋진 답변**과 **모델의 하이퍼파라미터**를 제출하시면 됩니다."
   ]
  },
  {
   "cell_type": "markdown",
   "id": "e2738fa7",
   "metadata": {},
   "source": [
    "~~~\n",
    "# 예문\n",
    "1. 지루하다, 놀러가고 싶어.\n",
    "2. 오늘 일찍 일어났더니 피곤하다.\n",
    "3. 간만에 여자친구랑 데이트 하기로 했어.\n",
    "4. 집에 있는다는 소리야.\n",
    "\n",
    "---\n",
    "\n",
    "# 제출\n",
    "\n",
    "Translations\n",
    "> 1. 잠깐 쉬 어도 돼요 . <end>\n",
    "> 2. 맛난 거 드세요 . <end>\n",
    "> 3. 떨리 겠 죠 . <end>\n",
    "> 4. 좋 아 하 면 그럴 수 있 어요 . <end>\n",
    "\n",
    "Hyperparameters\n",
    "> n_layers: 1\n",
    "> d_model: 368\n",
    "> n_heads: 8\n",
    "> d_ff: 1024\n",
    "> dropout: 0.2\n",
    "\n",
    "Training Parameters\n",
    "> Warmup Steps: 1000\n",
    "> Batch Size: 64\n",
    "> Epoch At: 10\n",
    "~~~"
   ]
  },
  {
   "cell_type": "markdown",
   "id": "9cb463e6",
   "metadata": {},
   "source": [
    "### ▶ Positional Encoding"
   ]
  },
  {
   "cell_type": "code",
   "execution_count": 63,
   "id": "93e280c0",
   "metadata": {},
   "outputs": [],
   "source": [
    "def positional_encoding(pos, d_model):\n",
    "    def cal_angle(position, i):\n",
    "        return position / np.power(10000, int(i) / d_model)\n",
    "\n",
    "    def get_posi_angle_vec(position):\n",
    "        return [cal_angle(position, i) for i in range(d_model)]\n",
    "\n",
    "    sinusoid_table = np.array([get_posi_angle_vec(pos_i) for pos_i in range(pos)])\n",
    "    sinusoid_table[:, 0::2] = np.sin(sinusoid_table[:, 0::2])\n",
    "    sinusoid_table[:, 1::2] = np.cos(sinusoid_table[:, 1::2])\n",
    "    return sinusoid_table"
   ]
  },
  {
   "cell_type": "markdown",
   "id": "c044c412",
   "metadata": {},
   "source": [
    "### ▶ Multi-Head Attention"
   ]
  },
  {
   "cell_type": "code",
   "execution_count": 64,
   "id": "c0126786",
   "metadata": {},
   "outputs": [],
   "source": [
    "class MultiHeadAttention(tf.keras.layers.Layer):\n",
    "    def __init__(self, d_model, num_heads):\n",
    "        super(MultiHeadAttention, self).__init__()\n",
    "        self.num_heads = num_heads\n",
    "        self.d_model = d_model\n",
    "\n",
    "        self.depth = d_model // self.num_heads\n",
    "\n",
    "        self.W_q = tf.keras.layers.Dense(d_model) # Linear Layer\n",
    "        self.W_k = tf.keras.layers.Dense(d_model)\n",
    "        self.W_v = tf.keras.layers.Dense(d_model)\n",
    "            \n",
    "        self.linear = tf.keras.layers.Dense(d_model)\n",
    "\n",
    "        \n",
    "    def scaled_dot_product_attention(self, Q, K, V, mask):\n",
    "        d_k = tf.cast(K.shape[-1], tf.float32)\n",
    "        \n",
    "        \"\"\"\n",
    "        Scaled QK 값 구하기\n",
    "        \"\"\"\n",
    "        \n",
    "        QK = tf.matmul(Q, K, transpose_b=True)\n",
    "\n",
    "        scaled_qk = QK / tf.math.sqrt(d_k)\n",
    "\n",
    "        # scaled_qk: Attention을 위한 Softmax 직전의 Scaled QK\n",
    "        if mask is not None:\n",
    "            scaled_qk += (mask * -1e9)\n",
    "            \n",
    "        \"\"\"\n",
    "        1. Attention Weights 값 구하기 -> attentions\n",
    "        2. Attention 값을 V에 곱하기 -> out\n",
    "        \"\"\" \n",
    "\n",
    "        attentions = tf.nn.softmax(scaled_qk, axis=-1)\n",
    "        out = tf.matmul(attentions, V)\n",
    "\n",
    "        return out, attentions\n",
    "            \n",
    "\n",
    "    def split_heads(self, x):\n",
    "        \n",
    "        \"\"\"\n",
    "        Embedding을 Head의 수로 분할하는 함수\n",
    "\n",
    "        x: [ batch x length x emb ]\n",
    "        return: [ batch x length x heads x self.depth ]\n",
    "        \"\"\"\n",
    "        \n",
    "        batch_size = x.shape[0]\n",
    "        split_x = tf.reshape(x, (batch_size, -1, self.num_heads, self.depth))\n",
    "        split_x = tf.transpose(split_x, perm=[0, 2, 1, 3])\n",
    "\n",
    "        return split_x\n",
    "\n",
    "    \n",
    "    def combine_heads(self, x):\n",
    "        \n",
    "        \"\"\"\n",
    "        분할된 Embedding을 하나로 결합하는 함수\n",
    "\n",
    "        x: [ batch x length x heads x self.depth ]\n",
    "        return: [ batch x length x emb ]\n",
    "        \"\"\"\n",
    "        \n",
    "        batch_size = x.shape[0]\n",
    "        combined_x = tf.transpose(x, perm=[0, 2, 1, 3])\n",
    "        combined_x = tf.reshape(combined_x, (batch_size, -1, self.d_model))\n",
    "\n",
    "        return combined_x\n",
    "\n",
    "    \n",
    "    def call(self, Q, K, V, mask):\n",
    "        \n",
    "        \"\"\"\n",
    "        아래 순서에 따라 소스를 작성하세요.\n",
    "\n",
    "        Step 1: Linear_in(Q, K, V) -> WQ, WK, WV\n",
    "        Step 2: Split Heads(WQ, WK, WV) -> WQ_split, WK_split, WV_split\n",
    "        Step 3: Scaled Dot Product Attention(WQ_split, WK_split, WV_split)\n",
    "                 -> out, attention_weights\n",
    "        Step 4: Combine Heads(out) -> out\n",
    "        Step 5: Linear_out(out) -> out\n",
    "\n",
    "        \"\"\"\n",
    "        \n",
    "        WQ = self.W_q(Q)\n",
    "        WK = self.W_k(K)\n",
    "        WV = self.W_v(V)\n",
    "        \n",
    "        WQ_splits = self.split_heads(WQ)\n",
    "        WK_splits = self.split_heads(WK)\n",
    "        WV_splits = self.split_heads(WV)\n",
    "            \n",
    "        out, attention_weights = self.scaled_dot_product_attention(\n",
    "            WQ_splits, WK_splits, WV_splits, mask)\n",
    "\n",
    "        out = self.combine_heads(out)\n",
    "        out = self.linear(out)\n",
    "                \n",
    "        return out, attention_weights"
   ]
  },
  {
   "cell_type": "markdown",
   "id": "ef2107e0",
   "metadata": {},
   "source": [
    "### ▶ Position-wise Feed-Forward Network"
   ]
  },
  {
   "cell_type": "code",
   "execution_count": 65,
   "id": "8b655032",
   "metadata": {},
   "outputs": [],
   "source": [
    "class PoswiseFeedForwardNet(tf.keras.layers.Layer):\n",
    "    def __init__(self, d_model, d_ff):\n",
    "        super(PoswiseFeedForwardNet, self).__init__()\n",
    "        self.w_1 = tf.keras.layers.Dense(d_ff, activation='relu')\n",
    "        self.w_2 = tf.keras.layers.Dense(d_model)\n",
    "\n",
    "    def call(self, x):\n",
    "        out = self.w_1(x)\n",
    "        out = self.w_2(out)\n",
    "            \n",
    "        return out"
   ]
  },
  {
   "cell_type": "markdown",
   "id": "47906d08",
   "metadata": {},
   "source": [
    "### ▶ Encoder 레이어 구현하기"
   ]
  },
  {
   "cell_type": "code",
   "execution_count": 66,
   "id": "75abcda5",
   "metadata": {},
   "outputs": [
    {
     "name": "stdout",
     "output_type": "stream",
     "text": [
      "슝=3\n"
     ]
    }
   ],
   "source": [
    "class EncoderLayer(tf.keras.layers.Layer):\n",
    "    def __init__(self, d_model, n_heads, d_ff, dropout):\n",
    "        super(EncoderLayer, self).__init__()\n",
    "\n",
    "        self.enc_self_attn = MultiHeadAttention(d_model, n_heads)\n",
    "        self.ffn = PoswiseFeedForwardNet(d_model, d_ff)\n",
    "\n",
    "        self.norm_1 = tf.keras.layers.LayerNormalization(epsilon=1e-6)\n",
    "        self.norm_2 = tf.keras.layers.LayerNormalization(epsilon=1e-6)\n",
    "\n",
    "        self.dropout = tf.keras.layers.Dropout(dropout)\n",
    "        \n",
    "    def call(self, x, mask):\n",
    "\n",
    "        \"\"\"\n",
    "        Multi-Head Attention\n",
    "        \"\"\"\n",
    "        residual = x\n",
    "        out = self.norm_1(x)\n",
    "        out, enc_attn = self.enc_self_attn(out, out, out, mask)\n",
    "        out = self.dropout(out)\n",
    "        out += residual\n",
    "        \n",
    "        \"\"\"\n",
    "        Position-Wise Feed Forward Network\n",
    "        \"\"\"\n",
    "        residual = out\n",
    "        out = self.norm_2(out)\n",
    "        out = self.ffn(out)\n",
    "        out = self.dropout(out)\n",
    "        out += residual\n",
    "        \n",
    "        return out, enc_attn\n",
    "\n",
    "print(\"슝=3\")"
   ]
  },
  {
   "cell_type": "markdown",
   "id": "0a8e7e8e",
   "metadata": {},
   "source": [
    "### ▶ Decoder 레이어 구현하기"
   ]
  },
  {
   "cell_type": "code",
   "execution_count": 67,
   "id": "e902f83a",
   "metadata": {},
   "outputs": [],
   "source": [
    "class DecoderLayer(tf.keras.layers.Layer):\n",
    "    def __init__(self, d_model, num_heads, d_ff, dropout):\n",
    "        super(DecoderLayer, self).__init__()\n",
    "\n",
    "        self.dec_self_attn = MultiHeadAttention(d_model, num_heads)\n",
    "        self.enc_dec_attn = MultiHeadAttention(d_model, num_heads)\n",
    "\n",
    "        self.ffn = PoswiseFeedForwardNet(d_model, d_ff)\n",
    "\n",
    "        self.norm_1 = tf.keras.layers.LayerNormalization(epsilon=1e-6)\n",
    "        self.norm_2 = tf.keras.layers.LayerNormalization(epsilon=1e-6)\n",
    "        self.norm_3 = tf.keras.layers.LayerNormalization(epsilon=1e-6)\n",
    "\n",
    "        self.dropout = tf.keras.layers.Dropout(dropout)\n",
    "    \n",
    "    def call(self, x, enc_out, causality_mask, padding_mask):\n",
    "\n",
    "        \"\"\"\n",
    "        Masked Multi-Head Attention\n",
    "        \"\"\"\n",
    "        residual = x\n",
    "        out = self.norm_1(x)\n",
    "        out, dec_attn = self.dec_self_attn(out, out, out, padding_mask)\n",
    "        out = self.dropout(out)\n",
    "        out += residual\n",
    "\n",
    "        \"\"\"\n",
    "        Multi-Head Attention\n",
    "        \"\"\"\n",
    "        residual = out\n",
    "        out = self.norm_2(out)\n",
    "        out, dec_enc_attn = self.enc_dec_attn(out, enc_out, enc_out, causality_mask)\n",
    "        out = self.dropout(out)\n",
    "        out += residual\n",
    "        \n",
    "        \"\"\"\n",
    "        Position-Wise Feed Forward Network\n",
    "        \"\"\"\n",
    "        residual = out\n",
    "        out = self.norm_3(out)\n",
    "        out = self.ffn(out)\n",
    "        out = self.dropout(out)\n",
    "        out += residual\n",
    "\n",
    "        return out, dec_attn, dec_enc_attn"
   ]
  },
  {
   "cell_type": "markdown",
   "id": "2ece1f3d",
   "metadata": {},
   "source": [
    "### ▶ Encoder / Decoder 클래스 정의"
   ]
  },
  {
   "cell_type": "code",
   "execution_count": 68,
   "id": "a288ec31",
   "metadata": {},
   "outputs": [
    {
     "name": "stdout",
     "output_type": "stream",
     "text": [
      "슝=3\n"
     ]
    }
   ],
   "source": [
    "class Encoder(tf.keras.Model):\n",
    "    def __init__(self,\n",
    "                 n_layers,\n",
    "                 d_model,\n",
    "                 n_heads,\n",
    "                 d_ff,\n",
    "                 dropout):\n",
    "        super(Encoder, self).__init__()\n",
    "        self.n_layers = n_layers\n",
    "        self.enc_layers = [EncoderLayer(d_model, n_heads, d_ff, dropout) \n",
    "                        for _ in range(n_layers)]\n",
    "        \n",
    "    def call(self, x, mask):\n",
    "        out = x\n",
    "    \n",
    "        enc_attns = list()\n",
    "        for i in range(self.n_layers):\n",
    "            out, enc_attn = self.enc_layers[i](out, mask)\n",
    "            enc_attns.append(enc_attn)\n",
    "        \n",
    "        return out, enc_attns\n",
    "\n",
    "print(\"슝=3\")"
   ]
  },
  {
   "cell_type": "markdown",
   "id": "af24da6c",
   "metadata": {},
   "source": [
    "포지셔널 인코딩 후 디코더 층을 $\\text{num_layers}$의 개수만큼 쌓는 코드이다."
   ]
  },
  {
   "cell_type": "code",
   "execution_count": 69,
   "id": "0f9f3730",
   "metadata": {},
   "outputs": [
    {
     "name": "stdout",
     "output_type": "stream",
     "text": [
      "슝=3\n"
     ]
    }
   ],
   "source": [
    "class Decoder(tf.keras.Model):\n",
    "    def __init__(self,\n",
    "                 n_layers,\n",
    "                 d_model,\n",
    "                 n_heads,\n",
    "                 d_ff,\n",
    "                 dropout):\n",
    "        super(Decoder, self).__init__()\n",
    "        self.n_layers = n_layers\n",
    "        self.dec_layers = [DecoderLayer(d_model, n_heads, d_ff, dropout) \n",
    "                            for _ in range(n_layers)]\n",
    "                            \n",
    "                            \n",
    "    def call(self, x, enc_out, causality_mask, padding_mask):\n",
    "        out = x\n",
    "    \n",
    "        dec_attns = list()\n",
    "        dec_enc_attns = list()\n",
    "        \n",
    "        ## 디코더를 num_layers개 쌓기\n",
    "        for i in range(self.n_layers):\n",
    "            out, dec_attn, dec_enc_attn = \\\n",
    "            self.dec_layers[i](out, enc_out, causality_mask, padding_mask)\n",
    "\n",
    "            dec_attns.append(dec_attn)\n",
    "            dec_enc_attns.append(dec_enc_attn)\n",
    "\n",
    "        return out, dec_attns, dec_enc_attns\n",
    "\n",
    "print(\"슝=3\")"
   ]
  },
  {
   "cell_type": "markdown",
   "id": "0e017996",
   "metadata": {},
   "source": [
    "### ▶ Transformer 클래스 구현"
   ]
  },
  {
   "cell_type": "code",
   "execution_count": 70,
   "id": "eb68d65d",
   "metadata": {},
   "outputs": [],
   "source": [
    "class Transformer(tf.keras.Model):\n",
    "    def __init__(self,\n",
    "                    n_layers,\n",
    "                    d_model,\n",
    "                    n_heads,\n",
    "                    d_ff,\n",
    "                    src_vocab_size,\n",
    "                    tgt_vocab_size,\n",
    "                    pos_len,\n",
    "                    dropout=0.2,\n",
    "                    shared=True):\n",
    "        super(Transformer, self).__init__()\n",
    "        self.d_model = tf.cast(d_model, tf.float32)\n",
    "\n",
    "        self.enc_emb = tf.keras.layers.Embedding(src_vocab_size, d_model)\n",
    "        self.dec_emb = tf.keras.layers.Embedding(tgt_vocab_size, d_model)\n",
    "\n",
    "        self.pos_encoding = positional_encoding(pos_len, d_model)\n",
    "        self.dropout = tf.keras.layers.Dropout(dropout)\n",
    "\n",
    "        self.encoder = Encoder(n_layers, d_model, n_heads, d_ff, dropout)\n",
    "        self.decoder = Decoder(n_layers, d_model, n_heads, d_ff, dropout)\n",
    "\n",
    "        self.fc = tf.keras.layers.Dense(tgt_vocab_size)\n",
    "\n",
    "        self.shared = shared\n",
    "\n",
    "        if shared: self.fc.set_weights(tf.transpose(self.dec_emb.weights))\n",
    "\n",
    "    def embedding(self, emb, x):\n",
    "        seq_len = x.shape[1]\n",
    "        out = emb(x)\n",
    "\n",
    "        if self.shared: out *= tf.math.sqrt(self.d_model)\n",
    "\n",
    "        out += self.pos_encoding[np.newaxis, ...][:, :seq_len, :]\n",
    "        out = self.dropout(out)\n",
    "\n",
    "        return out\n",
    "\n",
    "        \n",
    "    def call(self, enc_in, dec_in, enc_mask, causality_mask, dec_mask):\n",
    "        enc_in = self.embedding(self.enc_emb, enc_in)\n",
    "        dec_in = self.embedding(self.dec_emb, dec_in)\n",
    "\n",
    "        enc_out, enc_attns = self.encoder(enc_in, enc_mask)\n",
    "        \n",
    "        dec_out, dec_attns, dec_enc_attns = \\\n",
    "        self.decoder(dec_in, enc_out, causality_mask, dec_mask)\n",
    "        \n",
    "        logits = self.fc(dec_out)\n",
    "        \n",
    "        return logits, enc_attns, dec_attns, dec_enc_attns"
   ]
  },
  {
   "cell_type": "markdown",
   "id": "9db22c8c",
   "metadata": {},
   "source": [
    "### ▶ Masking"
   ]
  },
  {
   "cell_type": "code",
   "execution_count": 71,
   "id": "29548852",
   "metadata": {},
   "outputs": [
    {
     "name": "stdout",
     "output_type": "stream",
     "text": [
      "슝=3\n"
     ]
    }
   ],
   "source": [
    "def generate_padding_mask(seq):\n",
    "    seq = tf.cast(tf.math.equal(seq, 0), tf.float32)\n",
    "\n",
    "#     print(\"seq >>\", seq)\n",
    "   \n",
    "    return seq[:, tf.newaxis, tf.newaxis, :]\n",
    "\n",
    "def generate_causality_mask(src_len, tgt_len):\n",
    "    mask = 1 - np.cumsum(np.eye(src_len, tgt_len), 0)\n",
    "    return tf.cast(mask, tf.float32)\n",
    "\n",
    "def generate_masks(src, tgt):\n",
    "    enc_mask = generate_padding_mask(src)\n",
    "    dec_mask = generate_padding_mask(tgt)\n",
    "\n",
    "    dec_enc_causality_mask = generate_causality_mask(tgt.shape[1], src.shape[1])\n",
    "    dec_enc_mask = tf.maximum(enc_mask, dec_enc_causality_mask)\n",
    "\n",
    "    dec_causality_mask = generate_causality_mask(tgt.shape[1], tgt.shape[1])\n",
    "    dec_mask = tf.maximum(dec_mask, dec_causality_mask)\n",
    "\n",
    "    return enc_mask, dec_enc_mask, dec_mask\n",
    "\n",
    "print(\"슝=3\")"
   ]
  },
  {
   "cell_type": "markdown",
   "id": "bc8c2716",
   "metadata": {},
   "source": [
    "### ▶ Learning Rate 와 Optimizer"
   ]
  },
  {
   "cell_type": "code",
   "execution_count": 72,
   "id": "69c84448",
   "metadata": {},
   "outputs": [
    {
     "name": "stdout",
     "output_type": "stream",
     "text": [
      "슝=3\n"
     ]
    }
   ],
   "source": [
    "class LearningRateScheduler(tf.keras.optimizers.schedules.LearningRateSchedule):\n",
    "    def __init__(self, d_model, warmup_steps=4000):\n",
    "        super(LearningRateScheduler, self).__init__()\n",
    "        self.d_model = d_model\n",
    "        self.warmup_steps = warmup_steps\n",
    "    \n",
    "    def __call__(self, step):\n",
    "        arg1 = step ** -0.5\n",
    "        arg2 = step * (self.warmup_steps ** -1.5)\n",
    "        \n",
    "        return (self.d_model ** -0.5) * tf.math.minimum(arg1, arg2)\n",
    "\n",
    "learning_rate = LearningRateScheduler(512)\n",
    "optimizer = tf.keras.optimizers.Adam(learning_rate,\n",
    "                                     beta_1=0.9,\n",
    "                                     beta_2=0.98, \n",
    "                                     epsilon=1e-9)\n",
    "\n",
    "print(\"슝=3\")"
   ]
  },
  {
   "cell_type": "markdown",
   "id": "9f4d4e84",
   "metadata": {},
   "source": [
    "<hr>"
   ]
  },
  {
   "cell_type": "markdown",
   "id": "13194396",
   "metadata": {},
   "source": [
    "모델설계가 끝났으니, 훈련을 진행한다."
   ]
  },
  {
   "cell_type": "code",
   "execution_count": 74,
   "id": "4526a8d1",
   "metadata": {},
   "outputs": [],
   "source": [
    "## Hyperparameters\n",
    "n_layers = 2\n",
    "d_model = 512\n",
    "n_heads = 8\n",
    "d_ff = 2048\n",
    "dropout = 0.3\n",
    "warmup_steps = 4000    ## default 4000\n",
    "batch_size = 64        ##\n",
    "epochs = 30\n",
    "\n",
    "BATCH_SIZE = batch_size\n",
    "EPOCHS = epochs"
   ]
  },
  {
   "cell_type": "code",
   "execution_count": 75,
   "id": "8f59ef08",
   "metadata": {},
   "outputs": [],
   "source": [
    "## Transformer\n",
    "transformer = Transformer(\n",
    "    n_layers=n_layers,\n",
    "    d_model=d_model,\n",
    "    n_heads=n_heads,\n",
    "    d_ff=d_ff,\n",
    "    src_vocab_size=VOCAB_SIZE,\n",
    "    tgt_vocab_size=VOCAB_SIZE,\n",
    "    pos_len=64,\n",
    "    dropout=dropout,\n",
    "    shared=True)"
   ]
  },
  {
   "cell_type": "code",
   "execution_count": 76,
   "id": "3caf779e",
   "metadata": {},
   "outputs": [],
   "source": [
    "# learning_rate = LearningRateScheduler(512, warmup_steps=4000)\n",
    "learning_rate = LearningRateScheduler(512, warmup_steps=warmup_steps)\n",
    "\n",
    "optimizer = tf.keras.optimizers.Adam(\n",
    "    learning_rate, beta_1=0.9, beta_2=0.98, epsilon=1e-9)"
   ]
  },
  {
   "cell_type": "code",
   "execution_count": 77,
   "id": "90058c16",
   "metadata": {},
   "outputs": [],
   "source": [
    "loss_object = tf.keras.losses.SparseCategoricalCrossentropy(\n",
    "    from_logits=True, reduction='none')\n",
    "\n",
    "def loss_function(real, pred):\n",
    "    mask = tf.math.logical_not(tf.math.equal(real, 0))\n",
    "    loss_ = loss_object(real, pred)\n",
    "\n",
    "    # Masking 되지 않은 입력의 개수로 Scaling하는 과정\n",
    "    mask = tf.cast(mask, dtype=loss_.dtype)\n",
    "    loss_ *= mask\n",
    "\n",
    "    return tf.reduce_sum(loss_)/tf.reduce_sum(mask)"
   ]
  },
  {
   "cell_type": "code",
   "execution_count": 78,
   "id": "ad65d221",
   "metadata": {},
   "outputs": [],
   "source": [
    "# Train Step 함수 정의\n",
    "\n",
    "@tf.function()\n",
    "def train_step(src, tgt, model, optimizer):\n",
    "    gold = tgt[:, 1:]\n",
    "        \n",
    "    enc_mask, dec_enc_mask, dec_mask = generate_masks(src, tgt)\n",
    "\n",
    "    # 계산된 loss에 tf.GradientTape()를 적용해 학습을 진행합니다.\n",
    "    with tf.GradientTape() as tape:\n",
    "        predictions, enc_attns, dec_attns, dec_enc_attns = \\\n",
    "        model(src, tgt, enc_mask, dec_enc_mask, dec_mask)\n",
    "        loss = loss_function(gold, predictions[:, :-1])\n",
    "\n",
    "    # 최종적으로 optimizer.apply_gradients()가 사용됩니다. \n",
    "    variables = model.trainable_variables\n",
    "    gradients = tape.gradient(loss, variables)\n",
    "    optimizer.apply_gradients(zip(gradients, variables))\n",
    "    \n",
    "    return loss, enc_attns, dec_attns, dec_enc_attns"
   ]
  },
  {
   "cell_type": "code",
   "execution_count": 79,
   "id": "6294d891",
   "metadata": {},
   "outputs": [],
   "source": [
    "# 번역 생성 함수\n",
    "\n",
    "def evaluate(sentence, model, src_tokenizer, tgt_tokenizer):\n",
    "    sentence = preprocess_sentence(sentence)\n",
    "\n",
    "#     pieces = src_tokenizer.encode_as_pieces(sentence)\n",
    "#     tokens = src_tokenizer.encode_as_ids(sentence)\n",
    "\n",
    "    pieces = mecab.morphs(sentence)\n",
    "    \n",
    "    tokens = []\n",
    "    for s in pieces:\n",
    "        tokens.append(src_tokenizer.word_index[s])\n",
    "    \n",
    "#     print(pieces)\n",
    "#     print(tokens)\n",
    "    \n",
    "\n",
    "    _input = tf.keras.preprocessing.sequence.pad_sequences(\n",
    "        [tokens],\n",
    "        maxlen=enc_train.shape[-1],\n",
    "        padding='post')\n",
    "    \n",
    "#     print(_input)\n",
    "    \n",
    "    ids = []\n",
    "    \n",
    "#     output = tf.expand_dims([tgt_tokenizer.bos_id()], 0)\n",
    "    output = tf.expand_dims([src_tokenizer.word_index[\"<start>\"]], 0)\n",
    "#     print(\"_input\", _input)\n",
    "#     print(\"output\", output)\n",
    "\n",
    "#     print(dec_train.shape[-1])\n",
    "    \n",
    "    for i in range(dec_train.shape[-1]):\n",
    "        enc_padding_mask, combined_mask, dec_padding_mask = \\\n",
    "        generate_masks(_input, output)\n",
    "\n",
    "        predictions, enc_attns, dec_attns, dec_enc_attns =\\\n",
    "        model(_input, \n",
    "              output,\n",
    "              enc_padding_mask,\n",
    "              combined_mask,\n",
    "              dec_padding_mask)\n",
    "\n",
    "        predicted_id = \\\n",
    "        tf.argmax(tf.math.softmax(predictions, axis=-1)[0, -1]).numpy().item()\n",
    "\n",
    "#         if tgt_tokenizer.eos_id() == predicted_id:\n",
    "        if tgt_tokenizer.word_index[\"<end>\"] == predicted_id:\n",
    "\n",
    "#             result = tgt_tokenizer.decode_ids(ids)\n",
    "            result = [tgt_tokenizer.index_word[i] for i in ids]\n",
    "    \n",
    "#             print(\"result_A\", result)\n",
    "            \n",
    "            return pieces, result, enc_attns, dec_attns, dec_enc_attns\n",
    "\n",
    "        ids.append(predicted_id)\n",
    "        output = tf.concat([output, tf.expand_dims([predicted_id], 0)], axis=-1)\n",
    "\n",
    "    result = tgt_tokenizer.decode_ids(ids)\n",
    "    \n",
    "#     print(\"result_B\", result)\n",
    "\n",
    "    return pieces, result, enc_attns, dec_attns, dec_enc_attns"
   ]
  },
  {
   "cell_type": "code",
   "execution_count": 80,
   "id": "c36ef15c",
   "metadata": {},
   "outputs": [],
   "source": [
    "# 번역 생성 및 Attention 시각화 결합\n",
    "\n",
    "def translate(sentence, model, \n",
    "              src_tokenizer, tgt_tokenizer, \n",
    "              minimal=False):\n",
    "    \n",
    "    pieces, result, enc_attns, dec_attns, dec_enc_attns = \\\n",
    "    evaluate(sentence, model, src_tokenizer, tgt_tokenizer)\n",
    "    \n",
    "    \n",
    "    if (minimal):\n",
    "        result = \" \".join(result)\n",
    "        return result\n",
    "    \n",
    "    print(\"─\" * 32)\n",
    "    print()\n",
    "    print('▷ Input                ：%s' % (sentence))\n",
    "    print()\n",
    "    print('▷ Predicted translation：{}'.format(result))\n",
    "    print()"
   ]
  },
  {
   "cell_type": "code",
   "execution_count": 81,
   "id": "134f3f87",
   "metadata": {
    "scrolled": false
   },
   "outputs": [
    {
     "data": {
      "application/vnd.jupyter.widget-view+json": {
       "model_id": "802c64b110b943b1bda47c330be4bb96",
       "version_major": 2,
       "version_minor": 0
      },
      "text/plain": [
       "  0%|          | 0/466 [00:00<?, ?it/s]"
      ]
     },
     "metadata": {},
     "output_type": "display_data"
    },
    {
     "data": {
      "application/vnd.jupyter.widget-view+json": {
       "model_id": "9f4a7cfbc91249ebbb070e686be599f2",
       "version_major": 2,
       "version_minor": 0
      },
      "text/plain": [
       "  0%|          | 0/466 [00:00<?, ?it/s]"
      ]
     },
     "metadata": {},
     "output_type": "display_data"
    },
    {
     "data": {
      "application/vnd.jupyter.widget-view+json": {
       "model_id": "57da25ba9dd949e59970f11044a26da6",
       "version_major": 2,
       "version_minor": 0
      },
      "text/plain": [
       "  0%|          | 0/466 [00:00<?, ?it/s]"
      ]
     },
     "metadata": {},
     "output_type": "display_data"
    },
    {
     "data": {
      "application/vnd.jupyter.widget-view+json": {
       "model_id": "af7e0bdc86a1483fba448f9bdfc0cba3",
       "version_major": 2,
       "version_minor": 0
      },
      "text/plain": [
       "  0%|          | 0/466 [00:00<?, ?it/s]"
      ]
     },
     "metadata": {},
     "output_type": "display_data"
    },
    {
     "data": {
      "application/vnd.jupyter.widget-view+json": {
       "model_id": "ffd507f070d24d74aa8bef593c2c3c0c",
       "version_major": 2,
       "version_minor": 0
      },
      "text/plain": [
       "  0%|          | 0/466 [00:00<?, ?it/s]"
      ]
     },
     "metadata": {},
     "output_type": "display_data"
    },
    {
     "data": {
      "application/vnd.jupyter.widget-view+json": {
       "model_id": "6c7e2dbc2b4a4175bff557e747aaf28c",
       "version_major": 2,
       "version_minor": 0
      },
      "text/plain": [
       "  0%|          | 0/466 [00:00<?, ?it/s]"
      ]
     },
     "metadata": {},
     "output_type": "display_data"
    },
    {
     "data": {
      "application/vnd.jupyter.widget-view+json": {
       "model_id": "c08c7f8812db484f8b3f02687eb3059e",
       "version_major": 2,
       "version_minor": 0
      },
      "text/plain": [
       "  0%|          | 0/466 [00:00<?, ?it/s]"
      ]
     },
     "metadata": {},
     "output_type": "display_data"
    },
    {
     "data": {
      "application/vnd.jupyter.widget-view+json": {
       "model_id": "d4ba8133255f489dad7b4351d2d13a73",
       "version_major": 2,
       "version_minor": 0
      },
      "text/plain": [
       "  0%|          | 0/466 [00:00<?, ?it/s]"
      ]
     },
     "metadata": {},
     "output_type": "display_data"
    },
    {
     "data": {
      "application/vnd.jupyter.widget-view+json": {
       "model_id": "fddf1a65e3bf4c85bf79f314059ea0f4",
       "version_major": 2,
       "version_minor": 0
      },
      "text/plain": [
       "  0%|          | 0/466 [00:00<?, ?it/s]"
      ]
     },
     "metadata": {},
     "output_type": "display_data"
    },
    {
     "data": {
      "application/vnd.jupyter.widget-view+json": {
       "model_id": "24e60e38908044c6b8f5001a861277f0",
       "version_major": 2,
       "version_minor": 0
      },
      "text/plain": [
       "  0%|          | 0/466 [00:00<?, ?it/s]"
      ]
     },
     "metadata": {},
     "output_type": "display_data"
    },
    {
     "data": {
      "application/vnd.jupyter.widget-view+json": {
       "model_id": "38da412c4ed6430abf25e9aa8b3c0b2a",
       "version_major": 2,
       "version_minor": 0
      },
      "text/plain": [
       "  0%|          | 0/466 [00:00<?, ?it/s]"
      ]
     },
     "metadata": {},
     "output_type": "display_data"
    },
    {
     "data": {
      "application/vnd.jupyter.widget-view+json": {
       "model_id": "9299e681344841a3b42824a546b775f5",
       "version_major": 2,
       "version_minor": 0
      },
      "text/plain": [
       "  0%|          | 0/466 [00:00<?, ?it/s]"
      ]
     },
     "metadata": {},
     "output_type": "display_data"
    },
    {
     "data": {
      "application/vnd.jupyter.widget-view+json": {
       "model_id": "0432f0f8969a4d75af926ef46b565429",
       "version_major": 2,
       "version_minor": 0
      },
      "text/plain": [
       "  0%|          | 0/466 [00:00<?, ?it/s]"
      ]
     },
     "metadata": {},
     "output_type": "display_data"
    },
    {
     "data": {
      "application/vnd.jupyter.widget-view+json": {
       "model_id": "ba00ec2aaba746fa8c1b4939fb70f21c",
       "version_major": 2,
       "version_minor": 0
      },
      "text/plain": [
       "  0%|          | 0/466 [00:00<?, ?it/s]"
      ]
     },
     "metadata": {},
     "output_type": "display_data"
    },
    {
     "data": {
      "application/vnd.jupyter.widget-view+json": {
       "model_id": "73d00bc349fd40ce995ee290124b320d",
       "version_major": 2,
       "version_minor": 0
      },
      "text/plain": [
       "  0%|          | 0/466 [00:00<?, ?it/s]"
      ]
     },
     "metadata": {},
     "output_type": "display_data"
    },
    {
     "data": {
      "application/vnd.jupyter.widget-view+json": {
       "model_id": "4c1f7d9eea294edf9e67e9fba227042d",
       "version_major": 2,
       "version_minor": 0
      },
      "text/plain": [
       "  0%|          | 0/466 [00:00<?, ?it/s]"
      ]
     },
     "metadata": {},
     "output_type": "display_data"
    },
    {
     "name": "stdout",
     "output_type": "stream",
     "text": [
      "Examples\n",
      "\n",
      "1. 지루하다, 놀러가고 싶어.\n",
      "2. 오늘 일찍 일어났더니 피곤하다.\n",
      "3. 간만에 여자친구랑 데이트 하기로 했어.\n",
      "4. 집에 있는다는 소리야.\n",
      "\n",
      "Translations\n",
      "\n",
      "> 1. 많이 확실 한 의사 가 끝 의 의결 을 찾아보 세요 .\n",
      "> 2. 그만큼 많 은 남자 연인 를 좀 좋 은 첫날 이 에요 .\n",
      "> 3. 득템 했 구불구불 바랍니다 .\n",
      "> 4. 저 도 요 .\n",
      "\n",
      "\n",
      "Hyperparameters\n",
      "> n_layers : 2\n",
      "> d_model : 512\n",
      "> n_heads : 8\n",
      "> d_ff : 2048\n",
      "> dropout : 0.3\n",
      "\n",
      "Training Parameters\n",
      "> Warmup Steps : 4000\n",
      "> Batch Size : 64\n",
      "> Epoch At : 16\n"
     ]
    },
    {
     "data": {
      "application/vnd.jupyter.widget-view+json": {
       "model_id": "3defc883feae4ab7a8f44262d0235f4b",
       "version_major": 2,
       "version_minor": 0
      },
      "text/plain": [
       "  0%|          | 0/466 [00:00<?, ?it/s]"
      ]
     },
     "metadata": {},
     "output_type": "display_data"
    },
    {
     "name": "stdout",
     "output_type": "stream",
     "text": [
      "Examples\n",
      "\n",
      "1. 지루하다, 놀러가고 싶어.\n",
      "2. 오늘 일찍 일어났더니 피곤하다.\n",
      "3. 간만에 여자친구랑 데이트 하기로 했어.\n",
      "4. 집에 있는다는 소리야.\n",
      "\n",
      "Translations\n",
      "\n",
      "> 1. 이별 에 도 요 .\n",
      "> 2. 자연 스럽 도록 요 .\n",
      "> 3. 떨리 죠 .\n",
      "> 4. 대청소 를 해 보 세요 .\n",
      "\n",
      "\n",
      "Hyperparameters\n",
      "> n_layers : 2\n",
      "> d_model : 512\n",
      "> n_heads : 8\n",
      "> d_ff : 2048\n",
      "> dropout : 0.3\n",
      "\n",
      "Training Parameters\n",
      "> Warmup Steps : 4000\n",
      "> Batch Size : 64\n",
      "> Epoch At : 17\n"
     ]
    },
    {
     "data": {
      "application/vnd.jupyter.widget-view+json": {
       "model_id": "c11b0de39abd4a92ace98944864b1f32",
       "version_major": 2,
       "version_minor": 0
      },
      "text/plain": [
       "  0%|          | 0/466 [00:00<?, ?it/s]"
      ]
     },
     "metadata": {},
     "output_type": "display_data"
    },
    {
     "name": "stdout",
     "output_type": "stream",
     "text": [
      "Examples\n",
      "\n",
      "1. 지루하다, 놀러가고 싶어.\n",
      "2. 오늘 일찍 일어났더니 피곤하다.\n",
      "3. 간만에 여자친구랑 데이트 하기로 했어.\n",
      "4. 집에 있는다는 소리야.\n",
      "\n",
      "Translations\n",
      "\n",
      "> 1. 저 도 같 나요 .\n",
      "> 2. 푹 숀 세요 .\n",
      "> 3. 득템 했 길 바랍니다 .\n",
      "> 4. 대청소 를 해 보 네요 .\n",
      "\n",
      "\n",
      "Hyperparameters\n",
      "> n_layers : 2\n",
      "> d_model : 512\n",
      "> n_heads : 8\n",
      "> d_ff : 2048\n",
      "> dropout : 0.3\n",
      "\n",
      "Training Parameters\n",
      "> Warmup Steps : 4000\n",
      "> Batch Size : 64\n",
      "> Epoch At : 18\n"
     ]
    },
    {
     "data": {
      "application/vnd.jupyter.widget-view+json": {
       "model_id": "d5d4543dde8a4be883298b321fd185b3",
       "version_major": 2,
       "version_minor": 0
      },
      "text/plain": [
       "  0%|          | 0/466 [00:00<?, ?it/s]"
      ]
     },
     "metadata": {},
     "output_type": "display_data"
    },
    {
     "name": "stdout",
     "output_type": "stream",
     "text": [
      "Examples\n",
      "\n",
      "1. 지루하다, 놀러가고 싶어.\n",
      "2. 오늘 일찍 일어났더니 피곤하다.\n",
      "3. 간만에 여자친구랑 데이트 하기로 했어.\n",
      "4. 집에 있는다는 소리야.\n",
      "\n",
      "Translations\n",
      "\n",
      "> 1. 공부 는 꿈 과 같 아요 .\n",
      "> 2. 잠 이 최고 죠 .\n",
      "> 3. 휴식 도 필요 해요 .\n",
      "> 4. 알 기 에 젊은이 이 더 힘들 죠 .\n",
      "\n",
      "\n",
      "Hyperparameters\n",
      "> n_layers : 2\n",
      "> d_model : 512\n",
      "> n_heads : 8\n",
      "> d_ff : 2048\n",
      "> dropout : 0.3\n",
      "\n",
      "Training Parameters\n",
      "> Warmup Steps : 4000\n",
      "> Batch Size : 64\n",
      "> Epoch At : 19\n"
     ]
    },
    {
     "data": {
      "application/vnd.jupyter.widget-view+json": {
       "model_id": "405e668b6dd441dba9eb076ba2f1ecfa",
       "version_major": 2,
       "version_minor": 0
      },
      "text/plain": [
       "  0%|          | 0/466 [00:00<?, ?it/s]"
      ]
     },
     "metadata": {},
     "output_type": "display_data"
    },
    {
     "name": "stdout",
     "output_type": "stream",
     "text": [
      "Examples\n",
      "\n",
      "1. 지루하다, 놀러가고 싶어.\n",
      "2. 오늘 일찍 일어났더니 피곤하다.\n",
      "3. 간만에 여자친구랑 데이트 하기로 했어.\n",
      "4. 집에 있는다는 소리야.\n",
      "\n",
      "Translations\n",
      "\n",
      "> 1. 많이 답답 하 신가 봐요 .\n",
      "> 2. 푹 쉬 고 살 거 예요 .\n",
      "> 3. 좋 은 데이트 를 두 고 없 어요 .\n",
      "> 4. 준비 하 고 싶 네요 .\n",
      "\n",
      "\n",
      "Hyperparameters\n",
      "> n_layers : 2\n",
      "> d_model : 512\n",
      "> n_heads : 8\n",
      "> d_ff : 2048\n",
      "> dropout : 0.3\n",
      "\n",
      "Training Parameters\n",
      "> Warmup Steps : 4000\n",
      "> Batch Size : 64\n",
      "> Epoch At : 20\n"
     ]
    },
    {
     "data": {
      "application/vnd.jupyter.widget-view+json": {
       "model_id": "0a4bafdd815f467cbb1f8f8ff944dec0",
       "version_major": 2,
       "version_minor": 0
      },
      "text/plain": [
       "  0%|          | 0/466 [00:00<?, ?it/s]"
      ]
     },
     "metadata": {},
     "output_type": "display_data"
    },
    {
     "name": "stdout",
     "output_type": "stream",
     "text": [
      "Examples\n",
      "\n",
      "1. 지루하다, 놀러가고 싶어.\n",
      "2. 오늘 일찍 일어났더니 피곤하다.\n",
      "3. 간만에 여자친구랑 데이트 하기로 했어.\n",
      "4. 집에 있는다는 소리야.\n",
      "\n",
      "Translations\n",
      "\n",
      "> 1. 저 가 있 을 거 예요 .\n",
      "> 2. 술 한잔 에 답 이 날 거 예요 .\n",
      "> 3. 떨리 죠 .\n",
      "> 4. 예상 를 알 아 는 건 어떨까 요 .\n",
      "\n",
      "\n",
      "Hyperparameters\n",
      "> n_layers : 2\n",
      "> d_model : 512\n",
      "> n_heads : 8\n",
      "> d_ff : 2048\n",
      "> dropout : 0.3\n",
      "\n",
      "Training Parameters\n",
      "> Warmup Steps : 4000\n",
      "> Batch Size : 64\n",
      "> Epoch At : 21\n"
     ]
    },
    {
     "data": {
      "application/vnd.jupyter.widget-view+json": {
       "model_id": "c553c61a75a14272a0c10186ff709df3",
       "version_major": 2,
       "version_minor": 0
      },
      "text/plain": [
       "  0%|          | 0/466 [00:00<?, ?it/s]"
      ]
     },
     "metadata": {},
     "output_type": "display_data"
    },
    {
     "name": "stdout",
     "output_type": "stream",
     "text": [
      "Examples\n",
      "\n",
      "1. 지루하다, 놀러가고 싶어.\n",
      "2. 오늘 일찍 일어났더니 피곤하다.\n",
      "3. 간만에 여자친구랑 데이트 하기로 했어.\n",
      "4. 집에 있는다는 소리야.\n",
      "\n",
      "Translations\n",
      "\n",
      "> 1. 공부 열심히 하 고 신청 해 보 세요 .\n",
      "> 2. 푹 쉬 세요 .\n",
      "> 3. 좋 은 데이트 좋 은데요 .\n",
      "> 4. 쉽 지 않 은 일 이 있 나 봐요 .\n",
      "\n",
      "\n",
      "Hyperparameters\n",
      "> n_layers : 2\n",
      "> d_model : 512\n",
      "> n_heads : 8\n",
      "> d_ff : 2048\n",
      "> dropout : 0.3\n",
      "\n",
      "Training Parameters\n",
      "> Warmup Steps : 4000\n",
      "> Batch Size : 64\n",
      "> Epoch At : 22\n"
     ]
    },
    {
     "data": {
      "application/vnd.jupyter.widget-view+json": {
       "model_id": "b18b942608cd4271a5d2a42485a0bd6c",
       "version_major": 2,
       "version_minor": 0
      },
      "text/plain": [
       "  0%|          | 0/466 [00:00<?, ?it/s]"
      ]
     },
     "metadata": {},
     "output_type": "display_data"
    },
    {
     "name": "stdout",
     "output_type": "stream",
     "text": [
      "Examples\n",
      "\n",
      "1. 지루하다, 놀러가고 싶어.\n",
      "2. 오늘 일찍 일어났더니 피곤하다.\n",
      "3. 간만에 여자친구랑 데이트 하기로 했어.\n",
      "4. 집에 있는다는 소리야.\n",
      "\n",
      "Translations\n",
      "\n",
      "> 1. 많이 답답 한가요 는데\n",
      "> 2. 잠 이 최고 죠 .\n",
      "> 3. 떨리 네요 .\n",
      "> 4. 나 한테 기대 ㅂ시오 .\n",
      "\n",
      "\n",
      "Hyperparameters\n",
      "> n_layers : 2\n",
      "> d_model : 512\n",
      "> n_heads : 8\n",
      "> d_ff : 2048\n",
      "> dropout : 0.3\n",
      "\n",
      "Training Parameters\n",
      "> Warmup Steps : 4000\n",
      "> Batch Size : 64\n",
      "> Epoch At : 23\n"
     ]
    },
    {
     "data": {
      "application/vnd.jupyter.widget-view+json": {
       "model_id": "a4acac3746b6430dab13c1f01dac97d5",
       "version_major": 2,
       "version_minor": 0
      },
      "text/plain": [
       "  0%|          | 0/466 [00:00<?, ?it/s]"
      ]
     },
     "metadata": {},
     "output_type": "display_data"
    },
    {
     "name": "stdout",
     "output_type": "stream",
     "text": [
      "Examples\n",
      "\n",
      "1. 지루하다, 놀러가고 싶어.\n",
      "2. 오늘 일찍 일어났더니 피곤하다.\n",
      "3. 간만에 여자친구랑 데이트 하기로 했어.\n",
      "4. 집에 있는다는 소리야.\n",
      "\n",
      "Translations\n",
      "\n",
      "> 1. 저 도 월 과 이 에 대한 이야기 를 해 보 세요 .\n",
      "> 2. 푹 쉬 고 을지 도 몰르 겠 어요 .\n",
      "> 3. 점심 에 데이트 나 봐요 .\n",
      "> 4. 저 도 안 좋 아 질 거 예요 .\n",
      "\n",
      "\n",
      "Hyperparameters\n",
      "> n_layers : 2\n",
      "> d_model : 512\n",
      "> n_heads : 8\n",
      "> d_ff : 2048\n",
      "> dropout : 0.3\n",
      "\n",
      "Training Parameters\n",
      "> Warmup Steps : 4000\n",
      "> Batch Size : 64\n",
      "> Epoch At : 24\n"
     ]
    },
    {
     "data": {
      "application/vnd.jupyter.widget-view+json": {
       "model_id": "e770104f750f4b9da4840743ce2bdf22",
       "version_major": 2,
       "version_minor": 0
      },
      "text/plain": [
       "  0%|          | 0/466 [00:00<?, ?it/s]"
      ]
     },
     "metadata": {},
     "output_type": "display_data"
    },
    {
     "name": "stdout",
     "output_type": "stream",
     "text": [
      "Examples\n",
      "\n",
      "1. 지루하다, 놀러가고 싶어.\n",
      "2. 오늘 일찍 일어났더니 피곤하다.\n",
      "3. 간만에 여자친구랑 데이트 하기로 했어.\n",
      "4. 집에 있는다는 소리야.\n",
      "\n",
      "Translations\n",
      "\n",
      "> 1. 저 는 마음 이 글 로 해 보 세요 .\n",
      "> 2. 그런 순간 이 올 거 예요 .\n",
      "> 3. 떨리 겠 어요 .\n",
      "> 4. 쉽 지 않 을 때 지만 시간 이 해결 해 줄 거 예요 .\n",
      "\n",
      "\n",
      "Hyperparameters\n",
      "> n_layers : 2\n",
      "> d_model : 512\n",
      "> n_heads : 8\n",
      "> d_ff : 2048\n",
      "> dropout : 0.3\n",
      "\n",
      "Training Parameters\n",
      "> Warmup Steps : 4000\n",
      "> Batch Size : 64\n",
      "> Epoch At : 25\n"
     ]
    },
    {
     "data": {
      "application/vnd.jupyter.widget-view+json": {
       "model_id": "2e6afa2222f5469ea2a5115527e8e0b4",
       "version_major": 2,
       "version_minor": 0
      },
      "text/plain": [
       "  0%|          | 0/466 [00:00<?, ?it/s]"
      ]
     },
     "metadata": {},
     "output_type": "display_data"
    },
    {
     "name": "stdout",
     "output_type": "stream",
     "text": [
      "Examples\n",
      "\n",
      "1. 지루하다, 놀러가고 싶어.\n",
      "2. 오늘 일찍 일어났더니 피곤하다.\n",
      "3. 간만에 여자친구랑 데이트 하기로 했어.\n",
      "4. 집에 있는다는 소리야.\n",
      "\n",
      "Translations\n",
      "\n",
      "> 1. 저 블 랑 같이 놀 은데요 .\n",
      "> 2. 푹 숀 나 봐요 .\n",
      "> 3. 휴식 을 취해 보 세요 .\n",
      "> 4. 쉽 지 않 죠 .\n",
      "\n",
      "\n",
      "Hyperparameters\n",
      "> n_layers : 2\n",
      "> d_model : 512\n",
      "> n_heads : 8\n",
      "> d_ff : 2048\n",
      "> dropout : 0.3\n",
      "\n",
      "Training Parameters\n",
      "> Warmup Steps : 4000\n",
      "> Batch Size : 64\n",
      "> Epoch At : 26\n"
     ]
    },
    {
     "data": {
      "application/vnd.jupyter.widget-view+json": {
       "model_id": "564b5c750f164061bcda1d1a0871468f",
       "version_major": 2,
       "version_minor": 0
      },
      "text/plain": [
       "  0%|          | 0/466 [00:00<?, ?it/s]"
      ]
     },
     "metadata": {},
     "output_type": "display_data"
    },
    {
     "name": "stdout",
     "output_type": "stream",
     "text": [
      "Examples\n",
      "\n",
      "1. 지루하다, 놀러가고 싶어.\n",
      "2. 오늘 일찍 일어났더니 피곤하다.\n",
      "3. 간만에 여자친구랑 데이트 하기로 했어.\n",
      "4. 집에 있는다는 소리야.\n",
      "\n",
      "Translations\n",
      "\n",
      "> 1. 저 는 바람 쉬 어도 돼요 .\n",
      "> 2. 푹 쉬 고 좀 더 일찍 주무세요 .\n",
      "> 3. 득템 해 의 보 세요 .\n",
      "> 4. 쉽 게 나 아 지 않 을 때 를 일 것 예요 .\n",
      "\n",
      "\n",
      "Hyperparameters\n",
      "> n_layers : 2\n",
      "> d_model : 512\n",
      "> n_heads : 8\n",
      "> d_ff : 2048\n",
      "> dropout : 0.3\n",
      "\n",
      "Training Parameters\n",
      "> Warmup Steps : 4000\n",
      "> Batch Size : 64\n",
      "> Epoch At : 27\n"
     ]
    },
    {
     "data": {
      "application/vnd.jupyter.widget-view+json": {
       "model_id": "31df695262b043b7bce373f2fc2464e5",
       "version_major": 2,
       "version_minor": 0
      },
      "text/plain": [
       "  0%|          | 0/466 [00:00<?, ?it/s]"
      ]
     },
     "metadata": {},
     "output_type": "display_data"
    },
    {
     "name": "stdout",
     "output_type": "stream",
     "text": [
      "Examples\n",
      "\n",
      "1. 지루하다, 놀러가고 싶어.\n",
      "2. 오늘 일찍 일어났더니 피곤하다.\n",
      "3. 간만에 여자친구랑 데이트 하기로 했어.\n",
      "4. 집에 있는다는 소리야.\n",
      "\n",
      "Translations\n",
      "\n",
      "> 1. 많이 답답 한가요 .\n",
      "> 2. 자연 스럽 게 데이트 오자키 .\n",
      "> 3. 휴식 을 취해 보 세요 .\n",
      "> 4. 쉽 지 않 은 일 이 죠 .\n",
      "\n",
      "\n",
      "Hyperparameters\n",
      "> n_layers : 2\n",
      "> d_model : 512\n",
      "> n_heads : 8\n",
      "> d_ff : 2048\n",
      "> dropout : 0.3\n",
      "\n",
      "Training Parameters\n",
      "> Warmup Steps : 4000\n",
      "> Batch Size : 64\n",
      "> Epoch At : 28\n"
     ]
    },
    {
     "data": {
      "application/vnd.jupyter.widget-view+json": {
       "model_id": "b38405b9d74044d082ce67587febb183",
       "version_major": 2,
       "version_minor": 0
      },
      "text/plain": [
       "  0%|          | 0/466 [00:00<?, ?it/s]"
      ]
     },
     "metadata": {},
     "output_type": "display_data"
    },
    {
     "name": "stdout",
     "output_type": "stream",
     "text": [
      "Examples\n",
      "\n",
      "1. 지루하다, 놀러가고 싶어.\n",
      "2. 오늘 일찍 일어났더니 피곤하다.\n",
      "3. 간만에 여자친구랑 데이트 하기로 했어.\n",
      "4. 집에 있는다는 소리야.\n",
      "\n",
      "Translations\n",
      "\n",
      "> 1. 저 블 랑 같이 살 아요 .\n",
      "> 2. 자연 스럽 게 좀 더 조심 이 었 나 봐요 .\n",
      "> 3. 점심 의 사랑 에 따라 다른 모습 을 보여 주 세요 .\n",
      "> 4. 쉽 지 않 은 일 이 길 바랍니다 .\n",
      "\n",
      "\n",
      "Hyperparameters\n",
      "> n_layers : 2\n",
      "> d_model : 512\n",
      "> n_heads : 8\n",
      "> d_ff : 2048\n",
      "> dropout : 0.3\n",
      "\n",
      "Training Parameters\n",
      "> Warmup Steps : 4000\n",
      "> Batch Size : 64\n",
      "> Epoch At : 29\n"
     ]
    },
    {
     "data": {
      "application/vnd.jupyter.widget-view+json": {
       "model_id": "9156a7d492704958b96af24aac786e3e",
       "version_major": 2,
       "version_minor": 0
      },
      "text/plain": [
       "  0%|          | 0/466 [00:00<?, ?it/s]"
      ]
     },
     "metadata": {},
     "output_type": "display_data"
    },
    {
     "name": "stdout",
     "output_type": "stream",
     "text": [
      "Examples\n",
      "\n",
      "1. 지루하다, 놀러가고 싶어.\n",
      "2. 오늘 일찍 일어났더니 피곤하다.\n",
      "3. 간만에 여자친구랑 데이트 하기로 했어.\n",
      "4. 집에 있는다는 소리야.\n",
      "\n",
      "Translations\n",
      "\n",
      "> 1. 저 ㄴ 다 는 어때요 ?\n",
      "> 2. 자연 스럽 게 울 어도 괜찮 아 질 거 예요 .\n",
      "> 3. 휴식 때문 필요 하 죠 .\n",
      "> 4. 쉽 지 않 은 일 이 죠 .\n",
      "\n",
      "\n",
      "Hyperparameters\n",
      "> n_layers : 2\n",
      "> d_model : 512\n",
      "> n_heads : 8\n",
      "> d_ff : 2048\n",
      "> dropout : 0.3\n",
      "\n",
      "Training Parameters\n",
      "> Warmup Steps : 4000\n",
      "> Batch Size : 64\n",
      "> Epoch At : 30\n"
     ]
    }
   ],
   "source": [
    "# 학습\n",
    "from tqdm import tqdm_notebook \n",
    "\n",
    "\n",
    "examples = [\n",
    "            \"지루하다, 놀러가고 싶어.\",\n",
    "            \"오늘 일찍 일어났더니 피곤하다.\",\n",
    "            \"간만에 여자친구랑 데이트 하기로 했어.\",\n",
    "            \"집에 있는다는 소리야.\"\n",
    "]\n",
    "\n",
    "for epoch in range(EPOCHS):\n",
    "    total_loss = 0\n",
    "    \n",
    "    idx_list = list(range(0, enc_train.shape[0], BATCH_SIZE))\n",
    "    random.shuffle(idx_list)\n",
    "    t = tqdm_notebook(idx_list)\n",
    "\n",
    "    for (batch, idx) in enumerate(t):\n",
    "        batch_loss, enc_attns, dec_attns, dec_enc_attns = \\\n",
    "        train_step(enc_train[idx:idx+BATCH_SIZE],\n",
    "                   dec_train[idx:idx+BATCH_SIZE],\n",
    "                   transformer, optimizer)\n",
    "\n",
    "        total_loss += batch_loss\n",
    "        \n",
    "        t.set_description_str('Epoch %2d' % (epoch + 1))\n",
    "        t.set_postfix_str('Loss %.4f' % (total_loss.numpy() / (batch + 1)))\n",
    "\n",
    "    ## 15 epoch 이후부터 출력\n",
    "    ## 그전 데이터들은 결과물이 좋지 못하다.\n",
    "    if (epoch < 15):\n",
    "        continue\n",
    "    \n",
    "    buff_exam = \"\"\n",
    "    buff_tran = \"\"\n",
    "    \n",
    "    for i, example in enumerate(examples, start=1):\n",
    "        buff_exam += str(i) + \". \" + example + \"\\n\"\n",
    "        buff_tran += \"> \" + str(i)+\". \" + translate(\n",
    "            example, transformer, tok, tok, minimal=True) + \"\\n\"\n",
    "        \n",
    "    print(\"Examples\")\n",
    "    print()\n",
    "    print(buff_exam)\n",
    "    \n",
    "    print(\"Translations\")\n",
    "    print()\n",
    "    print(buff_tran)\n",
    "    \n",
    "    print()\n",
    "    print(\"Hyperparameters\")\n",
    "    print(\"> \" + \"n_layers :\", str(n_layers))\n",
    "    print(\"> \" + \"d_model :\", str(d_model))\n",
    "    print(\"> \" + \"n_heads :\", str(n_heads))\n",
    "    print(\"> \" + \"d_ff :\", str(d_ff))\n",
    "    print(\"> \" + \"dropout :\", str(dropout))\n",
    "    print()\n",
    "    \n",
    "    print(\"Training Parameters\")\n",
    "    print(\"> \" + \"Warmup Steps :\", str(warmup_steps))\n",
    "    print(\"> \" + \"Batch Size :\", str(batch_size))\n",
    "    print(\"> \" + \"Epoch At :\", str(epoch + 1))"
   ]
  },
  {
   "cell_type": "markdown",
   "id": "6a778039",
   "metadata": {},
   "source": [
    "&nbsp;"
   ]
  },
  {
   "cell_type": "markdown",
   "id": "29649da9",
   "metadata": {},
   "source": [
    "모델의 훈련을 반복하면서, 예문에 대한 답변을 생성하고 어느정도 출력해보았다.\n",
    "\n",
    "그나마 가장 멋진 답변과 모델의 하이퍼파라미터는 아래와 같다."
   ]
  },
  {
   "attachments": {
    "result_b01.png": {
     "image/png": "[encoded data removed]"
    }
   },
   "cell_type": "markdown",
   "id": "934641b8",
   "metadata": {},
   "source": [
    "![result_b01.png](attachment:result_b01.png)"
   ]
  },
  {
   "cell_type": "markdown",
   "id": "a334f926",
   "metadata": {},
   "source": [
    "이번에도 그다지 만족스럽지 못한 결과이다.\n",
    "\n",
    "형태소분석기와 데이터증강의 콤비네이션에 발목잡힌 느낌이다.\n",
    "\n",
    "1. 의 맨 끝에 ＂는데＂라는 것은 데이터 증강 과정에서 생성된 단어라서, 잘 되긴 한데 완벽한 느낌은 아니라서 아깝다.\n",
    "\n",
    "2. 의 경우는 그럭저럭 괜찮은 답변이다.\n",
    "\n",
    "3. 의 경우는 떨리 네요… 뭐 괜찮은 답변인데, 증강하면서 삭제가 되기 전의 단어는 ＂떨리겠네요.＂ 일거라 예상된다.\n",
    "\n",
    "4. 의 경우는 망한 답변이라고 생각된다."
   ]
  },
  {
   "cell_type": "markdown",
   "id": "cee995ef",
   "metadata": {},
   "source": [
    "&nbsp;"
   ]
  },
  {
   "cell_type": "markdown",
   "id": "3c7c2c66",
   "metadata": {},
   "source": [
    "### Step 7. 성능 측정하기\n",
    "\n",
    "<hr>"
   ]
  },
  {
   "cell_type": "markdown",
   "id": "aff3a98a",
   "metadata": {},
   "source": [
    "챗봇의 경우, 올바른 대답을 하는지가 중요한 평가 지표입니다. 올바른 답변을 하는지 눈으로 확인할 수 있겠지만, 많은 데이터의 경우는 모든 결과를 확인할 수 없을 것입니다. 주어진 질문에 적절한 답변을 하는지 확인하고, BLEU Score를 계산하는 `calculate_bleu()` 함수도 적용해 보세요.\n",
    "\n",
    "\n"
   ]
  },
  {
   "cell_type": "markdown",
   "id": "85b76f5e",
   "metadata": {},
   "source": [
    "&nbsp;"
   ]
  },
  {
   "cell_type": "markdown",
   "id": "44766d59",
   "metadata": {},
   "source": [
    "각 단어의 확률값을 계산하는 calc_prob() 함수를 구현한다."
   ]
  },
  {
   "cell_type": "code",
   "execution_count": 82,
   "id": "eb27d793",
   "metadata": {},
   "outputs": [
    {
     "name": "stdout",
     "output_type": "stream",
     "text": [
      "✔️\n"
     ]
    }
   ],
   "source": [
    "# calc_prob() 구현\n",
    "def calc_prob(src_ids, tgt_ids, model):\n",
    "    enc_padding_mask, combined_mask, dec_padding_mask = \\\n",
    "    generate_masks(src_ids, tgt_ids)\n",
    "\n",
    "    predictions, enc_attns, dec_attns, dec_enc_attns = \\\n",
    "    model(src_ids, tgt_ids, enc_padding_mask, combined_mask, dec_padding_mask)\n",
    "            \n",
    "    return tf.math.softmax(predictions, axis=-1)\n",
    "print(\"✔️\")"
   ]
  },
  {
   "cell_type": "markdown",
   "id": "895030c8",
   "metadata": {},
   "source": [
    "beam_search_decoder()는 Beam Search를 기반으로 동작한다."
   ]
  },
  {
   "cell_type": "code",
   "execution_count": 99,
   "id": "b9d76224",
   "metadata": {},
   "outputs": [],
   "source": [
    "def beam_search_decoder(\n",
    "    sentence, src_len, tgt_len, model, \n",
    "    src_tokenizer, tgt_tokenizer, beam_size):\n",
    "    \n",
    "    ## 추가\n",
    "    sentence = preprocess_sentence(sentence)    \n",
    "    pieces = mecab.morphs(sentence)\n",
    "    \n",
    "    \n",
    "#     tokens = src_tokenizer.encode_as_ids(sentence)\n",
    "    tokens = []\n",
    "    for s in pieces:\n",
    "        tokens.append(src_tokenizer.word_index[s])\n",
    "        \n",
    "    \n",
    "    src_in = tf.keras.preprocessing.sequence.pad_sequences(\n",
    "        [tokens], maxlen=src_len, padding='post')\n",
    "\n",
    "    pred_cache = np.zeros((beam_size * beam_size, tgt_len), dtype=np.int64)\n",
    "    pred_tmp = np.zeros((beam_size, tgt_len), dtype=np.int64)\n",
    "\n",
    "    eos_flag = np.zeros((beam_size, ), dtype=np.int64)\n",
    "    scores = np.ones((beam_size, ))\n",
    "\n",
    "#     pred_tmp[:, 0] = tgt_tokenizer.bos_id()\n",
    "    pred_tmp[:, 0] = src_tokenizer.word_index[\"<start>\"]\n",
    "\n",
    "    dec_in = tf.expand_dims(pred_tmp[0, :1], 0)\n",
    "    prob = calc_prob(src_in, dec_in, model)[0, -1].numpy()\n",
    "\n",
    "    for seq_pos in range(1, tgt_len):\n",
    "        score_cache = np.ones((beam_size * beam_size, ))\n",
    "\n",
    "        # init\n",
    "        for branch_idx in range(beam_size):\n",
    "            cache_pos = branch_idx*beam_size\n",
    "\n",
    "            score_cache[cache_pos:cache_pos+beam_size] = scores[branch_idx]\n",
    "            pred_cache[cache_pos:cache_pos+beam_size, :seq_pos] = \\\n",
    "            pred_tmp[branch_idx, :seq_pos]\n",
    "\n",
    "        for branch_idx in range(beam_size):\n",
    "            cache_pos = branch_idx*beam_size\n",
    "\n",
    "            if seq_pos != 1:   # 모든 Branch를 로 시작하는 경우를 방지\n",
    "                dec_in = pred_cache[branch_idx, :seq_pos]\n",
    "                dec_in = tf.expand_dims(dec_in, 0)\n",
    "\n",
    "                prob = calc_prob(src_in, dec_in, model)[0, -1].numpy()\n",
    "\n",
    "            for beam_idx in range(beam_size):\n",
    "                max_idx = np.argmax(prob)\n",
    "\n",
    "                score_cache[cache_pos+beam_idx] *= prob[max_idx]\n",
    "                pred_cache[cache_pos+beam_idx, seq_pos] = max_idx\n",
    "\n",
    "                prob[max_idx] = -1\n",
    "\n",
    "        for beam_idx in range(beam_size):\n",
    "            if eos_flag[beam_idx] == -1: continue\n",
    "\n",
    "            max_idx = np.argmax(score_cache)\n",
    "            prediction = pred_cache[max_idx, :seq_pos+1]\n",
    "\n",
    "            pred_tmp[beam_idx, :seq_pos+1] = prediction\n",
    "            scores[beam_idx] = score_cache[max_idx]\n",
    "            score_cache[max_idx] = -1\n",
    "\n",
    "#             if prediction[-1] == tgt_tokenizer.eos_id():\n",
    "            if prediction[-1] == tgt_tokenizer.word_index[\"<end>\"]:\n",
    "                eos_flag[beam_idx] = -1\n",
    "\n",
    "    pred = []\n",
    "    for long_pred in pred_tmp:\n",
    "#         zero_idx = long_pred.tolist().index(tgt_tokenizer.eos_id())\n",
    "        zero_idx = long_pred.tolist().index(tgt_tokenizer.word_index[\"<end>\"])\n",
    "        short_pred = long_pred[:zero_idx+1]\n",
    "        pred.append(short_pred)\n",
    "    return pred"
   ]
  },
  {
   "cell_type": "markdown",
   "id": "598b249e",
   "metadata": {},
   "source": [
    "BLEU 계산 함수"
   ]
  },
  {
   "cell_type": "code",
   "execution_count": 100,
   "id": "9bf27987",
   "metadata": {},
   "outputs": [
    {
     "name": "stdout",
     "output_type": "stream",
     "text": [
      "✔️\n"
     ]
    }
   ],
   "source": [
    "def calculate_bleu(reference, candidate, weights=[0.25, 0.25, 0.25, 0.25]):\n",
    "    return sentence_bleu(\n",
    "        [reference],\n",
    "        candidate,\n",
    "        weights=weights,\n",
    "        smoothing_function=SmoothingFunction().method1)\n",
    "\n",
    "print(\"✔️\")"
   ]
  },
  {
   "cell_type": "markdown",
   "id": "c32fa0f3",
   "metadata": {},
   "source": [
    " beam_bleu()는 생성된 문장에 대한 BLEU Score를 계산해 출력한다."
   ]
  },
  {
   "cell_type": "code",
   "execution_count": 120,
   "id": "4cc3b788",
   "metadata": {},
   "outputs": [],
   "source": [
    "def beam_bleu(reference, ids, tokenizer):\n",
    "    reference = reference.split()\n",
    "\n",
    "    total_score = 0.0\n",
    "    \n",
    "    for _id in ids:\n",
    "#         candidate = tokenizer.decode_ids(_id.tolist()).split()\n",
    "#         print(\"_id :\", _id) \n",
    "#         ## _id : [  2 196   6  19 227  92 184 345 398   1   3]\n",
    "#         print(\"_id.tolist() :\", _id.tolist())    \n",
    "#         ## _id.tolist() : [2, 196, 6, 19, 227, 92, 184, 345, 398, 1, 3]\n",
    "        candidate = [tokenizer.index_word[i] for i in _id.tolist()]\n",
    "    \n",
    "        ## 추가 start, end 토큰 제거\n",
    "        candidate = candidate[1:-1] \n",
    "        \n",
    "        score = calculate_bleu(reference, candidate)\n",
    "\n",
    "        print(\"Reference:\", reference)\n",
    "        print(\"Candidate:\", candidate)\n",
    "        print(\"BLEU:\", round(calculate_bleu(reference, candidate), 4))\n",
    "\n",
    "        total_score += score\n",
    "        \n",
    "    return total_score / len(ids)"
   ]
  },
  {
   "cell_type": "markdown",
   "id": "c5dc1270",
   "metadata": {},
   "source": [
    "구현 후 아래와 같이 사용한다."
   ]
  },
  {
   "cell_type": "code",
   "execution_count": 89,
   "id": "2a432fbb",
   "metadata": {},
   "outputs": [
    {
     "name": "stdout",
     "output_type": "stream",
     "text": [
      "df_test.shape (150, 3)\n"
     ]
    },
    {
     "data": {
      "text/html": [
       "<div>\n",
       "<style scoped>\n",
       "    .dataframe tbody tr th:only-of-type {\n",
       "        vertical-align: middle;\n",
       "    }\n",
       "\n",
       "    .dataframe tbody tr th {\n",
       "        vertical-align: top;\n",
       "    }\n",
       "\n",
       "    .dataframe thead th {\n",
       "        text-align: right;\n",
       "    }\n",
       "</style>\n",
       "<table border=\"1\" class=\"dataframe\">\n",
       "  <thead>\n",
       "    <tr style=\"text-align: right;\">\n",
       "      <th></th>\n",
       "      <th>index</th>\n",
       "      <th>questions</th>\n",
       "      <th>answers</th>\n",
       "    </tr>\n",
       "  </thead>\n",
       "  <tbody>\n",
       "    <tr>\n",
       "      <th>16202</th>\n",
       "      <td>16223</td>\n",
       "      <td>그렇게 오래 살 았 는데 때문 파악 를 못 하 겠 어</td>\n",
       "      <td>온전 한 파악 는 없 어요 는데</td>\n",
       "    </tr>\n",
       "    <tr>\n",
       "      <th>1179</th>\n",
       "      <td>1181</td>\n",
       "      <td>여자 친구 가 사진 을 너무 많이 찍 어 .</td>\n",
       "      <td>예쁘 게 많이 찍 어 주 세요 .</td>\n",
       "    </tr>\n",
       "    <tr>\n",
       "      <th>16087</th>\n",
       "      <td>16108</td>\n",
       "      <td>후폭풍 이 올까 두려운 데 는데 !</td>\n",
       "      <td>그냥 지금 우세요 .</td>\n",
       "    </tr>\n",
       "    <tr>\n",
       "      <th>24779</th>\n",
       "      <td>24811</td>\n",
       "      <td>그러 별후 6 개월</td>\n",
       "      <td>많 은 변화 가 뒤잇 었 겠 죠 는데</td>\n",
       "    </tr>\n",
       "    <tr>\n",
       "      <th>3661</th>\n",
       "      <td>3663</td>\n",
       "      <td>아직 도 널 감싸 는 내 가 싫 다 .</td>\n",
       "      <td>자신 도 따뜻 하 게 감싸 주 세요 .</td>\n",
       "    </tr>\n",
       "  </tbody>\n",
       "</table>\n",
       "</div>"
      ],
      "text/plain": [
       "       index                      questions                answers\n",
       "16202  16223  그렇게 오래 살 았 는데 때문 파악 를 못 하 겠 어      온전 한 파악 는 없 어요 는데\n",
       "1179    1181       여자 친구 가 사진 을 너무 많이 찍 어 .     예쁘 게 많이 찍 어 주 세요 .\n",
       "16087  16108            후폭풍 이 올까 두려운 데 는데 !            그냥 지금 우세요 .\n",
       "24779  24811                     그러 별후 6 개월   많 은 변화 가 뒤잇 었 겠 죠 는데\n",
       "3661    3663          아직 도 널 감싸 는 내 가 싫 다 .  자신 도 따뜻 하 게 감싸 주 세요 ."
      ]
     },
     "execution_count": 89,
     "metadata": {},
     "output_type": "execute_result"
    }
   ],
   "source": [
    "print(\"df_test.shape\", df_test.shape)\n",
    "df_test.sample(5)\n"
   ]
  },
  {
   "cell_type": "code",
   "execution_count": 90,
   "id": "37997b4d",
   "metadata": {},
   "outputs": [],
   "source": [
    "enc_test = list(df_test[\"questions\"])\n",
    "dec_test = list(df_test[\"answers\"])"
   ]
  },
  {
   "cell_type": "markdown",
   "id": "bad36e86",
   "metadata": {},
   "source": [
    "지금까지의 내용을 정리하여 print_blue_score 로 묶어 놓았다.\n",
    "\n",
    "샘플로 몇개 출력해 보기 위한 용도로 매개변수 헷갈리지 않도록 인덱스만 넣어 사용하도록 정리했다.\n",
    "\n",
    "Beam Size의 경우. **`5`** 라고 가정하면…\n",
    "\n",
    "1. 맨 첫 단어로 적합한 5개의 단어를 생성하고, 두 번째 단어로 각 첫 단어(5개 단어)에 대해<br>\n",
    " 5순위까지 확률을 구하여 총 25개의 문장을 생성. \n",
    "\n",
    "\n",
    "2. 그 25개의 문장들은 각 단어에 할당된 확률을 곱하여 구한 점수(존재 확률) 를 가지고<br>\n",
    " 각각의 순위를 매겨 점수 상위 5개의 표본만 세 번째 단어를 구할 자격을 얻게 된다.\n",
    "\n",
    "\n",
    "3. 반복하면 최종적으로 점수가 가장 높은 5개의 문장을 얻게 된다."
   ]
  },
  {
   "cell_type": "code",
   "execution_count": 126,
   "id": "bc95c6c8",
   "metadata": {
    "scrolled": true
   },
   "outputs": [
    {
     "name": "stdout",
     "output_type": "stream",
     "text": [
      "Reference: ['친구', '와', '썸', '의', '중간', '인', '거', '같', '아요', '는데']\n",
      "Candidate: ['친구', '와', '썸', '의', '중간', '인', '거', '같', '아요', '.']\n",
      "BLEU: 0.8801\n",
      "Reference: ['친구', '와', '썸', '의', '중간', '인', '거', '같', '아요', '는데']\n",
      "Candidate: ['친구', '와', '썸', '의', '중간', '인', '거', '똑같', '아요', '.']\n",
      "BLEU: 0.6606\n",
      "Reference: ['친구', '와', '썸', '의', '중간', '인', '거', '같', '아요', '는데']\n",
      "Candidate: ['친구', '와', '썸', '의', '중간', '인', '거', '같', '아요', '는데']\n",
      "BLEU: 1.0\n",
      "Reference: ['친구', '와', '썸', '의', '중간', '인', '거', '같', '아요', '는데']\n",
      "Candidate: ['친구', '와', '썸', '의', '중간', '인', '거', '똑같', '아요', '는데']\n",
      "BLEU: 0.7071\n",
      "Reference: ['친구', '와', '썸', '의', '중간', '인', '거', '같', '아요', '는데']\n",
      "Candidate: ['친구', '와', '썸', '의', '중간', '인', '걸요', '같', '아요', '.']\n",
      "BLEU: 0.5814\n",
      "TOTAL BLEU score : 0.766\n"
     ]
    }
   ],
   "source": [
    "# 인덱스를 바꿔가며 확인해 보세요\n",
    "test_idx = 123\n",
    "\n",
    "def print_blue_score(test_idx):\n",
    "    ## ①：디코더에 입력을 넣으면 문장이 생성된다.\n",
    "    ids = beam_search_decoder(\n",
    "    #     test_eng_sentences[test_idx],\n",
    "        enc_test[test_idx],  ## ◆ enc_test\n",
    "        MAX_TOK_LEN,\n",
    "        MAX_TOK_LEN,\n",
    "        transformer,  ## model\n",
    "        tok,\n",
    "        tok,\n",
    "        beam_size=5)    ## beam_size \n",
    "\n",
    "    ## ②：레퍼런스(test 셋의 target)와 ① 에서 생성된 후보들을 비교\n",
    "    bleu = beam_bleu(dec_test[test_idx], ids, tok)  ## ◆ dec_test, ids\n",
    "    print(\"TOTAL BLEU score :\", round(bleu, 3))\n",
    "\n",
    "    \n",
    "print_blue_score(test_idx)"
   ]
  },
  {
   "cell_type": "code",
   "execution_count": 124,
   "id": "017c9609",
   "metadata": {},
   "outputs": [
    {
     "name": "stdout",
     "output_type": "stream",
     "text": [
      "Reference: ['오늘', '주식회사', '가', '기', '싫', '은가', '봐요', '.']\n",
      "Candidate: ['오늘', '회사', '가', '기', '싫', '은가', '봐요', '.']\n",
      "BLEU: 0.7071\n",
      "Reference: ['오늘', '주식회사', '가', '기', '싫', '은가', '봐요', '.']\n",
      "Candidate: ['오늘', '회사', '가', '싫', '싫', '은가', '봐요', '.']\n",
      "BLEU: 0.3826\n",
      "Reference: ['오늘', '주식회사', '가', '기', '싫', '은가', '봐요', '.']\n",
      "Candidate: ['오늘', '회사', '싫', '기', '싫', '은가', '봐요', '.']\n",
      "BLEU: 0.5411\n",
      "Reference: ['오늘', '주식회사', '가', '기', '싫', '은가', '봐요', '.']\n",
      "Candidate: ['오늘', '회사', '싫', '싫', '싫', '은가', '봐요', '.']\n",
      "BLEU: 0.3656\n",
      "Reference: ['오늘', '주식회사', '가', '기', '싫', '은가', '봐요', '.']\n",
      "Candidate: ['오늘', '회사', '가', '서로', '싫', '은가', '봐요', '.']\n",
      "BLEU: 0.3826\n",
      "TOTAL BLEU score : 0.476\n"
     ]
    }
   ],
   "source": [
    "print_blue_score(21)"
   ]
  },
  {
   "cell_type": "markdown",
   "id": "9d551912",
   "metadata": {},
   "source": [
    "&nbsp;"
   ]
  },
  {
   "cell_type": "markdown",
   "id": "5e2c79f3",
   "metadata": {},
   "source": [
    "<hr>\n",
    "\n",
    "**이상의 내용으로, 이번 프로젝트를 완료했다.**\n",
    "\n",
    "**지금까지의 과정상 프로젝트 가이드 내용 및 루브릭 평가에 관하여 빼먹은 내용은 없지만,**\n",
    "\n",
    "**프로젝트 가이드 내용 대비 순서가 조금 뒤죽박죽 한 경향이 있어서, 이하의 내용은**\n",
    "\n",
    "**전반적인 순서(또는 구성)를 다시 가이드에 맞추어 정리해서 추가로 실험을 진행 한 부분이다.**\n",
    "\n",
    "**또한, 코드 작성중에 테스트 했던 내용들도 일부 정리를 하여, 필요한 코드들 위주로 남겼다.**\n",
    "\n",
    "**추가 실험은 모델의 크기를 조금 더 줄여서 진행 해 보도록 하겠다.**\n",
    "\n",
    "<hr>"
   ]
  },
  {
   "cell_type": "markdown",
   "id": "4090225b",
   "metadata": {},
   "source": [
    "# Project：멋진 챗봇 만들기 (v2)"
   ]
  },
  {
   "cell_type": "markdown",
   "id": "3702d313",
   "metadata": {},
   "source": [
    "&nbsp;"
   ]
  },
  {
   "cell_type": "markdown",
   "id": "83561e41",
   "metadata": {},
   "source": [
    " - 여기서는 2가지 개선 방안을 적용해 보고자 한다.<br>&nbsp;\n",
    " \n",
    "   + 코드 구성과 내용(순서)을 프로젝트 가이드에 맞게 재조정. (순서가 챗봇 성능 개선에 효과가 있을지 작은 희망을…)<br>&nbsp;\n",
    " \n",
    "   + 파라메터 조정등을 통한 비교용 모델을 통해, 챗봇의 성능 개선 정도를 비교.<br>&nbsp;"
   ]
  },
  {
   "cell_type": "markdown",
   "id": "5a65ada5",
   "metadata": {},
   "source": [
    "&nbsp;"
   ]
  },
  {
   "cell_type": "markdown",
   "id": "d19fa513",
   "metadata": {},
   "source": [
    "## 라이브러리\n",
    "<hr>"
   ]
  },
  {
   "cell_type": "markdown",
   "id": "adb4e726",
   "metadata": {},
   "source": [
    "사용할 라이브러리 버전을 둘러봅시다."
   ]
  },
  {
   "cell_type": "code",
   "execution_count": 1,
   "id": "fcbc155e",
   "metadata": {},
   "outputs": [
    {
     "name": "stdout",
     "output_type": "stream",
     "text": [
      "1.21.4\n",
      "1.3.3\n",
      "2.6.0\n",
      "3.8.3\n",
      "0.5.2\n",
      "3.6.5\n"
     ]
    }
   ],
   "source": [
    "import re\n",
    "import os\n",
    "import math\n",
    "import random\n",
    "import numpy as np\n",
    "import pandas as pd\n",
    "import tensorflow as tf\n",
    "\n",
    "from tensorflow.keras.initializers import Constant\n",
    "\n",
    "import gensim\n",
    "import gensim.downloader as api\n",
    "from gensim.models import KeyedVectors\n",
    "from gensim.models.keyedvectors import Word2VecKeyedVectors\n",
    "\n",
    "import matplotlib.pyplot as plt\n",
    "\n",
    "import konlpy\n",
    "from konlpy.tag import Mecab\n",
    "import nltk\n",
    "\n",
    "## BLEU score\n",
    "from nltk.translate.bleu_score import sentence_bleu\n",
    "from nltk.translate.bleu_score import SmoothingFunction\n",
    "\n",
    "from collections import Counter\n",
    "\n",
    "## Progress\n",
    "from tqdm.notebook import tqdm\n",
    "\n",
    "## Mecab\n",
    "mecab = Mecab()\n",
    "\n",
    "print(np.__version__)\n",
    "print(pd.__version__)\n",
    "print(tf.__version__)\n",
    "\n",
    "print(gensim.__version__)\n",
    "print(konlpy.__version__)\n",
    "print(nltk.__version__)"
   ]
  },
  {
   "cell_type": "markdown",
   "id": "21d892ea",
   "metadata": {},
   "source": [
    "&nbsp;"
   ]
  },
  {
   "cell_type": "markdown",
   "id": "578b0f62",
   "metadata": {},
   "source": [
    "## Step 1. 데이터 다운로드\n",
    "\n",
    "<hr>"
   ]
  },
  {
   "cell_type": "markdown",
   "id": "5c855ac3",
   "metadata": {},
   "source": [
    "준비하기 단계에서 심볼릭 링크를 생성했다면 아래 파일이 `ChatbotData.csv`라는 이름으로 저장되어 있을거예요. `csv` 파일을 읽는 데에는 `pandas` 라이브러리가 적합합니다. 읽어 온 데이터의 질문과 답변을 각각 `questions`, `answers` 변수에 나눠서 저장하세요!\n",
    "\n",
    "- [songys/Chatbot_data](https://github.com/songys/Chatbot_data)"
   ]
  },
  {
   "cell_type": "markdown",
   "id": "8a22efbb",
   "metadata": {},
   "source": [
    "한국어 챗봇 데이터는 송영숙님이 공개한 챗봇 데이터를 사용한다.\n",
    "\n",
    "데이터는 아래의 링크에서 다운로드 하였다.\n",
    "\n",
    "- [songys/Chatbot_data](https://github.com/songys/Chatbot_data/blob/master/ChatbotData.csv)\n",
    "\n",
    "링크에서 안내하고 있는 내용은 아래와 같다. \n",
    "\n",
    "──────────────────────────────────────\n",
    "\n",
    "- Chatbot_data_for_Korean v1.0\n",
    "    \n",
    "  + Data description.\n",
    "  \n",
    "    * 인공데이터입니다. 일부 이별과 관련된 질문에서 <br>다음카페 \"사랑보다 아름다운 실연( http://cafe116.daum.net/_c21_/home?grpid=1bld )\"에서 <br>자주 나오는 이야기들을 참고하여 제작하였습니다. <br>가령 \"이별한 지 열흘(또는 100일) 되었어요\"라는 질문에 <br>챗봇이 위로한다는 취지로 답변을 작성하였습니다.\n",
    "    \n",
    "    * 1. 챗봇 트레이닝용 문답 페어 11,876개\n",
    "    \n",
    "    * 2. 일상다반사 0, 이별(부정) 1, 사랑(긍정) 2로 레이블링\n",
    "\n",
    "\n",
    "여기서는 문답 페어(Q, A) 데이터만 사용하고, 라벨은 사용하지 않는다.\n",
    "\n",
    "──────────────────────────────────────\n",
    "\n"
   ]
  },
  {
   "cell_type": "code",
   "execution_count": 2,
   "id": "1ff3f014",
   "metadata": {},
   "outputs": [],
   "source": [
    "## 파일 가져오기 및 경로 지정\n",
    "songys_chabot_data_path =  tf.keras.utils.get_file(\n",
    "    os.getenv(\"HOME\") + \"/aiffel/transformer_chatbot/data/ChatbotData.csv\",\n",
    "    origin=\"https://github.com/songys/Chatbot_data/raw/master/ChatbotData.csv\")\n",
    "df_songys_chabot = pd.read_csv(songys_chabot_data_path)"
   ]
  },
  {
   "cell_type": "code",
   "execution_count": 3,
   "id": "2bffa9cf",
   "metadata": {
    "scrolled": true
   },
   "outputs": [
    {
     "data": {
      "text/html": [
       "<div>\n",
       "<style scoped>\n",
       "    .dataframe tbody tr th:only-of-type {\n",
       "        vertical-align: middle;\n",
       "    }\n",
       "\n",
       "    .dataframe tbody tr th {\n",
       "        vertical-align: top;\n",
       "    }\n",
       "\n",
       "    .dataframe thead th {\n",
       "        text-align: right;\n",
       "    }\n",
       "</style>\n",
       "<table border=\"1\" class=\"dataframe\">\n",
       "  <thead>\n",
       "    <tr style=\"text-align: right;\">\n",
       "      <th></th>\n",
       "      <th>Q</th>\n",
       "      <th>A</th>\n",
       "    </tr>\n",
       "  </thead>\n",
       "  <tbody>\n",
       "    <tr>\n",
       "      <th>1796</th>\n",
       "      <td>물가 왤케 비쌈</td>\n",
       "      <td>그러게 말이에요.</td>\n",
       "    </tr>\n",
       "    <tr>\n",
       "      <th>1429</th>\n",
       "      <td>라면 먹고 싶어</td>\n",
       "      <td>맛나게 끓여드세요.</td>\n",
       "    </tr>\n",
       "    <tr>\n",
       "      <th>499</th>\n",
       "      <td>나 버림 받은 거 같아</td>\n",
       "      <td>아닐거예요.</td>\n",
       "    </tr>\n",
       "    <tr>\n",
       "      <th>1887</th>\n",
       "      <td>밉다 진짜</td>\n",
       "      <td>예뻐해 주세요.</td>\n",
       "    </tr>\n",
       "    <tr>\n",
       "      <th>6044</th>\n",
       "      <td>다시 만날수 있을까</td>\n",
       "      <td>많이 그리운가봐요.</td>\n",
       "    </tr>\n",
       "  </tbody>\n",
       "</table>\n",
       "</div>"
      ],
      "text/plain": [
       "                 Q           A\n",
       "1796      물가 왤케 비쌈   그러게 말이에요.\n",
       "1429      라면 먹고 싶어  맛나게 끓여드세요.\n",
       "499   나 버림 받은 거 같아      아닐거예요.\n",
       "1887         밉다 진짜    예뻐해 주세요.\n",
       "6044    다시 만날수 있을까  많이 그리운가봐요."
      ]
     },
     "execution_count": 3,
     "metadata": {},
     "output_type": "execute_result"
    }
   ],
   "source": [
    "## 라벨의 삭제\n",
    "df_songys_chabot.drop(labels=\"label\", axis=\"columns\", inplace=True)\n",
    "\n",
    "## 샘플 출력\n",
    "df_songys_chabot.sample(5)"
   ]
  },
  {
   "cell_type": "code",
   "execution_count": 4,
   "id": "161aa593",
   "metadata": {},
   "outputs": [
    {
     "data": {
      "text/html": [
       "<div>\n",
       "<style scoped>\n",
       "    .dataframe tbody tr th:only-of-type {\n",
       "        vertical-align: middle;\n",
       "    }\n",
       "\n",
       "    .dataframe tbody tr th {\n",
       "        vertical-align: top;\n",
       "    }\n",
       "\n",
       "    .dataframe thead th {\n",
       "        text-align: right;\n",
       "    }\n",
       "</style>\n",
       "<table border=\"1\" class=\"dataframe\">\n",
       "  <thead>\n",
       "    <tr style=\"text-align: right;\">\n",
       "      <th></th>\n",
       "      <th>Q</th>\n",
       "      <th>A</th>\n",
       "    </tr>\n",
       "  </thead>\n",
       "  <tbody>\n",
       "    <tr>\n",
       "      <th>11818</th>\n",
       "      <td>훔쳐보는 것도 눈치 보임.</td>\n",
       "      <td>티가 나니까 눈치가 보이는 거죠!</td>\n",
       "    </tr>\n",
       "    <tr>\n",
       "      <th>11819</th>\n",
       "      <td>훔쳐보는 것도 눈치 보임.</td>\n",
       "      <td>훔쳐보는 거 티나나봐요.</td>\n",
       "    </tr>\n",
       "    <tr>\n",
       "      <th>11820</th>\n",
       "      <td>흑기사 해주는 짝남.</td>\n",
       "      <td>설렜겠어요.</td>\n",
       "    </tr>\n",
       "    <tr>\n",
       "      <th>11821</th>\n",
       "      <td>힘든 연애 좋은 연애라는게 무슨 차이일까?</td>\n",
       "      <td>잘 헤어질 수 있는 사이 여부인 거 같아요.</td>\n",
       "    </tr>\n",
       "    <tr>\n",
       "      <th>11822</th>\n",
       "      <td>힘들어서 결혼할까봐</td>\n",
       "      <td>도피성 결혼은 하지 않길 바라요.</td>\n",
       "    </tr>\n",
       "  </tbody>\n",
       "</table>\n",
       "</div>"
      ],
      "text/plain": [
       "                             Q                         A\n",
       "11818           훔쳐보는 것도 눈치 보임.        티가 나니까 눈치가 보이는 거죠!\n",
       "11819           훔쳐보는 것도 눈치 보임.             훔쳐보는 거 티나나봐요.\n",
       "11820              흑기사 해주는 짝남.                    설렜겠어요.\n",
       "11821  힘든 연애 좋은 연애라는게 무슨 차이일까?  잘 헤어질 수 있는 사이 여부인 거 같아요.\n",
       "11822               힘들어서 결혼할까봐        도피성 결혼은 하지 않길 바라요."
      ]
     },
     "execution_count": 4,
     "metadata": {},
     "output_type": "execute_result"
    }
   ],
   "source": [
    "## 끝부분 출력\n",
    "df_songys_chabot.tail(5)"
   ]
  },
  {
   "cell_type": "code",
   "execution_count": 5,
   "id": "3790a490",
   "metadata": {},
   "outputs": [],
   "source": [
    "## 컬럼 이름을 바꿔서 사용하도록 하겠다.\n",
    "df_songys_chabot.rename(columns={\"Q\":\"questions\", \"A\":\"answers\"}, inplace=True)"
   ]
  },
  {
   "cell_type": "code",
   "execution_count": 6,
   "id": "be904839",
   "metadata": {},
   "outputs": [
    {
     "data": {
      "text/html": [
       "<div>\n",
       "<style scoped>\n",
       "    .dataframe tbody tr th:only-of-type {\n",
       "        vertical-align: middle;\n",
       "    }\n",
       "\n",
       "    .dataframe tbody tr th {\n",
       "        vertical-align: top;\n",
       "    }\n",
       "\n",
       "    .dataframe thead th {\n",
       "        text-align: right;\n",
       "    }\n",
       "</style>\n",
       "<table border=\"1\" class=\"dataframe\">\n",
       "  <thead>\n",
       "    <tr style=\"text-align: right;\">\n",
       "      <th></th>\n",
       "      <th>questions</th>\n",
       "      <th>answers</th>\n",
       "    </tr>\n",
       "  </thead>\n",
       "  <tbody>\n",
       "    <tr>\n",
       "      <th>0</th>\n",
       "      <td>12시 땡!</td>\n",
       "      <td>하루가 또 가네요.</td>\n",
       "    </tr>\n",
       "    <tr>\n",
       "      <th>1</th>\n",
       "      <td>1지망 학교 떨어졌어</td>\n",
       "      <td>위로해 드립니다.</td>\n",
       "    </tr>\n",
       "    <tr>\n",
       "      <th>2</th>\n",
       "      <td>3박4일 놀러가고 싶다</td>\n",
       "      <td>여행은 언제나 좋죠.</td>\n",
       "    </tr>\n",
       "    <tr>\n",
       "      <th>3</th>\n",
       "      <td>3박4일 정도 놀러가고 싶다</td>\n",
       "      <td>여행은 언제나 좋죠.</td>\n",
       "    </tr>\n",
       "    <tr>\n",
       "      <th>4</th>\n",
       "      <td>PPL 심하네</td>\n",
       "      <td>눈살이 찌푸려지죠.</td>\n",
       "    </tr>\n",
       "  </tbody>\n",
       "</table>\n",
       "</div>"
      ],
      "text/plain": [
       "         questions      answers\n",
       "0           12시 땡!   하루가 또 가네요.\n",
       "1      1지망 학교 떨어졌어    위로해 드립니다.\n",
       "2     3박4일 놀러가고 싶다  여행은 언제나 좋죠.\n",
       "3  3박4일 정도 놀러가고 싶다  여행은 언제나 좋죠.\n",
       "4          PPL 심하네   눈살이 찌푸려지죠."
      ]
     },
     "execution_count": 6,
     "metadata": {},
     "output_type": "execute_result"
    }
   ],
   "source": [
    "df_songys_chabot.head(5)"
   ]
  },
  {
   "cell_type": "code",
   "execution_count": 7,
   "id": "36fc2650",
   "metadata": {
    "scrolled": true
   },
   "outputs": [
    {
     "data": {
      "text/html": [
       "<div>\n",
       "<style scoped>\n",
       "    .dataframe tbody tr th:only-of-type {\n",
       "        vertical-align: middle;\n",
       "    }\n",
       "\n",
       "    .dataframe tbody tr th {\n",
       "        vertical-align: top;\n",
       "    }\n",
       "\n",
       "    .dataframe thead th {\n",
       "        text-align: right;\n",
       "    }\n",
       "</style>\n",
       "<table border=\"1\" class=\"dataframe\">\n",
       "  <thead>\n",
       "    <tr style=\"text-align: right;\">\n",
       "      <th></th>\n",
       "      <th>questions</th>\n",
       "      <th>answers</th>\n",
       "    </tr>\n",
       "  </thead>\n",
       "  <tbody>\n",
       "    <tr>\n",
       "      <th>11816</th>\n",
       "      <td>회식하는데 나만 챙겨줘. 썸임?</td>\n",
       "      <td>호감이 있을 수도 있어요. 그렇지만 조금 더 상황을 지켜보세요.</td>\n",
       "    </tr>\n",
       "    <tr>\n",
       "      <th>11817</th>\n",
       "      <td>후회 없이 사랑하고 싶어</td>\n",
       "      <td>진심으로 다가가 보세요.</td>\n",
       "    </tr>\n",
       "    <tr>\n",
       "      <th>11818</th>\n",
       "      <td>훔쳐보는 것도 눈치 보임.</td>\n",
       "      <td>티가 나니까 눈치가 보이는 거죠!</td>\n",
       "    </tr>\n",
       "    <tr>\n",
       "      <th>11819</th>\n",
       "      <td>훔쳐보는 것도 눈치 보임.</td>\n",
       "      <td>훔쳐보는 거 티나나봐요.</td>\n",
       "    </tr>\n",
       "    <tr>\n",
       "      <th>11820</th>\n",
       "      <td>흑기사 해주는 짝남.</td>\n",
       "      <td>설렜겠어요.</td>\n",
       "    </tr>\n",
       "    <tr>\n",
       "      <th>11821</th>\n",
       "      <td>힘든 연애 좋은 연애라는게 무슨 차이일까?</td>\n",
       "      <td>잘 헤어질 수 있는 사이 여부인 거 같아요.</td>\n",
       "    </tr>\n",
       "    <tr>\n",
       "      <th>11822</th>\n",
       "      <td>힘들어서 결혼할까봐</td>\n",
       "      <td>도피성 결혼은 하지 않길 바라요.</td>\n",
       "    </tr>\n",
       "  </tbody>\n",
       "</table>\n",
       "</div>"
      ],
      "text/plain": [
       "                     questions                              answers\n",
       "11816        회식하는데 나만 챙겨줘. 썸임?  호감이 있을 수도 있어요. 그렇지만 조금 더 상황을 지켜보세요.\n",
       "11817            후회 없이 사랑하고 싶어                        진심으로 다가가 보세요.\n",
       "11818           훔쳐보는 것도 눈치 보임.                   티가 나니까 눈치가 보이는 거죠!\n",
       "11819           훔쳐보는 것도 눈치 보임.                        훔쳐보는 거 티나나봐요.\n",
       "11820              흑기사 해주는 짝남.                               설렜겠어요.\n",
       "11821  힘든 연애 좋은 연애라는게 무슨 차이일까?             잘 헤어질 수 있는 사이 여부인 거 같아요.\n",
       "11822               힘들어서 결혼할까봐                   도피성 결혼은 하지 않길 바라요."
      ]
     },
     "execution_count": 7,
     "metadata": {},
     "output_type": "execute_result"
    }
   ],
   "source": [
    "df_songys_chabot.tail(7)"
   ]
  },
  {
   "cell_type": "markdown",
   "id": "a97ccaa5",
   "metadata": {},
   "source": [
    "head 출력 결과에서는 answers 에서 중복데이터가 보이고,\n",
    "\n",
    "tail 출력 결과에서는 questions 에서 중복데이터가 보인다.\n",
    "\n",
    "이 중복 데이터들은 questions:answers 쌍으로 비교할 경우 제거하기 어려울 것이다.\n",
    "\n",
    "운좋게 head, tail 부분에서 중복 데이터를 발견했으니,\n",
    "\n",
    "섞기 전에 해당 데이터 기준으로 중복제거 기능을 확인하면 될 것 같다."
   ]
  },
  {
   "cell_type": "markdown",
   "id": "a96ce17b",
   "metadata": {},
   "source": [
    "&nbsp;"
   ]
  },
  {
   "cell_type": "markdown",
   "id": "fe5d1d37",
   "metadata": {},
   "source": [
    "## Step 2. 데이터 정제\n",
    "\n",
    "<hr>"
   ]
  },
  {
   "cell_type": "markdown",
   "id": "caa662f2",
   "metadata": {},
   "source": [
    "아래 조건을 만족하는 `preprocess_sentence()` 함수를 구현하세요.\n",
    "\n",
    "1. 영문자의 경우, **모두 소문자로 변환**합니다.\n",
    "\n",
    "\n",
    "2. 영문자와 한글, 숫자, 그리고 주요 특수문자를 제외하곤 **정규식을 활용하여 모두 제거**합니다.\n",
    "\n",
    "\n",
    "*문장부호 양옆에 공백을 추가하는 등 이전과 다르게 생략된 기능들은 우리가 사용할 토크나이저가 지원하기 때문에 굳이 구현하지 않아도 괜찮습니다!*"
   ]
  },
  {
   "cell_type": "markdown",
   "id": "46705b04",
   "metadata": {},
   "source": [
    "&nbsp;"
   ]
  },
  {
   "cell_type": "markdown",
   "id": "7e8e1b57",
   "metadata": {},
   "source": [
    "여기서 부터는 프로젝트 가이드라인대로 수행하는데, 순서를 효율적으로 재배치 하여 \n",
    "\n",
    "이하의 순서에 따라 진행하도록 하겠다."
   ]
  },
  {
   "cell_type": "markdown",
   "id": "7de6f3b8",
   "metadata": {},
   "source": [
    "### ■ **`전처리`** → 중복제거 → 토큰화 → 어그멘테이션 → 스타트 엔드 토큰 넣고 → 정수인코딩 (벡터화)"
   ]
  },
  {
   "cell_type": "markdown",
   "id": "bc1b0a66",
   "metadata": {},
   "source": [
    "영문 데이터와 얼마나 해당할런지 모르겠지만, 영어 약어 정규화를 위한 정규화 사전을 준비한다."
   ]
  },
  {
   "cell_type": "code",
   "execution_count": 8,
   "id": "60614476",
   "metadata": {},
   "outputs": [
    {
     "name": "stdout",
     "output_type": "stream",
     "text": [
      "정규화 사전의 수:  120\n"
     ]
    }
   ],
   "source": [
    "contractions = {\n",
    "    \"ain't\": \"is not\", \"aren't\": \"are not\",\"can't\": \"cannot\", \"'cause\": \"because\", \"could've\": \"could have\", \"couldn't\": \"could not\",\n",
    "    \"didn't\": \"did not\",  \"doesn't\": \"does not\", \"don't\": \"do not\", \"hadn't\": \"had not\", \"hasn't\": \"has not\", \"haven't\": \"have not\",\n",
    "    \"he'd\": \"he would\",\"he'll\": \"he will\", \"he's\": \"he is\", \"how'd\": \"how did\", \"how'd'y\": \"how do you\", \"how'll\": \"how will\", \"how's\": \"how is\",\n",
    "    \"I'd\": \"I would\", \"I'd've\": \"I would have\", \"I'll\": \"I will\", \"I'll've\": \"I will have\",\"I'm\": \"I am\", \"I've\": \"I have\", \"i'd\": \"i would\",\n",
    "    \"i'd've\": \"i would have\", \"i'll\": \"i will\",  \"i'll've\": \"i will have\",\"i'm\": \"i am\", \"i've\": \"i have\", \"isn't\": \"is not\", \"it'd\": \"it would\",\n",
    "    \"it'd've\": \"it would have\", \"it'll\": \"it will\", \"it'll've\": \"it will have\",\"it's\": \"it is\", \"let's\": \"let us\", \"ma'am\": \"madam\",\n",
    "    \"mayn't\": \"may not\", \"might've\": \"might have\",\"mightn't\": \"might not\",\"mightn't've\": \"might not have\", \"must've\": \"must have\",\n",
    "    \"mustn't\": \"must not\", \"mustn't've\": \"must not have\", \"needn't\": \"need not\", \"needn't've\": \"need not have\",\"o'clock\": \"of the clock\",\n",
    "    \"oughtn't\": \"ought not\", \"oughtn't've\": \"ought not have\", \"shan't\": \"shall not\", \"sha'n't\": \"shall not\", \"shan't've\": \"shall not have\",\n",
    "    \"she'd\": \"she would\", \"she'd've\": \"she would have\", \"she'll\": \"she will\", \"she'll've\": \"she will have\", \"she's\": \"she is\",\n",
    "    \"should've\": \"should have\", \"shouldn't\": \"should not\", \"shouldn't've\": \"should not have\", \"so've\": \"so have\",\"so's\": \"so as\",\n",
    "    \"this's\": \"this is\",\"that'd\": \"that would\", \"that'd've\": \"that would have\", \"that's\": \"that is\", \"there'd\": \"there would\",\n",
    "    \"there'd've\": \"there would have\", \"there's\": \"there is\", \"here's\": \"here is\",\"they'd\": \"they would\", \"they'd've\": \"they would have\",\n",
    "    \"they'll\": \"they will\", \"they'll've\": \"they will have\", \"they're\": \"they are\", \"they've\": \"they have\", \"to've\": \"to have\",\n",
    "    \"wasn't\": \"was not\", \"we'd\": \"we would\", \"we'd've\": \"we would have\", \"we'll\": \"we will\", \"we'll've\": \"we will have\", \"we're\": \"we are\",\n",
    "    \"we've\": \"we have\", \"weren't\": \"were not\", \"what'll\": \"what will\", \"what'll've\": \"what will have\", \"what're\": \"what are\",\n",
    "    \"what's\": \"what is\", \"what've\": \"what have\", \"when's\": \"when is\", \"when've\": \"when have\", \"where'd\": \"where did\", \"where's\": \"where is\",\n",
    "    \"where've\": \"where have\", \"who'll\": \"who will\", \"who'll've\": \"who will have\", \"who's\": \"who is\", \"who've\": \"who have\",\n",
    "    \"why's\": \"why is\", \"why've\": \"why have\", \"will've\": \"will have\", \"won't\": \"will not\", \"won't've\": \"will not have\",\n",
    "    \"would've\": \"would have\", \"wouldn't\": \"would not\", \"wouldn't've\": \"would not have\", \"y'all\": \"you all\",\n",
    "    \"y'all'd\": \"you all would\",\"y'all'd've\": \"you all would have\",\"y'all're\": \"you all are\",\"y'all've\": \"you all have\",\n",
    "    \"you'd\": \"you would\", \"you'd've\": \"you would have\", \"you'll\": \"you will\", \"you'll've\": \"you will have\",\n",
    "    \"you're\": \"you are\", \"you've\": \"you have\"}\n",
    "\n",
    "print(\"정규화 사전의 수: \", len(contractions))"
   ]
  },
  {
   "cell_type": "markdown",
   "id": "bf3b1462",
   "metadata": {},
   "source": [
    "불용어 제거를 위해 불용어 목록도 준비했다."
   ]
  },
  {
   "cell_type": "code",
   "execution_count": 9,
   "id": "2178ab45",
   "metadata": {},
   "outputs": [
    {
     "name": "stdout",
     "output_type": "stream",
     "text": [
      "불용어(영문) : 179\n",
      "불용어(한글) : 675\n"
     ]
    }
   ],
   "source": [
    "stopwords_en = ['i', 'me', 'my', 'myself', 'we', 'our', 'ours', 'ourselves', 'you', \"you're\", \"you've\", \"you'll\", \"you'd\", 'your', 'yours', 'yourself', 'yourselves', 'he', 'him', 'his', 'himself', 'she', \"she's\", 'her', 'hers', 'herself', 'it', \"it's\", 'its', 'itself', 'they', 'them', 'their', 'theirs', 'themselves', 'what', 'which', 'who', 'whom', 'this', 'that', \"that'll\", 'these', 'those', 'am', 'is', 'are', 'was', 'were', 'be', 'been', 'being', 'have', 'has', 'had', 'having', 'do', 'does', 'did', 'doing', 'a', 'an', 'the', 'and', 'but', 'if', 'or', 'because', 'as', 'until', 'while', 'of', 'at', 'by', 'for', 'with', 'about', 'against', 'between', 'into', 'through', 'during', 'before', 'after', 'above', 'below', 'to', 'from', 'up', 'down', 'in', 'out', 'on', 'off', 'over', 'under', 'again', 'further', 'then', 'once', 'here', 'there', 'when', 'where', 'why', 'how', 'all', 'any', 'both', 'each', 'few', 'more', 'most', 'other', 'some', 'such', 'no', 'nor', 'not', 'only', 'own', 'same', 'so', 'than', 'too', 'very', 's', 't', 'can', 'will', 'just', 'don', \"don't\", 'should', \"should've\", 'now', 'd', 'll', 'm', 'o', 're', 've', 'y', 'ain', 'aren', \"aren't\", 'couldn', \"couldn't\", 'didn', \"didn't\", 'doesn', \"doesn't\", 'hadn', \"hadn't\", 'hasn', \"hasn't\", 'haven', \"haven't\", 'isn', \"isn't\", 'ma', 'mightn', \"mightn't\", 'mustn', \"mustn't\", 'needn', \"needn't\", 'shan', \"shan't\", 'shouldn', \"shouldn't\", 'wasn', \"wasn't\", 'weren', \"weren't\", 'won', \"won't\", 'wouldn', \"wouldn't\"]\n",
    "stopwords_ko = [\"아\", \"휴\", \"아이구\", \"아이쿠\", \"아이고\", \"어\", \"나\", \"우리\", \"저희\", \"따라\", \"의해\", \"을\", \"를\", \"에\", \"의\", \"가\", \"으로\", \"로\", \"에게\", \"뿐이다\", \"의거하여\", \"근거하여\", \"입각하여\", \"기준으로\", \"예하면\", \"예를 들면\", \"예를 들자면\", \"저\", \"소인\", \"소생\", \"저희\", \"지말고\", \"하지마\", \"하지마라\", \"다른\", \"물론\", \"또한\", \"그리고\", \"비길수 없다\", \"해서는 안된다\", \"뿐만 아니라\", \"만이 아니다\", \"만은 아니다\", \"막론하고\", \"관계없이\", \"그치지 않다\", \"그러나\", \"그런데\", \"하지만\", \"든간에\", \"논하지 않다\", \"따지지 않다\", \"설사\", \"비록\", \"더라도\", \"아니면\", \"만 못하다\", \"하는 편이 낫다\", \"불문하고\", \"향하여\", \"향해서\", \"향하다\", \"쪽으로\", \"틈타\", \"이용하여\", \"타다\", \"오르다\", \"제외하고\", \"이 외에\", \"이 밖에\", \"하여야\", \"비로소\", \"한다면 몰라도\", \"외에도\", \"이곳\", \"여기\", \"부터\", \"기점으로\", \"따라서\", \"할 생각이다\", \"하려고하다\", \"이리하여\", \"그리하여\", \"그렇게 함으로써\", \"하지만\", \"일때\", \"할때\", \"앞에서\", \"중에서\", \"보는데서\", \"으로써\", \"로써\", \"까지\", \"해야한다\", \"일것이다\", \"반드시\", \"할줄알다\", \"할수있다\", \"할수있어\", \"임에 틀림없다\", \"한다면\", \"등\", \"등등\", \"제\", \"겨우\", \"단지\", \"다만\", \"할뿐\", \"딩동\", \"댕그\", \"대해서\", \"대하여\", \"대하면\", \"훨씬\", \"얼마나\", \"얼마만큼\", \"얼마큼\", \"남짓\", \"여\", \"얼마간\", \"약간\", \"다소\", \"좀\", \"조금\", \"다수\", \"몇\", \"얼마\", \"지만\", \"하물며\", \"또한\", \"그러나\", \"그렇지만\", \"하지만\", \"이외에도\", \"대해 말하자면\", \"뿐이다\", \"다음에\", \"반대로\", \"반대로 말하자면\", \"이와 반대로\", \"바꾸어서 말하면\", \"바꾸어서 한다면\", \"만약\", \"그렇지않으면\", \"까악\", \"툭\", \"딱\", \"삐걱거리다\", \"보드득\", \"비걱거리다\", \"꽈당\", \"응당\", \"해야한다\", \"에 가서\", \"각\", \"각각\", \"여러분\", \"각종\", \"각자\", \"제각기\", \"하도록하다\", \"와\", \"과\", \"그러므로\", \"그래서\", \"고로\", \"한 까닭에\", \"하기 때문에\", \"거니와\", \"이지만\", \"대하여\", \"관하여\", \"관한\", \"과연\", \"실로\", \"아니나다를가\", \"생각한대로\", \"진짜로\", \"한적이있다\", \"하곤하였다\", \"하\", \"하하\", \"허허\", \"아하\", \"거바\", \"와\", \"오\", \"왜\", \"어째서\", \"무엇때문에\", \"어찌\", \"하겠는가\", \"무슨\", \"어디\", \"어느곳\", \"더군다나\", \"하물며\", \"더욱이는\", \"어느때\", \"언제\", \"야\", \"이봐\", \"어이\", \"여보시오\", \"흐흐\", \"흥\", \"휴\", \"헉헉\", \"헐떡헐떡\", \"영차\", \"여차\", \"어기여차\", \"끙끙\", \"아야\", \"앗\", \"아야\", \"콸콸\", \"졸졸\", \"좍좍\", \"뚝뚝\", \"주룩주룩\", \"솨\", \"우르르\", \"그래도\", \"또\", \"그리고\", \"바꾸어말하면\", \"바꾸어말하자면\", \"혹은\", \"혹시\", \"답다\", \"및\", \"그에 따르는\", \"때가 되어\", \"즉\", \"지든지\", \"설령\", \"가령\", \"하더라도\", \"할지라도\", \"일지라도\", \"지든지\", \"몇\", \"거의\", \"하마터면\", \"인젠\", \"이젠\", \"된바에야\", \"된이상\", \"만큼\t어찌됏든\", \"그위에\", \"게다가\", \"점에서 보아\", \"비추어 보아\", \"고려하면\", \"하게될것이다\", \"일것이다\", \"비교적\", \"좀\", \"보다더\", \"비하면\", \"시키다\", \"하게하다\", \"할만하다\", \"의해서\", \"연이서\", \"이어서\", \"잇따라\", \"뒤따라\", \"뒤이어\", \"결국\", \"의지하여\", \"기대여\", \"통하여\", \"자마자\", \"더욱더\", \"불구하고\", \"얼마든지\", \"마음대로\", \"주저하지 않고\", \"곧\", \"즉시\", \"바로\", \"당장\", \"하자마자\", \"밖에 안된다\", \"하면된다\", \"그래\", \"그렇지\", \"요컨대\", \"다시 말하자면\", \"바꿔 말하면\", \"즉\", \"구체적으로\", \"말하자면\", \"시작하여\", \"시초에\", \"이상\", \"허\", \"헉\", \"허걱\", \"바와같이\", \"해도좋다\", \"해도된다\", \"게다가\", \"더구나\", \"하물며\", \"와르르\", \"팍\", \"퍽\", \"펄렁\", \"동안\", \"이래\", \"하고있었다\", \"이었다\", \"에서\", \"로부터\", \"까지\", \"예하면\", \"했어요\", \"해요\", \"함께\", \"같이\", \"더불어\", \"마저\", \"마저도\", \"양자\", \"모두\", \"습니다\", \"가까스로\", \"하려고하다\", \"즈음하여\", \"다른\", \"다른 방면으로\", \"해봐요\", \"습니까\", \"했어요\", \"말할것도 없고\", \"무릎쓰고\", \"개의치않고\", \"하는것만 못하다\", \"하는것이 낫다\", \"매\", \"매번\", \"들\", \"모\", \"어느것\", \"어느\", \"로써\", \"갖고말하자면\", \"어디\", \"어느쪽\", \"어느것\", \"어느해\", \"어느 년도\", \"라 해도\", \"언젠가\", \"어떤것\", \"어느것\", \"저기\", \"저쪽\", \"저것\", \"그때\", \"그럼\", \"그러면\", \"요만한걸\", \"그래\", \"그때\", \"저것만큼\", \"그저\", \"이르기까지\", \"할 줄 안다\", \"할 힘이 있다\", \"너\", \"너희\", \"당신\", \"어찌\", \"설마\", \"차라리\", \"할지언정\", \"할지라도\", \"할망정\", \"할지언정\", \"구토하다\", \"게우다\", \"토하다\", \"메쓰겁다\", \"옆사람\", \"퉤\", \"쳇\", \"의거하여\", \"근거하여\", \"의해\", \"따라\", \"힘입어\", \"그\", \"다음\", \"버금\", \"두번째로\", \"기타\", \"첫번째로\", \"나머지는\", \"그중에서\", \"견지에서\", \"형식으로 쓰여\", \"입장에서\", \"위해서\", \"단지\", \"의해되다\", \"하도록시키다\", \"뿐만아니라\", \"반대로\", \"전후\", \"전자\", \"앞의것\", \"잠시\", \"잠깐\", \"하면서\", \"그렇지만\", \"다음에\", \"그러한즉\", \"그런즉\", \"남들\", \"아무거나\", \"어찌하든지\", \"같다\", \"비슷하다\", \"예컨대\", \"이럴정도로\", \"어떻게\", \"만약\", \"만일\", \"위에서 서술한바와같이\", \"인 듯하다\", \"하지 않는다면\", \"만약에\", \"무엇\", \"무슨\", \"어느\", \"어떤\", \"아래윗\", \"조차\", \"한데\", \"그럼에도 불구하고\", \"여전히\", \"심지어\", \"까지도\", \"조차도\", \"하지 않도록\", \"않기 위하여\", \"때\", \"시각\", \"무렵\", \"시간\", \"동안\", \"어때\", \"어떠한\", \"하여금\", \"네\", \"예\", \"우선\", \"누구\", \"누가 알겠는가\", \"아무도\", \"줄은모른다\", \"줄은 몰랏다\", \"하는 김에\", \"겸사겸사\", \"하는바\", \"그런 까닭에\", \"한 이유는\", \"그러니\", \"그러니까\", \"때문에\", \"그\", \"너희\", \"그들\", \"너희들\", \"타인\", \"것\", \"것들\", \"너\", \"위하여\", \"공동으로\", \"동시에\", \"하기 위하여\", \"어찌하여\", \"무엇때문에\", \"붕붕\", \"윙윙\", \"나\", \"우리\", \"엉엉\", \"휘익\", \"윙윙\", \"오호\", \"아하\", \"어쨋든\", \"만 못하다\t하기보다는\", \"차라리\", \"하는 편이 낫다\", \"흐흐\", \"놀라다\", \"상대적으로 말하자면\", \"마치\", \"아니라면\", \"쉿\", \"그렇지 않으면\", \"그렇지 않다면\", \"안 그러면\", \"아니었다면\", \"하든지\", \"아니면\", \"이라면\", \"좋아\", \"알았어\", \"하는것도\", \"그만이다\", \"어쩔수 없다\", \"하나\", \"일\", \"일반적으로\", \"일단\", \"한켠으로는\", \"오자마자\", \"이렇게되면\", \"이와같다면\", \"전부\", \"한마디\", \"한항목\", \"근거로\", \"하기에\", \"아울러\", \"하지 않도록\", \"않기 위해서\", \"이르기까지\", \"이 되다\", \"로 인하여\", \"까닭으로\", \"이유만으로\", \"이로 인하여\", \"그래서\", \"이 때문에\", \"그러므로\", \"그런 까닭에\", \"알 수 있다\", \"결론을 낼 수 있다\", \"으로 인하여\", \"있다\", \"어떤것\", \"관계가 있다\", \"관련이 있다\", \"연관되다\", \"어떤것들\", \"에 대해\", \"이리하여\", \"그리하여\", \"여부\", \"하기보다는\", \"하느니\", \"하면 할수록\", \"운운\", \"이러이러하다\", \"하구나\", \"하도다\", \"다시말하면\", \"다음으로\", \"에 있다\", \"에 달려 있다\", \"우리\", \"우리들\", \"오히려\", \"하기는한데\", \"어떻게\", \"어떻해\", \"어찌됏어\", \"어때\", \"어째서\", \"본대로\", \"자\", \"이\", \"이쪽\", \"여기\", \"이것\", \"이번\", \"이렇게말하자면\", \"이런\", \"이러한\", \"이와 같은\", \"요만큼\", \"요만한 것\", \"얼마 안 되는 것\", \"이만큼\", \"이 정도의\", \"이렇게 많은 것\", \"이와 같다\", \"이때\", \"이렇구나\", \"것과 같이\", \"끼익\", \"삐걱\", \"따위\", \"와 같은 사람들\", \"부류의 사람들\", \"왜냐하면\", \"중의하나\", \"오직\", \"오로지\", \"에 한하다\", \"하기만 하면\", \"도착하다\", \"까지 미치다\", \"도달하다\", \"정도에 이르다\", \"할 지경이다\", \"결과에 이르다\", \"관해서는\", \"여러분\", \"하고 있다\", \"한 후\", \"혼자\", \"자기\", \"자기집\", \"자신\", \"우에 종합한것과같이\", \"총적으로 보면\", \"총적으로 말하면\", \"총적으로\", \"대로 하다\", \"으로서\", \"참\", \"그만이다\", \"할 따름이다\", \"쿵\", \"탕탕\", \"쾅쾅\", \"둥둥\", \"봐\", \"봐라\", \"아이야\", \"아니\", \"와아\", \"응\", \"아이\", \"참나\", \"년\", \"월\", \"일\", \"령\", \"영\", \"일\", \"이\", \"삼\", \"사\", \"오\", \"육\", \"륙\", \"칠\", \"팔\", \"구\", \"이천육\", \"이천칠\", \"이천팔\", \"이천구\", \"하나\", \"둘\", \"셋\", \"넷\", \"다섯\", \"여섯\", \"일곱\", \"여덟\", \"아홉\", \"령\", \"영\"]\n",
    "\n",
    "print(\"불용어(영문) :\", len(stopwords_en))\n",
    "print(\"불용어(한글) :\", len(stopwords_ko))"
   ]
  },
  {
   "cell_type": "markdown",
   "id": "372867ca",
   "metadata": {},
   "source": [
    "정제를 위해 전처리 함수를 아래와 같이 정의한다. 중복제거는 이후에 진행하겠다.\n",
    "\n",
    "약어 정규화의 경우는 괜찮은데, 준비는 했지만, 불용어의 경우는 제거하지 않도록 하겠다."
   ]
  },
  {
   "cell_type": "code",
   "execution_count": 10,
   "id": "a3d4320e",
   "metadata": {},
   "outputs": [],
   "source": [
    "from bs4 import BeautifulSoup \n",
    "\n",
    "def preprocess_sentence(sentence, remove_stopwords=False):\n",
    "   \n",
    "    sentence = sentence.lower().strip()    ## 소문자로 변경\n",
    "    sentence = BeautifulSoup(sentence, \"lxml\").text # <br />, <a href = ...> 등의 html 태그 제거\n",
    "    sentence = re.sub(r'\\([^)]*\\)', '', sentence) # 괄호로 닫힌 문자열 (...) 제거 Ex) my husband (and myself!) for => my husband for\n",
    "    sentence = re.sub('\"','', sentence) # 쌍따옴표 \" 제거\n",
    "    \n",
    "#     sentence = re.sub(r\"([?.!,])\", r\" \\1 \", sentence)    ## 단어와 구두점 사이에 공백 추가\n",
    "\n",
    "    ## 한글과 영문(a-z, A-Z, \".\", \"?\", \"!\", \",\") 이들을 제외하고는 전부 공백으로 변환.\n",
    "    ## 공백을 제외하고 모두 제거    \n",
    "    if (remove_stopwords):\n",
    "        ## 영문 약어 정규화\n",
    "        sentence = \" \".join([contractions[t] if t in contractions else t for t in sentence.split(\" \")])\n",
    "        ## 영문 한글 불용어 제거\n",
    "#         sentence = \" \".join(word for word in sentence.split() if not word in stopwords_ko if len(word) > 1)\n",
    "#         sentence = \" \".join(word for word in sentence.split() if not word in stopwords_en if len(word) > 1)\n",
    "        \n",
    "    sentence = re.sub(r\"[^a-zA-Zㄱ-ㅎㅏ-ㅣ가-힣0-9?.!,\\s]\", \" \", sentence)\n",
    "    \n",
    "    sentence = re.sub(r\"(.)\\1{2,}\", r\"\\1\"*2, sentence)    ## 문자 3회이상 반복시 갯수 2개로 줄임\n",
    "    sentence = re.sub(r\"\\s+\", \" \", sentence.strip())    ## 다수 개의 공백을 하나의 공백으로 치환\n",
    "    sentence = re.sub(r\"\\s+\", \" \", sentence.strip())    ## 다수 개의 공백을 하나의 공백으로 치환\n",
    "    sentence = sentence.strip()\n",
    "    \n",
    "    return sentence"
   ]
  },
  {
   "cell_type": "markdown",
   "id": "1c58b4b8",
   "metadata": {},
   "source": [
    "전처리 함수를 테스트 해보자."
   ]
  },
  {
   "cell_type": "code",
   "execution_count": 11,
   "id": "e360cea4",
   "metadata": {},
   "outputs": [
    {
     "data": {
      "text/plain": [
       "'ㅋㅋ 아놔 ㅋㅋ 개웃김 ㅜㅜ ㅠㅠ 키키'"
      ]
     },
     "execution_count": 11,
     "metadata": {},
     "output_type": "execute_result"
    }
   ],
   "source": [
    "preprocess_sentence(\"ㅋㅋㅋㅋㅋㅋㅋㅋ 아놔 ㅋㅋㅋㅋㅋ 개웃김 ㅜㅜㅜㅜㅜ ㅠㅠㅠ 키키키키키키키키키\")"
   ]
  },
  {
   "cell_type": "code",
   "execution_count": 12,
   "id": "1f897f7c",
   "metadata": {},
   "outputs": [
    {
     "data": {
      "text/plain": [
       "'i do not care 그만 할래 니가 어디에서 뭘 하던 이제 정말 상관 안할게 비켜줄래 이제와 울고불고 매달리지마 because i do not care i do not care'"
      ]
     },
     "execution_count": 12,
     "metadata": {},
     "output_type": "execute_result"
    }
   ],
   "source": [
    "## 영어 소문자와, 약어 정규화만 확인해보도록 하자. 불용어 제거는 사용하지 않도록 한다.\n",
    "preprocess_sentence(\"\"\"\n",
    "    I don't care 그만 할래\n",
    "    니가 어디에서 뭘 하던 이제 정말 상관 안할게\n",
    "    비켜줄래 이제와 울고불고 매달리지마\n",
    "    'Cause I don't care\n",
    "    I don't care\"\"\", remove_stopwords=True)"
   ]
  },
  {
   "cell_type": "code",
   "execution_count": 13,
   "id": "77c1cca0",
   "metadata": {
    "scrolled": true
   },
   "outputs": [
    {
     "data": {
      "text/plain": [
       "'한국마이크로소프트가 7일 기자간담회를 열고 서피스 프로 9 과 서피스 랩탑 5 의 국내 공식 출시했다고 밝혔다.'"
      ]
     },
     "execution_count": 13,
     "metadata": {},
     "output_type": "execute_result"
    }
   ],
   "source": [
    "preprocess_sentence(\"\"\"\n",
    "한국마이크로소프트가 7일 기자간담회를 열고\n",
    "‘서피스 프로 9(Surface Pro 9)’과\n",
    "‘서피스 랩탑 5(Surface Laptop 5)’의\n",
    "국내 공식 출시했다고 밝혔다.\"\"\")"
   ]
  },
  {
   "cell_type": "markdown",
   "id": "9fc3fd41",
   "metadata": {},
   "source": [
    "샘플을 확인해보자."
   ]
  },
  {
   "cell_type": "code",
   "execution_count": 14,
   "id": "1de6a22e",
   "metadata": {},
   "outputs": [
    {
     "data": {
      "text/html": [
       "<div>\n",
       "<style scoped>\n",
       "    .dataframe tbody tr th:only-of-type {\n",
       "        vertical-align: middle;\n",
       "    }\n",
       "\n",
       "    .dataframe tbody tr th {\n",
       "        vertical-align: top;\n",
       "    }\n",
       "\n",
       "    .dataframe thead th {\n",
       "        text-align: right;\n",
       "    }\n",
       "</style>\n",
       "<table border=\"1\" class=\"dataframe\">\n",
       "  <thead>\n",
       "    <tr style=\"text-align: right;\">\n",
       "      <th></th>\n",
       "      <th>questions</th>\n",
       "      <th>answers</th>\n",
       "    </tr>\n",
       "  </thead>\n",
       "  <tbody>\n",
       "    <tr>\n",
       "      <th>0</th>\n",
       "      <td>12시 땡!</td>\n",
       "      <td>하루가 또 가네요.</td>\n",
       "    </tr>\n",
       "    <tr>\n",
       "      <th>1</th>\n",
       "      <td>1지망 학교 떨어졌어</td>\n",
       "      <td>위로해 드립니다.</td>\n",
       "    </tr>\n",
       "    <tr>\n",
       "      <th>2</th>\n",
       "      <td>3박4일 놀러가고 싶다</td>\n",
       "      <td>여행은 언제나 좋죠.</td>\n",
       "    </tr>\n",
       "    <tr>\n",
       "      <th>3</th>\n",
       "      <td>3박4일 정도 놀러가고 싶다</td>\n",
       "      <td>여행은 언제나 좋죠.</td>\n",
       "    </tr>\n",
       "    <tr>\n",
       "      <th>4</th>\n",
       "      <td>PPL 심하네</td>\n",
       "      <td>눈살이 찌푸려지죠.</td>\n",
       "    </tr>\n",
       "    <tr>\n",
       "      <th>5</th>\n",
       "      <td>SD카드 망가졌어</td>\n",
       "      <td>다시 새로 사는 게 마음 편해요.</td>\n",
       "    </tr>\n",
       "    <tr>\n",
       "      <th>6</th>\n",
       "      <td>SD카드 안돼</td>\n",
       "      <td>다시 새로 사는 게 마음 편해요.</td>\n",
       "    </tr>\n",
       "    <tr>\n",
       "      <th>7</th>\n",
       "      <td>SNS 맞팔 왜 안하지ㅠㅠ</td>\n",
       "      <td>잘 모르고 있을 수도 있어요.</td>\n",
       "    </tr>\n",
       "    <tr>\n",
       "      <th>8</th>\n",
       "      <td>SNS 시간낭비인 거 아는데 매일 하는 중</td>\n",
       "      <td>시간을 정하고 해보세요.</td>\n",
       "    </tr>\n",
       "    <tr>\n",
       "      <th>9</th>\n",
       "      <td>SNS 시간낭비인데 자꾸 보게됨</td>\n",
       "      <td>시간을 정하고 해보세요.</td>\n",
       "    </tr>\n",
       "  </tbody>\n",
       "</table>\n",
       "</div>"
      ],
      "text/plain": [
       "                 questions             answers\n",
       "0                   12시 땡!          하루가 또 가네요.\n",
       "1              1지망 학교 떨어졌어           위로해 드립니다.\n",
       "2             3박4일 놀러가고 싶다         여행은 언제나 좋죠.\n",
       "3          3박4일 정도 놀러가고 싶다         여행은 언제나 좋죠.\n",
       "4                  PPL 심하네          눈살이 찌푸려지죠.\n",
       "5                SD카드 망가졌어  다시 새로 사는 게 마음 편해요.\n",
       "6                  SD카드 안돼  다시 새로 사는 게 마음 편해요.\n",
       "7           SNS 맞팔 왜 안하지ㅠㅠ    잘 모르고 있을 수도 있어요.\n",
       "8  SNS 시간낭비인 거 아는데 매일 하는 중       시간을 정하고 해보세요.\n",
       "9        SNS 시간낭비인데 자꾸 보게됨       시간을 정하고 해보세요."
      ]
     },
     "execution_count": 14,
     "metadata": {},
     "output_type": "execute_result"
    }
   ],
   "source": [
    "df_songys_chabot.head(10)"
   ]
  },
  {
   "cell_type": "markdown",
   "id": "fe9eacc0",
   "metadata": {},
   "source": [
    "다음단계를 수행해보자."
   ]
  },
  {
   "cell_type": "markdown",
   "id": "99059cf7",
   "metadata": {},
   "source": [
    "&nbsp;"
   ]
  },
  {
   "cell_type": "markdown",
   "id": "0c7b5483",
   "metadata": {},
   "source": [
    "### Step 3. 데이터 토큰화\n",
    "\n",
    "<hr>"
   ]
  },
  {
   "cell_type": "markdown",
   "id": "23a6dbb1",
   "metadata": {},
   "source": [
    "토큰화에는 ***KoNLPy***의 `mecab` 클래스를 사용합니다.\n",
    "\n"
   ]
  },
  {
   "cell_type": "markdown",
   "id": "598697e6",
   "metadata": {},
   "source": [
    "아래 조건을 만족하는 `build_corpus()` 함수를 구현하세요!\n",
    "\n"
   ]
  },
  {
   "cell_type": "markdown",
   "id": "bb60ca11",
   "metadata": {},
   "source": [
    "\n",
    "1. **소스 문장 데이터**와 **타겟 문장 데이터**를 입력으로 받습니다.\n",
    "\n",
    "\n",
    "2. 데이터를 앞서 정의한 `preprocess_sentence()` 함수로 **정제하고, 토큰화**합니다.\n",
    "\n",
    "\n",
    "3. 토큰화는 **전달받은 토크나이즈 함수를 사용**합니다. 이번엔 **`mecab.morphs`** 함수를 전달하시면 됩니다.\n",
    "\n",
    "\n",
    "4. 토큰의 개수가 일정 길이 이상인 문장은 **데이터에서 제외**합니다.\n",
    "\n",
    "\n",
    "5. **중복되는 문장은 데이터에서 제외**합니다. **`소스 : 타겟`** 쌍을 비교하지 않고 소스는 소스대로 타겟은 타겟대로 검사합니다. 중복 쌍이 흐트러지지 않도록 유의하세요!"
   ]
  },
  {
   "cell_type": "markdown",
   "id": "f9b98acf",
   "metadata": {},
   "source": [
    "구현한 함수를 활용하여 `questions` 와 `answers` 를 각각 `que_corpus , ans_corpus` 에 토큰화하여 저장합니다.\n",
    "\n"
   ]
  },
  {
   "cell_type": "markdown",
   "id": "59cbe684",
   "metadata": {},
   "source": [
    "&nbsp;"
   ]
  },
  {
   "cell_type": "code",
   "execution_count": 15,
   "id": "e65387d3",
   "metadata": {},
   "outputs": [
    {
     "data": {
      "text/html": [
       "<div>\n",
       "<style scoped>\n",
       "    .dataframe tbody tr th:only-of-type {\n",
       "        vertical-align: middle;\n",
       "    }\n",
       "\n",
       "    .dataframe tbody tr th {\n",
       "        vertical-align: top;\n",
       "    }\n",
       "\n",
       "    .dataframe thead th {\n",
       "        text-align: right;\n",
       "    }\n",
       "</style>\n",
       "<table border=\"1\" class=\"dataframe\">\n",
       "  <thead>\n",
       "    <tr style=\"text-align: right;\">\n",
       "      <th></th>\n",
       "      <th>questions</th>\n",
       "      <th>answers</th>\n",
       "    </tr>\n",
       "  </thead>\n",
       "  <tbody>\n",
       "    <tr>\n",
       "      <th>5491</th>\n",
       "      <td>결국 또 다시 이별 이 오 네</td>\n",
       "      <td>사랑 도 또 다시 올 거 예요 .</td>\n",
       "    </tr>\n",
       "    <tr>\n",
       "      <th>5441</th>\n",
       "      <td>간통 극복 하 는 방법</td>\n",
       "      <td>이혼 하 세요 .</td>\n",
       "    </tr>\n",
       "    <tr>\n",
       "      <th>7464</th>\n",
       "      <td>이별 후 두 달 경과 보 고서</td>\n",
       "      <td>이제 는 좀 무뎌 지 셨 나요 .</td>\n",
       "    </tr>\n",
       "    <tr>\n",
       "      <th>1859</th>\n",
       "      <td>뭘 해도 귀여워</td>\n",
       "      <td>사랑 하나 봅니다 .</td>\n",
       "    </tr>\n",
       "    <tr>\n",
       "      <th>8455</th>\n",
       "      <td>한 사람 의 부재 가 이렇게 나 크 게 .</td>\n",
       "      <td>함께 했 던 시간 이 있 으니까요 .</td>\n",
       "    </tr>\n",
       "  </tbody>\n",
       "</table>\n",
       "</div>"
      ],
      "text/plain": [
       "                    questions               answers\n",
       "5491         결국 또 다시 이별 이 오 네    사랑 도 또 다시 올 거 예요 .\n",
       "5441             간통 극복 하 는 방법             이혼 하 세요 .\n",
       "7464         이별 후 두 달 경과 보 고서    이제 는 좀 무뎌 지 셨 나요 .\n",
       "1859                 뭘 해도 귀여워           사랑 하나 봅니다 .\n",
       "8455  한 사람 의 부재 가 이렇게 나 크 게 .  함께 했 던 시간 이 있 으니까요 ."
      ]
     },
     "execution_count": 15,
     "metadata": {},
     "output_type": "execute_result"
    }
   ],
   "source": [
    "def build_corpus(df_qna_origin):\n",
    "    \n",
    "    ## 1. 소스 문장 데이터와 타겟 문장 데이터를 입력으로 받습니다.\n",
    "    ## df_qna : 데이터프레임에 소스, 타겟 데이터 입력 받음.\n",
    "    df_qna = df_qna_origin.copy()\n",
    "\n",
    "    ## 2. 데이터를 앞서 정의한 preprocess_sentence() 함수로 정제하고, 토큰화합니다.\n",
    "    df_qna[\"questions\"] = df_qna[\"questions\"].apply(lambda x: preprocess_sentence(x))\n",
    "    df_qna[\"answers\"] = df_qna[\"answers\"].apply(lambda x: preprocess_sentence(x))\n",
    "    \n",
    "    ## 3. 토큰화는 전달받은 토크나이즈 함수를 사용합니다. 이번엔 mecab.morphs 함수를 전달하시면 됩니다.\n",
    "    mecab = Mecab()\n",
    "    df_qna[\"questions\"] = df_qna[\"questions\"].apply(lambda x: \" \".join(mecab.morphs(x)))\n",
    "    df_qna[\"answers\"] = df_qna[\"answers\"].apply(lambda x: \" \".join(mecab.morphs(x)))\n",
    "    \n",
    "    return df_qna\n",
    "    \n",
    "    ## 4. 토큰의 개수가 일정 길이 이상인 문장은 데이터에서 제외합니다.\n",
    "    \n",
    "## 테스트\n",
    "build_corpus(df_songys_chabot).sample(5)"
   ]
  },
  {
   "cell_type": "code",
   "execution_count": 16,
   "id": "a52f87e9",
   "metadata": {},
   "outputs": [
    {
     "data": {
      "application/vnd.jupyter.widget-view+json": {
       "model_id": "523b5d019a5145e680397e06f90014da",
       "version_major": 2,
       "version_minor": 0
      },
      "text/plain": [
       "  0%|          | 0/11823 [00:00<?, ?it/s]"
      ]
     },
     "metadata": {},
     "output_type": "display_data"
    },
    {
     "name": "stdout",
     "output_type": "stream",
     "text": [
      "len(corpus_q) : 11778\n",
      "len(corpus_a) : 11778\n"
     ]
    },
    {
     "data": {
      "text/plain": [
       "['12 시 땡 !',\n",
       " '1 지망 학교 떨어졌 어',\n",
       " '3 박 4 일 놀 러 가 고 싶 다',\n",
       " '3 박 4 일 정도 놀 러 가 고 싶 다',\n",
       " 'ppl 심하 네',\n",
       " 'sd 카드 망가졌 어',\n",
       " 'sd 카드 안 돼',\n",
       " 'sns 맞 팔 왜 안 하 지 ㅠㅠ',\n",
       " 'sns 시간 낭비 인 거 아 는데 매일 하 는 중',\n",
       " 'sns 시간 낭비 인데 자꾸 보 게 됨']"
      ]
     },
     "execution_count": 16,
     "metadata": {},
     "output_type": "execute_result"
    }
   ],
   "source": [
    "## 토큰 수 제한\n",
    "MAX_TOK_LEN = 25\n",
    "\n",
    "\n",
    "def build_corpus(df_qna_origin):\n",
    "    \n",
    "    \n",
    "    ## 1. 소스 문장 데이터와 타겟 문장 데이터를 입력으로 받습니다.\n",
    "    ## df_qna : 데이터프레임에 소스, 타겟 데이터 입력 받음.\n",
    "    df_qna = df_qna_origin.copy()\n",
    "\n",
    "    \n",
    "    ## 2. 데이터를 앞서 정의한 preprocess_sentence() 함수로 정제하고, 토큰화합니다.\n",
    "    df_qna[\"questions\"] = df_qna[\"questions\"].apply(lambda x: preprocess_sentence(x))\n",
    "    df_qna[\"answers\"] = df_qna[\"answers\"].apply(lambda x: preprocess_sentence(x))\n",
    "    \n",
    "    \n",
    "    ## 3. 토큰화는 전달받은 토크나이즈 함수를 사용합니다. 이번엔 mecab.morphs 함수를 전달하시면 됩니다.\n",
    "    mecab = Mecab()\n",
    "    df_qna[\"questions\"] = df_qna[\"questions\"].apply(lambda x: \" \".join(mecab.morphs(x)))\n",
    "    df_qna[\"answers\"] = df_qna[\"answers\"].apply(lambda x: \" \".join(mecab.morphs(x)))\n",
    "    \n",
    "    \n",
    "    ## 4. 토큰의 개수가 일정 길이 이상인 문장은 데이터에서 제외합니다.\n",
    "    que_corpus, ans_corpus = [], []\n",
    "    que_corpus.clear(); ans_corpus.clear();\n",
    "    \n",
    "    for i in tqdm(range(len(df_qna))):\n",
    "        if ((len(df_qna[\"questions\"][i].split()) < MAX_TOK_LEN) and (len(df_qna[\"answers\"][i].split()) < MAX_TOK_LEN)):\n",
    "            que_corpus.append(df_qna[\"questions\"][i])\n",
    "            ans_corpus.append(df_qna[\"answers\"][i])\n",
    "        \n",
    "    return df_qna, que_corpus, ans_corpus\n",
    "    \n",
    "## 테스트\n",
    "_, corpus_q, corpus_a = build_corpus(df_songys_chabot)\n",
    "print(\"len(corpus_q) :\", len(corpus_q))\n",
    "print(\"len(corpus_a) :\", len(corpus_a))\n",
    "corpus_q[0:10]"
   ]
  },
  {
   "cell_type": "code",
   "execution_count": 17,
   "id": "8243cddd",
   "metadata": {},
   "outputs": [
    {
     "data": {
      "application/vnd.jupyter.widget-view+json": {
       "model_id": "5218439bc5844f6db2be8937886d9088",
       "version_major": 2,
       "version_minor": 0
      },
      "text/plain": [
       "  0%|          | 0/11823 [00:00<?, ?it/s]"
      ]
     },
     "metadata": {},
     "output_type": "display_data"
    },
    {
     "name": "stdout",
     "output_type": "stream",
     "text": [
      "(11397, 2)\n",
      "len(corpus_q) : 11397\n",
      "len(corpus_a) : 11397\n"
     ]
    }
   ],
   "source": [
    "## 토큰 수 제한\n",
    "MAX_TOK_LEN = 20 - 2    ## START, END 토큰 계산 반영\n",
    "\n",
    "\n",
    "def build_corpus(df_qna_origin):\n",
    "    \n",
    "    \n",
    "    ## 1. 소스 문장 데이터와 타겟 문장 데이터를 입력으로 받습니다.\n",
    "    ## df_qna : 데이터프레임에 소스, 타겟 데이터 입력 받음.\n",
    "    df_qna = df_qna_origin.copy()\n",
    "\n",
    "    \n",
    "    ## 2. 데이터를 앞서 정의한 preprocess_sentence() 함수로 정제하고, 토큰화합니다.\n",
    "    df_qna[\"questions\"] = df_qna[\"questions\"].apply(lambda x: preprocess_sentence(x))\n",
    "    df_qna[\"answers\"] = df_qna[\"answers\"].apply(lambda x: preprocess_sentence(x))\n",
    "    \n",
    "    \n",
    "    ## 3. 토큰화는 전달받은 토크나이즈 함수를 사용합니다. 이번엔 mecab.morphs 함수를 전달하시면 됩니다.\n",
    "    mecab = Mecab()\n",
    "    df_qna[\"questions\"] = df_qna[\"questions\"].apply(lambda x: \" \".join(mecab.morphs(x)))\n",
    "    df_qna[\"answers\"] = df_qna[\"answers\"].apply(lambda x: \" \".join(mecab.morphs(x)))\n",
    "    \n",
    "    \n",
    "    ## 4. 토큰의 개수가 일정 길이 이상인 문장은 데이터에서 제외합니다.\n",
    "    que_corpus, ans_corpus = [], []\n",
    "    que_corpus.clear(); ans_corpus.clear();\n",
    "    \n",
    "    for i in tqdm(range(len(df_qna))):\n",
    "        if ((len(df_qna[\"questions\"][i].split()) < MAX_TOK_LEN) and (len(df_qna[\"answers\"][i].split()) < MAX_TOK_LEN)):\n",
    "            que_corpus.append(df_qna[\"questions\"][i])\n",
    "            ans_corpus.append(df_qna[\"answers\"][i])\n",
    "            \n",
    "            \n",
    "    ## 5. 중복되는 문장은 데이터에서 제외합니다. \n",
    "    ## 소스 : 타겟 쌍을 비교하지 않고 소스는 소스대로 타겟은 타겟대로 검사합니다. \n",
    "    ## 중복 쌍이 흐트러지지 않도록 유의하세요!\n",
    "    df_built = pd.DataFrame(columns=[\"questions\",\"answers\"])\n",
    "    df_built[\"questions\"] = que_corpus\n",
    "    df_built[\"answers\"] = ans_corpus\n",
    "    print(df_built.shape)\n",
    "    \n",
    "    \n",
    "    return df_built, que_corpus, ans_corpus\n",
    "    \n",
    "## 테스트\n",
    "df_temp, corpus_q, corpus_a = build_corpus(df_songys_chabot)\n",
    "print(\"len(corpus_q) :\", len(corpus_q))\n",
    "print(\"len(corpus_a) :\", len(corpus_a))\n"
   ]
  },
  {
   "cell_type": "code",
   "execution_count": 18,
   "id": "54b17387",
   "metadata": {},
   "outputs": [
    {
     "data": {
      "text/html": [
       "<div>\n",
       "<style scoped>\n",
       "    .dataframe tbody tr th:only-of-type {\n",
       "        vertical-align: middle;\n",
       "    }\n",
       "\n",
       "    .dataframe tbody tr th {\n",
       "        vertical-align: top;\n",
       "    }\n",
       "\n",
       "    .dataframe thead th {\n",
       "        text-align: right;\n",
       "    }\n",
       "</style>\n",
       "<table border=\"1\" class=\"dataframe\">\n",
       "  <thead>\n",
       "    <tr style=\"text-align: right;\">\n",
       "      <th></th>\n",
       "      <th>questions</th>\n",
       "      <th>answers</th>\n",
       "    </tr>\n",
       "  </thead>\n",
       "  <tbody>\n",
       "    <tr>\n",
       "      <th>0</th>\n",
       "      <td>12 시 땡 !</td>\n",
       "      <td>하루 가 또 가 네요 .</td>\n",
       "    </tr>\n",
       "    <tr>\n",
       "      <th>1</th>\n",
       "      <td>1 지망 학교 떨어졌 어</td>\n",
       "      <td>위로 해 드립니다 .</td>\n",
       "    </tr>\n",
       "    <tr>\n",
       "      <th>2</th>\n",
       "      <td>3 박 4 일 놀 러 가 고 싶 다</td>\n",
       "      <td>여행 은 언제나 좋 죠 .</td>\n",
       "    </tr>\n",
       "    <tr>\n",
       "      <th>3</th>\n",
       "      <td>3 박 4 일 정도 놀 러 가 고 싶 다</td>\n",
       "      <td>여행 은 언제나 좋 죠 .</td>\n",
       "    </tr>\n",
       "    <tr>\n",
       "      <th>4</th>\n",
       "      <td>ppl 심하 네</td>\n",
       "      <td>눈살 이 찌푸려 지 죠 .</td>\n",
       "    </tr>\n",
       "    <tr>\n",
       "      <th>5</th>\n",
       "      <td>sd 카드 망가졌 어</td>\n",
       "      <td>다시 새로 사 는 게 마음 편해요 .</td>\n",
       "    </tr>\n",
       "    <tr>\n",
       "      <th>6</th>\n",
       "      <td>sd 카드 안 돼</td>\n",
       "      <td>다시 새로 사 는 게 마음 편해요 .</td>\n",
       "    </tr>\n",
       "    <tr>\n",
       "      <th>7</th>\n",
       "      <td>sns 맞 팔 왜 안 하 지 ㅠㅠ</td>\n",
       "      <td>잘 모르 고 있 을 수 도 있 어요 .</td>\n",
       "    </tr>\n",
       "  </tbody>\n",
       "</table>\n",
       "</div>"
      ],
      "text/plain": [
       "                questions                answers\n",
       "0                12 시 땡 !          하루 가 또 가 네요 .\n",
       "1           1 지망 학교 떨어졌 어            위로 해 드립니다 .\n",
       "2     3 박 4 일 놀 러 가 고 싶 다         여행 은 언제나 좋 죠 .\n",
       "3  3 박 4 일 정도 놀 러 가 고 싶 다         여행 은 언제나 좋 죠 .\n",
       "4                ppl 심하 네         눈살 이 찌푸려 지 죠 .\n",
       "5             sd 카드 망가졌 어   다시 새로 사 는 게 마음 편해요 .\n",
       "6               sd 카드 안 돼   다시 새로 사 는 게 마음 편해요 .\n",
       "7      sns 맞 팔 왜 안 하 지 ㅠㅠ  잘 모르 고 있 을 수 도 있 어요 ."
      ]
     },
     "execution_count": 18,
     "metadata": {},
     "output_type": "execute_result"
    }
   ],
   "source": [
    "df_temp.head(8)"
   ]
  },
  {
   "cell_type": "code",
   "execution_count": 19,
   "id": "1a9df33a",
   "metadata": {
    "scrolled": true
   },
   "outputs": [
    {
     "data": {
      "text/html": [
       "<div>\n",
       "<style scoped>\n",
       "    .dataframe tbody tr th:only-of-type {\n",
       "        vertical-align: middle;\n",
       "    }\n",
       "\n",
       "    .dataframe tbody tr th {\n",
       "        vertical-align: top;\n",
       "    }\n",
       "\n",
       "    .dataframe thead th {\n",
       "        text-align: right;\n",
       "    }\n",
       "</style>\n",
       "<table border=\"1\" class=\"dataframe\">\n",
       "  <thead>\n",
       "    <tr style=\"text-align: right;\">\n",
       "      <th></th>\n",
       "      <th>questions</th>\n",
       "      <th>answers</th>\n",
       "    </tr>\n",
       "  </thead>\n",
       "  <tbody>\n",
       "    <tr>\n",
       "      <th>11390</th>\n",
       "      <td>회식 하 는데 나 만 챙겨 줘 . 썸 임 ?</td>\n",
       "      <td>호감 이 있 을 수 도 있 어요 . 그렇지만 조금 더 상황 을 지켜보 세요 .</td>\n",
       "    </tr>\n",
       "    <tr>\n",
       "      <th>11391</th>\n",
       "      <td>후회 없이 사랑 하 고 싶 어</td>\n",
       "      <td>진심 으로 다가가 보 세요 .</td>\n",
       "    </tr>\n",
       "    <tr>\n",
       "      <th>11392</th>\n",
       "      <td>훔쳐 보 는 것 도 눈치 보임 .</td>\n",
       "      <td>티 가 나 니까 눈치 가 보이 는 거 죠 !</td>\n",
       "    </tr>\n",
       "    <tr>\n",
       "      <th>11393</th>\n",
       "      <td>훔쳐 보 는 것 도 눈치 보임 .</td>\n",
       "      <td>훔쳐 보 는 거 티나 나 봐요 .</td>\n",
       "    </tr>\n",
       "    <tr>\n",
       "      <th>11394</th>\n",
       "      <td>흑기사 해 주 는 짝 남 .</td>\n",
       "      <td>설렜 겠 어요 .</td>\n",
       "    </tr>\n",
       "    <tr>\n",
       "      <th>11395</th>\n",
       "      <td>힘든 연애 좋 은 연애 라는 게 무슨 차이 일까 ?</td>\n",
       "      <td>잘 헤어질 수 있 는 사이 여부 인 거 같 아요 .</td>\n",
       "    </tr>\n",
       "    <tr>\n",
       "      <th>11396</th>\n",
       "      <td>힘들 어서 결혼 할까봐</td>\n",
       "      <td>도피성 결혼 은 하 지 않 길 바라 요 .</td>\n",
       "    </tr>\n",
       "  </tbody>\n",
       "</table>\n",
       "</div>"
      ],
      "text/plain": [
       "                          questions  \\\n",
       "11390      회식 하 는데 나 만 챙겨 줘 . 썸 임 ?   \n",
       "11391              후회 없이 사랑 하 고 싶 어   \n",
       "11392            훔쳐 보 는 것 도 눈치 보임 .   \n",
       "11393            훔쳐 보 는 것 도 눈치 보임 .   \n",
       "11394               흑기사 해 주 는 짝 남 .   \n",
       "11395  힘든 연애 좋 은 연애 라는 게 무슨 차이 일까 ?   \n",
       "11396                  힘들 어서 결혼 할까봐   \n",
       "\n",
       "                                           answers  \n",
       "11390  호감 이 있 을 수 도 있 어요 . 그렇지만 조금 더 상황 을 지켜보 세요 .  \n",
       "11391                             진심 으로 다가가 보 세요 .  \n",
       "11392                     티 가 나 니까 눈치 가 보이 는 거 죠 !  \n",
       "11393                           훔쳐 보 는 거 티나 나 봐요 .  \n",
       "11394                                    설렜 겠 어요 .  \n",
       "11395                 잘 헤어질 수 있 는 사이 여부 인 거 같 아요 .  \n",
       "11396                      도피성 결혼 은 하 지 않 길 바라 요 .  "
      ]
     },
     "execution_count": 19,
     "metadata": {},
     "output_type": "execute_result"
    }
   ],
   "source": [
    "df_temp.tail(7)"
   ]
  },
  {
   "cell_type": "code",
   "execution_count": 20,
   "id": "37b7bd7d",
   "metadata": {},
   "outputs": [
    {
     "data": {
      "application/vnd.jupyter.widget-view+json": {
       "model_id": "d1479007afff44efbe9757bb5daf4c7b",
       "version_major": 2,
       "version_minor": 0
      },
      "text/plain": [
       "  0%|          | 0/11823 [00:00<?, ?it/s]"
      ]
     },
     "metadata": {},
     "output_type": "display_data"
    },
    {
     "name": "stdout",
     "output_type": "stream",
     "text": [
      "(11397, 2)\n",
      "df_build 전체 : (11397, 2)\n",
      "df_build【questions】중복 : (169, 2)\n",
      "df_build【answers】중복 : (3986, 2)\n",
      "중복제거 실행 ▶ ────────────────────────────────\n",
      "df_build 전체 : (7354, 2)\n",
      "df_build【questions】결측 : (0, 2)\n",
      "df_build【answers】결측 : (0, 2)\n",
      "결측제거 실행 ▶ ────────────────────────────────\n",
      "df_build 전체 : (7354, 2)\n",
      "셔플링 ▶ ────────────────────────────────\n",
      "len(corpus_q) : 7354\n",
      "len(corpus_a) : 7354\n",
      "df_built.shape : (7354, 2)\n"
     ]
    }
   ],
   "source": [
    "## 토큰 수 제한\n",
    "MAX_TOK_LEN = 20 - 2    ## START, END 토큰 계산 반영\n",
    "\n",
    "\n",
    "def build_corpus(df_qna_origin):\n",
    "    \n",
    "    \n",
    "    ## 1. 소스 문장 데이터와 타겟 문장 데이터를 입력으로 받습니다.\n",
    "    ## df_qna : 데이터프레임에 소스, 타겟 데이터 입력 받음.\n",
    "    df_qna = df_qna_origin.copy()\n",
    "\n",
    "    \n",
    "    ## 2. 데이터를 앞서 정의한 preprocess_sentence() 함수로 정제하고, 토큰화합니다.\n",
    "    df_qna[\"questions\"] = df_qna[\"questions\"].apply(lambda x: preprocess_sentence(x))\n",
    "    df_qna[\"answers\"] = df_qna[\"answers\"].apply(lambda x: preprocess_sentence(x))\n",
    "    \n",
    "    \n",
    "    ## 3. 토큰화는 전달받은 토크나이즈 함수를 사용합니다. 이번엔 mecab.morphs 함수를 전달하시면 됩니다.\n",
    "    \n",
    "    df_qna[\"questions\"] = df_qna[\"questions\"].apply(lambda x: \" \".join(mecab.morphs(x)))\n",
    "    df_qna[\"answers\"] = df_qna[\"answers\"].apply(lambda x: \" \".join(mecab.morphs(x)))\n",
    "    \n",
    "    \n",
    "    ## 4. 토큰의 개수가 일정 길이 이상인 문장은 데이터에서 제외합니다.\n",
    "    que_corpus, ans_corpus = [], []\n",
    "    que_corpus.clear(); ans_corpus.clear();\n",
    "    \n",
    "    for i in tqdm(range(len(df_qna))):\n",
    "        if ((len(df_qna[\"questions\"][i].split()) < MAX_TOK_LEN) and (len(df_qna[\"answers\"][i].split()) < MAX_TOK_LEN)):\n",
    "            que_corpus.append(df_qna[\"questions\"][i])\n",
    "            ans_corpus.append(df_qna[\"answers\"][i])\n",
    "            \n",
    "            \n",
    "    ## 5. 중복되는 문장은 데이터에서 제외합니다. \n",
    "    ## 소스 : 타겟 쌍을 비교하지 않고 소스는 소스대로 타겟은 타겟대로 검사합니다. \n",
    "    ## 중복 쌍이 흐트러지지 않도록 유의하세요!\n",
    "    df_build = pd.DataFrame(columns=[\"questions\",\"answers\"])\n",
    "    df_build[\"questions\"] = que_corpus\n",
    "    df_build[\"answers\"] = ans_corpus\n",
    "    print(df_build.shape)\n",
    "\n",
    "    ## 중복제거 내용 확인\n",
    "    print(\"df_build 전체 :\", df_build.shape)\n",
    "    print(\"df_build【questions】중복 :\", df_build[df_build[\"questions\"].duplicated()].shape)\n",
    "    print(\"df_build【answers】중복 :\", df_build[df_build[\"answers\"].duplicated()].shape)\n",
    "    \n",
    "    ## 중복제거 실행\n",
    "    df_build.drop_duplicates([\"answers\"], inplace=True)\n",
    "    df_build.drop_duplicates([\"questions\"], inplace=True)\n",
    "    print(\"중복제거 실행 ▶\", \"─\" * 32)\n",
    "    \n",
    "    ## 발생했을지도 모르는, 결측 내용 확인\n",
    "    print(\"df_build 전체 :\", df_build.shape)\n",
    "    print(\"df_build【questions】결측 :\", df_build[df_build[\"questions\"].isnull()].shape)\n",
    "    print(\"df_build【answers】결측 :\", df_build[df_build[\"answers\"].isnull()].shape)\n",
    "    \n",
    "    ## 결측제거 실행\n",
    "    df_build = df_build.dropna()\n",
    "    print(\"결측제거 실행 ▶\", \"─\" * 32)\n",
    "    \n",
    "    ## 결측 제거 후\n",
    "    print(\"df_build 전체 :\", df_build.shape)\n",
    "    \n",
    "\n",
    "    # shuffling하고 index reset\n",
    "    df_build = df_build.sample(frac=1).reset_index(drop=True)\n",
    "    print(\"셔플링 ▶\", \"─\" * 32)\n",
    "    \n",
    "\n",
    "    return df_build, list(df_build[\"questions\"]), list(df_build[\"answers\"])\n",
    "    \n",
    "    \n",
    "## 테스트\n",
    "df_built, corpus_q, corpus_a = build_corpus(df_songys_chabot)\n",
    "print(\"len(corpus_q) :\", len(corpus_q))\n",
    "print(\"len(corpus_a) :\", len(corpus_a))\n",
    "print(\"df_built.shape :\", df_built.shape)\n"
   ]
  },
  {
   "cell_type": "code",
   "execution_count": 21,
   "id": "3005c990",
   "metadata": {
    "scrolled": true
   },
   "outputs": [
    {
     "data": {
      "text/html": [
       "<div>\n",
       "<style scoped>\n",
       "    .dataframe tbody tr th:only-of-type {\n",
       "        vertical-align: middle;\n",
       "    }\n",
       "\n",
       "    .dataframe tbody tr th {\n",
       "        vertical-align: top;\n",
       "    }\n",
       "\n",
       "    .dataframe thead th {\n",
       "        text-align: right;\n",
       "    }\n",
       "</style>\n",
       "<table border=\"1\" class=\"dataframe\">\n",
       "  <thead>\n",
       "    <tr style=\"text-align: right;\">\n",
       "      <th></th>\n",
       "      <th>questions</th>\n",
       "      <th>answers</th>\n",
       "    </tr>\n",
       "  </thead>\n",
       "  <tbody>\n",
       "    <tr>\n",
       "      <th>3412</th>\n",
       "      <td>여자 친구 랑 피시방 데이트 도 하 고 싶 은데 어떻게 말 을 할까 ?</td>\n",
       "      <td>카페 처럼 생긴 피시방 이 라면 데이트 도 문제 없 을 거 예요 .</td>\n",
       "    </tr>\n",
       "    <tr>\n",
       "      <th>4614</th>\n",
       "      <td>못 참 고 카톡 보내 버렸 네</td>\n",
       "      <td>보냈으니 어쩔 수 없 어요 .</td>\n",
       "    </tr>\n",
       "    <tr>\n",
       "      <th>2085</th>\n",
       "      <td>이 길 이 나 에게 맞 는 걸까</td>\n",
       "      <td>잘 가 고 있 을 거 예요 .</td>\n",
       "    </tr>\n",
       "    <tr>\n",
       "      <th>4226</th>\n",
       "      <td>이제 혼자 서 도 잘 할 수 있 어 .</td>\n",
       "      <td>그러면 같이 도 잘 하 게 될 거 예요 .</td>\n",
       "    </tr>\n",
       "    <tr>\n",
       "      <th>1865</th>\n",
       "      <td>입원 중 에 이별 통보 받 았 는데 마이 아프 네</td>\n",
       "      <td>그분 이 너무 했 네요 .</td>\n",
       "    </tr>\n",
       "    <tr>\n",
       "      <th>4105</th>\n",
       "      <td>이제 너 따위 생각 도 안 난다 꺼져</td>\n",
       "      <td>말 하 면서 기분 이 좀 나아졌 길 바랍니다 .</td>\n",
       "    </tr>\n",
       "    <tr>\n",
       "      <th>5116</th>\n",
       "      <td>잘 참 아 왔 는데 눈물 흘렸 네 .</td>\n",
       "      <td>자신 의 감정 에 귀 기울이 세요 . 우 는 건 죄 가 아니 랍니다 .</td>\n",
       "    </tr>\n",
       "    <tr>\n",
       "      <th>3501</th>\n",
       "      <td>이직각 인가</td>\n",
       "      <td>직장 스트레스 가 심한가 봐요 .</td>\n",
       "    </tr>\n",
       "    <tr>\n",
       "      <th>6106</th>\n",
       "      <td>정신병 걸릴 것 같 네</td>\n",
       "      <td>생각 보다 정신 은 강 합니다 .</td>\n",
       "    </tr>\n",
       "    <tr>\n",
       "      <th>3951</th>\n",
       "      <td>남자 들 은 좋 아 하 는 사람 한테 만 잘 해 주 고 그래요 ?</td>\n",
       "      <td>사람 마다 다르 겠 지만 좋 아 하 는 사람 한테 더 잘 할 거 예요 .</td>\n",
       "    </tr>\n",
       "  </tbody>\n",
       "</table>\n",
       "</div>"
      ],
      "text/plain": [
       "                                    questions  \\\n",
       "3412  여자 친구 랑 피시방 데이트 도 하 고 싶 은데 어떻게 말 을 할까 ?   \n",
       "4614                         못 참 고 카톡 보내 버렸 네   \n",
       "2085                        이 길 이 나 에게 맞 는 걸까   \n",
       "4226                    이제 혼자 서 도 잘 할 수 있 어 .   \n",
       "1865              입원 중 에 이별 통보 받 았 는데 마이 아프 네   \n",
       "4105                     이제 너 따위 생각 도 안 난다 꺼져   \n",
       "5116                     잘 참 아 왔 는데 눈물 흘렸 네 .   \n",
       "3501                                   이직각 인가   \n",
       "6106                             정신병 걸릴 것 같 네   \n",
       "3951     남자 들 은 좋 아 하 는 사람 한테 만 잘 해 주 고 그래요 ?   \n",
       "\n",
       "                                       answers  \n",
       "3412     카페 처럼 생긴 피시방 이 라면 데이트 도 문제 없 을 거 예요 .  \n",
       "4614                          보냈으니 어쩔 수 없 어요 .  \n",
       "2085                          잘 가 고 있 을 거 예요 .  \n",
       "4226                   그러면 같이 도 잘 하 게 될 거 예요 .  \n",
       "1865                            그분 이 너무 했 네요 .  \n",
       "4105                말 하 면서 기분 이 좀 나아졌 길 바랍니다 .  \n",
       "5116   자신 의 감정 에 귀 기울이 세요 . 우 는 건 죄 가 아니 랍니다 .  \n",
       "3501                        직장 스트레스 가 심한가 봐요 .  \n",
       "6106                        생각 보다 정신 은 강 합니다 .  \n",
       "3951  사람 마다 다르 겠 지만 좋 아 하 는 사람 한테 더 잘 할 거 예요 .  "
      ]
     },
     "execution_count": 21,
     "metadata": {},
     "output_type": "execute_result"
    }
   ],
   "source": [
    "df_built.sample(10)"
   ]
  },
  {
   "cell_type": "markdown",
   "id": "7da918ba",
   "metadata": {},
   "source": [
    "&nbsp;"
   ]
  },
  {
   "cell_type": "markdown",
   "id": "409a9b96",
   "metadata": {},
   "source": [
    "### Step 4. Augmentation\n",
    "\n",
    "<hr>"
   ]
  },
  {
   "cell_type": "markdown",
   "id": "a6b8899b",
   "metadata": {},
   "source": [
    "우리에게 주어진 데이터는 **1만 개가량으로 적은 편**에 속합니다. 이럴 때에 사용할 수 있는 테크닉을 배웠으니 활용해 봐야겠죠? **Lexical Substitution을 실제로 적용**해 보도록 하겠습니다."
   ]
  },
  {
   "cell_type": "markdown",
   "id": "878ef4d5",
   "metadata": {},
   "source": [
    "아래 링크를 참고하여 **한국어로 사전 훈련된 Embedding 모델을 다운로드**합니다. `Korean (w)` 가 Word2Vec으로 학습한 모델이며 용량도 적당하므로 사이트에서 `Korean (w)` 를 찾아 다운로드하고, `ko.bin` 파일을 얻으세요!\n",
    "\n",
    "- [Kyubyong/wordvectors](https://github.com/Kyubyong/wordvectors)"
   ]
  },
  {
   "cell_type": "markdown",
   "id": "62fd4870",
   "metadata": {},
   "source": [
    "다운로드한 모델을 활용해 **데이터를 Augmentation** 하세요! 앞서 정의한 `lexical_sub()` 함수를 참고하면 도움이 많이 될 겁니다.\n",
    "\n"
   ]
  },
  {
   "cell_type": "markdown",
   "id": "a52cd2bf",
   "metadata": {},
   "source": [
    "*Augmentation된 `que_corpus` 와 원본 `ans_corpus` 가 병렬을 이루도록, 이후엔 반대로 원본 `que_corpus` 와<br>Augmentation된 `ans_corpus` 가 병렬을 이루도록 하여 **전체 데이터가 원래의 3배가량으로 늘어나도록** 합니다.*\n",
    "\n"
   ]
  },
  {
   "cell_type": "markdown",
   "id": "0ea87644",
   "metadata": {},
   "source": [
    "&nbsp;"
   ]
  },
  {
   "cell_type": "markdown",
   "id": "c2f17c65",
   "metadata": {},
   "source": [
    "아래의 코드를 실행 할 경우 오류메시지를 확인할 수 있다.\n",
    "\n",
    "### `Can't get attribute 'Vocab' on <module 'gensim.models.word2vec' from '/opt/conda/lib/python3.9/site-packages/gensim/models/word2vec.py'>`\n",
    "\n",
    "- [gensim Vocab 로드 오류 해결하기](https://iambeginnerdeveloper.tistory.com/41)\n",
    "\n",
    "미리 gensim  버전을 내려주어야 한다."
   ]
  },
  {
   "cell_type": "code",
   "execution_count": 22,
   "id": "2d4081d4",
   "metadata": {},
   "outputs": [
    {
     "name": "stdout",
     "output_type": "stream",
     "text": [
      "3.8.3\n"
     ]
    }
   ],
   "source": [
    "print(gensim.__version__)"
   ]
  },
  {
   "cell_type": "code",
   "execution_count": 23,
   "id": "16cad569",
   "metadata": {
    "scrolled": false
   },
   "outputs": [
    {
     "name": "stdout",
     "output_type": "stream",
     "text": [
      "Requirement already satisfied: gensim==3.8.3 in /opt/conda/lib/python3.9/site-packages (3.8.3)\n",
      "Requirement already satisfied: scipy>=0.18.1 in /opt/conda/lib/python3.9/site-packages (from gensim==3.8.3) (1.7.1)\n",
      "Requirement already satisfied: six>=1.5.0 in /opt/conda/lib/python3.9/site-packages (from gensim==3.8.3) (1.16.0)\n",
      "Requirement already satisfied: smart-open>=1.8.1 in /opt/conda/lib/python3.9/site-packages (from gensim==3.8.3) (5.2.1)\n",
      "Requirement already satisfied: numpy>=1.11.3 in /opt/conda/lib/python3.9/site-packages (from gensim==3.8.3) (1.21.4)\n",
      "\u001b[33mWARNING: Running pip as the 'root' user can result in broken permissions and conflicting behaviour with the system package manager. It is recommended to use a virtual environment instead: https://pip.pypa.io/warnings/venv\u001b[0m\n"
     ]
    }
   ],
   "source": [
    "!pip install --upgrade gensim==3.8.3"
   ]
  },
  {
   "cell_type": "markdown",
   "id": "631ecb2d",
   "metadata": {},
   "source": [
    "버전을 내린 경우에는 Kernel restart 이후 다시 Run 하여야 한다."
   ]
  },
  {
   "cell_type": "code",
   "execution_count": 24,
   "id": "2dfaef8c",
   "metadata": {},
   "outputs": [
    {
     "name": "stdout",
     "output_type": "stream",
     "text": [
      "3.8.3\n"
     ]
    }
   ],
   "source": [
    "print(gensim.__version__)"
   ]
  },
  {
   "cell_type": "code",
   "execution_count": 25,
   "id": "8f394052",
   "metadata": {
    "scrolled": true
   },
   "outputs": [
    {
     "data": {
      "text/plain": [
       "gensim.models.word2vec.Word2Vec"
      ]
     },
     "execution_count": 25,
     "metadata": {},
     "output_type": "execute_result"
    }
   ],
   "source": [
    "\n",
    "## 한국어로 사전 훈련된 Embedding 모델을 다운로드합니다. \n",
    "## Korean (w) 가 Word2Vec으로 학습한 모델이며 용량도 적당하므로\n",
    "## 사이트에서 Korean (w)를 찾아 다운로드하고, ko.bin 파일을 얻으세요!\n",
    "\n",
    "\n",
    "## Load PreTrained Korean Embedding Model\n",
    "\n",
    "## 직접 다운로드 링크\n",
    "## \"https://drive.google.com/uc?export=download&id=0B0ZXk88koS2KbDhXdWg1Q2RydlU&confirm=yes\"\n",
    "\n",
    "ko_w2v = tf.keras.utils.get_file(\n",
    "    os.getenv(\"HOME\") + \"/aiffel/transformer_chatbot/data/ko.zip\",\n",
    "    origin=\"https://drive.google.com/uc?export=download&id=0B0ZXk88koS2KbDhXdWg1Q2RydlU&confirm=yes\",\n",
    "    extract=True, cache_subdir=\"/data/\")\n",
    "\n",
    "w2v_path = \"/data/ko.bin\"\n",
    "w2v = gensim.models.Word2Vec.load(w2v_path)\n",
    "type(w2v)"
   ]
  },
  {
   "cell_type": "markdown",
   "id": "1a227615",
   "metadata": {},
   "source": [
    "불러온 모델을 테스트해보자."
   ]
  },
  {
   "cell_type": "code",
   "execution_count": 26,
   "id": "72941394",
   "metadata": {},
   "outputs": [
    {
     "name": "stderr",
     "output_type": "stream",
     "text": [
      "/tmp/ipykernel_195/468656562.py:1: DeprecationWarning: Call to deprecated `most_similar` (Method will be removed in 4.0.0, use self.wv.most_similar() instead).\n",
      "  w2v.most_similar(\"포도\")\n"
     ]
    },
    {
     "data": {
      "text/plain": [
       "[('딸기', 0.7215752601623535),\n",
       " ('사탕무', 0.6981558203697205),\n",
       " ('복숭아', 0.6955955624580383),\n",
       " ('참깨', 0.6662256121635437),\n",
       " ('고구마', 0.6647557020187378),\n",
       " ('옥수수', 0.6639925241470337),\n",
       " ('땅콩', 0.6633952856063843),\n",
       " ('벼', 0.6594249606132507),\n",
       " ('양배추', 0.6584994196891785),\n",
       " ('귀리', 0.657525360584259)]"
      ]
     },
     "execution_count": 26,
     "metadata": {},
     "output_type": "execute_result"
    }
   ],
   "source": [
    "w2v.most_similar(\"포도\")"
   ]
  },
  {
   "cell_type": "code",
   "execution_count": 27,
   "id": "8cf5078c",
   "metadata": {
    "scrolled": true
   },
   "outputs": [
    {
     "name": "stderr",
     "output_type": "stream",
     "text": [
      "/tmp/ipykernel_195/2533396044.py:1: DeprecationWarning: Call to deprecated `most_similar` (Method will be removed in 4.0.0, use self.wv.most_similar() instead).\n",
      "  w2v.most_similar(\"민트\")\n"
     ]
    },
    {
     "data": {
      "text/plain": [
       "[('핑거', 0.6945439577102661),\n",
       " ('쿠키', 0.6922162771224976),\n",
       " ('캔디', 0.6658134460449219),\n",
       " ('바닐라', 0.6654531359672546),\n",
       " ('레몬', 0.6637237668037415),\n",
       " ('브레드', 0.6599413156509399),\n",
       " ('머핀', 0.6582386493682861),\n",
       " ('솔리드', 0.6522738933563232),\n",
       " ('바나나', 0.6511702537536621),\n",
       " ('밀크', 0.6466017961502075)]"
      ]
     },
     "execution_count": 27,
     "metadata": {},
     "output_type": "execute_result"
    }
   ],
   "source": [
    "w2v.most_similar(\"민트\")"
   ]
  },
  {
   "cell_type": "markdown",
   "id": "9ce9f367",
   "metadata": {},
   "source": [
    "주어진 데이터를 토큰 단위로 분리한 후, 랜덤하게 하나를 선정하여 해당 토큰과 가장 유사한 단어를 찾아 대치하는 것으로 Lexical Substitution 을 확인해 볼 수 있다."
   ]
  },
  {
   "cell_type": "code",
   "execution_count": 44,
   "id": "b25a7c6d",
   "metadata": {},
   "outputs": [
    {
     "name": "stdout",
     "output_type": "stream",
     "text": [
      "From: 너 의 공격 패턴 을 알아냈 다 .\n",
      "To  : 너 의 공격 메커니즘 을 알아냈 다 . \n"
     ]
    },
    {
     "name": "stderr",
     "output_type": "stream",
     "text": [
      "/tmp/ipykernel_195/3582300087.py:11: DeprecationWarning: Call to deprecated `most_similar` (Method will be removed in 4.0.0, use self.wv.most_similar() instead).\n",
      "  result += w2v.most_similar(tok)[0][0] + \" \"\n"
     ]
    }
   ],
   "source": [
    "sample_sentence = \"너의 공격 패턴을 알아냈다.\"\n",
    "sample_sentence = preprocess_sentence(sample_sentence)\n",
    "sample_sentence = \" \".join(mecab.morphs(sample_sentence))\n",
    "sample_tokens = sample_sentence.split()\n",
    "\n",
    "selected_tok = random.choice(sample_tokens)\n",
    "\n",
    "result = \"\"\n",
    "for tok in sample_tokens:\n",
    "    if tok is selected_tok:\n",
    "        result += w2v.most_similar(tok)[0][0] + \" \"\n",
    "\n",
    "    else:\n",
    "        result += tok + \" \"\n",
    "\n",
    "print(\"From:\", sample_sentence)\n",
    "print(\"To  :\", result)"
   ]
  },
  {
   "cell_type": "markdown",
   "id": "58edd272",
   "metadata": {},
   "source": [
    "입력된 문장을 Embedding 유사도를 기반으로 Augmentation 하여 반환하는 `lexical_sub()` 을 구현한다."
   ]
  },
  {
   "cell_type": "code",
   "execution_count": 45,
   "id": "85a16725",
   "metadata": {},
   "outputs": [],
   "source": [
    "def lexical_sub(sentence, word2vec):\n",
    "    res = \"\"\n",
    "    toks = sentence.split()\n",
    "\n",
    "    try:\n",
    "        _from = random.choice(toks)\n",
    "#         _to = word2vec.most_similar(_from)[0][0]\n",
    "        _to = word2vec.wv.most_similar(_from)[0][0]\n",
    "        \n",
    "    except:   # 단어장에 없는 단어\n",
    "        return None\n",
    "\n",
    "    for tok in toks:\n",
    "        if tok is _from:\n",
    "            res += _to + \" \"\n",
    "        else:\n",
    "            res += tok + \" \"\n",
    "\n",
    "    return res"
   ]
  },
  {
   "cell_type": "markdown",
   "id": "dc3ccbd0",
   "metadata": {},
   "source": [
    "Augmentation 을 수행하자."
   ]
  },
  {
   "cell_type": "markdown",
   "id": "9f2f55da",
   "metadata": {},
   "source": [
    "가이드에 따른 방법은 questions 먼저 수행하게 되면 question 이 2배수가 될 경우\n",
    "\n",
    "뒤이어서 answers 의 증강을 수행 할 경우 answerw 에서는 4배수를 증강하게 되는 경우가 있는 것 같다.\n",
    "\n",
    "그러므로 기존 함수의 내용을 조금 변경을 하여, 다시 만들도록 하겠다."
   ]
  },
  {
   "cell_type": "markdown",
   "id": "75c5cc47",
   "metadata": {},
   "source": [
    "arg_proc_v2 함수는 questions, answers 컬럼을 한번에 어그멘테이션 하므로,\n",
    "\n",
    "중복 데이터의 균형이 깨지는 사태를 더 방지할 수 있을 것이다."
   ]
  },
  {
   "cell_type": "code",
   "execution_count": 46,
   "id": "23f62633",
   "metadata": {},
   "outputs": [],
   "source": [
    "def arg_proc_v2(df:pd.DataFrame, wv:gensim.models.word2vec.Word2Vec):\n",
    "\n",
    "    ## NewDataFrame\n",
    "    df_augment = pd.DataFrame(columns=[\"questions\",\"answers\"])\n",
    "        \n",
    "    for i in tqdm(range(0, df.shape[0])):\n",
    "        row = df.iloc[i]\n",
    "\n",
    "        ## row[go_arg]\n",
    "        ## row[no_arg]\n",
    "            \n",
    "        q_aug = lexical_sub(row[\"questions\"], wv)    ## Augmentation\n",
    "        a_aug = lexical_sub(row[\"answers\"], wv)    ## Augmentation\n",
    "        \n",
    "        ## Augmentation 결과 모두 있을 경우, 추가\n",
    "        if (q_aug is not None) and (a_aug is not None):    ## 모두 증강 성공\n",
    "#             df_augment = df_augment.append({\"questions\":q_aug+\"ⓘ\", \"answers\":a_aug+\"ⓘ\"}, ignore_index=True)    ## 테스트\n",
    "            df_augment = df_augment.append({\"questions\":q_aug, \"answers\":a_aug}, ignore_index=True)\n",
    "        elif (q_aug is not None) and (a_aug is None):    ## questions 만 증강 성공\n",
    "#             df_augment = df_augment.append({\"questions\":q_aug+\"ⓘ\", \"answers\":row[\"answers\"]}, ignore_index=True)    ## 테스트\n",
    "            df_augment = df_augment.append({\"questions\":q_aug, \"answers\":row[\"answers\"]}, ignore_index=True)\n",
    "        elif (q_aug is None) and (a_aug is not None):    ## answers 만 증강 성공\n",
    "#             df_augment = df_augment.append({\"questions\":row[\"questions\"], \"answers\":a_aug+\"ⓘ\"}, ignore_index=True)    ## 테스트\n",
    "            df_augment = df_augment.append({\"questions\":row[\"questions\"], \"answers\":a_aug}, ignore_index=True)\n",
    "        \n",
    "        ## Augmentation 결과와 상관없이, 원본을 추가\n",
    "        ## Augmentation 결과 있을 경우, Aug 결과와 원본 결과 추가되므로 값이 1건 늘어난 셈.\n",
    "        df_augment = df_augment.append({\"questions\":row[\"questions\"], \"answers\":row[\"answers\"]}, ignore_index=True)\n",
    "        \n",
    "    \n",
    "    return df_augment"
   ]
  },
  {
   "cell_type": "markdown",
   "id": "f91c3e25",
   "metadata": {},
   "source": [
    "변경된 함수로 증강을 중첩하여 다시 실행하자."
   ]
  },
  {
   "cell_type": "code",
   "execution_count": 47,
   "id": "442e95a8",
   "metadata": {
    "scrolled": true
   },
   "outputs": [
    {
     "name": "stdout",
     "output_type": "stream",
     "text": [
      "[0/2] df_built.shape (7354, 2)\n"
     ]
    },
    {
     "data": {
      "application/vnd.jupyter.widget-view+json": {
       "model_id": "18e50f3a753e40939a6caa4a12b1f893",
       "version_major": 2,
       "version_minor": 0
      },
      "text/plain": [
       "  0%|          | 0/7354 [00:00<?, ?it/s]"
      ]
     },
     "metadata": {},
     "output_type": "display_data"
    },
    {
     "name": "stdout",
     "output_type": "stream",
     "text": [
      "[1/2] df_auged.shape (14574, 2)\n"
     ]
    },
    {
     "data": {
      "application/vnd.jupyter.widget-view+json": {
       "model_id": "28f6173555944d16bf688a379ae506c6",
       "version_major": 2,
       "version_minor": 0
      },
      "text/plain": [
       "  0%|          | 0/14574 [00:00<?, ?it/s]"
      ]
     },
     "metadata": {},
     "output_type": "display_data"
    },
    {
     "name": "stdout",
     "output_type": "stream",
     "text": [
      "[2/2] df_auged.shape (28892, 2)\n",
      "✔️\n"
     ]
    }
   ],
   "source": [
    "print(\"[0/2] df_built.shape\", df_built.shape)\n",
    "df_auged = arg_proc_v2(df_built, w2v)    ## 1st aug\n",
    "print(\"[1/2] df_auged.shape\", df_auged.shape)\n",
    "df_auged = arg_proc_v2(df_auged, w2v)    ## 2nd aug\n",
    "print(\"[2/2] df_auged.shape\", df_auged.shape)\n",
    "print(\"✔️\")"
   ]
  },
  {
   "cell_type": "code",
   "execution_count": 48,
   "id": "576e4b7b",
   "metadata": {},
   "outputs": [
    {
     "data": {
      "text/html": [
       "<div>\n",
       "<style scoped>\n",
       "    .dataframe tbody tr th:only-of-type {\n",
       "        vertical-align: middle;\n",
       "    }\n",
       "\n",
       "    .dataframe tbody tr th {\n",
       "        vertical-align: top;\n",
       "    }\n",
       "\n",
       "    .dataframe thead th {\n",
       "        text-align: right;\n",
       "    }\n",
       "</style>\n",
       "<table border=\"1\" class=\"dataframe\">\n",
       "  <thead>\n",
       "    <tr style=\"text-align: right;\">\n",
       "      <th></th>\n",
       "      <th>questions</th>\n",
       "      <th>answers</th>\n",
       "    </tr>\n",
       "  </thead>\n",
       "  <tbody>\n",
       "    <tr>\n",
       "      <th>21774</th>\n",
       "      <td>짝사랑 은 안 이뤄 지나 봐 는데</td>\n",
       "      <td>이뤄질 수 일쑤 있 답니다 .</td>\n",
       "    </tr>\n",
       "    <tr>\n",
       "      <th>11031</th>\n",
       "      <td>보 고 싶 다 , 목소리 라도 듣 기에 싶 어</td>\n",
       "      <td>전화 하 지 마요 .</td>\n",
       "    </tr>\n",
       "    <tr>\n",
       "      <th>20508</th>\n",
       "      <td>월급 은 안 오르 기에</td>\n",
       "      <td>월급 을 올려 달 이라고 당당 하 게 말씀 해 보 세요 .</td>\n",
       "    </tr>\n",
       "    <tr>\n",
       "      <th>8217</th>\n",
       "      <td>내 가 나 한테 해 주 고 싶 은 말</td>\n",
       "      <td>더 괜찮 은 사랑 이 찾 아 올 거 예요 .</td>\n",
       "    </tr>\n",
       "    <tr>\n",
       "      <th>20830</th>\n",
       "      <td>강아지</td>\n",
       "      <td>쉬 였 다가 가 세요 .</td>\n",
       "    </tr>\n",
       "    <tr>\n",
       "      <th>8807</th>\n",
       "      <td>전 여친 생일 ㅎㅎ</td>\n",
       "      <td>미련 이 아닐까요 ? 생각 하 지 않 았 으면 좋 겠 어요 .</td>\n",
       "    </tr>\n",
       "    <tr>\n",
       "      <th>18714</th>\n",
       "      <td>데이트 중 에 정적 있 더라도 괜찮 을까 ?</td>\n",
       "      <td>정적 이 있 을 때 아무렇 지 도 않 으면 편안 해진 거 예요 는데</td>\n",
       "    </tr>\n",
       "    <tr>\n",
       "      <th>16323</th>\n",
       "      <td>헤어진 여자 친구 에게 첫 실례 했 습니다</td>\n",
       "      <td>상처 주 는 말 은 하 꼼짝 않 아서 길 바랄게요 .</td>\n",
       "    </tr>\n",
       "  </tbody>\n",
       "</table>\n",
       "</div>"
      ],
      "text/plain": [
       "                        questions                                 answers\n",
       "21774         짝사랑 은 안 이뤄 지나 봐 는데                        이뤄질 수 일쑤 있 답니다 . \n",
       "11031  보 고 싶 다 , 목소리 라도 듣 기에 싶 어                              전화 하 지 마요 .\n",
       "20508               월급 은 안 오르 기에        월급 을 올려 달 이라고 당당 하 게 말씀 해 보 세요 . \n",
       "8217        내 가 나 한테 해 주 고 싶 은 말                더 괜찮 은 사랑 이 찾 아 올 거 예요 . \n",
       "20830                        강아지                           쉬 였 다가 가 세요 . \n",
       "8807                   전 여친 생일 ㅎㅎ      미련 이 아닐까요 ? 생각 하 지 않 았 으면 좋 겠 어요 .\n",
       "18714   데이트 중 에 정적 있 더라도 괜찮 을까 ?   정적 이 있 을 때 아무렇 지 도 않 으면 편안 해진 거 예요 는데 \n",
       "16323    헤어진 여자 친구 에게 첫 실례 했 습니다           상처 주 는 말 은 하 꼼짝 않 아서 길 바랄게요 . "
      ]
     },
     "execution_count": 48,
     "metadata": {},
     "output_type": "execute_result"
    }
   ],
   "source": [
    "df_auged.sample(8)"
   ]
  },
  {
   "cell_type": "code",
   "execution_count": 49,
   "id": "1efbc5e6",
   "metadata": {},
   "outputs": [
    {
     "data": {
      "text/html": [
       "<div>\n",
       "<style scoped>\n",
       "    .dataframe tbody tr th:only-of-type {\n",
       "        vertical-align: middle;\n",
       "    }\n",
       "\n",
       "    .dataframe tbody tr th {\n",
       "        vertical-align: top;\n",
       "    }\n",
       "\n",
       "    .dataframe thead th {\n",
       "        text-align: right;\n",
       "    }\n",
       "</style>\n",
       "<table border=\"1\" class=\"dataframe\">\n",
       "  <thead>\n",
       "    <tr style=\"text-align: right;\">\n",
       "      <th></th>\n",
       "      <th>questions</th>\n",
       "      <th>answers</th>\n",
       "    </tr>\n",
       "  </thead>\n",
       "  <tbody>\n",
       "    <tr>\n",
       "      <th>28876</th>\n",
       "      <td>의결 을 못 내려지 겠 어 . 어떻 해</td>\n",
       "      <td>의결 은 빠르 면 빠를수록 좋 을 것 예요 .</td>\n",
       "    </tr>\n",
       "    <tr>\n",
       "      <th>28877</th>\n",
       "      <td>의결 을 못 내리 겠 어 . 어떻 해</td>\n",
       "      <td>결정 은 빠르 면 빠를수록 좋 을 것 예요 .</td>\n",
       "    </tr>\n",
       "    <tr>\n",
       "      <th>28878</th>\n",
       "      <td>결정 를 못 내리 겠 어 . 어떻 해</td>\n",
       "      <td>결정 은 빠르 면 빠를수록 괜찮 을 거 예요 .</td>\n",
       "    </tr>\n",
       "    <tr>\n",
       "      <th>28879</th>\n",
       "      <td>결정 을 못 내리 겠 어 . 어떻 해</td>\n",
       "      <td>결정 은 빠르 면 빠를수록 좋 을 거 예요 .</td>\n",
       "    </tr>\n",
       "    <tr>\n",
       "      <th>28880</th>\n",
       "      <td>괜찮 아 진 줄 알 았 는데 으며</td>\n",
       "      <td>괜찮 은데 척 하 기에 있 던 걸 수 도 있 어요 .</td>\n",
       "    </tr>\n",
       "    <tr>\n",
       "      <th>28881</th>\n",
       "      <td>괜찮 아 진 줄 알 았 는데 는데</td>\n",
       "      <td>괜찮 은 척 하 기에 있 던 걸 수 도 있 어요 .</td>\n",
       "    </tr>\n",
       "    <tr>\n",
       "      <th>28882</th>\n",
       "      <td>괜찮 아 진 쪼 알 았 는데 .</td>\n",
       "      <td>괜찮 은 척 하 기에 있 던 걸 수 도 있 어요 .</td>\n",
       "    </tr>\n",
       "    <tr>\n",
       "      <th>28883</th>\n",
       "      <td>괜찮 아 진 줄 알 았 는데 .</td>\n",
       "      <td>괜찮 은 척 하 고 있 던 걸 수 도 있 어요 .</td>\n",
       "    </tr>\n",
       "    <tr>\n",
       "      <th>28884</th>\n",
       "      <td>일상 인은 추억</td>\n",
       "      <td>회상 의 편린 이 될 뿐 이 에요 .</td>\n",
       "    </tr>\n",
       "    <tr>\n",
       "      <th>28885</th>\n",
       "      <td>일상 인의 추억</td>\n",
       "      <td>회상 의 편린 이 될 뿐 이 에요 .</td>\n",
       "    </tr>\n",
       "    <tr>\n",
       "      <th>28886</th>\n",
       "      <td>일상 의 슬픔</td>\n",
       "      <td>기억 의 편린 이 될 뿐 그러 에요 .</td>\n",
       "    </tr>\n",
       "    <tr>\n",
       "      <th>28887</th>\n",
       "      <td>일상 의 추억</td>\n",
       "      <td>기억 의 편린 이 될 뿐 이 에요 .</td>\n",
       "    </tr>\n",
       "    <tr>\n",
       "      <th>28888</th>\n",
       "      <td>더 이상 사랑 때문 에 중상 받 기 싫 어</td>\n",
       "      <td>그래도 사랑 하 지 못하 는 것 보다 좋 을 거 예요 .</td>\n",
       "    </tr>\n",
       "    <tr>\n",
       "      <th>28889</th>\n",
       "      <td>더 이상 사랑 때문 에 치명상 받 기 싫 어</td>\n",
       "      <td>그래도 사랑 하 지 못하 는 것 보다 좋 을 거 예요 .</td>\n",
       "    </tr>\n",
       "    <tr>\n",
       "      <th>28890</th>\n",
       "      <td>더 이상 사랑 때문 에 상처 넘겨받 기 싫 어</td>\n",
       "      <td>그래도 사랑 하 지 않 ㄴ다는 것 보다 좋 을 거 예요 .</td>\n",
       "    </tr>\n",
       "    <tr>\n",
       "      <th>28891</th>\n",
       "      <td>더 이상 사랑 때문 에 상처 받 기 싫 어</td>\n",
       "      <td>그래도 사랑 하 지 않 는 것 보다 좋 을 거 예요 .</td>\n",
       "    </tr>\n",
       "  </tbody>\n",
       "</table>\n",
       "</div>"
      ],
      "text/plain": [
       "                        questions                            answers\n",
       "28876      의결 을 못 내려지 겠 어 . 어떻 해          의결 은 빠르 면 빠를수록 좋 을 것 예요 . \n",
       "28877       의결 을 못 내리 겠 어 . 어떻 해          결정 은 빠르 면 빠를수록 좋 을 것 예요 . \n",
       "28878       결정 를 못 내리 겠 어 . 어떻 해         결정 은 빠르 면 빠를수록 괜찮 을 거 예요 . \n",
       "28879        결정 을 못 내리 겠 어 . 어떻 해          결정 은 빠르 면 빠를수록 좋 을 거 예요 .\n",
       "28880         괜찮 아 진 줄 알 았 는데 으며      괜찮 은데 척 하 기에 있 던 걸 수 도 있 어요 . \n",
       "28881         괜찮 아 진 줄 알 았 는데 는데       괜찮 은 척 하 기에 있 던 걸 수 도 있 어요 . \n",
       "28882          괜찮 아 진 쪼 알 았 는데 .       괜찮 은 척 하 기에 있 던 걸 수 도 있 어요 . \n",
       "28883           괜찮 아 진 줄 알 았 는데 .        괜찮 은 척 하 고 있 던 걸 수 도 있 어요 .\n",
       "28884                   일상 인은 추억               회상 의 편린 이 될 뿐 이 에요 . \n",
       "28885                   일상 인의 추억               회상 의 편린 이 될 뿐 이 에요 . \n",
       "28886                    일상 의 슬픔              기억 의 편린 이 될 뿐 그러 에요 . \n",
       "28887                     일상 의 추억               기억 의 편린 이 될 뿐 이 에요 .\n",
       "28888    더 이상 사랑 때문 에 중상 받 기 싫 어    그래도 사랑 하 지 못하 는 것 보다 좋 을 거 예요 . \n",
       "28889   더 이상 사랑 때문 에 치명상 받 기 싫 어    그래도 사랑 하 지 못하 는 것 보다 좋 을 거 예요 . \n",
       "28890  더 이상 사랑 때문 에 상처 넘겨받 기 싫 어   그래도 사랑 하 지 않 ㄴ다는 것 보다 좋 을 거 예요 . \n",
       "28891     더 이상 사랑 때문 에 상처 받 기 싫 어     그래도 사랑 하 지 않 는 것 보다 좋 을 거 예요 ."
      ]
     },
     "execution_count": 49,
     "metadata": {},
     "output_type": "execute_result"
    }
   ],
   "source": [
    "df_auged.tail(16)"
   ]
  },
  {
   "cell_type": "markdown",
   "id": "3448f028",
   "metadata": {},
   "source": [
    "원본 데이터 의 약 4배가 되었고, questions 와 answers 각각 증강이 골고루 적용된 것을 확인 할 수 있다."
   ]
  },
  {
   "cell_type": "markdown",
   "id": "6f13eac1",
   "metadata": {},
   "source": [
    "이론상 중복이 발생했더라도 많이는 발생하지 않았을 것이다. 혹시 모르니 한번 확인 해 보자."
   ]
  },
  {
   "cell_type": "code",
   "execution_count": 50,
   "id": "b29638bf",
   "metadata": {},
   "outputs": [
    {
     "name": "stdout",
     "output_type": "stream",
     "text": [
      "df_auged 전체 : (28892, 2)\n",
      "df_auged 중복 : (222, 2)\n",
      "df_auged 중복제거후 예상 : (28670, 2)\n"
     ]
    }
   ],
   "source": [
    "print(\"df_auged 전체 :\", df_auged.shape)\n",
    "print(\"df_auged 중복 :\", df_auged[df_auged.duplicated()].shape)\n",
    "print(\"df_auged 중복제거후 예상 :\", df_auged[~df_auged.duplicated()].shape)"
   ]
  },
  {
   "cell_type": "code",
   "execution_count": 51,
   "id": "b48fd4a6",
   "metadata": {
    "scrolled": true
   },
   "outputs": [
    {
     "data": {
      "text/plain": [
       "(28670, 3)"
      ]
     },
     "execution_count": 51,
     "metadata": {},
     "output_type": "execute_result"
    }
   ],
   "source": [
    "df_auged.drop_duplicates(inplace=True)    ## 중복제거\n",
    "df_auged.reset_index(inplace=True)    ## 인덱스 초기화\n",
    "df_auged.shape"
   ]
  },
  {
   "cell_type": "markdown",
   "id": "1d6914ab",
   "metadata": {},
   "source": [
    "&nbsp;"
   ]
  },
  {
   "cell_type": "markdown",
   "id": "b5ae89cd",
   "metadata": {},
   "source": [
    "### Step 5. 데이터 벡터화\n",
    "\n",
    "<hr>"
   ]
  },
  {
   "cell_type": "markdown",
   "id": "b34988da",
   "metadata": {},
   "source": [
    "타겟 데이터인 `ans_corpus` 에 `<start>` 토큰과 `<end>` 토큰이 추가되지 않은 상태이니 이를 먼저 해결한 후 벡터화를 진행합니다. 우리가 구축한 `ans_corpus` 는 `list` 형태이기 때문에 아주 쉽게 이를 해결할 수 있답니다!"
   ]
  },
  {
   "cell_type": "code",
   "execution_count": 52,
   "id": "704307dc",
   "metadata": {},
   "outputs": [
    {
     "name": "stdout",
     "output_type": "stream",
     "text": [
      "['<start>', '12', '시', '땡', '!', '<end>']\n"
     ]
    }
   ],
   "source": [
    "sample_data = [\"12\", \"시\", \"땡\", \"!\"]\n",
    "\n",
    "print([\"<start>\"] + sample_data + [\"<end>\"])"
   ]
  },
  {
   "cell_type": "markdown",
   "id": "297d933c",
   "metadata": {},
   "source": [
    "１. 위 소스를 참고하여 타겟 데이터 전체에 **`<start>`** 토큰과 **`<end>`** 토큰을 추가해 주세요!"
   ]
  },
  {
   "cell_type": "markdown",
   "id": "ee4aca61",
   "metadata": {},
   "source": [
    "챗봇 훈련 데이터의 가장 큰 특징 중 하나라고 하자면 바로 **소스 데이터와 타겟 데이터가 같은 언어를 사용한다는 것**이겠죠. 앞서 배운 것처럼 이는 Embedding 층을 공유했을 때 많은 이점을 얻을 수 있습니다."
   ]
  },
  {
   "cell_type": "markdown",
   "id": "9d0be2c4",
   "metadata": {},
   "source": [
    "２. 특수 토큰을 더함으로써 **`ans_corpus`** 또한 완성이 되었으니, **`que_corpus`** 와 결합하여 **전체 데이터에 대한 단어 사전을 구축**하고 **벡터화하여 `enc_train` 과 `dec_train`** 을 얻으세요!"
   ]
  },
  {
   "cell_type": "markdown",
   "id": "f22465e4",
   "metadata": {},
   "source": [
    "&nbsp;"
   ]
  },
  {
   "cell_type": "markdown",
   "id": "1c47ceed",
   "metadata": {},
   "source": [
    "이제 토큰화와 벡터화를 다시 진행하여야 한다.\n",
    "\n",
    "토큰화 과정에서 타겟 데이터에 **`<start>`** 토큰과 **`<end>`** 토큰을 추가하고,\n",
    "\n",
    "단어사전 구축 및 벡터화를 진행하여 enc_train, dec_train 을 얻어보자.\n",
    "\n",
    "이전 실행시에는 train / test 데이터를 분할하였지만, 실제로 사용할 일은 없었어서 이번에는 분리하지 않고 진행하겠다."
   ]
  },
  {
   "cell_type": "code",
   "execution_count": 53,
   "id": "68b30a49",
   "metadata": {},
   "outputs": [
    {
     "data": {
      "text/plain": [
       "(28670, 2)"
      ]
     },
     "execution_count": 53,
     "metadata": {},
     "output_type": "execute_result"
    }
   ],
   "source": [
    "## 토큰화\n",
    "df_data = pd.DataFrame(columns=[\"questions\",\"answers\"])\n",
    "df_data[\"questions\"] = df_auged[\"questions\"].apply(lambda x: mecab.morphs(x))\n",
    "df_data[\"answers\"] = df_auged[\"answers\"].apply(lambda x: [\"<start>\"] + mecab.morphs(x) + [\"<end>\"])\n",
    "df_data.shape"
   ]
  },
  {
   "cell_type": "code",
   "execution_count": 54,
   "id": "d5b84743",
   "metadata": {
    "scrolled": true
   },
   "outputs": [
    {
     "data": {
      "text/html": [
       "<div>\n",
       "<style scoped>\n",
       "    .dataframe tbody tr th:only-of-type {\n",
       "        vertical-align: middle;\n",
       "    }\n",
       "\n",
       "    .dataframe tbody tr th {\n",
       "        vertical-align: top;\n",
       "    }\n",
       "\n",
       "    .dataframe thead th {\n",
       "        text-align: right;\n",
       "    }\n",
       "</style>\n",
       "<table border=\"1\" class=\"dataframe\">\n",
       "  <thead>\n",
       "    <tr style=\"text-align: right;\">\n",
       "      <th></th>\n",
       "      <th>index</th>\n",
       "      <th>questions</th>\n",
       "      <th>answers</th>\n",
       "    </tr>\n",
       "  </thead>\n",
       "  <tbody>\n",
       "    <tr>\n",
       "      <th>13371</th>\n",
       "      <td>13371</td>\n",
       "      <td>[썸, 타, 고, 싶, 다, ., 연애, 말, 고, .]</td>\n",
       "      <td>[&lt;start&gt;, 사귀, 기, 전, 에, 두근거림, 을, 좋아하, 나, 봐요, .,...</td>\n",
       "    </tr>\n",
       "    <tr>\n",
       "      <th>25932</th>\n",
       "      <td>25932</td>\n",
       "      <td>[괜히, 화, 가, 나, 서, 짝, 남, 의, 한, 테, 연락, 끊, 자고, 했, ...</td>\n",
       "      <td>[&lt;start&gt;, 상처, 를, 받, 지, 못하, 기, 위한, 선택, 이, 었, 을,...</td>\n",
       "    </tr>\n",
       "    <tr>\n",
       "      <th>4126</th>\n",
       "      <td>4126</td>\n",
       "      <td>[이, 별, 월, 과, 주일, 궤조]</td>\n",
       "      <td>[&lt;start&gt;, 다른, 곳, 으로, 생각, 를, 돌려, 보, 세요, ., &lt;end&gt;]</td>\n",
       "    </tr>\n",
       "    <tr>\n",
       "      <th>1396</th>\n",
       "      <td>1396</td>\n",
       "      <td>[상처, 가, 많, 은, 사람, 을, 사랑, 하, 는, 것, 은, 힘든, 일, 이,...</td>\n",
       "      <td>[&lt;start&gt;, 마음, 을, 보듬, 어, 주, 다가, 자신, 의, 마음, 이, 다...</td>\n",
       "    </tr>\n",
       "    <tr>\n",
       "      <th>14368</th>\n",
       "      <td>14368</td>\n",
       "      <td>[권태기, 라고, 이별, 을, 통보, 하, 는, 사람]</td>\n",
       "      <td>[&lt;start&gt;, 그, 사람, 도, 힘들, 었, 을, 거, 예요, ., &lt;end&gt;]</td>\n",
       "    </tr>\n",
       "  </tbody>\n",
       "</table>\n",
       "</div>"
      ],
      "text/plain": [
       "       index                                          questions  \\\n",
       "13371  13371                    [썸, 타, 고, 싶, 다, ., 연애, 말, 고, .]   \n",
       "25932  25932  [괜히, 화, 가, 나, 서, 짝, 남, 의, 한, 테, 연락, 끊, 자고, 했, ...   \n",
       "4126    4126                               [이, 별, 월, 과, 주일, 궤조]   \n",
       "1396    1396  [상처, 가, 많, 은, 사람, 을, 사랑, 하, 는, 것, 은, 힘든, 일, 이,...   \n",
       "14368  14368                     [권태기, 라고, 이별, 을, 통보, 하, 는, 사람]   \n",
       "\n",
       "                                                 answers  \n",
       "13371  [<start>, 사귀, 기, 전, 에, 두근거림, 을, 좋아하, 나, 봐요, .,...  \n",
       "25932  [<start>, 상처, 를, 받, 지, 못하, 기, 위한, 선택, 이, 었, 을,...  \n",
       "4126    [<start>, 다른, 곳, 으로, 생각, 를, 돌려, 보, 세요, ., <end>]  \n",
       "1396   [<start>, 마음, 을, 보듬, 어, 주, 다가, 자신, 의, 마음, 이, 다...  \n",
       "14368     [<start>, 그, 사람, 도, 힘들, 었, 을, 거, 예요, ., <end>]  "
      ]
     },
     "execution_count": 54,
     "metadata": {},
     "output_type": "execute_result"
    }
   ],
   "source": [
    "df_data.reset_index(inplace=True)    ## 인덱스 초기화\n",
    "\n",
    "df_data.sample(5)"
   ]
  },
  {
   "cell_type": "code",
   "execution_count": 55,
   "id": "db194bdf",
   "metadata": {},
   "outputs": [],
   "source": [
    "# enc_train, dec_train = [], []\n",
    "\n",
    "# enc_train.clear()\n",
    "# dec_train.clear()\n",
    "\n",
    "# for i in tqdm(range(len(df_data))):\n",
    "    \n",
    "#     enc_train.append(df_data[\"questions\"][i])\n",
    "    \n",
    "#     dec_train.append(df_data[\"answers\"][i])\n",
    "\n",
    "enc_data = list(df_data[\"questions\"])\n",
    "dec_data = list(df_data[\"answers\"])"
   ]
  },
  {
   "cell_type": "code",
   "execution_count": 56,
   "id": "cd477624",
   "metadata": {},
   "outputs": [
    {
     "name": "stderr",
     "output_type": "stream",
     "text": [
      "/tmp/ipykernel_195/2195455312.py:1: VisibleDeprecationWarning: Creating an ndarray from ragged nested sequences (which is a list-or-tuple of lists-or-tuples-or ndarrays with different lengths or shapes) is deprecated. If you meant to do this, you must specify 'dtype=object' when creating the ndarray.\n",
      "  np.array(enc_data).shape\n"
     ]
    },
    {
     "data": {
      "text/plain": [
       "(28670,)"
      ]
     },
     "execution_count": 56,
     "metadata": {},
     "output_type": "execute_result"
    }
   ],
   "source": [
    "np.array(enc_data).shape"
   ]
  },
  {
   "cell_type": "markdown",
   "id": "aed089e6",
   "metadata": {},
   "source": [
    "벡터화 하는 함수를 정의한다."
   ]
  },
  {
   "cell_type": "code",
   "execution_count": 57,
   "id": "33fed5f9",
   "metadata": {},
   "outputs": [],
   "source": [
    "## <start> <end> 토큰 추가전에 미리 크기를 키워놓았다.\n",
    "MAX_TOK_LEN = MAX_TOK_LEN + 2"
   ]
  },
  {
   "cell_type": "code",
   "execution_count": 58,
   "id": "54ae81f1",
   "metadata": {},
   "outputs": [],
   "source": [
    "def vectorize(enc_data, dec_data):\n",
    "    \n",
    "    tokenizer = tf.keras.preprocessing.text.Tokenizer(filters='')\n",
    "    \n",
    "    \n",
    "    tokenizer.fit_on_texts(enc_data)\n",
    "    \n",
    "    tokenizer.fit_on_texts(dec_data)\n",
    "\n",
    "    \n",
    "    enc_tensor = tokenizer.texts_to_sequences(enc_data)\n",
    "    \n",
    "    dec_tensor = tokenizer.texts_to_sequences(dec_data)\n",
    "    \n",
    "\n",
    "    enc_tensor = tf.keras.preprocessing.sequence.pad_sequences(enc_tensor, maxlen=MAX_TOK_LEN, padding='post')\n",
    "    \n",
    "    dec_tensor = tf.keras.preprocessing.sequence.pad_sequences(dec_tensor, maxlen=MAX_TOK_LEN, padding='post')\n",
    "    \n",
    "\n",
    "    return enc_tensor, dec_tensor, tokenizer\n"
   ]
  },
  {
   "cell_type": "markdown",
   "id": "59cc596d",
   "metadata": {},
   "source": [
    "벡터화 한다."
   ]
  },
  {
   "cell_type": "code",
   "execution_count": 59,
   "id": "17a4f893",
   "metadata": {},
   "outputs": [],
   "source": [
    "enc_train, dec_train, tok = vectorize(enc_data, dec_data)"
   ]
  },
  {
   "cell_type": "code",
   "execution_count": 60,
   "id": "fc8d4591",
   "metadata": {},
   "outputs": [
    {
     "data": {
      "text/plain": [
       "(28670, 20)"
      ]
     },
     "execution_count": 60,
     "metadata": {},
     "output_type": "execute_result"
    }
   ],
   "source": [
    "enc_train.shape"
   ]
  },
  {
   "cell_type": "code",
   "execution_count": 61,
   "id": "4ab989ee",
   "metadata": {},
   "outputs": [
    {
     "data": {
      "text/plain": [
       "(28670, 20)"
      ]
     },
     "execution_count": 61,
     "metadata": {},
     "output_type": "execute_result"
    }
   ],
   "source": [
    "dec_train.shape"
   ]
  },
  {
   "cell_type": "code",
   "execution_count": 62,
   "id": "97c91372",
   "metadata": {
    "scrolled": true
   },
   "outputs": [
    {
     "name": "stdout",
     "output_type": "stream",
     "text": [
      "len(tok.word_counts) : 7536\n",
      "VOCAB_SIZE : 7537\n"
     ]
    }
   ],
   "source": [
    "print(\"len(tok.word_counts) :\", len(tok.word_counts))\n",
    "\n",
    "## padding 해서 0 이 추가.\n",
    "VOCAB_SIZE = len(tok.word_counts) + 1\n",
    "print(\"VOCAB_SIZE :\", VOCAB_SIZE)"
   ]
  },
  {
   "cell_type": "markdown",
   "id": "f2817d48",
   "metadata": {},
   "source": [
    "&nbsp;"
   ]
  },
  {
   "cell_type": "markdown",
   "id": "068a45ce",
   "metadata": {},
   "source": [
    "### Step 6. 훈련하기\n",
    "\n",
    "<hr>"
   ]
  },
  {
   "cell_type": "markdown",
   "id": "979dbd01",
   "metadata": {},
   "source": [
    "앞서 번역 모델을 훈련하며 정의한 `Transformer` 를 그대로 사용하시면 됩니다! 대신 데이터의 크기가 작으니 하이퍼파라미터를 튜닝해야 과적합을 피할 수 있습니다. 모델을 훈련하고 아래 예문에 대한 답변을 생성하세요! **가장 멋진 답변**과 **모델의 하이퍼파라미터**를 제출하시면 됩니다."
   ]
  },
  {
   "cell_type": "markdown",
   "id": "4ed44f2f",
   "metadata": {},
   "source": [
    "&nbsp;"
   ]
  },
  {
   "cell_type": "markdown",
   "id": "0989a99c",
   "metadata": {},
   "source": [
    "~~앞서 모델에 필요한 함수들을 재사용하고, 하이퍼파라미터를 변경하여 더 작은 모델로 훈련을 수행하도록 할까 한다.~~\n",
    "\n",
    "모델을 줄이니 성능이 전반적으로 떨어지는 것이 눈에 보였다. 모델을 키우는 편이 더 나은것으로 보인다."
   ]
  },
  {
   "cell_type": "markdown",
   "id": "cd9d836a",
   "metadata": {},
   "source": [
    "모델설계를 마친 상태에서, 훈련을 진행한다."
   ]
  },
  {
   "cell_type": "code",
   "execution_count": 137,
   "id": "c2e8fb86",
   "metadata": {},
   "outputs": [
    {
     "name": "stdout",
     "output_type": "stream",
     "text": [
      "13 / 20 부터 화면에 출력\n"
     ]
    }
   ],
   "source": [
    "## Hyperparameters\n",
    "n_layers = 8\n",
    "d_model = 512\n",
    "n_heads = 16\n",
    "d_ff = 2048\n",
    "dropout = 0.3\n",
    "warmup_steps = 4000    ## default 4000\n",
    "batch_size = 32        ##\n",
    "epochs = 20\n",
    "printskip = int(epochs // 1.5)\n",
    "\n",
    "BATCH_SIZE = batch_size\n",
    "EPOCHS = epochs\n",
    "\n",
    "print(printskip, \"/\", epochs, \"부터 화면에 출력\")"
   ]
  },
  {
   "cell_type": "code",
   "execution_count": 138,
   "id": "16a7a899",
   "metadata": {},
   "outputs": [],
   "source": [
    "## Transformer\n",
    "transformer = Transformer(\n",
    "    n_layers=n_layers,\n",
    "    d_model=d_model,\n",
    "    n_heads=n_heads,\n",
    "    d_ff=d_ff,\n",
    "    src_vocab_size=VOCAB_SIZE,\n",
    "    tgt_vocab_size=VOCAB_SIZE,\n",
    "    pos_len=64,\n",
    "    dropout=dropout,\n",
    "    shared=True)"
   ]
  },
  {
   "cell_type": "code",
   "execution_count": 139,
   "id": "811b9f41",
   "metadata": {},
   "outputs": [],
   "source": [
    "# learning_rate = LearningRateScheduler(512, warmup_steps=4000)\n",
    "learning_rate = LearningRateScheduler(d_model, warmup_steps=warmup_steps)\n",
    "\n",
    "optimizer = tf.keras.optimizers.Adam(\n",
    "    learning_rate, beta_1=0.9, beta_2=0.98, epsilon=1e-9)"
   ]
  },
  {
   "cell_type": "code",
   "execution_count": 140,
   "id": "11977558",
   "metadata": {},
   "outputs": [],
   "source": [
    "loss_object = tf.keras.losses.SparseCategoricalCrossentropy(\n",
    "    from_logits=True, reduction='none')\n",
    "\n",
    "def loss_function(real, pred):\n",
    "    mask = tf.math.logical_not(tf.math.equal(real, 0))\n",
    "    loss_ = loss_object(real, pred)\n",
    "\n",
    "    # Masking 되지 않은 입력의 개수로 Scaling하는 과정\n",
    "    mask = tf.cast(mask, dtype=loss_.dtype)\n",
    "    loss_ *= mask\n",
    "\n",
    "    return tf.reduce_sum(loss_)/tf.reduce_sum(mask)"
   ]
  },
  {
   "cell_type": "code",
   "execution_count": 141,
   "id": "dfee6e65",
   "metadata": {},
   "outputs": [],
   "source": [
    "# Train Step 함수 정의\n",
    "\n",
    "@tf.function()\n",
    "def train_step(src, tgt, model, optimizer):\n",
    "    gold = tgt[:, 1:]\n",
    "        \n",
    "    enc_mask, dec_enc_mask, dec_mask = generate_masks(src, tgt)\n",
    "\n",
    "    # 계산된 loss에 tf.GradientTape()를 적용해 학습을 진행합니다.\n",
    "    with tf.GradientTape() as tape:\n",
    "        predictions, enc_attns, dec_attns, dec_enc_attns = \\\n",
    "        model(src, tgt, enc_mask, dec_enc_mask, dec_mask)\n",
    "        loss = loss_function(gold, predictions[:, :-1])\n",
    "\n",
    "    # 최종적으로 optimizer.apply_gradients()가 사용됩니다. \n",
    "    variables = model.trainable_variables\n",
    "    gradients = tape.gradient(loss, variables)\n",
    "    optimizer.apply_gradients(zip(gradients, variables))\n",
    "    \n",
    "    return loss, enc_attns, dec_attns, dec_enc_attns"
   ]
  },
  {
   "cell_type": "code",
   "execution_count": 142,
   "id": "b9205e8f",
   "metadata": {},
   "outputs": [],
   "source": [
    "# 번역 생성 함수\n",
    "\n",
    "def evaluate(sentence, model, src_tokenizer, tgt_tokenizer):\n",
    "    sentence = preprocess_sentence(sentence)\n",
    "\n",
    "#     pieces = src_tokenizer.encode_as_pieces(sentence)\n",
    "#     tokens = src_tokenizer.encode_as_ids(sentence)\n",
    "\n",
    "    pieces = mecab.morphs(sentence)\n",
    "    \n",
    "    tokens = []\n",
    "    for s in pieces:\n",
    "        tokens.append(src_tokenizer.word_index[s])\n",
    "    \n",
    "#     print(pieces)\n",
    "#     print(tokens)\n",
    "    \n",
    "\n",
    "    _input = tf.keras.preprocessing.sequence.pad_sequences(\n",
    "        [tokens],\n",
    "        maxlen=enc_train.shape[-1],\n",
    "        padding='post')\n",
    "    \n",
    "#     print(_input)\n",
    "    \n",
    "    ids = []\n",
    "    \n",
    "#     output = tf.expand_dims([tgt_tokenizer.bos_id()], 0)\n",
    "    output = tf.expand_dims([src_tokenizer.word_index[\"<start>\"]], 0)\n",
    "#     print(\"_input\", _input)\n",
    "#     print(\"output\", output)\n",
    "\n",
    "#     print(dec_train.shape[-1])\n",
    "    \n",
    "    for i in range(dec_train.shape[-1]):\n",
    "        enc_padding_mask, combined_mask, dec_padding_mask = \\\n",
    "        generate_masks(_input, output)\n",
    "\n",
    "        predictions, enc_attns, dec_attns, dec_enc_attns =\\\n",
    "        model(_input, \n",
    "              output,\n",
    "              enc_padding_mask,\n",
    "              combined_mask,\n",
    "              dec_padding_mask)\n",
    "\n",
    "        predicted_id = \\\n",
    "        tf.argmax(tf.math.softmax(predictions, axis=-1)[0, -1]).numpy().item()\n",
    "\n",
    "#         if tgt_tokenizer.eos_id() == predicted_id:\n",
    "        if tgt_tokenizer.word_index[\"<end>\"] == predicted_id:\n",
    "\n",
    "#             result = tgt_tokenizer.decode_ids(ids)\n",
    "            result = [tgt_tokenizer.index_word[i] for i in ids]\n",
    "    \n",
    "#             print(\"result_A\", result)\n",
    "            \n",
    "            return pieces, result, enc_attns, dec_attns, dec_enc_attns\n",
    "\n",
    "        ids.append(predicted_id)\n",
    "        output = tf.concat([output, tf.expand_dims([predicted_id], 0)], axis=-1)\n",
    "\n",
    "    result = tgt_tokenizer.decode_ids(ids)\n",
    "    \n",
    "#     print(\"result_B\", result)\n",
    "\n",
    "    return pieces, result, enc_attns, dec_attns, dec_enc_attns"
   ]
  },
  {
   "cell_type": "code",
   "execution_count": 143,
   "id": "bd0fd331",
   "metadata": {},
   "outputs": [],
   "source": [
    "# 번역 생성 및 Attention 시각화 결합\n",
    "\n",
    "def translate(sentence, model, \n",
    "              src_tokenizer, tgt_tokenizer, \n",
    "              minimal=False):\n",
    "    \n",
    "    pieces, result, enc_attns, dec_attns, dec_enc_attns = \\\n",
    "    evaluate(sentence, model, src_tokenizer, tgt_tokenizer)\n",
    "    \n",
    "    \n",
    "    if (minimal):\n",
    "        result = \" \".join(result)\n",
    "        return result\n",
    "    \n",
    "    print(\"─\" * 32)\n",
    "    print()\n",
    "    print('▷ Input                ：%s' % (sentence))\n",
    "    print()\n",
    "    print('▷ Predicted translation：{}'.format(result))\n",
    "    print()"
   ]
  },
  {
   "cell_type": "code",
   "execution_count": 144,
   "id": "75d438fa",
   "metadata": {
    "scrolled": false
   },
   "outputs": [
    {
     "name": "stderr",
     "output_type": "stream",
     "text": [
      "/tmp/ipykernel_195/3048477562.py:17: TqdmDeprecationWarning: This function will be removed in tqdm==5.0.0\n",
      "Please use `tqdm.notebook.tqdm` instead of `tqdm.tqdm_notebook`\n",
      "  t = tqdm_notebook(idx_list)\n"
     ]
    },
    {
     "data": {
      "application/vnd.jupyter.widget-view+json": {
       "model_id": "19e93ac23d0643f28b7d21d54c04e4df",
       "version_major": 2,
       "version_minor": 0
      },
      "text/plain": [
       "  0%|          | 0/896 [00:00<?, ?it/s]"
      ]
     },
     "metadata": {},
     "output_type": "display_data"
    },
    {
     "data": {
      "application/vnd.jupyter.widget-view+json": {
       "model_id": "fc3c7657a2134af983b5d6d4e99af7a6",
       "version_major": 2,
       "version_minor": 0
      },
      "text/plain": [
       "  0%|          | 0/896 [00:00<?, ?it/s]"
      ]
     },
     "metadata": {},
     "output_type": "display_data"
    },
    {
     "data": {
      "application/vnd.jupyter.widget-view+json": {
       "model_id": "1728c1ad70b44b1eb8baec0007844245",
       "version_major": 2,
       "version_minor": 0
      },
      "text/plain": [
       "  0%|          | 0/896 [00:00<?, ?it/s]"
      ]
     },
     "metadata": {},
     "output_type": "display_data"
    },
    {
     "data": {
      "application/vnd.jupyter.widget-view+json": {
       "model_id": "e14f0ca23dc44faf8666d2668243f182",
       "version_major": 2,
       "version_minor": 0
      },
      "text/plain": [
       "  0%|          | 0/896 [00:00<?, ?it/s]"
      ]
     },
     "metadata": {},
     "output_type": "display_data"
    },
    {
     "data": {
      "application/vnd.jupyter.widget-view+json": {
       "model_id": "78e1cc691ec84cab8a0315bc18016b05",
       "version_major": 2,
       "version_minor": 0
      },
      "text/plain": [
       "  0%|          | 0/896 [00:00<?, ?it/s]"
      ]
     },
     "metadata": {},
     "output_type": "display_data"
    },
    {
     "data": {
      "application/vnd.jupyter.widget-view+json": {
       "model_id": "43b6c49190d64c8aaa6034af0c2ebc1c",
       "version_major": 2,
       "version_minor": 0
      },
      "text/plain": [
       "  0%|          | 0/896 [00:00<?, ?it/s]"
      ]
     },
     "metadata": {},
     "output_type": "display_data"
    },
    {
     "data": {
      "application/vnd.jupyter.widget-view+json": {
       "model_id": "f9bd72114439411e810d41e4fd89c334",
       "version_major": 2,
       "version_minor": 0
      },
      "text/plain": [
       "  0%|          | 0/896 [00:00<?, ?it/s]"
      ]
     },
     "metadata": {},
     "output_type": "display_data"
    },
    {
     "data": {
      "application/vnd.jupyter.widget-view+json": {
       "model_id": "e0de6a2779ee45b7b05a840fc22914e7",
       "version_major": 2,
       "version_minor": 0
      },
      "text/plain": [
       "  0%|          | 0/896 [00:00<?, ?it/s]"
      ]
     },
     "metadata": {},
     "output_type": "display_data"
    },
    {
     "data": {
      "application/vnd.jupyter.widget-view+json": {
       "model_id": "01ce16fa3e6347ef9fc6c76f5f25f2b1",
       "version_major": 2,
       "version_minor": 0
      },
      "text/plain": [
       "  0%|          | 0/896 [00:00<?, ?it/s]"
      ]
     },
     "metadata": {},
     "output_type": "display_data"
    },
    {
     "data": {
      "application/vnd.jupyter.widget-view+json": {
       "model_id": "6b066cb0894b4a12aaf397f70c4978c1",
       "version_major": 2,
       "version_minor": 0
      },
      "text/plain": [
       "  0%|          | 0/896 [00:00<?, ?it/s]"
      ]
     },
     "metadata": {},
     "output_type": "display_data"
    },
    {
     "data": {
      "application/vnd.jupyter.widget-view+json": {
       "model_id": "5d4087adebb94f3491a3b795d0d384f9",
       "version_major": 2,
       "version_minor": 0
      },
      "text/plain": [
       "  0%|          | 0/896 [00:00<?, ?it/s]"
      ]
     },
     "metadata": {},
     "output_type": "display_data"
    },
    {
     "data": {
      "application/vnd.jupyter.widget-view+json": {
       "model_id": "e3f774e5554041d7b1e54458a0ccb811",
       "version_major": 2,
       "version_minor": 0
      },
      "text/plain": [
       "  0%|          | 0/896 [00:00<?, ?it/s]"
      ]
     },
     "metadata": {},
     "output_type": "display_data"
    },
    {
     "data": {
      "application/vnd.jupyter.widget-view+json": {
       "model_id": "5cf6e3c4f7c244bebcccecca0a1f83fe",
       "version_major": 2,
       "version_minor": 0
      },
      "text/plain": [
       "  0%|          | 0/896 [00:00<?, ?it/s]"
      ]
     },
     "metadata": {},
     "output_type": "display_data"
    },
    {
     "data": {
      "application/vnd.jupyter.widget-view+json": {
       "model_id": "12ad3efd50a94e0b8e23c68668579bfe",
       "version_major": 2,
       "version_minor": 0
      },
      "text/plain": [
       "  0%|          | 0/896 [00:00<?, ?it/s]"
      ]
     },
     "metadata": {},
     "output_type": "display_data"
    },
    {
     "name": "stdout",
     "output_type": "stream",
     "text": [
      "Examples\n",
      "\n",
      "1. 지루하다, 놀러가고 싶어.\n",
      "2. 오늘 일찍 일어났더니 피곤하다.\n",
      "3. 간만에 여자친구랑 데이트 하기로 했어.\n",
      "4. 집에 있는다는 소리야.\n",
      "\n",
      "Translations\n",
      "\n",
      "> 1. 바람 내 고 가 못 가 본 었 더 좋 아요 .\n",
      "> 2. 개인 인 의 그렇 죠 .\n",
      "> 3. 득템 때때 수 있 어요 .\n",
      "> 4. 괜찮 은 부탁 해 보 세요 .\n",
      "\n",
      "\n",
      "Hyperparameters\n",
      "> n_layers : 8\n",
      "> d_model : 512\n",
      "> n_heads : 16\n",
      "> d_ff : 2048\n",
      "> dropout : 0.3\n",
      "\n",
      "Training Parameters\n",
      "> Warmup Steps : 4000\n",
      "> Batch Size : 32\n",
      "> Epoch At : 14\n",
      "\n",
      "────────────────────────────────────────────────────────────────\n"
     ]
    },
    {
     "data": {
      "application/vnd.jupyter.widget-view+json": {
       "model_id": "40d3ad1f0b1344878e089fe7235be47c",
       "version_major": 2,
       "version_minor": 0
      },
      "text/plain": [
       "  0%|          | 0/896 [00:00<?, ?it/s]"
      ]
     },
     "metadata": {},
     "output_type": "display_data"
    },
    {
     "name": "stdout",
     "output_type": "stream",
     "text": [
      "Examples\n",
      "\n",
      "1. 지루하다, 놀러가고 싶어.\n",
      "2. 오늘 일찍 일어났더니 피곤하다.\n",
      "3. 간만에 여자친구랑 데이트 하기로 했어.\n",
      "4. 집에 있는다는 소리야.\n",
      "\n",
      "Translations\n",
      "\n",
      "> 1. 아직 받아들여 지 못하 아야 때때 수 있 어요 .\n",
      "> 2. 상황 에 따라 다르 겠 지만 많이 아프 고 좋 아 해 보 세요 .\n",
      "> 3. 떨리 겠 어요 .\n",
      "> 4. 사귀 면 아니 었 을까요 .\n",
      "\n",
      "\n",
      "Hyperparameters\n",
      "> n_layers : 8\n",
      "> d_model : 512\n",
      "> n_heads : 16\n",
      "> d_ff : 2048\n",
      "> dropout : 0.3\n",
      "\n",
      "Training Parameters\n",
      "> Warmup Steps : 4000\n",
      "> Batch Size : 32\n",
      "> Epoch At : 15\n",
      "\n",
      "────────────────────────────────────────────────────────────────\n"
     ]
    },
    {
     "data": {
      "application/vnd.jupyter.widget-view+json": {
       "model_id": "f813988e63874e499aac09285ac9eb9d",
       "version_major": 2,
       "version_minor": 0
      },
      "text/plain": [
       "  0%|          | 0/896 [00:00<?, ?it/s]"
      ]
     },
     "metadata": {},
     "output_type": "display_data"
    },
    {
     "name": "stdout",
     "output_type": "stream",
     "text": [
      "Examples\n",
      "\n",
      "1. 지루하다, 놀러가고 싶어.\n",
      "2. 오늘 일찍 일어났더니 피곤하다.\n",
      "3. 간만에 여자친구랑 데이트 하기로 했어.\n",
      "4. 집에 있는다는 소리야.\n",
      "\n",
      "Translations\n",
      "\n",
      "> 1. 바람 쐬 고 가 보 세요 .\n",
      "> 2. 상처 를 받 았 도록 보 세요 .\n",
      "> 3. 휴식 에 처럼 로 증거 를 힘들 어 할 가능 성 있 는 건 조금 씩 거 예요 .\n",
      "> 4. 괜찮 은 연습 를 해 보 세요 .\n",
      "\n",
      "\n",
      "Hyperparameters\n",
      "> n_layers : 8\n",
      "> d_model : 512\n",
      "> n_heads : 16\n",
      "> d_ff : 2048\n",
      "> dropout : 0.3\n",
      "\n",
      "Training Parameters\n",
      "> Warmup Steps : 4000\n",
      "> Batch Size : 32\n",
      "> Epoch At : 16\n",
      "\n",
      "────────────────────────────────────────────────────────────────\n"
     ]
    },
    {
     "data": {
      "application/vnd.jupyter.widget-view+json": {
       "model_id": "c8d7908b749e440191a6ff65d243690a",
       "version_major": 2,
       "version_minor": 0
      },
      "text/plain": [
       "  0%|          | 0/896 [00:00<?, ?it/s]"
      ]
     },
     "metadata": {},
     "output_type": "display_data"
    },
    {
     "name": "stdout",
     "output_type": "stream",
     "text": [
      "Examples\n",
      "\n",
      "1. 지루하다, 놀러가고 싶어.\n",
      "2. 오늘 일찍 일어났더니 피곤하다.\n",
      "3. 간만에 여자친구랑 데이트 하기로 했어.\n",
      "4. 집에 있는다는 소리야.\n",
      "\n",
      "Translations\n",
      "\n",
      "> 1. 아직 받아들여 지 꼼짝 않 아서 더 마음 이 어디 도 없 겠 어요 .\n",
      "> 2. 속 도록 지루 하 죠 .\n",
      "> 3. 휴식 에 남 는 주 세요 .\n",
      "> 4. 좋 은 결정 이 었 길 바랄게요 .\n",
      "\n",
      "\n",
      "Hyperparameters\n",
      "> n_layers : 8\n",
      "> d_model : 512\n",
      "> n_heads : 16\n",
      "> d_ff : 2048\n",
      "> dropout : 0.3\n",
      "\n",
      "Training Parameters\n",
      "> Warmup Steps : 4000\n",
      "> Batch Size : 32\n",
      "> Epoch At : 17\n",
      "\n",
      "────────────────────────────────────────────────────────────────\n"
     ]
    },
    {
     "data": {
      "application/vnd.jupyter.widget-view+json": {
       "model_id": "15d5e75c883c4596844caf441c0d3cf3",
       "version_major": 2,
       "version_minor": 0
      },
      "text/plain": [
       "  0%|          | 0/896 [00:00<?, ?it/s]"
      ]
     },
     "metadata": {},
     "output_type": "display_data"
    },
    {
     "name": "stdout",
     "output_type": "stream",
     "text": [
      "Examples\n",
      "\n",
      "1. 지루하다, 놀러가고 싶어.\n",
      "2. 오늘 일찍 일어났더니 피곤하다.\n",
      "3. 간만에 여자친구랑 데이트 하기로 했어.\n",
      "4. 집에 있는다는 소리야.\n",
      "\n",
      "Translations\n",
      "\n",
      "> 1. 아직 받아들여 지 못하 게 연락 하 고 날 이 올 거 예요 .\n",
      "> 2. 언젠간 쉬 었 길 바라 요 .\n",
      "> 3. 떨리 는 걸 수 도 있 는데요 .\n",
      "> 4. 데려다 주 세요 .\n",
      "\n",
      "\n",
      "Hyperparameters\n",
      "> n_layers : 8\n",
      "> d_model : 512\n",
      "> n_heads : 16\n",
      "> d_ff : 2048\n",
      "> dropout : 0.3\n",
      "\n",
      "Training Parameters\n",
      "> Warmup Steps : 4000\n",
      "> Batch Size : 32\n",
      "> Epoch At : 18\n",
      "\n",
      "────────────────────────────────────────────────────────────────\n"
     ]
    },
    {
     "data": {
      "application/vnd.jupyter.widget-view+json": {
       "model_id": "2b1bfea45bbf4d2fbb10169cb63c476c",
       "version_major": 2,
       "version_minor": 0
      },
      "text/plain": [
       "  0%|          | 0/896 [00:00<?, ?it/s]"
      ]
     },
     "metadata": {},
     "output_type": "display_data"
    },
    {
     "name": "stdout",
     "output_type": "stream",
     "text": [
      "Examples\n",
      "\n",
      "1. 지루하다, 놀러가고 싶어.\n",
      "2. 오늘 일찍 일어났더니 피곤하다.\n",
      "3. 간만에 여자친구랑 데이트 하기로 했어.\n",
      "4. 집에 있는다는 소리야.\n",
      "\n",
      "Translations\n",
      "\n",
      "> 1. 연인 와 씹 도록 해 보 세요 .\n",
      "> 2. 상처 받 은 게 하 고 싶 어요 .\n",
      "> 3. 적 나라 이 네요 .\n",
      "> 4. 저 도 타 고 겠 네요 .\n",
      "\n",
      "\n",
      "Hyperparameters\n",
      "> n_layers : 8\n",
      "> d_model : 512\n",
      "> n_heads : 16\n",
      "> d_ff : 2048\n",
      "> dropout : 0.3\n",
      "\n",
      "Training Parameters\n",
      "> Warmup Steps : 4000\n",
      "> Batch Size : 32\n",
      "> Epoch At : 19\n",
      "\n",
      "────────────────────────────────────────────────────────────────\n"
     ]
    },
    {
     "data": {
      "application/vnd.jupyter.widget-view+json": {
       "model_id": "d19f26886c92465ca14677e4a7d0d6b7",
       "version_major": 2,
       "version_minor": 0
      },
      "text/plain": [
       "  0%|          | 0/896 [00:00<?, ?it/s]"
      ]
     },
     "metadata": {},
     "output_type": "display_data"
    },
    {
     "name": "stdout",
     "output_type": "stream",
     "text": [
      "Examples\n",
      "\n",
      "1. 지루하다, 놀러가고 싶어.\n",
      "2. 오늘 일찍 일어났더니 피곤하다.\n",
      "3. 간만에 여자친구랑 데이트 하기로 했어.\n",
      "4. 집에 있는다는 소리야.\n",
      "\n",
      "Translations\n",
      "\n",
      "> 1. 괴로움 이 시간 이 약 이 고 겠 으로 나 봅니다 .\n",
      "> 2. 푹 쉬 세요 .\n",
      "> 3. 떨리 는 만남 은 친구 를 달라지 는 게 좋 아요 .\n",
      "> 4. 대청소 를 해 보 세요 .\n",
      "\n",
      "\n",
      "Hyperparameters\n",
      "> n_layers : 8\n",
      "> d_model : 512\n",
      "> n_heads : 16\n",
      "> d_ff : 2048\n",
      "> dropout : 0.3\n",
      "\n",
      "Training Parameters\n",
      "> Warmup Steps : 4000\n",
      "> Batch Size : 32\n",
      "> Epoch At : 20\n",
      "\n",
      "────────────────────────────────────────────────────────────────\n"
     ]
    }
   ],
   "source": [
    "# 학습\n",
    "from tqdm import tqdm_notebook \n",
    "\n",
    "\n",
    "examples = [\n",
    "            \"지루하다, 놀러가고 싶어.\",\n",
    "            \"오늘 일찍 일어났더니 피곤하다.\",\n",
    "            \"간만에 여자친구랑 데이트 하기로 했어.\",\n",
    "            \"집에 있는다는 소리야.\"\n",
    "]\n",
    "\n",
    "for epoch in range(EPOCHS):\n",
    "    total_loss = 0\n",
    "    \n",
    "    idx_list = list(range(0, enc_train.shape[0], BATCH_SIZE))\n",
    "    random.shuffle(idx_list)\n",
    "    t = tqdm_notebook(idx_list)\n",
    "\n",
    "    for (batch, idx) in enumerate(t):\n",
    "        batch_loss, enc_attns, dec_attns, dec_enc_attns = \\\n",
    "        train_step(enc_train[idx:idx+BATCH_SIZE],\n",
    "                   dec_train[idx:idx+BATCH_SIZE],\n",
    "                   transformer, optimizer)\n",
    "\n",
    "        total_loss += batch_loss\n",
    "        \n",
    "        t.set_description_str('Epoch %2d' % (epoch + 1))\n",
    "        t.set_postfix_str('Loss %.4f' % (total_loss.numpy() / (batch + 1)))\n",
    "\n",
    "    ##  printskip epoch 이후부터 출력\n",
    "    ## 그전 데이터들은 결과물이 좋지 못하다.\n",
    "    if (epoch < printskip):\n",
    "        continue\n",
    "    \n",
    "    buff_exam = \"\"\n",
    "    buff_tran = \"\"\n",
    "    \n",
    "    for i, example in enumerate(examples, start=1):\n",
    "        buff_exam += str(i) + \". \" + example + \"\\n\"\n",
    "        buff_tran += \"> \" + str(i)+\". \" + translate(\n",
    "            example, transformer, tok, tok, minimal=True) + \"\\n\"\n",
    "        \n",
    "    print(\"Examples\")\n",
    "    print()\n",
    "    print(buff_exam)\n",
    "    \n",
    "    print(\"Translations\")\n",
    "    print()\n",
    "    print(buff_tran)\n",
    "    \n",
    "    print()\n",
    "    print(\"Hyperparameters\")\n",
    "    print(\"> \" + \"n_layers :\", str(n_layers))\n",
    "    print(\"> \" + \"d_model :\", str(d_model))\n",
    "    print(\"> \" + \"n_heads :\", str(n_heads))\n",
    "    print(\"> \" + \"d_ff :\", str(d_ff))\n",
    "    print(\"> \" + \"dropout :\", str(dropout))\n",
    "    print()\n",
    "    \n",
    "    print(\"Training Parameters\")\n",
    "    print(\"> \" + \"Warmup Steps :\", str(warmup_steps))\n",
    "    print(\"> \" + \"Batch Size :\", str(batch_size))\n",
    "    print(\"> \" + \"Epoch At :\", str(epoch + 1))\n",
    "    print()\n",
    "    print(\"─\" * 64)"
   ]
  },
  {
   "attachments": {
    "image.png": {
     "image/png": "[encoded data removed]"
    }
   },
   "cell_type": "markdown",
   "id": "1e2b3bbe",
   "metadata": {},
   "source": [
    "![image.png](attachment:image.png)"
   ]
  },
  {
   "cell_type": "markdown",
   "id": "9e3bf23e",
   "metadata": {},
   "source": [
    "Epoch 20 의 결과를 보자. 2, 3, 4 번은 그나마 다른 epoch 출력 대비 나은 편이다.\n",
    "\n",
    "계획은 모델을 더 작게 하려고 했는데, 작을 수록 출력 과정에서 제대로 된 것이 더 잘 안나왔다.\n",
    "\n",
    "이전 결과 출력에서, Transformer 논문의 Base 모델 파라미터와 비슷한 규모로 모델을 설정 하였었다.\n",
    "\n",
    "이번에는 레이어와 헤드를 늘리는 방향으로 설정하였다. 덕분에 훈련 시간이 많이 늘어났지만,\n",
    "\n",
    "이전 모델대비 성능의 증가를 가시적으로 확인하기는 어렵다고 생각한다.\n",
    "\n",
    "데이터도 작은 판에, 모델도 작은 경우, 과적합으로 인해 성능이 떨어지는 것으로 보이는데,\n",
    "\n",
    "그나마 데이터와 각종 처리 부분이 동일한 조건일 때, 과적합 예방을 고려한다면 모델을 키우는 편이\n",
    "\n",
    "성능측면에서 유리할 것이라고 생각한다.\n",
    "\n",
    "덧붙이자면, 증강에 쓰인 유사단어 부분에도 답변 성능에서 이득을 보기 힘든 구조라 생각된다.\n",
    "\n",
    "전혀 모르는 단어에도 대답을 어지간히 했던, 이전 14번 노드의 결과를 떠올리면,\n",
    "\n",
    "어그멘테이션의 효과가 미미하다고 생각되지만, w2v의 성능 문제가 크다고 생각되고, \n",
    "\n",
    "어그멘테이션 컨셉 자체는 경우에 따라서 적용했을 경우 이득을 볼 가능성은 있을 거라고 생각된다."
   ]
  },
  {
   "cell_type": "markdown",
   "id": "0a7ba5d4",
   "metadata": {},
   "source": [
    "&nbsp;"
   ]
  },
  {
   "cell_type": "markdown",
   "id": "bc7b4a9a",
   "metadata": {},
   "source": [
    "### Step 7. 성능 측정하기\n",
    "\n",
    "<hr>"
   ]
  },
  {
   "cell_type": "markdown",
   "id": "16ff0790",
   "metadata": {},
   "source": [
    "챗봇의 경우, 올바른 대답을 하는지가 중요한 평가 지표입니다. 올바른 답변을 하는지 눈으로 확인할 수 있겠지만, 많은 데이터의 경우는 모든 결과를 확인할 수 없을 것입니다. 주어진 질문에 적절한 답변을 하는지 확인하고, BLEU Score를 계산하는 `calculate_bleu()` 함수도 적용해 보세요.\n",
    "\n",
    "\n"
   ]
  },
  {
   "cell_type": "markdown",
   "id": "35695c00",
   "metadata": {},
   "source": [
    "&nbsp;\n"
   ]
  },
  {
   "cell_type": "markdown",
   "id": "5a79c448",
   "metadata": {},
   "source": [
    "성능측정하기 스텝의 경우, \n",
    "\n",
    "위쪽 코드블럭에서 앞서 정리가 좀 덜 된 프로젝트_v1 부분에서의 BLEU score 및 calculate_bleu() 함수도 적용 내용이 있으므로\n",
    "\n",
    "따로 측정을 다시 진행하진 않도록 하겠다."
   ]
  },
  {
   "cell_type": "markdown",
   "id": "d44af809",
   "metadata": {},
   "source": [
    "<hr>"
   ]
  },
  {
   "cell_type": "markdown",
   "id": "4b48799d",
   "metadata": {},
   "source": [
    "&nbsp;"
   ]
  },
  {
   "cell_type": "markdown",
   "id": "3d0218b6",
   "metadata": {},
   "source": [
    "### ■ 프로젝트 회고\n",
    "\n",
    "<hr>"
   ]
  },
  {
   "cell_type": "markdown",
   "id": "9d815529",
   "metadata": {},
   "source": [
    "#### 1) 이번 프로젝트에서 '어려웠던 점'"
   ]
  },
  {
   "cell_type": "markdown",
   "id": "6c13ffff",
   "metadata": {},
   "source": [
    "처음부터 끝까지 어려워서 너무 힘들었다.\n",
    "\n",
    "오류로 골머리 썩었던 적이 없는데, 데이터 모양 예시를 모르니 어떻게 해야할지 감이 안왔다.\n",
    "\n",
    "오랜 시간동안 멘붕이 와서 한두줄 코드 작성하고 멍하고 시간 낭비를 했다.\n",
    "\n",
    "데이터 모양을 어떻게 맞춰야 하는지 도무지 감이 안오고\n",
    "\n",
    "노드 실습부분을 다시 실행하자니 실행시간도 시간이거니와 오류와 커널 리셋 현상 때문에 살짝 짜증이 났다.\n",
    "\n",
    "그래도 다행스럽게 진도가 빠른 교육생이 데이터 모양을 보여주어서 나머지 부분을 진행 할 수 있었다.\n",
    "\n",
    "트랜스포머 너무 복잡하고 어려운 것 같다. 쉽게 넘어간 부분이 없는것 같다 이번 프로젝트는."
   ]
  },
  {
   "cell_type": "markdown",
   "id": "4be0ae7b",
   "metadata": {},
   "source": [
    "#### 2) 프로젝트를 진행하면서 본인이 '학습한 내용'"
   ]
  },
  {
   "cell_type": "markdown",
   "id": "7b7fd6ab",
   "metadata": {},
   "source": [
    "트랜스포머, 데이터 증강, BLEU 스코어 등에 대해서 주로 학습했다.\n",
    "\n",
    "자연어처리분야에서도 증강기법이라고 할 만한게 있다는게 신기하기도 하면서,\n",
    "\n",
    "별 도움이 될까 싶었는데, 역시나 그렇게 큰 도움은 안되는 것 같다.\n",
    "\n",
    "그래도 사용한 데이터 증강이 부족한 점이 많아서 그렇지, 개념 자체는 앞으로 개선 가능성이 충분하고\n",
    "\n",
    "잘 사용한다면 아주 도움이 될 것 같다. 내가 그렇게 까지 극한까지 깔끔하게 사용할 능력이 안되니 문제일 뿐.\n",
    "\n",
    "이번 프로젝트에서 사용한 수준의 증강은, 의미있게 도움을 가져왔다고 보기는 어렵다는 생각이다.\n",
    "\n",
    "BLEU 경우도 본 프로젝트에서 대단히 큰 의미가 있었는지는 단언하기 어렵지만,\n",
    "\n",
    "노드 학습과정에서 계산식과 설명, 그리고 프로젝트에서 실험해 보았던 경험에 비추어 볼 때,\n",
    "\n",
    "데이터 증강에서 때와 다르게 BLEU score는, 채용해볼만한 가치가 충분하다는 생각이다.\n",
    "\n",
    "트랜스포머는 지금까지 몇번을 보고 또 보고 그러고 있는데, 아직도 전혀 모르겠다…\n",
    "\n",
    "아니 몰라도 그냥 모델 설계 아키텍쳐 통째로 가져다가 써도 되는건가…\n",
    "\n",
    "아무리 번역기랑 챗봇이랑 유사하다지만, 트랜스포머 정말 무서운 것이다.\n",
    "\n",
    "이런일을 자꾸 겪으니 더더욱 트랜스포머에 대해서 아리송해진다; 이게 된다고？"
   ]
  },
  {
   "cell_type": "markdown",
   "id": "e2e8adcf",
   "metadata": {},
   "source": [
    "#### 3) 프로젝트를 진행하면서 '알아낸 점' 혹은 '아직 모호한 점'"
   ]
  },
  {
   "cell_type": "markdown",
   "id": "737334f9",
   "metadata": {},
   "source": [
    "알아낸점은 BLEU 스코어에서 헷갈렸던 점을 조금 알 수 있었다는 점이다.\n",
    "\n",
    "완전히는 몰라도 몇몇 궁금증은 다른 교육생들에게 물어보고 이야기 해보면서 해소할 수 있었다.\n",
    "\n",
    "모호한 점은…\n",
    "\n",
    "지난 트랜스포머 이용한 챗봇 프로젝트에서는 동일한 주제의 이번 프로젝트와 달리 제법 만족스러운 결과를 확인했었다.\n",
    "\n",
    "그런데, 이전 프로젝트 시절에, 데이터셋은 동일했고, 전처리도 대충 하고, 데이터 증강 같은건 적용하지 않았었다.\n",
    "\n",
    "파라메터도 지금보다 더 크게 했으면 했지, 훈련이 아니라 테스트 단계 또는 그냥 순수 채팅테스트 까지 수행했었는데,\n",
    "\n",
    "모든 결과가 만족스러운 편이었고, 대부분의 평가에서 과거의 프로젝트가 지금의 프로젝트보다 훨씬 나은 결과들만 확인 할 수 있었다.\n",
    "\n",
    "증강 과정에서 우려스러운 부분이 있어서 그부분도 최대한 살려보려고 변경도 해봤고,\n",
    "\n",
    "혹시나 이상한 결과 생기지 않을까 싶어서 전처리도 제법 고민을 많이 했는데, 결과가 왜 이렇게 된건지…\n",
    "\n",
    "혼란스럽고 이유가 궁금하다."
   ]
  },
  {
   "cell_type": "markdown",
   "id": "86ea3edb",
   "metadata": {},
   "source": [
    "#### 4) 루브릭 평가 지표를 맞추기 위해 '시도한 것들'"
   ]
  },
  {
   "cell_type": "markdown",
   "id": "3d5bac1f",
   "metadata": {},
   "source": [
    "프로젝트 정상적으로 마치고 실험 결과 확인하는 등의 루브릭 평가지표는\n",
    "\n",
    "이번에도 역시나 무사히 마무리 하면 달성 가능한 지표라고 생각한다.\n",
    "\n",
    "전처리, 어그멘테이션, 데이터가 적다 하였는데, 이전 프로젝트에서는 모델 파라미터 더 크게 잡았지만\n",
    "\n",
    "과적합이라 할만한 현상은 못느꼈는데, 이번 프로젝트에서 과적합이 생길꺼라고 자꾸 겁을 주길래,\n",
    "\n",
    "모델을 줄여서도 테스트 해 봤지만, 특별히 문제될 정도로 과적합이 나타나지 않아서,\n",
    "\n",
    "이번에도 기본값 모델로 진행 하는것으로 결정 했다. 데이터 증강의 영향인가? 싶었지만,\n",
    "\n",
    "생각해보니 동일한 데이터셋에 데이터증강 없이 모델은 더 크게 학습했던,\n",
    "\n",
    "지난 챗봇 프로젝트에서도 사실 과적합은 느낄 수 없었다.\n",
    "\n",
    "바로 이전의 한영 번역기 프로젝트시에도 데이터가 적다고 했는데, 기본값 모델로 무사히 진행했었다.\n",
    "\n",
    "번역기 프로젝트당시에 기본값 모델에서 과적합으로 피해를 안봤던 기억이 있고, \n",
    "\n",
    "기본값 모델이라고 사용하는 수치가, 논문에서 base로 나온 수치다보니, 안정감이 느껴진걸까…\n",
    "\n",
    "아무튼, 모델의 loss 꾸준히 줄어드는 것을 확인했다. 데이터 증강 덕인지는 모르겠지만.\n",
    "\n",
    "그 외 루브릭을 제외하고 프로젝트 가이드에서 스텝별로 제시된 오더들도 전부 수행하였다.\n",
    "\n",
    "추가로 코드가 조금 뒤죽박죽하여, 완료한 프로젝트를 다시 제시된 순서대로 정리하여 실행하였다."
   ]
  },
  {
   "cell_type": "markdown",
   "id": "c109cb3b",
   "metadata": {},
   "source": [
    "#### 5) 만약에 '루브릭 평가 지표를 달성하지 못했을 때, 이유에 관한 추정'"
   ]
  },
  {
   "cell_type": "markdown",
   "id": "7fa768c5",
   "metadata": {},
   "source": [
    "오류등으로 프로젝트 완성이 되지 않고 결과를 확인하지 못할 경우 말고는 상상하기 어렵다.\n",
    "\n",
    "루브릭 평가 지표가, 챗봇응답을 확인하는 시점까지로 되어 있어서\n",
    "\n",
    "BLEU 점수까지 가지 않더라도 이전 프로젝트의 챗봇 완성하여 디코더의 출력을 확인하는 시점 정도면\n",
    "\n",
    "루브릭 평가지표는 거의 달성되어 있을 것이라 생각한다.\n",
    "\n",
    "이전 버전의 챗봇을 완성 해 보았다면, 차이점은 어그멘테이션의 적용 정도라고 생각한다.\n",
    "\n",
    "근데 루브릭 보다, 완성이 더 어렵다."
   ]
  },
  {
   "cell_type": "markdown",
   "id": "1c68b990",
   "metadata": {},
   "source": [
    "#### 6) 자기 다짐"
   ]
  },
  {
   "cell_type": "markdown",
   "id": "0a41f4af",
   "metadata": {},
   "source": [
    "계속 쌓여가는 프로젝트들에 치여서, 부족한 부분 공부 할 시간여유도 별로 없고, \n",
    "\n",
    "빠듯하게 겨우겨우 하루살이 인생마냥 힘들다. 하나 끝나면 다른 것들 또 밀려있고… \n",
    "\n",
    "운좋게 뭐 좀 빠르게 해도 밀려있는게 조금 줄어들 뿐 좀처럼 사라지는 느낌이 안든다.\n",
    "\n",
    "이걸 계속 붙들고 있기엔 시간이 도무지 안될것같아서, 대충하는 것 같아 보일 수 있다.\n",
    "\n",
    "혹자는 예전같지 않고, 나더러 변했다고 할 수도 있을 것이다.\n",
    "\n",
    "허나 요즘 내 심정이 진짜, 이게 어려워서 뭐 좀 붙들고 파고들어가다보면\n",
    "\n",
    "답이 안나온다, 완성도 못하고 다른건 계속 밀리고… 그런 이유로 후다닥 넘어가려는…\n",
    "\n",
    "중요한 핵심들 빼먹지 않고 프로젝트에서 수행하고, 실험하고 그러는 것에 의의를 두는 수 밖에…\n",
    "\n",
    "요즘 뭐 모르고 넘어가는 부분들도 점점 늘어가는 거 같고, 점점 근심걱정만 느는것 같다.\n",
    "\n",
    "그런데, 요즘 좀 속도를 올려서, 계획 한 만큼은 아니지만, 그래도 이전보다는 많이 나아져서\n",
    "\n",
    "밀린 것들이 조금씩이지만 줄어드는 느낌이라, 그러한 점에서는 약간 고무적이라 할 수 있겠다.\n",
    "\n"
   ]
  },
  {
   "cell_type": "markdown",
   "id": "9c236686",
   "metadata": {},
   "source": [
    "&nbsp;"
   ]
  },
  {
   "cell_type": "markdown",
   "id": "193fca7d",
   "metadata": {},
   "source": [
    "<hr>"
   ]
  },
  {
   "cell_type": "markdown",
   "id": "5311ab45",
   "metadata": {},
   "source": [
    "## ◎ Reference"
   ]
  },
  {
   "cell_type": "markdown",
   "id": "8b3012db",
   "metadata": {},
   "source": [
    "\n",
    "- (AIFFEL) Going Deeper Node 10. Transformer로 번역기 만들기\n",
    "\n",
    "\n",
    "- (AIFFEL) Going Deeper Node 11. 기계 번역이 걸어온 길\n",
    "\n",
    "\n",
    "- (AIFFEL) Going Deeper Node 12. 번역가는 대화에도 능하다\n",
    "\n",
    "\n",
    "- (AIFFEL) Exploration Project Node 14. 트랜스포머로 만드는 대화형 챗봇\n",
    "\n",
    "\n",
    "- (AIFFEL) Going Deeper Node 08. Seq2seq으로 번역기 만들기\n",
    "\n",
    "\n",
    "- [gensim Vocab 로드 오류 해결하기](https://iambeginnerdeveloper.tistory.com/41)"
   ]
  },
  {
   "cell_type": "markdown",
   "id": "b088539a",
   "metadata": {},
   "source": [
    "&nbsp;"
   ]
  }
 ],
 "metadata": {
  "kernelspec": {
   "display_name": "Python 3 (ipykernel)",
   "language": "python",
   "name": "python3"
  },
  "language_info": {
   "codemirror_mode": {
    "name": "ipython",
    "version": 3
   },
   "file_extension": ".py",
   "mimetype": "text/x-python",
   "name": "python",
   "nbconvert_exporter": "python",
   "pygments_lexer": "ipython3",
   "version": "3.9.7"
  }
 },
 "nbformat": 4,
 "nbformat_minor": 5
}
